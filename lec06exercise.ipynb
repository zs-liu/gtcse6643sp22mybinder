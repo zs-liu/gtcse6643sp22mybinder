{
 "cells": [
  {
   "cell_type": "markdown",
   "metadata": {
    "deletable": false,
    "editable": false,
    "nbgrader": {
     "cell_type": "markdown",
     "checksum": "672172bda88fcae802b2953df8564f80",
     "grade": false,
     "grade_id": "cell-1480c99fc50940fa",
     "locked": true,
     "schema_version": 3,
     "solution": false,
     "task": false
    }
   },
   "source": [
    "**T&B Exercise 8.2.** Write a julia function `Q,R = mgs(A)` that computes a reduced QR factorization $A = \\hat Q \\hat R$ of an $m \\times n$ matrix $A$ with $m \\geq n$ using modified Gram-Schmidt orthogonalization.  The output variables are a matrix $Q \\in \\mathbb{C}^{m \\times n}$ orthonormal columns and a triangular matrix $R \\in \\mathbb{C}^{n \\times n}$."
   ]
  },
  {
   "cell_type": "code",
   "execution_count": 1,
   "metadata": {
    "deletable": false,
    "editable": false,
    "nbgrader": {
     "cell_type": "code",
     "checksum": "1a9efe89029d3c3400e23319bc7fc4f2",
     "grade": false,
     "grade_id": "cell-8a31c17555555f9e",
     "locked": true,
     "schema_version": 3,
     "solution": false,
     "task": false
    }
   },
   "outputs": [],
   "source": [
    "using LinearAlgebra"
   ]
  },
  {
   "cell_type": "code",
   "execution_count": 2,
   "metadata": {
    "deletable": false,
    "nbgrader": {
     "cell_type": "code",
     "checksum": "b9994ab3725ff26690d5cb1beff4d7a4",
     "grade": false,
     "grade_id": "cell-c473ca965ce3c8a9",
     "locked": false,
     "schema_version": 3,
     "solution": true,
     "task": false
    }
   },
   "outputs": [
    {
     "data": {
      "text/plain": [
       "mgs (generic function with 1 method)"
      ]
     },
     "execution_count": 2,
     "metadata": {},
     "output_type": "execute_result"
    }
   ],
   "source": [
    "function mgs(A)\n",
    "    n = size(A)[2]\n",
    "    Q = copy(A)\n",
    "    R = zeros(eltype(A), n, n)\n",
    "    for i in 1:n\n",
    "        # precondition Q[:, i] is orthogonal\n",
    "        R[i, i] = norm(Q[:, i])\n",
    "        Q[:, i] /= R[i, i]\n",
    "        R[i, i+1:end] = Q[:, i]' * Q[:, i+1:end]\n",
    "        Q[:, i+1:end] -= Q[:, [i]] * R[[i], i+1:end]\n",
    "    end\n",
    "    return Q, R\n",
    "end"
   ]
  },
  {
   "cell_type": "code",
   "execution_count": 3,
   "metadata": {
    "deletable": false,
    "editable": false,
    "nbgrader": {
     "cell_type": "code",
     "checksum": "4a73f60c6677a6fc2ccb2f69303c90c6",
     "grade": true,
     "grade_id": "cell-d366f91037f0f92f",
     "locked": true,
     "points": 1,
     "schema_version": 3,
     "solution": false,
     "task": false
    }
   },
   "outputs": [
    {
     "name": "stdout",
     "output_type": "stream",
     "text": [
      "Modified Gram-Schmidt:\n",
      "  orthogonality error: 3.809795701115102e-15\n",
      "  reconstruction error: 2.080447942559563e-14\n",
      "  triangularity error: 0.0\n"
     ]
    }
   ],
   "source": [
    "m = 100\n",
    "n = 63\n",
    "\n",
    "A = randn(m,n)\n",
    "Q,R = mgs(A)\n",
    "orthog_err = norm(I - Q'*Q,2)\n",
    "recon_err = norm(A - Q*R,2)\n",
    "triangle_err = norm(R - UpperTriangular(R),2)\n",
    "println(\"Modified Gram-Schmidt:\")\n",
    "println(\"  orthogonality error: $orthog_err\")\n",
    "println(\"  reconstruction error: $recon_err\")\n",
    "println(\"  triangularity error: $triangle_err\")\n",
    "@assert triangle_err == 0\n",
    "@assert orthog_err < 1.e-12\n",
    "@assert recon_err < 1.e-12"
   ]
  }
 ],
 "metadata": {
  "@webio": {
   "lastCommId": null,
   "lastKernelId": null
  },
  "hide_input": false,
  "kernelspec": {
   "display_name": "Julia 1.7.1",
   "language": "julia",
   "name": "julia-1.7"
  },
  "language_info": {
   "file_extension": ".jl",
   "mimetype": "application/julia",
   "name": "julia",
   "version": "1.7.1"
  }
 },
 "nbformat": 4,
 "nbformat_minor": 5
}
