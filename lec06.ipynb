{
 "cells": [
  {
   "cell_type": "code",
   "execution_count": null,
   "metadata": {},
   "outputs": [],
   "source": [
    "import Pkg; Pkg.add([\"Plots\", \"Interact\"]);"
   ]
  },
  {
   "cell_type": "code",
   "execution_count": 2,
   "metadata": {},
   "outputs": [],
   "source": [
    "const STATIC_LECTURE = false;"
   ]
  },
  {
   "cell_type": "code",
   "execution_count": 3,
   "metadata": {},
   "outputs": [
    {
     "data": {
      "text/plain": [
       "draw (generic function with 1 method)"
      ]
     },
     "execution_count": 3,
     "metadata": {},
     "output_type": "execute_result"
    }
   ],
   "source": [
    "function draw(plt)\n",
    "    if STATIC_LECTURE\n",
    "        filename = Base.Filesystem.tempname() * \".png\"\n",
    "        savefig(filename)\n",
    "        return display(\"image/png\", read(filename))\n",
    "    else\n",
    "        return plt\n",
    "    end\n",
    "end"
   ]
  },
  {
   "cell_type": "code",
   "execution_count": 4,
   "metadata": {},
   "outputs": [
    {
     "data": {
      "application/vnd.webio.node+json": {
       "children": [],
       "instanceArgs": {
        "namespace": "html",
        "tag": "div"
       },
       "nodeType": "DOM",
       "props": {},
       "type": "node"
      },
      "text/html": [
       "<div style=\"padding: 1em; background-color: #f8d6da; border: 1px solid #f5c6cb; font-weight: bold;\">\n",
       "<p>The WebIO Jupyter extension was not detected. See the\n",
       "<a href=\"https://juliagizmos.github.io/WebIO.jl/latest/providers/ijulia/\" target=\"_blank\">\n",
       "    WebIO Jupyter integration documentation\n",
       "</a>\n",
       "for more information.\n",
       "</div>\n"
      ],
      "text/plain": [
       "WebIO._IJuliaInit()"
      ]
     },
     "metadata": {
      "application/vnd.webio.node+json": {
       "kernelId": "6983e572-6e57-4d0f-a251-86c6ce10f3d0"
      }
     },
     "output_type": "display_data"
    },
    {
     "data": {
      "text/plain": [
       "imshow (generic function with 2 methods)"
      ]
     },
     "execution_count": 4,
     "metadata": {},
     "output_type": "execute_result"
    }
   ],
   "source": [
    "using LinearAlgebra;\n",
    "using Plots; default(l=2, size=(900,550), label=false);\n",
    "using Interact;\n",
    "\n",
    "imshow(x,_clim=:nothing) = heatmap(x\n",
    "    , aspect_ratio=:equal\n",
    "    , framestyle=:none\n",
    "    , yflip=true\n",
    "    , c=:diverging_gwv_55_95_c39_n256\n",
    "    , clim=if _clim != :nothing\n",
    "          _clim\n",
    "      elseif maximum(abs.(x)) > 1.e-12\n",
    "          (-maximum(abs.(x)),maximum(abs.(x)))\n",
    "      else \n",
    "          (-1,1)\n",
    "      end\n",
    "    , size=(500,500)\n",
    ")"
   ]
  },
  {
   "cell_type": "markdown",
   "metadata": {
    "cell_style": "split",
    "slideshow": {
     "slide_type": "slide"
    }
   },
   "source": [
    "### Warmup\n",
    "\n",
    "1. Use julia to compute the QR factorizations of\n",
    "\n",
    "$$\n",
    "A = \\begin{bmatrix}\n",
    "1 & 0 \\\\ 0 & 1 \\\\ 1 & 0\n",
    "\\end{bmatrix},\n",
    "\\quad\n",
    "B = \\begin{bmatrix}\n",
    "1 & 2 \\\\ 0 & 1 \\\\ 1 & 0\n",
    "\\end{bmatrix}.\n",
    "$$\n",
    "\n",
    "2. What is the simplest (smallest) way to represent the orthogonal projector onto $\\mathrm{range}(A)$ or $\\mathrm{range}(B)$?"
   ]
  },
  {
   "cell_type": "code",
   "execution_count": 5,
   "metadata": {
    "cell_style": "split"
   },
   "outputs": [
    {
     "data": {
      "text/plain": [
       "3×3 Matrix{Float64}:\n",
       " 0.833333   0.333333   0.166667\n",
       " 0.333333   0.333333  -0.333333\n",
       " 0.166667  -0.333333   0.833333"
      ]
     },
     "execution_count": 5,
     "metadata": {},
     "output_type": "execute_result"
    }
   ],
   "source": [
    "using LinearAlgebra\n",
    "\n",
    "A = [[1, 0, 1] [0, 1, 0]]\n",
    "B = [[1, 0, 1] [2, 1, 0]]\n",
    "Q, R = qr(B)\n",
    "\n",
    "(I - Q[:, 3] * Q[:, 3]')"
   ]
  },
  {
   "cell_type": "markdown",
   "metadata": {
    "slideshow": {
     "slide_type": "slide"
    }
   },
   "source": [
    "# Gram-Schmidt QR Factorizations\n",
    "\n",
    "**1. Testing QR Algorithms**\n",
    "\n",
    "**2. Gram-Schmidt Orthogonalization, QR Existence, Uniqueness, and Usage**\n",
    "\n",
    "**3. Classical Gram-Schmidt**\n",
    "\n",
    "**4. Modified Gram-Schmidt**\n",
    "\n",
    "**5. Operations Count**"
   ]
  },
  {
   "cell_type": "markdown",
   "metadata": {
    "slideshow": {
     "slide_type": "slide"
    }
   },
   "source": [
    "## Testing QR Algorithms"
   ]
  },
  {
   "cell_type": "markdown",
   "metadata": {
    "slideshow": {
     "slide_type": "subslide"
    }
   },
   "source": [
    "### Test driven development\n",
    "\n",
    "How should we test an implementation of the QR factorization?"
   ]
  },
  {
   "cell_type": "markdown",
   "metadata": {
    "slideshow": {
     "slide_type": "fragment"
    }
   },
   "source": [
    "**Recal: reduced QR factorization**\n",
    "\n",
    "$$ A \\underbrace{=}_{\\text{(test 1)}} \\hat{Q} \\hat{R}, \\quad \\hat{Q} \\in \\mathbb{C}^{m\\times n}\\ \\underbrace{\\text{(orthonormal columns)}}_{\\text{(test 2)}}, \\quad \\hat{R} \\in \\mathbb{C}^{n \\times n} \\underbrace{\\text{(upper triangular)}}_{\\text{(test 3)}}\n",
    "$$"
   ]
  },
  {
   "cell_type": "markdown",
   "metadata": {
    "slideshow": {
     "slide_type": "subslide"
    }
   },
   "source": [
    "### Each test may tolerate some rounding error\n",
    "\n",
    "We want to measure the magnitude of the difference between the computed result and the mathematical truth."
   ]
  },
  {
   "cell_type": "code",
   "execution_count": 6,
   "metadata": {},
   "outputs": [
    {
     "data": {
      "text/plain": [
       "reconstruction_error (generic function with 1 method)"
      ]
     },
     "execution_count": 6,
     "metadata": {},
     "output_type": "execute_result"
    }
   ],
   "source": [
    "reconstruction_error(A, Q, R) = norm(A - Q * R, 2)"
   ]
  },
  {
   "cell_type": "markdown",
   "metadata": {
    "slideshow": {
     "slide_type": "-"
    }
   },
   "source": [
    "(Note that this is $\\|A - Q R \\|_F$: the Frobenius norm can be directly calculated, so it is most common to use for numerical tests.)"
   ]
  },
  {
   "cell_type": "markdown",
   "metadata": {
    "slideshow": {
     "slide_type": "subslide"
    }
   },
   "source": [
    "### Numerical test for orthonormal columns"
   ]
  },
  {
   "cell_type": "markdown",
   "metadata": {
    "slideshow": {
     "slide_type": "fragment"
    }
   },
   "source": [
    "$$\\hat{Q}^* \\hat{Q} = I \\in \\mathbb{C}^{n \\times n}$$"
   ]
  },
  {
   "cell_type": "code",
   "execution_count": 7,
   "metadata": {
    "slideshow": {
     "slide_type": "fragment"
    }
   },
   "outputs": [
    {
     "data": {
      "text/plain": [
       "orthonormality_error (generic function with 1 method)"
      ]
     },
     "execution_count": 7,
     "metadata": {},
     "output_type": "execute_result"
    }
   ],
   "source": [
    "orthonormality_error(Q) = norm(I - Q[:,:]' * Q[:,:], 2)"
   ]
  },
  {
   "cell_type": "markdown",
   "metadata": {
    "slideshow": {
     "slide_type": "subslide"
    }
   },
   "source": [
    "### Test for upper triangularity\n",
    "\n",
    "$$\\hat{R} = \\mathrm{triu}(\\hat{R})$$"
   ]
  },
  {
   "cell_type": "code",
   "execution_count": 8,
   "metadata": {},
   "outputs": [
    {
     "data": {
      "text/plain": [
       "upper_triangularity_error (generic function with 1 method)"
      ]
     },
     "execution_count": 8,
     "metadata": {},
     "output_type": "execute_result"
    }
   ],
   "source": [
    "upper_triangularity_error(R) = norm(R - UpperTriangular(R), 2)"
   ]
  },
  {
   "cell_type": "markdown",
   "metadata": {
    "slideshow": {
     "slide_type": "subslide"
    }
   },
   "source": [
    "### All together"
   ]
  },
  {
   "cell_type": "code",
   "execution_count": 9,
   "metadata": {},
   "outputs": [
    {
     "data": {
      "text/plain": [
       "qr_test (generic function with 4 methods)"
      ]
     },
     "execution_count": 9,
     "metadata": {},
     "output_type": "execute_result"
    }
   ],
   "source": [
    "function qr_test(A, Q, R, recon_tol=1.e-12, ortho_tol=1.e-12, triu_tol=0.0)\n",
    "    recon_err = reconstruction_error(A, Q, R)\n",
    "    ortho_err = orthonormality_error(Q)\n",
    "    triu_err = upper_triangularity_error(R)\n",
    "    println(\"Reconstruction error || A - Q R ||_F = $recon_err\")\n",
    "    println(\"Orthonormality error || I - Q'Q ||_F = $ortho_err\")\n",
    "    println(\"Upper-triangularity error || R - triu(R) ||_F = $triu_err\")\n",
    "    return (recon_err <= recon_tol) && (ortho_err <= ortho_tol) && (triu_err <= triu_tol) \n",
    "end"
   ]
  },
  {
   "cell_type": "markdown",
   "metadata": {
    "slideshow": {
     "slide_type": "subslide"
    }
   },
   "source": [
    "### Test it out on julia's `qr`"
   ]
  },
  {
   "cell_type": "code",
   "execution_count": 10,
   "metadata": {
    "slideshow": {
     "slide_type": "-"
    }
   },
   "outputs": [
    {
     "name": "stdout",
     "output_type": "stream",
     "text": [
      "Reconstruction error || A - Q R ||_F = 3.9396577370583477e-14\n",
      "Orthonormality error || I - Q'Q ||_F = 7.145767322427192e-15\n",
      "Upper-triangularity error || R - triu(R) ||_F = 0.0\n"
     ]
    },
    {
     "data": {
      "text/plain": [
       "true"
      ]
     },
     "execution_count": 10,
     "metadata": {},
     "output_type": "execute_result"
    }
   ],
   "source": [
    "m = 100; n = 50;\n",
    "A = randn(m, n);\n",
    "Q, R = qr(A);\n",
    "qr_test(A, Q, R)"
   ]
  },
  {
   "cell_type": "markdown",
   "metadata": {
    "slideshow": {
     "slide_type": "slide"
    }
   },
   "source": [
    "## Gram-Schmidt Orthogonalization"
   ]
  },
  {
   "cell_type": "markdown",
   "metadata": {
    "slideshow": {
     "slide_type": "subslide"
    }
   },
   "source": [
    "### Recall the QR factorization written in terms of projectors: the Gram-Schmidt Process"
   ]
  },
  {
   "cell_type": "markdown",
   "metadata": {},
   "source": [
    "- At step $j$:\n",
    "\n",
    "$$\\tilde{q}_j = (I - P_{1:j-1}) a_j$$\n",
    "$$q_j = \\frac{\\tilde{q}_j}{\\|\\tilde q_j\\|}$$\n",
    "$$r_{1:j,j} = \\hat{Q}_{1:j}^* a_j$$"
   ]
  },
  {
   "cell_type": "code",
   "execution_count": 11,
   "metadata": {},
   "outputs": [
    {
     "data": {
      "text/plain": [
       "qr_projectors (generic function with 1 method)"
      ]
     },
     "execution_count": 11,
     "metadata": {},
     "output_type": "execute_result"
    }
   ],
   "source": [
    "function qr_projectors(A)\n",
    "    m, n = size(A)\n",
    "    Q̂ = zeros(eltype(A), m, n) # <--- use the same datatype (Float32 vs Float64, ℝ vs ℂ)\n",
    "    R̂ = zeros(eltype(A), n, n)\n",
    "    for j in 1:n\n",
    "        Q̂ⱼ₋₁ = Q̂[:,1:j-1]\n",
    "        Pⱼ₋₁ = Q̂ⱼ₋₁ * Q̂ⱼ₋₁'\n",
    "        q̃ⱼ = (I - Pⱼ₋₁) * A[:,j]\n",
    "        Q̂[:,j] = q̃ⱼ / norm(q̃ⱼ)\n",
    "        R̂[1:j,j] = Q̂[:,1:j]' * A[:,j]\n",
    "    end\n",
    "    return Q̂, R̂\n",
    "end"
   ]
  },
  {
   "cell_type": "code",
   "execution_count": 12,
   "metadata": {},
   "outputs": [
    {
     "name": "stdout",
     "output_type": "stream",
     "text": [
      "Reconstruction error || A - Q R ||_F = 2.0790469143462326e-14\n",
      "Orthonormality error || I - Q'Q ||_F = 2.8640921499830856e-15\n",
      "Upper-triangularity error || R - triu(R) ||_F = 0.0\n"
     ]
    },
    {
     "data": {
      "text/plain": [
       "true"
      ]
     },
     "execution_count": 12,
     "metadata": {},
     "output_type": "execute_result"
    }
   ],
   "source": [
    "m = 100; n = 50;\n",
    "A = randn(m, n);\n",
    "Q̂, R̂ = qr_projectors(A);\n",
    "qr_test(A, Q̂, R̂)"
   ]
  },
  {
   "cell_type": "markdown",
   "metadata": {
    "slideshow": {
     "slide_type": "subslide"
    }
   },
   "source": [
    "### Existence and uniqueness\n",
    "\n",
    "**T&B Theorem 7.1.** Every $A \\in \\mathbb{C}^{m \\times n}$ ($m \\geq n$) has a full $QR$ factorization, hence also a reduced QR factorization.\n",
    "\n",
    "_Proof._ The steps of the algorithm.  There is a need to handle the case when the columns are not linearly independent, but we can just an arbitrary vector $q_j \\perp \\hat{Q}_{1:j-1}$ at that step and the algorithm continues.\n",
    "\n",
    "**T&B Theorem 7.2.** Each $A \\in \\mathbb{C}^{m \\times n}$ ($m \\geq n$) of full rank has a unique reduced QR factorization $A = \\hat{Q} \\hat{R}$ with $r_{jj}$ real and $r_{jj} > 0$.\n",
    "\n",
    "_Proof_.  We will see why when we implement the classical Gram-Schmidt algorithm."
   ]
  },
  {
   "cell_type": "markdown",
   "metadata": {
    "slideshow": {
     "slide_type": "subslide"
    }
   },
   "source": [
    "### Usage: solving $Ax = b$\n",
    "\n",
    "$$A x = b \\Leftrightarrow Q R x = b \\quad \\text{(step 1: QR factorization)}$$\n",
    "\n",
    "$$Q R x = b \\Leftrightarrow R x = Q^* b \\quad \\text{(step 2: compute } y = Q^*b\\text{)}$$\n",
    "\n",
    "$$R x = Q^*b \\Leftrightarrow x = R^{-1} Q^*b \\quad \\text{(step 3:  invert triangular matrix, }x = R^{-1}y\\text{)}$$"
   ]
  },
  {
   "cell_type": "code",
   "execution_count": 13,
   "metadata": {
    "cell_style": "split"
   },
   "outputs": [
    {
     "data": {
      "text/plain": [
       "1.9339486465670492e-13"
      ]
     },
     "execution_count": 13,
     "metadata": {},
     "output_type": "execute_result"
    }
   ],
   "source": [
    "m = 100\n",
    "A = randn(m, m)\n",
    "b = randn(m)\n",
    "Q, R = qr(A)\n",
    "x = R \\ (Q' * b)\n",
    "norm(b - A * x)"
   ]
  },
  {
   "cell_type": "markdown",
   "metadata": {
    "cell_style": "split"
   },
   "source": [
    "This method is more stable but more expensive than the more conventional Gaussian elimination."
   ]
  },
  {
   "cell_type": "markdown",
   "metadata": {
    "slideshow": {
     "slide_type": "subslide"
    }
   },
   "source": [
    "### Note on HW2, problem 3\n",
    "\n",
    "($A \\in \\mathbb{C}^{m \\times n}$ ($m \\geq n$) is full rank if and only if $\\hat{R}$ from the reduced QR factoriation has all nonzeros on the diagonal.)\n",
    "\n",
    "What is the determinant of a triangular matrix? -> Product of diagonal entries"
   ]
  },
  {
   "cell_type": "markdown",
   "metadata": {
    "slideshow": {
     "slide_type": "slide"
    }
   },
   "source": [
    "## Classical Gram-Schmidt"
   ]
  },
  {
   "cell_type": "markdown",
   "metadata": {
    "slideshow": {
     "slide_type": "subslide"
    }
   },
   "source": [
    "### Slim down the work in the projection\n",
    "\n",
    "$$\\tilde q_j = (I - P_{1:j-1}) a_j = (I - \\hat{Q}_{1:j-1} \\hat{Q}_{1:j-1}^*) a_j = a_j - \\hat{Q}_{1:j-1}(\\hat{Q}_{1:j-1}^* a_j)$$\n",
    "\n",
    "$O((j-1)m)$ work to compute the projection this ways, as opposed to $O(m^2)$ if using the constructed matrix\n",
    "$(I - P_{1:j-1})$\n",
    "\n",
    "So we will initialize $\\tilde{q}_j^{(0)} = a_j$ and then do\n",
    "\n",
    "$$\\tilde{q}_j = \\tilde{q}_j^{(0)} - \\hat{Q}_{1:j-1}(\\hat{Q}_{1:j-1} \\tilde{q}_j^{(0)}).$$\n",
    "\n",
    "(Only use $A$ to make a copy, try to do most operations _in place_ on $\\hat{Q}$.)"
   ]
  },
  {
   "cell_type": "code",
   "execution_count": 14,
   "metadata": {
    "slideshow": {
     "slide_type": "subslide"
    }
   },
   "outputs": [
    {
     "data": {
      "text/plain": [
       "qr_projectors_slim (generic function with 1 method)"
      ]
     },
     "execution_count": 14,
     "metadata": {},
     "output_type": "execute_result"
    }
   ],
   "source": [
    "function qr_projectors_slim(A)\n",
    "    m, n = size(A)\n",
    "    Q̂ = copy(A)\n",
    "    R̂ = zeros(eltype(A), n, n)\n",
    "    for j in 1:n\n",
    "        # Project Q̂[:,1:j-1] component out of Q̂[:,j]\n",
    "        Q̂[:,j] -= Q̂[:,1:j-1] * (Q̂[:,1:j-1]' * Q̂[:,j]) # parentheses to do this matvec first\n",
    "        # Normalize\n",
    "        Q̂[:,j] /= norm(Q̂[:,j])\n",
    "        R̂[1:j,j] = Q̂[:,1:j]' * A[:,j]\n",
    "    end\n",
    "    return Q̂, R̂\n",
    "end"
   ]
  },
  {
   "cell_type": "code",
   "execution_count": 15,
   "metadata": {},
   "outputs": [
    {
     "name": "stdout",
     "output_type": "stream",
     "text": [
      "Reconstruction error || A - Q R ||_F = 1.4234484862014763e-14\n",
      "Orthonormality error || I - Q'Q ||_F = 2.9226389899878723e-15\n",
      "Upper-triangularity error || R - triu(R) ||_F = 0.0\n"
     ]
    },
    {
     "data": {
      "text/plain": [
       "true"
      ]
     },
     "execution_count": 15,
     "metadata": {},
     "output_type": "execute_result"
    }
   ],
   "source": [
    "m = 100; n = 50;\n",
    "A = randn(m, n);\n",
    "Q̂, R̂ = qr_projectors_slim(A);\n",
    "qr_test(A, Q̂, R̂)"
   ]
  },
  {
   "cell_type": "markdown",
   "metadata": {
    "slideshow": {
     "slide_type": "subslide"
    }
   },
   "source": [
    "### Slim down the work in the calculation of $\\hat{R}$"
   ]
  },
  {
   "cell_type": "markdown",
   "metadata": {
    "cell_style": "split"
   },
   "source": [
    "$$ r_{1:j,j} = \\hat{Q}_{1:j}^* a_j = \n",
    "\\begin{bmatrix}\n",
    " \\\\\n",
    "\\hat{Q}_{i:j-1}^* a_j \\\\\n",
    " \\\\ \\hline\n",
    "q_j^* a_j \\\\\n",
    "\\end{bmatrix}\n",
    "$$"
   ]
  },
  {
   "cell_type": "markdown",
   "metadata": {
    "cell_style": "split"
   },
   "source": [
    "- The top of the vector $\\hat{Q}_{i:j-1}^* a_j = \\hat{Q}_{i:j-1}^* \\tilde{q}_j^{(0)}$ was already computed as part of the projector to compute $\\tilde{q}_j$: save and reuse the computation."
   ]
  },
  {
   "cell_type": "markdown",
   "metadata": {
    "cell_style": "split"
   },
   "source": [
    "- The final value is\n",
    "\n",
    "$$\n",
    "q_j^* a_j = \\frac{1}{\\|\\tilde{q}_j\\|} \\tilde{q}_j^* \\tilde{q}_j^{(0)}.\n",
    "$$"
   ]
  },
  {
   "cell_type": "markdown",
   "metadata": {
    "cell_style": "center"
   },
   "source": [
    "- We can use the fact that $\\tilde{q}_j^{(0)} = \\tilde{q}_j + P_{1:j-1} \\tilde{q}_j^{(0)}$ to see that we don't need to recompute this quantity:\n",
    "\n",
    "$$\n",
    "\\frac{1}{\\|\\tilde{q}_j\\|} \\tilde{q}_j^* \\tilde{q}_j^{(0)} = \\frac{1}{\\|\\tilde{q}_j\\|}\\tilde{q}_j^*(\\tilde{q}_j + P_{1:j-1} \\tilde{q}_j^{(0)}) = \\frac{1}{\\|\\tilde{q}_j\\|}\\tilde{q}_j^* \\tilde{q}_j = \\|\\tilde{q}_j\\|.\n",
    "$$"
   ]
  },
  {
   "cell_type": "markdown",
   "metadata": {
    "slideshow": {
     "slide_type": "subslide"
    }
   },
   "source": [
    "### Result: the (unstable) Classical Gram-Schmidt algorithm"
   ]
  },
  {
   "cell_type": "code",
   "execution_count": 16,
   "metadata": {
    "slideshow": {
     "slide_type": "-"
    }
   },
   "outputs": [
    {
     "data": {
      "text/plain": [
       "qr_classical_gram_schmidt (generic function with 1 method)"
      ]
     },
     "execution_count": 16,
     "metadata": {},
     "output_type": "execute_result"
    }
   ],
   "source": [
    "function qr_classical_gram_schmidt(A)\n",
    "    m, n = size(A)\n",
    "    Q̂ = copy(A)\n",
    "    R̂ = zeros(eltype(A), n, n)\n",
    "    for j in 1:n\n",
    "        # Compute coefficients of aⱼ in Q̂[:,1:j-1] basis\n",
    "        R̂[1:j-1,j] = Q̂[:,1:j-1]' * Q̂[:,j]\n",
    "        # Project Q̂[:,1:j-1] components out of Q̂[:,j]\n",
    "        Q̂[:,j] -= Q̂[:,1:j-1] * R̂[1:j-1,j]\n",
    "        # Normalize\n",
    "        R̂[j,j] = norm(Q̂[:,j])\n",
    "        Q̂[:,j] /= R̂[j,j]\n",
    "    end\n",
    "    return Q̂, R̂\n",
    "end"
   ]
  },
  {
   "cell_type": "code",
   "execution_count": 17,
   "metadata": {},
   "outputs": [
    {
     "name": "stdout",
     "output_type": "stream",
     "text": [
      "Reconstruction error || A - Q R ||_F = 9.242077443698458e-15\n",
      "Orthonormality error || I - Q'Q ||_F = 3.0636044993119164e-15\n",
      "Upper-triangularity error || R - triu(R) ||_F = 0.0\n"
     ]
    },
    {
     "data": {
      "text/plain": [
       "true"
      ]
     },
     "execution_count": 17,
     "metadata": {},
     "output_type": "execute_result"
    }
   ],
   "source": [
    "m = 100; n = 50;\n",
    "A = randn(m, n);\n",
    "Q̂, R̂ = qr_classical_gram_schmidt(A);\n",
    "qr_test(A, Q̂, R̂)"
   ]
  },
  {
   "cell_type": "markdown",
   "metadata": {},
   "source": [
    "### Classical Gram-Schmidt in action"
   ]
  },
  {
   "cell_type": "code",
   "execution_count": 18,
   "metadata": {
    "hideCode": true,
    "slideshow": {
     "slide_type": "subslide"
    }
   },
   "outputs": [
    {
     "name": "stderr",
     "output_type": "stream",
     "text": [
      "┌ Info: Saved animation to \n",
      "│   fn = /Users/lzs/Desktop/个人/CSE 6643 Numerical Linear Algebra/Lecture/tmp.gif\n",
      "└ @ Plots /Users/lzs/.julia/packages/Plots/9C6z9/src/animation.jl:114\n"
     ]
    },
    {
     "data": {
      "text/html": [
       "<img src=\"data:image/gif;base64,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\" />"
      ],
      "text/plain": [
       "Plots.AnimatedGif(\"/Users/lzs/Desktop/个人/CSE 6643 Numerical Linear Algebra/Lecture/tmp.gif\")"
      ]
     },
     "execution_count": 18,
     "metadata": {},
     "output_type": "execute_result"
    }
   ],
   "source": [
    "m = 10; n = 5;\n",
    "A = randn(m, n)\n",
    "A /= maximum(abs.(A))\n",
    "Q̂ = copy(A)\n",
    "R̂ = zeros(n, n)\n",
    "r_scale = maximum(abs.(qr(A).R))\n",
    "anim = Animation()\n",
    "function step_plot(A,Q̂,R̂,j)\n",
    "    Q_plot = imshow(Q̂,(-1,1))\n",
    "    plot!(Q_plot,title=\"Q\")\n",
    "    ortho_plot = imshow(Q̂' * Q̂,(-1,1))\n",
    "    plot!(ortho_plot,title=\"Q'Q\")\n",
    "    recon_plot = imshow(A - Q̂ * R̂,(-1,1))\n",
    "    plot!(recon_plot,title=\"A - QR\")\n",
    "    R_plot = imshow(R̂,(-r_scale,r_scale))\n",
    "    plot!(R_plot,title=\"R\")\n",
    "    return plot(Q_plot, R_plot, ortho_plot, recon_plot, layout=(1,4), size=(1300,800), plot_title=\"Step $j\")\n",
    "end\n",
    "frame(anim,step_plot(A,Q̂,R̂,0))\n",
    "for j in 1:n\n",
    "    # Compute coefficients of aⱼ in Q̂[:,1:j-1] basis\n",
    "    R̂[1:j-1,j] = Q̂[:,1:j-1]' * Q̂[:,j]\n",
    "    # Project Q̂[:,1:j-1] components out of Q̂[:,j]\n",
    "    Q̂[:,j] -= Q̂[:,1:j-1] * R̂[1:j-1,j]\n",
    "    # Normalize\n",
    "    R̂[j,j] = norm(Q̂[:,j])\n",
    "    Q̂[:,j] /= R̂[j,j]\n",
    "    frame(anim,step_plot(A,Q̂,R̂,j))\n",
    "end\n",
    "frame(anim,step_plot(A,Q̂,R̂,n))\n",
    "gif(anim,fps=0.5)"
   ]
  },
  {
   "cell_type": "markdown",
   "metadata": {
    "slideshow": {
     "slide_type": "subslide"
    }
   },
   "source": [
    "### Each step of CGS is a matrix transformation applied to $\\hat{Q}$"
   ]
  },
  {
   "cell_type": "markdown",
   "metadata": {
    "slideshow": {
     "slide_type": "-"
    }
   },
   "source": [
    "```julia\n",
    "        # Project Q̂[:,1:j-1] components out of Q̂[:,j]\n",
    "        Q̂[:,j] -= Q̂[:,1:j-1] * R̂[1:j-1,j]\n",
    "```\n",
    "\n",
    "\"Subtract from column $j$: $r_{1,j} \\cdot$ column 1 and $r_{2,j} \\cdot$ column 2 and ...\"\n",
    "\n",
    "```julia\n",
    "        # Normalize\n",
    "        Q̂[:,j] /= R̂[j,j]\n",
    "```\n",
    "\n",
    "\"Scale column $j$ by $\\|r_{j,j}\\|^{-1}$\"\n",
    "\n",
    "(Remember warmup for lecture 2: each of these transformations is a matrix applied on the _right_)"
   ]
  },
  {
   "cell_type": "markdown",
   "metadata": {
    "slideshow": {
     "slide_type": "subslide"
    }
   },
   "source": [
    "### Step $j$: multiply $\\hat{Q}$ by an upper-triangular matrix\n",
    "\n",
    "$$\n",
    "\\begin{bmatrix}\n",
    "    & & & & & & \\\\\n",
    "    & & & & & & \\\\\n",
    "    & & & & & & \\\\\n",
    "    & & & & & & \\\\\n",
    "    & & & \\hat{Q} & & & \\\\\n",
    "    & & & & & & \\\\\n",
    "    & & & & & & \\\\\n",
    "    & & & & & & \\\\\n",
    "    & & & & & & \\\\\n",
    "\\end{bmatrix}\n",
    "\\gets\n",
    "\\begin{bmatrix}\n",
    "    & & & & & & \\\\\n",
    "    & & & & & & \\\\\n",
    "    & & & & & & \\\\\n",
    "    & & & & & & \\\\\n",
    "    & & & \\hat{Q} & & & \\\\\n",
    "    & & & & & & \\\\\n",
    "    & & & & & & \\\\\n",
    "    & & & & & & \\\\\n",
    "    & & & & & & \\\\\n",
    "\\end{bmatrix}\n",
    "\\underbrace{\n",
    "\\begin{bmatrix}\n",
    "   1 & & & -r_{1,j} / r_{jj} & & & \\\\\n",
    "    & \\ddots & & \\vdots & & & \\\\\n",
    "    & & 1 & -r_{j-1,j} / r_{jj} & & & \\\\\n",
    "    & & & 1 / r_{jj} & & & \\\\\n",
    "    & & & & 1 & & \\\\\n",
    "    & & & & & \\ddots & \\\\\n",
    "    & & & & & & 1\n",
    "\\end{bmatrix}\n",
    "}_{Z_j}\n",
    "$$\n",
    "\n",
    "$Z_j$ is an upper-triangular matrix one nonzero column in column $j$."
   ]
  },
  {
   "cell_type": "markdown",
   "metadata": {
    "slideshow": {
     "slide_type": "subslide"
    }
   },
   "source": [
    "### CGS Constructs $\\hat{Q}$ from $A$ by Triangular Orthogonalization\n",
    "$$\n",
    "\\begin{bmatrix}\n",
    " & & \\\\\n",
    " & & \\\\\n",
    " & A & \\\\\n",
    " & & \\\\\n",
    " & & \\\\\n",
    "\\end{bmatrix}\n",
    "\\underbrace{\n",
    "\\begin{bmatrix}\n",
    "& & \\\\\n",
    "& Z_1 & \\\\\n",
    "& & \\\\\n",
    "\\end{bmatrix}\n",
    "\\begin{bmatrix}\n",
    "& & \\\\\n",
    "& Z_2 & \\\\\n",
    "& & \\\\\n",
    "\\end{bmatrix}\n",
    "\\dots\n",
    "\\begin{bmatrix}\n",
    "& & \\\\\n",
    "& Z_n & \\\\\n",
    "& & \\\\\n",
    "\\end{bmatrix}\n",
    "}_{\\hat{R}^{-1}}\n",
    "=\n",
    "\\begin{bmatrix}\n",
    " & & \\\\\n",
    " & & \\\\\n",
    " & \\hat{Q} & \\\\\n",
    " & & \\\\\n",
    " & & \\\\\n",
    "\\end{bmatrix}\n",
    "$$\n",
    "\n",
    "The product of the $Z_j$'s is $\\hat{R}^{-1}$."
   ]
  },
  {
   "cell_type": "markdown",
   "metadata": {
    "slideshow": {
     "slide_type": "subslide"
    }
   },
   "source": [
    "### Classical Gram-Schmidt meets its adversary: the Kahan matrix\n",
    "\n",
    "$$\n",
    "\\begin{bmatrix}\n",
    "& & & & \\\\\n",
    "& & & & \\\\\n",
    "& & M_\\theta & & \\\\\n",
    "& & & & \\\\\n",
    "& & & & \\\\\n",
    "\\end{bmatrix}\n",
    "=\n",
    "\\begin{bmatrix}\n",
    "1 & & & & \\\\\n",
    "& s & & & \\\\\n",
    "& & \\ddots & & \\\\\n",
    "& & & s^{n-2} & \\\\\n",
    "& & & & s^{n-1} \\\\\n",
    "\\end{bmatrix}\n",
    "\\begin{bmatrix}\n",
    "1 & -c & -c & \\dots & -c \\\\\n",
    "& 1 & -c & & -c \\\\\n",
    "& & \\ddots & \\ddots & \\vdots \\\\\n",
    "& & & 1 & -c\\\\\n",
    "& & & & 1 \\\\\n",
    "\\end{bmatrix}\n",
    "$$\n"
   ]
  },
  {
   "cell_type": "code",
   "execution_count": 19,
   "metadata": {
    "cell_style": "center"
   },
   "outputs": [
    {
     "data": {
      "text/plain": [
       "kahan (generic function with 1 method)"
      ]
     },
     "execution_count": 19,
     "metadata": {},
     "output_type": "execute_result"
    }
   ],
   "source": [
    "function kahan(m, θ)\n",
    "    s = sin(θ)\n",
    "    c = cos(θ)\n",
    "    S = Diagonal(s .^ collect(0:m-1))\n",
    "    K = UnitUpperTriangular(-c * ones(m,m))\n",
    "    return S * K\n",
    "end"
   ]
  },
  {
   "cell_type": "code",
   "execution_count": 20,
   "metadata": {
    "hideCode": true,
    "slideshow": {
     "slide_type": "subslide"
    }
   },
   "outputs": [
    {
     "data": {
      "image/svg+xml": [
       "<?xml version=\"1.0\" encoding=\"utf-8\"?>\n",
       "<svg xmlns=\"http://www.w3.org/2000/svg\" xmlns:xlink=\"http://www.w3.org/1999/xlink\" width=\"1300\" height=\"800\" viewBox=\"0 0 5200 3200\">\n",
       "<defs>\n",
       "  <clipPath id=\"clip260\">\n",
       "    <rect x=\"0\" y=\"0\" width=\"5200\" height=\"3200\"/>\n",
       "  </clipPath>\n",
       "</defs>\n",
       "<path clip-path=\"url(#clip260)\" d=\"\n",
       "M0 3200 L5200 3200 L5200 0 L0 0  Z\n",
       "  \" fill=\"#ffffff\" fill-rule=\"evenodd\" fill-opacity=\"1\"/>\n",
       "<defs>\n",
       "  <clipPath id=\"clip261\">\n",
       "    <rect x=\"1040\" y=\"0\" width=\"3641\" height=\"3200\"/>\n",
       "  </clipPath>\n",
       "</defs>\n",
       "<path clip-path=\"url(#clip260)\" d=\"\n",
       "M166.959 2567.48 L1166.09 2567.48 L1166.09 624.448 L166.959 624.448  Z\n",
       "  \" fill=\"#ffffff\" fill-rule=\"evenodd\" fill-opacity=\"1\"/>\n",
       "<defs>\n",
       "  <clipPath id=\"clip262\">\n",
       "    <rect x=\"166\" y=\"624\" width=\"1000\" height=\"1944\"/>\n",
       "  </clipPath>\n",
       "</defs>\n",
       "<path clip-path=\"url(#clip260)\" d=\"M592.373 43.8146 L566.568 43.8146 Q567.176 55.9268 569.971 61.0714 Q573.455 67.3908 579.491 67.3908 Q585.567 67.3908 588.929 61.0309 Q591.886 55.4407 592.373 43.8146 M592.251 36.928 Q591.117 25.4235 588.929 21.3726 Q585.445 14.9721 579.491 14.9721 Q573.293 14.9721 570.012 21.2916 Q567.419 26.3957 566.649 36.928 L592.251 36.928 M579.491 8.89579 Q589.213 8.89579 594.763 17.4837 Q600.312 26.0311 600.312 41.1815 Q600.312 56.2914 594.763 64.8793 Q589.213 73.5077 579.491 73.5077 Q569.728 73.5077 564.219 64.8793 Q558.669 56.2914 558.669 41.1815 Q558.669 26.0311 564.219 17.4837 Q569.728 8.89579 579.491 8.89579 Z\" fill=\"#000000\" fill-rule=\"evenodd\" fill-opacity=\"1\" /><path clip-path=\"url(#clip260)\" d=\"M640.011 34.9026 L691.944 34.9026 L691.944 41.7081 L640.011 41.7081 L640.011 34.9026 M640.011 51.4303 L691.944 51.4303 L691.944 58.3168 L640.011 58.3168 L640.011 51.4303 Z\" fill=\"#000000\" fill-rule=\"evenodd\" fill-opacity=\"1\" /><path clip-path=\"url(#clip260)\" d=\"M753.477 17.4837 Q747.158 17.4837 743.957 23.7221 Q740.798 29.92 740.798 42.3968 Q740.798 54.833 743.957 61.0714 Q747.158 67.2693 753.477 67.2693 Q759.837 67.2693 762.997 61.0714 Q766.197 54.833 766.197 42.3968 Q766.197 29.92 762.997 23.7221 Q759.837 17.4837 753.477 17.4837 M753.477 11.0023 Q763.645 11.0023 768.992 19.0636 Q774.38 27.0843 774.38 42.3968 Q774.38 57.6687 768.992 65.73 Q763.645 73.7508 753.477 73.7508 Q743.309 73.7508 737.922 65.73 Q732.574 57.6687 732.574 42.3968 Q732.574 27.0843 737.922 19.0636 Q743.309 11.0023 753.477 11.0023 Z\" fill=\"#000000\" fill-rule=\"evenodd\" fill-opacity=\"1\" /><g clip-path=\"url(#clip262)\">\n",
       "<image width=\"999\" height=\"999\" xlink:href=\"data:image/png;base64,\n",
       "iVBORw0KGgoAAAANSUhEUgAAA+cAAAPnCAYAAABN/j28AAAXnUlEQVR4nO3ZURFAUABEUcQRQg9x\n",
       "tBLI3wtBC9eMcxLs752dz/26Jz7j2NZ6AgAAAC9b6gEAAADwd+IcAAAAYuIcAAAAYuIcAAAAYuIc\n",
       "AAAAYuIcAAAAYuIcAAAAYuIcAAAAYuIcAAAAYuIcAAAAYuIcAAAAYuIcAAAAYuIcAAAAYuIcAAAA\n",
       "YuIcAAAAYuIcAAAAYuIcAAAAYuIcAAAAYuIcAAAAYuIcAAAAYuIcAAAAYuIcAAAAYuIcAAAAYuIc\n",
       "AAAAYuIcAAAAYuIcAAAAYuIcAAAAYuIcAAAAYuIcAAAAYuIcAAAAYuIcAAAAYuIcAAAAYuIcAAAA\n",
       "YuIcAAAAYuIcAAAAYuIcAAAAYuIcAAAAYuIcAAAAYuIcAAAAYuIcAAAAYuIcAAAAYuIcAAAAYuIc\n",
       "AAAAYuIcAAAAYuIcAAAAYuIcAAAAYuIcAAAAYuIcAAAAYuIcAAAAYuIcAAAAYuIcAAAAYuIcAAAA\n",
       "YuIcAAAAYuIcAAAAYuIcAAAAYuIcAAAAYuIcAAAAYuIcAAAAYuIcAAAAYuIcAAAAYuIcAAAAYuIc\n",
       "AAAAYuIcAAAAYuIcAAAAYuIcAAAAYuIcAAAAYuIcAAAAYuIcAAAAYuIcAAAAYuIcAAAAYuIcAAAA\n",
       "YuIcAAAAYuIcAAAAYuIcAAAAYuIcAAAAYuIcAAAAYuIcAAAAYuIcAAAAYuIcAAAAYuIcAAAAYuIc\n",
       "AAAAYuIcAAAAYuIcAAAAYuIcAAAAYuIcAAAAYuIcAAAAYuIcAAAAYuIcAAAAYuIcAAAAYuIcAAAA\n",
       "YuIcAAAAYuIcAAAAYuIcAAAAYuIcAAAAYuIcAAAAYuIcAAAAYuIcAAAAYuIcAAAAYuIcAAAAYvMY\n",
       "465HAAAAwJ95zgEAACAmzgEAACAmzgEAACAmzgEAACAmzgEAACAmzgEAACAmzgEAACAmzgEAACAm\n",
       "zgEAACAmzgEAACAmzgEAACAmzgEAACAmzgEAACAmzgEAACAmzgEAACAmzgEAACAmzgEAACAmzgEA\n",
       "ACAmzgEAACAmzgEAACAmzgEAACAmzgEAACAmzgEAACAmzgEAACAmzgEAACAmzgEAACAmzgEAACAm\n",
       "zgEAACAmzgEAACAmzgEAACAmzgEAACAmzgEAACAmzgEAACAmzgEAACAmzgEAACAmzgEAACAmzgEA\n",
       "ACAmzgEAACAmzgEAACAmzgEAACAmzgEAACAmzgEAACAmzgEAACAmzgEAACAmzgEAACAmzgEAACAm\n",
       "zgEAACAmzgEAACAmzgEAACAmzgEAACAmzgEAACAmzgEAACAmzgEAACAmzgEAACAmzgEAACAmzgEA\n",
       "ACAmzgEAACAmzgEAACAmzgEAACAmzgEAACAmzgEAACAmzgEAACAmzgEAACAmzgEAACAmzgEAACAm\n",
       "zgEAACAmzgEAACAmzgEAACAmzgEAACAmzgEAACAmzgEAACAmzgEAACAmzgEAACAmzgEAACAmzgEA\n",
       "ACAmzgEAACAmzgEAACAmzgEAACAmzgEAACAmzgEAACAmzgEAACAmzgEAACAmzgEAACAmzgEAACAm\n",
       "zgEAACAmzgEAACAmzgEAACAmzgEAACAmzgEAACAmzgEAACAmzgEAACAmzgEAACAmzgEAACAmzgEA\n",
       "ACAmzgEAACAmzgEAACAmzgEAACAmzgEAACAmzgEAACAmzgEAACAmzgEAACAmzgEAACAmzgEAACAm\n",
       "zgEAACAmzgEAACAmzgEAACAmzgEAACAmzgEAACAmzgEAACAmzgEAACAmzgEAACAmzgEAACAmzgEA\n",
       "ACAmzgEAACAmzgEAACAmzgEAACAmzgEAACAmzgEAACAmzgEAACAmzgEAACAmzgEAACAmzgEAACAm\n",
       "zgEAACAmzgEAACAmzgEAACAmzgEAACAmzgEAACAmzgEAACAmzgEAACAmzgEAACAmzgEAACAmzgEA\n",
       "ACAmzgEAACAmzgEAACAmzgEAACAmzgEAACAmzgEAACAmzgEAACAmzgEAACAmzgEAACAmzgEAACAm\n",
       "zgEAACAmzgEAACAmzgEAACAmzgEAACAmzgEAACAmzgEAACAmzgEAACAmzgEAACAmzgEAACAmzgEA\n",
       "ACAmzgEAACAmzgEAACAmzgEAACAmzgEAACAmzgEAACAmzgEAACAmzgEAACAmzgEAACAmzgEAACAm\n",
       "zgEAACAmzgEAACAmzgEAACAmzgEAACAmzgEAACAmzgEAACAmzgEAACAmzgEAACAmzgEAACAmzgEA\n",
       "ACAmzgEAACAmzgEAACAmzgEAACAmzgEAACAmzgEAACAmzgEAACAmzgEAACAmzgEAACAmzgEAACAm\n",
       "zgEAACAmzgEAACAmzgEAACAmzgEAACAmzgEAACAmzgEAACAmzgEAACAmzgEAACAmzgEAACAmzgEA\n",
       "ACAmzgEAACAmzgEAACAmzgEAACAmzgEAACAmzgEAACAmzgEAACAmzgEAACAmzgEAACAmzgEAACAm\n",
       "zgEAACAmzgEAACAmzgEAACAmzgEAACAmzgEAACAmzgEAACAmzgEAACAmzgEAACAmzgEAACAmzgEA\n",
       "ACAmzgEAACAmzgEAACAmzgEAACAmzgEAACAmzgEAACAmzgEAACAmzgEAACAmzgEAACAmzgEAACAm\n",
       "zgEAACAmzgEAACAmzgEAACAmzgEAACAmzgEAACAmzgEAACAmzgEAACAmzgEAACAmzgEAACAmzgEA\n",
       "ACAmzgEAACAmzgEAACAmzgEAACAmzgEAACAmzgEAACAmzgEAACAmzgEAACAmzgEAACAmzgEAACAm\n",
       "zgEAACAmzgEAACAmzgEAACAmzgEAACAmzgEAACAmzgEAACAmzgEAACAmzgEAACAmzgEAACAmzgEA\n",
       "ACAmzgEAACAmzgEAACAmzgEAACAmzgEAACAmzgEAACAmzgEAACAmzgEAACAmzgEAACAmzgEAACAm\n",
       "zgEAACAmzgEAACAmzgEAACAmzgEAACAmzgEAACAmzgEAACAmzgEAACAmzgEAACAmzgEAACAmzgEA\n",
       "ACAmzgEAACAmzgEAACAmzgEAACAmzgEAACAmzgEAACAmzgEAACAmzgEAACAmzgEAACAmzgEAACAm\n",
       "zgEAACAmzgEAACAmzgEAACAmzgEAACAmzgEAACAmzgEAACAmzgEAACAmzgEAACAmzgEAACAmzgEA\n",
       "ACAmzgEAACAmzgEAACAmzgEAACAmzgEAACAmzgEAACAmzgEAACAmzgEAACAmzgEAACAmzgEAACAm\n",
       "zgEAACAmzgEAACAmzgEAACAmzgEAACAmzgEAACAmzgEAACAmzgEAACAmzgEAACAmzgEAACAmzgEA\n",
       "ACAmzgEAACAmzgEAACAmzgEAACAmzgEAACAmzgEAACAmzgEAACAmzgEAACAmzgEAACAmzgEAACAm\n",
       "zgEAACAmzgEAACAmzgEAACAmzgEAACAmzgEAACAmzgEAACAmzgEAACAmzgEAACAmzgEAACAmzgEA\n",
       "ACAmzgEAACAmzgEAACAmzgEAACAmzgEAACAmzgEAACAmzgEAACAmzgEAACAmzgEAACAmzgEAACAm\n",
       "zgEAACAmzgEAACAmzgEAACAmzgEAACAmzgEAACAmzgEAACAmzgEAACAmzgEAACAmzgEAACAmzgEA\n",
       "ACAmzgEAACAmzgEAACAmzgEAACAmzgEAACAmzgEAACAmzgEAACAmzgEAACAmzgEAACAmzgEAACAm\n",
       "zgEAACAmzgEAACAmzgEAACAmzgEAACAmzgEAACAmzgEAACAmzgEAACAmzgEAACAmzgEAACAmzgEA\n",
       "ACAmzgEAACAmzgEAACAmzgEAACAmzgEAACAmzgEAACAmzgEAACAmzgEAACAmzgEAACAmzgEAACAm\n",
       "zgEAACAmzgEAACAmzgEAACAmzgEAACAmzgEAACAmzgEAACAmzgEAACAmzgEAACAmzgEAACAmzgEA\n",
       "ACAmzgEAACAmzgEAACAmzgEAACAmzgEAACAmzgEAACAmzgEAACAmzgEAACAmzgEAACAmzgEAACAm\n",
       "zgEAACAmzgEAACAmzgEAACAmzgEAACAmzgEAACAmzgEAACAmzgEAACAmzgEAACAmzgEAACAmzgEA\n",
       "ACAmzgEAACAmzgEAACAmzgEAACAmzgEAACAmzgEAACAmzgEAACAmzgEAACAmzgEAACAmzgEAACAm\n",
       "zgEAACAmzgEAACAmzgEAACAmzgEAACAmzgEAACAmzgEAACAmzgEAACAmzgEAACAmzgEAACAmzgEA\n",
       "ACAmzgEAACAmzgEAACAmzgEAACAmzgEAACAmzgEAACAmzgEAACAmzgEAACAmzgEAACAmzgEAACAm\n",
       "zgEAACAmzgEAACAmzgEAACAmzgEAACAmzgEAACAmzgEAACAmzgEAACAmzgEAACAmzgEAACAmzgEA\n",
       "ACAmzgEAACAmzgEAACAmzgEAACAmzgEAACAmzgEAACAmzgEAACAmzgEAACAmzgEAACAmzgEAACAm\n",
       "zgEAACAmzgEAACAmzgEAACAmzgEAACAmzgEAACAmzgEAACAmzgEAACAmzgEAACAmzgEAACAmzgEA\n",
       "ACAmzgEAACAmzgEAACAmzgEAACAmzgEAACAmzgEAACAmzgEAACAmzgEAACAmzgEAACAmzgEAACAm\n",
       "zgEAACAmzgEAACAmzgEAACAmzgEAACAmzgEAACAmzgEAACAmzgEAACAmzgEAACAmzgEAACAmzgEA\n",
       "ACAmzgEAACAmzgEAACAmzgEAACAmzgEAACAmzgEAACAmzgEAACAmzgEAACAmzgEAACAmzgEAACAm\n",
       "zgEAACAmzgEAACAmzgEAACAmzgEAACAmzgEAACAmzgEAACAmzgEAACAmzgEAACAmzgEAACAmzgEA\n",
       "ACAmzgEAACAmzgEAACAmzgEAACAmzgEAACAmzgEAACAmzgEAACAmzgEAACAmzgEAACAmzgEAACAm\n",
       "zgEAACAmzgEAACAmzgEAACAmzgEAACAmzgEAACAmzgEAACAmzgEAACAmzgEAACAmzgEAACAmzgEA\n",
       "ACAmzgEAACAmzgEAACAmzgEAACAmzgEAACAmzgEAACAmzgEAACAmzgEAACAmzgEAACAmzgEAACAm\n",
       "zgEAACAmzgEAACAmzgEAACAmzgEAACAmzgEAACAmzgEAACAmzgEAACAmzgEAACAmzgEAACAmzgEA\n",
       "ACAmzgEAACAmzgEAACAmzgEAACAmzgEAACAmzgEAACAmzgEAACAmzgEAACAmzgEAACAmzgEAACAm\n",
       "zgEAACAmzgEAACAmzgEAACAmzgEAACAmzgEAACAmzgEAACAmzgEAACAmzgEAACAmzgEAACAmzgEA\n",
       "ACAmzgEAACAmzgEAACAmzgEAACAmzgEAACAmzgEAACAmzgEAACAmzgEAACAmzgEAACAmzgEAACAm\n",
       "zgEAACAmzgEAACAmzgEAACAmzgEAACAmzgEAACAmzgEAACAmzgEAACAmzgEAACAmzgEAACAmzgEA\n",
       "ACAmzgEAACAmzgEAACAmzgEAACAmzgEAACAmzgEAACAmzgEAACAmzgEAACAmzgEAACAmzgEAACAm\n",
       "zgEAACAmzgEAACAmzgEAACAmzgEAACAmzgEAACAmzgEAACAmzgEAACAmzgEAACAmzgEAACAmzgEA\n",
       "ACAmzgEAACAmzgEAACAmzgEAACAmzgEAACAmzgEAACAmzgEAACAmzgEAACAmzgEAACAmzgEAACAm\n",
       "zgEAACAmzgEAACAmzgEAACAmzgEAACAmzgEAACAmzgEAACAmzgEAACAmzgEAACAmzgEAACAmzgEA\n",
       "ACAmzgEAACAmzgEAACAmzgEAACAmzgEAACAmzgEAACAmzgEAACAmzgEAACAmzgEAACAmzgEAACAm\n",
       "zgEAACAmzgEAACAmzgEAACAmzgEAACAmzgEAACAmzgEAACAmzgEAACAmzgEAACAmzgEAACAmzgEA\n",
       "ACAmzgEAACAmzgEAACAmzgEAACAmzgEAACAmzgEAACAmzgEAACAmzgEAACAmzgEAACAmzgEAACAm\n",
       "zgEAACAmzgEAACAmzgEAACAmzgEAACAmzgEAACAmzgEAACAmzgEAACAmzgEAACAmzgEAACAmzgEA\n",
       "ACAmzgEAACAmzgEAACAmzgEAACAmzgEAACAmzgEAACAmzgEAACAmzgEAACAmzgEAACAmzgEAACAm\n",
       "zgEAACAmzgEAACAmzgEAACAmzgEAACAmzgEAACAmzgEAACAmzgEAACAmzgEAACAmzgEAACAmzgEA\n",
       "ACAmzgEAACAmzgEAACAmzgEAACAmzgEAACAmzgEAACAmzgEAACAmzgEAACAmzgEAACAmzgEAACAm\n",
       "zgEAACAmzgEAACAmzgEAACAmzgEAACAmzgEAACAmzgEAACAmzgEAACAmzgEAACAmzgEAACAmzgEA\n",
       "ACAmzgEAACAmzgEAACAmzgEAACAmzgEAACAmzgEAACAmzgEAACAmzgEAACAmzgEAACAmzgEAACAm\n",
       "zgEAACAmzgEAACAmzgEAACAmzgEAACAmzgEAACAmzgEAACAmzgEAACAmzgEAACAmzgEAACAmzgEA\n",
       "ACAmzgEAACAmzgEAACAmzgEAACAmzgEAACAmzgEAACAmzgEAACAmzgEAACAmzgEAACAmzgEAACAm\n",
       "zgEAACAmzgEAACAmzgEAACAmzgEAACAmzgEAACAmzgEAACAmzgEAACAmzgEAACAmzgEAACAmzgEA\n",
       "ACAmzgEAACAmzgEAACAmzgEAACAmzgEAACAmzgEAACAmzgEAACAmzgEAACAmzgEAACAmzgEAACAm\n",
       "zgEAACAmzgEAACAmzgEAACAmzgEAACAmzgEAACAmzgEAACAmzgEAACAmzgEAACAmzgEAACAmzgEA\n",
       "ACAmzgEAACAmzgEAACAmzgEAACAmzgEAACAmzgEAACAmzgEAACAmzgEAACAmzgEAACAmzgEAACAm\n",
       "zgEAACAmzgEAACAmzgEAACAmzgEAACAmzgEAACAmzgEAACAmzgEAACAmzgEAACAmzgEAACAmzgEA\n",
       "ACAmzgEAACAmzgEAACAmzgEAACAmzgEAACAmzgEAACAmzgEAACAmzgEAACAmzgEAACAmzgEAACAm\n",
       "zgEAACAmzgEAACAmzgEAACAmzgEAACAmzgEAACAmzgEAACAmzgEAACAmzgEAACAmzgEAACAmzgEA\n",
       "ACAmzgEAACAmzgEAACAmzgEAACAmzgEAACAmzgEAACAmzgEAACAmzgEAACAmzgEAACAmzgEAACAm\n",
       "zgEAACAmzgEAACAmzgEAACAmzgEAACAmzgEAACAmzgEAACAmzgEAACAmzgEAACAmzgEAACAmzgEA\n",
       "ACAmzgEAACAmzgEAACAmzgEAACAmzgEAACAmzgEAACAmzgEAACAmzgEAACAmzgEAACAmzgEAACAm\n",
       "zgEAACAmzgEAACAmzgEAACAmzgEAACAmzgEAACAmzgEAACAmzgEAACAmzgEAACAmzgEAACAmzgEA\n",
       "ACAmzgEAACAmzgEAACAmzgEAACAmzgEAACAmzgEAACAmzgEAACAmzgEAACAmzgEAACAmzgEAACAm\n",
       "zgEAACAmzgEAACAmzgEAACAmzgEAACAmzgEAACAmzgEAACAmzgEAACAmzgEAACAmzgEAACAmzgEA\n",
       "ACAmzgEAACAmzgEAACAmzgEAACAmzgEAACAmzgEAACAmzgEAACAmzgEAACAmzgEAACAmzgEAACAm\n",
       "zgEAACAmzgEAACAmzgEAACAmzgEAACAmzgEAACAmzgEAACAmzgEAACAmzgEAACAmzgEAACAmzgEA\n",
       "ACAmzgEAACAmzgEAACAmzgEAACAmzgEAACAmzgEAACAmzgEAACAmzgEAACAmzgEAACAmzgEAACAm\n",
       "zgEAACAmzgEAACAmzgEAACAmzgEAACAmzgEAACAmzgEAACAmzgEAACAmzgEAACAmzgEAACAmzgEA\n",
       "ACAmzgEAACAmzgEAACAmzgEAACAmzgEAACAmzgEAACAmzgEAACAmzgEAACAmzgEAACAmzgEAACAm\n",
       "zgEAACAmzgEAACAmzgEAACAmzgEAACAmzgEAACAmzgEAACAmzgEAACAmzgEAACAmzgEAACAmzgEA\n",
       "ACAmzgEAACAmzgEAACAmzgEAACAmzgEAACAmzgEAACAmzgEAACD2AExXD2qyLznEAAAAAElFTkSu\n",
       "QmCC\n",
       "\" transform=\"translate(167, 1096)\"/>\n",
       "</g>\n",
       "<defs>\n",
       "  <clipPath id=\"clip263\">\n",
       "    <rect x=\"1270\" y=\"624\" width=\"157\" height=\"1944\"/>\n",
       "  </clipPath>\n",
       "</defs>\n",
       "<g clip-path=\"url(#clip263)\">\n",
       "<image width=\"156\" height=\"1943\" xlink:href=\"data:image/png;base64,\n",
       "iVBORw0KGgoAAAANSUhEUgAAAJwAAAeXCAYAAAAl2AwAAAAUmUlEQVR4nO3dsZEkNwAEwcFHO0lL\n",
       "6RDdeIBe1AmXacEKFS1MANjz7z//vQ8if376B/C7CI6U4EgJjpTgSAmOlOBI7Zyf/gn8JhaOlOBI\n",
       "CY6U4EgJjpTgSAmO1D7f4QhZOFKCIyU4UoIjJThSgiO1IzlCciMlOFKCIyU4UoIjJThSgiPleBIp\n",
       "C0dKcKQER0pwpARHSnCkvJ5EysKREhwpwZESHCnBkRIcKcGRmuQoyY2U4EgJjpTgSAmOlOBICY7U\n",
       "jgNxhCwcKcGREhwpwZESHCnBkXJNkJSFIyU4UoIjJThSgiMlOFKCI+UVc1IWjpTgSAmOlOBICY6U\n",
       "4EjtSI6Q3EgJjpTgSAmOlOBICY6U4Eg5nkTKwpESHCnBkRIcKcGREhwpwZHyXBcpC0dKcKQER0pw\n",
       "pARHSnCkJjlKciMlOFKCIyU4UoIjJThSgiO143wSIQtHSnCkBEdKcKQER0pwpLyeRMrCkRIcKcGR\n",
       "EhwpwZESHCnBkfJ6EikLR0pwpARHSnCkBEdKcKQER2pHcoTkRkpwpARHSnCkBEdKcKRcEyRl4UgJ\n",
       "jpTgSAmOlOBICY6U4Ei5JkjKwpESHCnBkRIcKcGREhwpx5NIWThSgiMlOFKCIyU4UoIjJThSjieR\n",
       "snCkBEdKcKQER0pwpARHapKjJDdSgiMlOFKCIyU4UoIjJThSO84nEbJwpARHSnCkBEdKcKQER0pw\n",
       "pDzXRcrCkRIcKcGREhwpwZESHCmvJ5GycKQER0pwpARHSnCkBEdKcKQ810VKbqQER0pwpARHSnCk\n",
       "BEfK8SRSFo6U4EgJjpTgSAmOlOBICY6U15NIWThSgiMlOFKCIyU4UoIjJThSzsORsnCkBEdKcKQE\n",
       "R0pwpARHyvEkUhaOlOBICY6U4EgJjpTgSAmO1M4fH+LoWDhSgiMlOFKCIyU4UoIj5XgSKQtHSnCk\n",
       "BEdKcKQER0pwpARHyutJpCwcKcGREhwpwZESHCnBkRIcKefhSFk4UoIjJThSgiMlOFKCI+V4EikL\n",
       "R0pwpARHSnCkBEdKcKQER2qSoyQ3UoIjJThSgiMlOFKCI+V4EikLR0pwpARHSnCkBEdKcKQER8rr\n",
       "SaQsHCnBkRIcKcGREhwpwZESHCnn4UhZOFKCIyU4UoIjJThSgiO1z3cRQhaOlOBICY6U4EgJjpTg\n",
       "SAmOlONJpCwcKcGREhwpwZESHCnBkfLnbqTkRkpwpARHSnCkBEdKcKQER8rxJFIWjpTgSAmOlOBI\n",
       "CY6U4Ej5czdSFo6U4EgJjpTgSAmOlOBICY6U40mkLBwpwZESHCnBkRIcKcGREhwp5+FIWThSgiMl\n",
       "OFKCIyU4UoIjtSM5QnIjJThSgiMlOFKCIyU4UoIj5XgSKQtHSnCkBEdKcKQER0pwpHY8n0TIwpES\n",
       "HCnBkRIcKcGREhwpwZFyPImUhSMlOFKCIyU4UoIjJThSgiPl3wRJWThSgiMlOFKCIyU4UoIj5XgS\n",
       "KQtHSnCkBEdKcKQER0pwpARHyr8JkpIbKcGREhwpwZESHCnBkXI8iZSFIyU4UoIjJThSgiMlOFKC\n",
       "I+U7HCkLR0pwpARHSnCkBEdKcKQER8or5qQsHCnBkRIcKcGREhwpwZFyPImUhSMlOFKCIyU4UoIj\n",
       "JThSgiPleBIpC0dKcKQER0pwpARHSnCk9vkuQsjCkRIcKcGREhwpwZESHCnBkdqRHCG5kRIcKcGR\n",
       "EhwpwZESHCmvJ5GycKQER0pwpARHSnCkBEdKcKS8nkTKwpESHCnBkRIcKcGREhwpwZFyHo6UhSMl\n",
       "OFKCIyU4UoIjJThSPouQsnCkBEdKcKQER0pwpARHSnCkXBMkZeFICY6U4EgJjpTgSAmO1CRHSW6k\n",
       "BEdKcKQER0pwpARHSnCkHE8iZeFICY6U4EgJjpTgSAmOlOBIea6LlIUjJThSgiMlOFKCIyU4UjvO\n",
       "JxGycKQER0pwpARHSnCkBEdKcKQcTyJl4UgJjpTgSAmOlOBICY6U15NIWThSgiMlOFKCIyU4UoIj\n",
       "JThSjieRsnCkBEdKcKQER0pwpARHSnCkJjlKciMlOFKCIyU4UoIjJThSrgmSsnCkBEdKcKQER0pw\n",
       "pARHSnCkXBMkZeFICY6U4EgJjpTgSAmOlONJpCwcKcGREhwpwZESHCnBkRIcKceTSFk4UoIjJThS\n",
       "giMlOFKCIyU4Ur7DkbJwpARHSnCkBEdKcKQER2pHcoTkRkpwpARHSnCkBEdKcKQER2qf97oIWThS\n",
       "giMlOFKCIyU4UoIj5RVzUhaOlOBICY6U4EgJjpTgSAmOlNeTSFk4UoIjJThSgiMlOFKCI+V4EikL\n",
       "R0pwpARHSnCkBEdKcKQER8rxJFIWjpTgSAmOlOBICY6U4EgJjpTvcKQsHCnBkRIcKcGREhwpwZHa\n",
       "kRwhuZESHCnBkRIcKcGREhwpwZFyPImUhSMlOFKCIyU4UoIjJThSXjEnZeFICY6U4EgJjpTgSAmO\n",
       "lOBIOZ5EysKREhwpwZESHCnBkRIcKcGR8h2OlIUjJThSgiMlOFKCIyU4Uq4JkrJwpARHSnCkBEdK\n",
       "cKQER0pwpPb5EEfIwpESHCnBkRIcKcGREhypHckRkhspwZESHCnBkRIcKcGREhwpryeRsnCkBEdK\n",
       "cKQER0pwpARHSnCkfIcjZeFICY6U4EgJjpTgSAmOlFfMSVk4UoIjJThSgiMlOFKCIyU4Uo4nkbJw\n",
       "pARHSnCkBEdKcKQER8pnEVIWjpTgSAmOlOBICY6U4EgJjpRrgqQsHCnBkRIcKcGREhwpwZGa5CjJ\n",
       "jZTgSAmOlOBICY6U4EgJjpTjSaQsHCnBkRIcKcGREhwpwZESHCnPdZGycKQER0pwpARHSnCkBEfK\n",
       "ZxFSFo6U4EgJjpTgSAmOlOBICY7UjnuChCwcKcGREhwpwZESHCnBkXI8iZSFIyU4UoIjJThSgiMl\n",
       "OFKCI+U7HCkLR0pwpARHSnCkBEdKcKQER2pHcoTkRkpwpARHSnCkBEdKcKQcTyJl4UgJjpTgSAmO\n",
       "lOBICY6U4Ej5DkfKwpESHCnBkRIcKcGREhyp+W83ShaOlOBICY6U4EgJjpTgSAmOlONJpCwcKcGR\n",
       "EhwpwZESHCnBkRIcKd/hSFk4UoIjJThSgiMlOFKCI+WaICkLR0pwpARHSnCkBEdKcKQER2qSoyQ3\n",
       "UoIjJThSgiMlOFKCI+XWFikLR0pwpARHSnCkBEdKcKQER8o1QVIWjpTgSAmOlOBICY6U4EgJjpTz\n",
       "cKQsHCnBkRIcKcGREhwpwZHyWYSUhSMlOFKCIyU4UoIjJThSgiPlOxwpC0dKcKQER0pwpARHSnCk\n",
       "fBYhZeFICY6U4EgJjpTgSAmOlOBI7Tvvp38Dv4iFIyU4UoIjJThSgiMlOFKCIyU4UoIjJThSgiMl\n",
       "OFKCIyU4Uq4JkrJwpARHSnCkBEdKcKQER0pwpFwTJGXhSAmOlOBICY6U4EgJjtS+z2cROhaOlOBI\n",
       "CY6U4EgJjpTgSAmOlGuCpCwcKcGREhwpwZESHCnBkdpzPImQhSMlOFKCIyU4UoIjJThSgiPlmiAp\n",
       "C0dKcKQER0pwpARHSnCkBEdqzyvmhCwcKcGREhwpwZESHCnBkXJNkJSFIyU4UoIjJThSgiMlOFKC\n",
       "I7X3fIejY+FICY6U4EgJjpTgSAmO1L7v/vRv4BexcKQER0pwpARHSnCkBEdKcKRcEyRl4UgJjpTg\n",
       "SAmOlOBICY6U4Ej5DkfKwpESHCnBkRIcKcGREhyp3eeaIB0LR0pwpARHSnCkBEdKcKQER8rxJFIW\n",
       "jpTgSAmOlOBICY6U4EjtOZ5EyMKREhwpwZESHCnBkRIcKcGR2vNvgoQsHCnBkRIcKcGREhwpwZHa\n",
       "e25t0bFwpARHSnCkBEdKcKQER0pwpHYdTyJk4UgJjpTgSAmOlOBICY6U4Eh5rouUhSMlOFKCIyU4\n",
       "UoIjJThSrgmSsnCkBEdKcKQER0pwpARHSnCkvGJOysKREhwpwZESHCnBkRIcqV23tghZOFKCIyU4\n",
       "UoIjJThSgiMlOFKuCZKycKQER0pwpARHSnCkBEdKcKRcEyRl4UgJjpTgSAmOlOBICY6Ua4KkLBwp\n",
       "wZESHCnBkRIcKcGREhwp1wRJWThSgiMlOFKCIyU4UoIj5dYWKQtHSnCkBEdKcKQER0pwpARHyjVB\n",
       "UhaOlOBICY6U4EgJjpTgSAmO1J7vcIQsHCnBkRIcKcGREhwpwZHa+7yeRMfCkRIcKcGREhwpwZES\n",
       "HCnBkXI8iZSFIyU4UoIjJThSgiMlOFJeTyJl4UgJjpTgSAmOlOBICY6U4Ei5JkjKwpESHCnBkRIc\n",
       "KcGREhwpwZFyTZCUhSMlOFKCIyU4UoIjJThSrgmSsnCkBEdKcKQER0pwpARHSnCk9p5rgnQsHCnB\n",
       "kRIcKcGREhwpwZHa+xxPomPhSAmOlOBICY6U4EgJjpTgSLkmSMrCkRIcKcGREhwpwZESHCm3tkhZ\n",
       "OFKCIyU4UoIjJThSgiMlOFKuCZKycKQER0pwpARHSnCkBEdKcKRcEyRl4UgJjpTgSAmOlOBICY6U\n",
       "a4KkLBwpwZESHCnBkRIcKcGREhwp1wRJWThSgiMlOFKCIyU4UoIj5dYWKQtHSnCkBEdKcKQER0pw\n",
       "pARHyjVBUhaOlOBICY6U4EgJjpTgSAmOlGuCpCwcKcGREhwpwZESHCnBkXJNkJSFIyU4UoIjJThS\n",
       "giMlOFKCI+WaICkLR0pwpARHSnCkBEdKcKT2HE8iZOFICY6U4EgJjpTgSAmOlOBI7Xo9iZCFIyU4\n",
       "UoIjJThSgiMlOFKCI+WaICkLR0pwpARHSnCkBEdKcKRcEyRl4UgJjpTgSAmOlOBICY6U4Ei5JkjK\n",
       "wpESHCnBkRIcKcGREhwpt7ZIWThSgiMlOFKCIyU4UoIjJThSrgmSsnCkBEdKcKQER0pwpARHyq0t\n",
       "UhaOlOBICY6U4EgJjpTgSAmOlGuCpCwcKcGREhwpwZESHCnBkRIcKdcESVk4UoIjJThSgiMlOFKC\n",
       "I7XreBIhC0dKcKQER0pwpARHSnCkBEdqz3NdhCwcKcGREhwpwZESHCnBkXJri5SFIyU4UoIjJThS\n",
       "giMlOFKCI+WaICkLR0pwpARHSnCkBEdKcKQER8o1QVIWjpTgSAmOlOBICY6U4Ei5JkjKwpESHCnB\n",
       "kRIcKcGREhwpwZFyTZCUhSMlOFKCIyU4UoIjJThSbm2RsnCkBEdKcKQER0pwpARHSnCkXBMkZeFI\n",
       "CY6U4EgJjpTgSAmOlOBIuSZIysKREhwpwZESHCnBkRIcKdcESVk4UoIjJThSgiMlOFKCIyU4Uq4J\n",
       "krJwpARHSnCkBEdKcKQER8qtLVIWjpTgSAmOlOBICY6U4EgJjpTjSaQsHCnBkRIcKcGREhwpwZES\n",
       "HKm9z3k4OhaOlOBICY6U4EgJjpTgSO06nkTIwpESHCnBkRIcKcGREhwpwZFyTZCUhSMlOFKCIyU4\n",
       "UoIjJThSu25tEbJwpARHSnCkBEdKcKQER0pwpBxPImXhSAmOlOBICY6U4EgJjpTPIqQsHCnBkRIc\n",
       "KcGREhwpwZESHCnXBElZOFKCIyU4UoIjJThSgiMlOFLOw5GycKQER0pwpARHSnCkBEdq12cRQhaO\n",
       "lOBICY6U4EgJjpTgSAmO1N5zTZCOhSMlOFKCIyU4UoIjJThSe5/jSXQsHCnBkRIcKcGREhwpwZES\n",
       "HKldx5MIWThSgiMlOFKCIyU4UoIjJThSXjEnZeFICY6U4EgJjpTgSAmOlGuCpCwcKcGREhwpwZES\n",
       "HCnBkRIcKdcESVk4UoIjJThSgiMlOFKCI+XWFikLR0pwpARHSnCkBEdKcKQER2rXdzhCFo6U4EgJ\n",
       "jpTgSAmOlOBICY7U3ueaIB0LR0pwpARHSnCkBEdKcKQcTyJl4UgJjpTgSAmOlOBICY6U4Eh5rouU\n",
       "hSMlOFKCIyU4UoIjJThSbm2RsnCkBEdKcKQER0pwpARHSnCkXBMkZeFICY6U4EgJjpTgSAmOlFtb\n",
       "pCwcKcGREhwpwZESHCnBkRIcqV3XBAlZOFKCIyU4UoIjJThSgiMlOFLOw5GycKQER0pwpARHSnCk\n",
       "BEfK60mkLBwpwZESHCnBkRIcKcGREhypveeaIB0LR0pwpARHSnCkBEdKcKR2P8eT6Fg4UoIjJThS\n",
       "giMlOFKCIyU4Ul5PImXhSAmOlOBICY6U4EgJjpTgSO26JkjIwpESHCnBkRIcKcGREhypPdcECVk4\n",
       "UoIjJThSgiMlOFKCIyU4Uv5NkJSFIyU4UoIjJThSgiMlOFL+3I2UhSMlOFKCIyU4UoIjJThSgiPl\n",
       "eBIpC0dKcKQER0pwpARHSnCkBEfKc12kLBwpwZESHCnBkRIcKcGR8udupCwcKcGREhwpwZESHCnB\n",
       "kRIcqT3XBAlZOFKCIyU4UoIjJThSgiO169YWIQtHSnCkBEdKcKQER0pwpARHyvEkUhaOlOBICY6U\n",
       "4EgJjpTgSAmOlOe6SFk4UoIjJThSgiMlOFKCI+XP3UhZOFKCIyU4UoIjJThSgiMlOFK7rgkSsnCk\n",
       "BEdKcKQER0pwpARHymcRUhaOlOBICY6U4EgJjpTgSAmOlFfMSVk4UoIjJThSgiMlOFKCI7Xr9SRC\n",
       "Fo6U4EgJjpTgSAmOlOBICY6UP3cjZeFICY6U4EgJjpTgSAmOlOBIuSZIysKREhwpwZESHCnBkRIc\n",
       "KdcESVk4UoIjJThSgiMlOFKCIyU4Uv5NkJSFIyU4UoIjJThSgiMlOFJubZGycKQER0pwpARHSnCk\n",
       "BEdKcKQcTyJl4UgJjpTgSAmOlOBICY6U4Ejtfn9/+jfwi1g4UoIjJThSgiMlOFKCI+V4EikLR0pw\n",
       "pARHSnCkBEdKcKQER8pzXaQsHCnBkRIcKcGREhwpwZHa/XwWoWPhSAmOlOBICY6U4EgJjpTgSO0+\n",
       "ryfRsXCkBEdKcKQER0pwpARHSnCkPNdFysKREhwpwZESHCnBkRIcKceTSFk4UoIjJThSgiMlOFKC\n",
       "IyU4Uruf73B0LBwpwZESHCnBkRIcKcGRcjyJlIUjJThSgiMlOFKCIyU4UoIj5TscKQtHSnCkBEdK\n",
       "cKQER0pwpP4HOvdrFLvYkYEAAAAASUVORK5CYII=\n",
       "\" transform=\"translate(1270, 624)\"/>\n",
       "</g>\n",
       "<path clip-path=\"url(#clip260)\" d=\"M1504.09 2564.3 L1533.77 2564.3 L1533.77 2568.24 L1504.09 2568.24 L1504.09 2564.3 Z\" fill=\"#000000\" fill-rule=\"evenodd\" fill-opacity=\"1\" /><path clip-path=\"url(#clip260)\" d=\"M1544.67 2577.19 L1552.31 2577.19 L1552.31 2550.83 L1544 2552.5 L1544 2548.24 L1552.26 2546.57 L1556.94 2546.57 L1556.94 2577.19 L1564.58 2577.19 L1564.58 2581.13 L1544.67 2581.13 L1544.67 2577.19 Z\" fill=\"#000000\" fill-rule=\"evenodd\" fill-opacity=\"1\" /><path clip-path=\"url(#clip260)\" d=\"M1574.02 2575.25 L1578.9 2575.25 L1578.9 2581.13 L1574.02 2581.13 L1574.02 2575.25 Z\" fill=\"#000000\" fill-rule=\"evenodd\" fill-opacity=\"1\" /><path clip-path=\"url(#clip260)\" d=\"M1599.09 2549.65 Q1595.48 2549.65 1593.65 2553.21 Q1591.84 2556.75 1591.84 2563.88 Q1591.84 2570.99 1593.65 2574.56 Q1595.48 2578.1 1599.09 2578.1 Q1602.72 2578.1 1604.53 2574.56 Q1606.36 2570.99 1606.36 2563.88 Q1606.36 2556.75 1604.53 2553.21 Q1602.72 2549.65 1599.09 2549.65 M1599.09 2545.94 Q1604.9 2545.94 1607.95 2550.55 Q1611.03 2555.13 1611.03 2563.88 Q1611.03 2572.61 1607.95 2577.22 Q1604.9 2581.8 1599.09 2581.8 Q1593.28 2581.8 1590.2 2577.22 Q1587.14 2572.61 1587.14 2563.88 Q1587.14 2555.13 1590.2 2550.55 Q1593.28 2545.94 1599.09 2545.94 Z\" fill=\"#000000\" fill-rule=\"evenodd\" fill-opacity=\"1\" /><path clip-path=\"url(#clip260)\" d=\"M1629.25 2549.65 Q1625.64 2549.65 1623.81 2553.21 Q1622.01 2556.75 1622.01 2563.88 Q1622.01 2570.99 1623.81 2574.56 Q1625.64 2578.1 1629.25 2578.1 Q1632.88 2578.1 1634.69 2574.56 Q1636.52 2570.99 1636.52 2563.88 Q1636.52 2556.75 1634.69 2553.21 Q1632.88 2549.65 1629.25 2549.65 M1629.25 2545.94 Q1635.06 2545.94 1638.12 2550.55 Q1641.19 2555.13 1641.19 2563.88 Q1641.19 2572.61 1638.12 2577.22 Q1635.06 2581.8 1629.25 2581.8 Q1623.44 2581.8 1620.36 2577.22 Q1617.31 2572.61 1617.31 2563.88 Q1617.31 2555.13 1620.36 2550.55 Q1623.44 2545.94 1629.25 2545.94 Z\" fill=\"#000000\" fill-rule=\"evenodd\" fill-opacity=\"1\" /><path clip-path=\"url(#clip260)\" d=\"M1504.09 2321.42 L1533.77 2321.42 L1533.77 2325.36 L1504.09 2325.36 L1504.09 2321.42 Z\" fill=\"#000000\" fill-rule=\"evenodd\" fill-opacity=\"1\" /><path clip-path=\"url(#clip260)\" d=\"M1553.86 2306.77 Q1550.25 2306.77 1548.42 2310.33 Q1546.61 2313.88 1546.61 2321.01 Q1546.61 2328.11 1548.42 2331.68 Q1550.25 2335.22 1553.86 2335.22 Q1557.49 2335.22 1559.3 2331.68 Q1561.13 2328.11 1561.13 2321.01 Q1561.13 2313.88 1559.3 2310.33 Q1557.49 2306.77 1553.86 2306.77 M1553.86 2303.07 Q1559.67 2303.07 1562.72 2307.67 Q1565.8 2312.26 1565.8 2321.01 Q1565.8 2329.73 1562.72 2334.34 Q1559.67 2338.92 1553.86 2338.92 Q1548.05 2338.92 1544.97 2334.34 Q1541.91 2329.73 1541.91 2321.01 Q1541.91 2312.26 1544.97 2307.67 Q1548.05 2303.07 1553.86 2303.07 Z\" fill=\"#000000\" fill-rule=\"evenodd\" fill-opacity=\"1\" /><path clip-path=\"url(#clip260)\" d=\"M1574.02 2332.37 L1578.9 2332.37 L1578.9 2338.25 L1574.02 2338.25 L1574.02 2332.37 Z\" fill=\"#000000\" fill-rule=\"evenodd\" fill-opacity=\"1\" /><path clip-path=\"url(#clip260)\" d=\"M1587.91 2303.69 L1610.13 2303.69 L1610.13 2305.68 L1597.58 2338.25 L1592.7 2338.25 L1604.51 2307.63 L1587.91 2307.63 L1587.91 2303.69 Z\" fill=\"#000000\" fill-rule=\"evenodd\" fill-opacity=\"1\" /><path clip-path=\"url(#clip260)\" d=\"M1619.3 2303.69 L1637.65 2303.69 L1637.65 2307.63 L1623.58 2307.63 L1623.58 2316.1 Q1624.6 2315.75 1625.62 2315.59 Q1626.63 2315.4 1627.65 2315.4 Q1633.44 2315.4 1636.82 2318.57 Q1640.2 2321.75 1640.2 2327.16 Q1640.2 2332.74 1636.73 2335.84 Q1633.26 2338.92 1626.94 2338.92 Q1624.76 2338.92 1622.49 2338.55 Q1620.25 2338.18 1617.84 2337.44 L1617.84 2332.74 Q1619.92 2333.88 1622.14 2334.43 Q1624.37 2334.99 1626.84 2334.99 Q1630.85 2334.99 1633.19 2332.88 Q1635.52 2330.77 1635.52 2327.16 Q1635.52 2323.55 1633.19 2321.45 Q1630.85 2319.34 1626.84 2319.34 Q1624.97 2319.34 1623.09 2319.76 Q1621.24 2320.17 1619.3 2321.05 L1619.3 2303.69 Z\" fill=\"#000000\" fill-rule=\"evenodd\" fill-opacity=\"1\" /><path clip-path=\"url(#clip260)\" d=\"M1504.09 2078.54 L1533.77 2078.54 L1533.77 2082.48 L1504.09 2082.48 L1504.09 2078.54 Z\" fill=\"#000000\" fill-rule=\"evenodd\" fill-opacity=\"1\" /><path clip-path=\"url(#clip260)\" d=\"M1553.86 2063.89 Q1550.25 2063.89 1548.42 2067.46 Q1546.61 2071 1546.61 2078.13 Q1546.61 2085.23 1548.42 2088.8 Q1550.25 2092.34 1553.86 2092.34 Q1557.49 2092.34 1559.3 2088.8 Q1561.13 2085.23 1561.13 2078.13 Q1561.13 2071 1559.3 2067.46 Q1557.49 2063.89 1553.86 2063.89 M1553.86 2060.19 Q1559.67 2060.19 1562.72 2064.79 Q1565.8 2069.38 1565.8 2078.13 Q1565.8 2086.85 1562.72 2091.46 Q1559.67 2096.04 1553.86 2096.04 Q1548.05 2096.04 1544.97 2091.46 Q1541.91 2086.85 1541.91 2078.13 Q1541.91 2069.38 1544.97 2064.79 Q1548.05 2060.19 1553.86 2060.19 Z\" fill=\"#000000\" fill-rule=\"evenodd\" fill-opacity=\"1\" /><path clip-path=\"url(#clip260)\" d=\"M1574.02 2089.49 L1578.9 2089.49 L1578.9 2095.37 L1574.02 2095.37 L1574.02 2089.49 Z\" fill=\"#000000\" fill-rule=\"evenodd\" fill-opacity=\"1\" /><path clip-path=\"url(#clip260)\" d=\"M1589.14 2060.81 L1607.49 2060.81 L1607.49 2064.75 L1593.42 2064.75 L1593.42 2073.22 Q1594.44 2072.87 1595.45 2072.71 Q1596.47 2072.52 1597.49 2072.52 Q1603.28 2072.52 1606.66 2075.7 Q1610.04 2078.87 1610.04 2084.28 Q1610.04 2089.86 1606.57 2092.96 Q1603.09 2096.04 1596.77 2096.04 Q1594.6 2096.04 1592.33 2095.67 Q1590.08 2095.3 1587.68 2094.56 L1587.68 2089.86 Q1589.76 2091 1591.98 2091.55 Q1594.2 2092.11 1596.68 2092.11 Q1600.69 2092.11 1603.02 2090 Q1605.36 2087.9 1605.36 2084.28 Q1605.36 2080.67 1603.02 2078.57 Q1600.69 2076.46 1596.68 2076.46 Q1594.81 2076.46 1592.93 2076.88 Q1591.08 2077.29 1589.14 2078.17 L1589.14 2060.81 Z\" fill=\"#000000\" fill-rule=\"evenodd\" fill-opacity=\"1\" /><path clip-path=\"url(#clip260)\" d=\"M1629.25 2063.89 Q1625.64 2063.89 1623.81 2067.46 Q1622.01 2071 1622.01 2078.13 Q1622.01 2085.23 1623.81 2088.8 Q1625.64 2092.34 1629.25 2092.34 Q1632.88 2092.34 1634.69 2088.8 Q1636.52 2085.23 1636.52 2078.13 Q1636.52 2071 1634.69 2067.46 Q1632.88 2063.89 1629.25 2063.89 M1629.25 2060.19 Q1635.06 2060.19 1638.12 2064.79 Q1641.19 2069.38 1641.19 2078.13 Q1641.19 2086.85 1638.12 2091.46 Q1635.06 2096.04 1629.25 2096.04 Q1623.44 2096.04 1620.36 2091.46 Q1617.31 2086.85 1617.31 2078.13 Q1617.31 2069.38 1620.36 2064.79 Q1623.44 2060.19 1629.25 2060.19 Z\" fill=\"#000000\" fill-rule=\"evenodd\" fill-opacity=\"1\" /><path clip-path=\"url(#clip260)\" d=\"M1504.09 1835.66 L1533.77 1835.66 L1533.77 1839.6 L1504.09 1839.6 L1504.09 1835.66 Z\" fill=\"#000000\" fill-rule=\"evenodd\" fill-opacity=\"1\" /><path clip-path=\"url(#clip260)\" d=\"M1553.86 1821.01 Q1550.25 1821.01 1548.42 1824.58 Q1546.61 1828.12 1546.61 1835.25 Q1546.61 1842.35 1548.42 1845.92 Q1550.25 1849.46 1553.86 1849.46 Q1557.49 1849.46 1559.3 1845.92 Q1561.13 1842.35 1561.13 1835.25 Q1561.13 1828.12 1559.3 1824.58 Q1557.49 1821.01 1553.86 1821.01 M1553.86 1817.31 Q1559.67 1817.31 1562.72 1821.91 Q1565.8 1826.5 1565.8 1835.25 Q1565.8 1843.97 1562.72 1848.58 Q1559.67 1853.16 1553.86 1853.16 Q1548.05 1853.16 1544.97 1848.58 Q1541.91 1843.97 1541.91 1835.25 Q1541.91 1826.5 1544.97 1821.91 Q1548.05 1817.31 1553.86 1817.31 Z\" fill=\"#000000\" fill-rule=\"evenodd\" fill-opacity=\"1\" /><path clip-path=\"url(#clip260)\" d=\"M1574.02 1846.61 L1578.9 1846.61 L1578.9 1852.49 L1574.02 1852.49 L1574.02 1846.61 Z\" fill=\"#000000\" fill-rule=\"evenodd\" fill-opacity=\"1\" /><path clip-path=\"url(#clip260)\" d=\"M1593.12 1848.56 L1609.44 1848.56 L1609.44 1852.49 L1587.49 1852.49 L1587.49 1848.56 Q1590.15 1845.8 1594.74 1841.17 Q1599.34 1836.52 1600.52 1835.18 Q1602.77 1832.66 1603.65 1830.92 Q1604.55 1829.16 1604.55 1827.47 Q1604.55 1824.72 1602.61 1822.98 Q1600.69 1821.24 1597.58 1821.24 Q1595.39 1821.24 1592.93 1822.01 Q1590.5 1822.77 1587.72 1824.32 L1587.72 1819.6 Q1590.55 1818.47 1593 1817.89 Q1595.45 1817.31 1597.49 1817.31 Q1602.86 1817.31 1606.06 1819.99 Q1609.25 1822.68 1609.25 1827.17 Q1609.25 1829.3 1608.44 1831.22 Q1607.65 1833.12 1605.55 1835.71 Q1604.97 1836.38 1601.87 1839.6 Q1598.76 1842.79 1593.12 1848.56 Z\" fill=\"#000000\" fill-rule=\"evenodd\" fill-opacity=\"1\" /><path clip-path=\"url(#clip260)\" d=\"M1619.3 1817.93 L1637.65 1817.93 L1637.65 1821.87 L1623.58 1821.87 L1623.58 1830.34 Q1624.6 1829.99 1625.62 1829.83 Q1626.63 1829.65 1627.65 1829.65 Q1633.44 1829.65 1636.82 1832.82 Q1640.2 1835.99 1640.2 1841.41 Q1640.2 1846.98 1636.73 1850.09 Q1633.26 1853.16 1626.94 1853.16 Q1624.76 1853.16 1622.49 1852.79 Q1620.25 1852.42 1617.84 1851.68 L1617.84 1846.98 Q1619.92 1848.12 1622.14 1848.67 Q1624.37 1849.23 1626.84 1849.23 Q1630.85 1849.23 1633.19 1847.12 Q1635.52 1845.02 1635.52 1841.41 Q1635.52 1837.79 1633.19 1835.69 Q1630.85 1833.58 1626.84 1833.58 Q1624.97 1833.58 1623.09 1834 Q1621.24 1834.41 1619.3 1835.29 L1619.3 1817.93 Z\" fill=\"#000000\" fill-rule=\"evenodd\" fill-opacity=\"1\" /><path clip-path=\"url(#clip260)\" d=\"M1516.03 1578.13 Q1512.42 1578.13 1510.59 1581.7 Q1508.79 1585.24 1508.79 1592.37 Q1508.79 1599.48 1510.59 1603.04 Q1512.42 1606.58 1516.03 1606.58 Q1519.67 1606.58 1521.47 1603.04 Q1523.3 1599.48 1523.3 1592.37 Q1523.3 1585.24 1521.47 1581.7 Q1519.67 1578.13 1516.03 1578.13 M1516.03 1574.43 Q1521.84 1574.43 1524.9 1579.04 Q1527.98 1583.62 1527.98 1592.37 Q1527.98 1601.1 1524.9 1605.7 Q1521.84 1610.29 1516.03 1610.29 Q1510.22 1610.29 1507.14 1605.7 Q1504.09 1601.1 1504.09 1592.37 Q1504.09 1583.62 1507.14 1579.04 Q1510.22 1574.43 1516.03 1574.43 Z\" fill=\"#000000\" fill-rule=\"evenodd\" fill-opacity=\"1\" /><path clip-path=\"url(#clip260)\" d=\"M1516.03 1335.25 Q1512.42 1335.25 1510.59 1338.82 Q1508.79 1342.36 1508.79 1349.49 Q1508.79 1356.6 1510.59 1360.16 Q1512.42 1363.7 1516.03 1363.7 Q1519.67 1363.7 1521.47 1360.16 Q1523.3 1356.6 1523.3 1349.49 Q1523.3 1342.36 1521.47 1338.82 Q1519.67 1335.25 1516.03 1335.25 M1516.03 1331.55 Q1521.84 1331.55 1524.9 1336.16 Q1527.98 1340.74 1527.98 1349.49 Q1527.98 1358.22 1524.9 1362.82 Q1521.84 1367.41 1516.03 1367.41 Q1510.22 1367.41 1507.14 1362.82 Q1504.09 1358.22 1504.09 1349.49 Q1504.09 1340.74 1507.14 1336.16 Q1510.22 1331.55 1516.03 1331.55 Z\" fill=\"#000000\" fill-rule=\"evenodd\" fill-opacity=\"1\" /><path clip-path=\"url(#clip260)\" d=\"M1536.2 1360.86 L1541.08 1360.86 L1541.08 1366.74 L1536.2 1366.74 L1536.2 1360.86 Z\" fill=\"#000000\" fill-rule=\"evenodd\" fill-opacity=\"1\" /><path clip-path=\"url(#clip260)\" d=\"M1555.29 1362.8 L1571.61 1362.8 L1571.61 1366.74 L1549.67 1366.74 L1549.67 1362.8 Q1552.33 1360.05 1556.91 1355.42 Q1561.52 1350.76 1562.7 1349.42 Q1564.95 1346.9 1565.83 1345.16 Q1566.73 1343.4 1566.73 1341.71 Q1566.73 1338.96 1564.78 1337.22 Q1562.86 1335.49 1559.76 1335.49 Q1557.56 1335.49 1555.11 1336.25 Q1552.68 1337.01 1549.9 1338.56 L1549.9 1333.84 Q1552.72 1332.71 1555.18 1332.13 Q1557.63 1331.55 1559.67 1331.55 Q1565.04 1331.55 1568.23 1334.24 Q1571.43 1336.92 1571.43 1341.41 Q1571.43 1343.54 1570.62 1345.46 Q1569.83 1347.36 1567.72 1349.95 Q1567.14 1350.62 1564.04 1353.84 Q1560.94 1357.04 1555.29 1362.8 Z\" fill=\"#000000\" fill-rule=\"evenodd\" fill-opacity=\"1\" /><path clip-path=\"url(#clip260)\" d=\"M1581.47 1332.18 L1599.83 1332.18 L1599.83 1336.11 L1585.76 1336.11 L1585.76 1344.58 Q1586.77 1344.24 1587.79 1344.07 Q1588.81 1343.89 1589.83 1343.89 Q1595.62 1343.89 1599 1347.06 Q1602.38 1350.23 1602.38 1355.65 Q1602.38 1361.23 1598.9 1364.33 Q1595.43 1367.41 1589.11 1367.41 Q1586.94 1367.41 1584.67 1367.04 Q1582.42 1366.67 1580.01 1365.93 L1580.01 1361.23 Q1582.1 1362.36 1584.32 1362.92 Q1586.54 1363.47 1589.02 1363.47 Q1593.02 1363.47 1595.36 1361.37 Q1597.7 1359.26 1597.7 1355.65 Q1597.7 1352.04 1595.36 1349.93 Q1593.02 1347.82 1589.02 1347.82 Q1587.14 1347.82 1585.27 1348.24 Q1583.42 1348.66 1581.47 1349.54 L1581.47 1332.18 Z\" fill=\"#000000\" fill-rule=\"evenodd\" fill-opacity=\"1\" /><path clip-path=\"url(#clip260)\" d=\"M1516.03 1092.38 Q1512.42 1092.38 1510.59 1095.94 Q1508.79 1099.48 1508.79 1106.61 Q1508.79 1113.72 1510.59 1117.28 Q1512.42 1120.82 1516.03 1120.82 Q1519.67 1120.82 1521.47 1117.28 Q1523.3 1113.72 1523.3 1106.61 Q1523.3 1099.48 1521.47 1095.94 Q1519.67 1092.38 1516.03 1092.38 M1516.03 1088.67 Q1521.84 1088.67 1524.9 1093.28 Q1527.98 1097.86 1527.98 1106.61 Q1527.98 1115.34 1524.9 1119.94 Q1521.84 1124.53 1516.03 1124.53 Q1510.22 1124.53 1507.14 1119.94 Q1504.09 1115.34 1504.09 1106.61 Q1504.09 1097.86 1507.14 1093.28 Q1510.22 1088.67 1516.03 1088.67 Z\" fill=\"#000000\" fill-rule=\"evenodd\" fill-opacity=\"1\" /><path clip-path=\"url(#clip260)\" d=\"M1536.2 1117.98 L1541.08 1117.98 L1541.08 1123.86 L1536.2 1123.86 L1536.2 1117.98 Z\" fill=\"#000000\" fill-rule=\"evenodd\" fill-opacity=\"1\" /><path clip-path=\"url(#clip260)\" d=\"M1551.31 1089.3 L1569.67 1089.3 L1569.67 1093.23 L1555.59 1093.23 L1555.59 1101.7 Q1556.61 1101.36 1557.63 1101.19 Q1558.65 1101.01 1559.67 1101.01 Q1565.45 1101.01 1568.83 1104.18 Q1572.21 1107.35 1572.21 1112.77 Q1572.21 1118.35 1568.74 1121.45 Q1565.27 1124.53 1558.95 1124.53 Q1556.77 1124.53 1554.51 1124.16 Q1552.26 1123.79 1549.85 1123.05 L1549.85 1118.35 Q1551.94 1119.48 1554.16 1120.04 Q1556.38 1120.59 1558.86 1120.59 Q1562.86 1120.59 1565.2 1118.49 Q1567.54 1116.38 1567.54 1112.77 Q1567.54 1109.16 1565.2 1107.05 Q1562.86 1104.94 1558.86 1104.94 Q1556.98 1104.94 1555.11 1105.36 Q1553.26 1105.78 1551.31 1106.66 L1551.31 1089.3 Z\" fill=\"#000000\" fill-rule=\"evenodd\" fill-opacity=\"1\" /><path clip-path=\"url(#clip260)\" d=\"M1591.43 1092.38 Q1587.82 1092.38 1585.99 1095.94 Q1584.18 1099.48 1584.18 1106.61 Q1584.18 1113.72 1585.99 1117.28 Q1587.82 1120.82 1591.43 1120.82 Q1595.06 1120.82 1596.87 1117.28 Q1598.7 1113.72 1598.7 1106.61 Q1598.7 1099.48 1596.87 1095.94 Q1595.06 1092.38 1591.43 1092.38 M1591.43 1088.67 Q1597.24 1088.67 1600.29 1093.28 Q1603.37 1097.86 1603.37 1106.61 Q1603.37 1115.34 1600.29 1119.94 Q1597.24 1124.53 1591.43 1124.53 Q1585.62 1124.53 1582.54 1119.94 Q1579.48 1115.34 1579.48 1106.61 Q1579.48 1097.86 1582.54 1093.28 Q1585.62 1088.67 1591.43 1088.67 Z\" fill=\"#000000\" fill-rule=\"evenodd\" fill-opacity=\"1\" /><path clip-path=\"url(#clip260)\" d=\"M1516.03 849.496 Q1512.42 849.496 1510.59 853.061 Q1508.79 856.603 1508.79 863.733 Q1508.79 870.839 1510.59 874.404 Q1512.42 877.945 1516.03 877.945 Q1519.67 877.945 1521.47 874.404 Q1523.3 870.839 1523.3 863.733 Q1523.3 856.603 1521.47 853.061 Q1519.67 849.496 1516.03 849.496 M1516.03 845.793 Q1521.84 845.793 1524.9 850.399 Q1527.98 854.983 1527.98 863.733 Q1527.98 872.459 1524.9 877.066 Q1521.84 881.649 1516.03 881.649 Q1510.22 881.649 1507.14 877.066 Q1504.09 872.459 1504.09 863.733 Q1504.09 854.983 1507.14 850.399 Q1510.22 845.793 1516.03 845.793 Z\" fill=\"#000000\" fill-rule=\"evenodd\" fill-opacity=\"1\" /><path clip-path=\"url(#clip260)\" d=\"M1536.2 875.098 L1541.08 875.098 L1541.08 880.978 L1536.2 880.978 L1536.2 875.098 Z\" fill=\"#000000\" fill-rule=\"evenodd\" fill-opacity=\"1\" /><path clip-path=\"url(#clip260)\" d=\"M1550.08 846.418 L1572.31 846.418 L1572.31 848.409 L1559.76 880.978 L1554.88 880.978 L1566.68 850.353 L1550.08 850.353 L1550.08 846.418 Z\" fill=\"#000000\" fill-rule=\"evenodd\" fill-opacity=\"1\" /><path clip-path=\"url(#clip260)\" d=\"M1581.47 846.418 L1599.83 846.418 L1599.83 850.353 L1585.76 850.353 L1585.76 858.825 Q1586.77 858.478 1587.79 858.316 Q1588.81 858.131 1589.83 858.131 Q1595.62 858.131 1599 861.302 Q1602.38 864.473 1602.38 869.89 Q1602.38 875.469 1598.9 878.57 Q1595.43 881.649 1589.11 881.649 Q1586.94 881.649 1584.67 881.279 Q1582.42 880.908 1580.01 880.168 L1580.01 875.469 Q1582.1 876.603 1584.32 877.158 Q1586.54 877.714 1589.02 877.714 Q1593.02 877.714 1595.36 875.607 Q1597.7 873.501 1597.7 869.89 Q1597.7 866.279 1595.36 864.172 Q1593.02 862.066 1589.02 862.066 Q1587.14 862.066 1585.27 862.483 Q1583.42 862.899 1581.47 863.779 L1581.47 846.418 Z\" fill=\"#000000\" fill-rule=\"evenodd\" fill-opacity=\"1\" /><path clip-path=\"url(#clip260)\" d=\"M1504.76 634.164 L1512.4 634.164 L1512.4 607.798 L1504.09 609.465 L1504.09 605.206 L1512.35 603.539 L1517.03 603.539 L1517.03 634.164 L1524.67 634.164 L1524.67 638.099 L1504.76 638.099 L1504.76 634.164 Z\" fill=\"#000000\" fill-rule=\"evenodd\" fill-opacity=\"1\" /><path clip-path=\"url(#clip260)\" d=\"M1534.11 632.219 L1539 632.219 L1539 638.099 L1534.11 638.099 L1534.11 632.219 Z\" fill=\"#000000\" fill-rule=\"evenodd\" fill-opacity=\"1\" /><path clip-path=\"url(#clip260)\" d=\"M1559.18 606.618 Q1555.57 606.618 1553.74 610.182 Q1551.94 613.724 1551.94 620.854 Q1551.94 627.96 1553.74 631.525 Q1555.57 635.067 1559.18 635.067 Q1562.82 635.067 1564.62 631.525 Q1566.45 627.96 1566.45 620.854 Q1566.45 613.724 1564.62 610.182 Q1562.82 606.618 1559.18 606.618 M1559.18 602.914 Q1564.99 602.914 1568.05 607.52 Q1571.13 612.104 1571.13 620.854 Q1571.13 629.581 1568.05 634.187 Q1564.99 638.77 1559.18 638.77 Q1553.37 638.77 1550.29 634.187 Q1547.24 629.581 1547.24 620.854 Q1547.24 612.104 1550.29 607.52 Q1553.37 602.914 1559.18 602.914 Z\" fill=\"#000000\" fill-rule=\"evenodd\" fill-opacity=\"1\" /><path clip-path=\"url(#clip260)\" d=\"M1589.34 606.618 Q1585.73 606.618 1583.9 610.182 Q1582.1 613.724 1582.1 620.854 Q1582.1 627.96 1583.9 631.525 Q1585.73 635.067 1589.34 635.067 Q1592.98 635.067 1594.78 631.525 Q1596.61 627.96 1596.61 620.854 Q1596.61 613.724 1594.78 610.182 Q1592.98 606.618 1589.34 606.618 M1589.34 602.914 Q1595.15 602.914 1598.21 607.52 Q1601.29 612.104 1601.29 620.854 Q1601.29 629.581 1598.21 634.187 Q1595.15 638.77 1589.34 638.77 Q1583.53 638.77 1580.45 634.187 Q1577.4 629.581 1577.4 620.854 Q1577.4 612.104 1580.45 607.52 Q1583.53 602.914 1589.34 602.914 Z\" fill=\"#000000\" fill-rule=\"evenodd\" fill-opacity=\"1\" /><polyline clip-path=\"url(#clip260)\" style=\"stroke:#000000; stroke-linecap:butt; stroke-linejoin:round; stroke-width:4; stroke-opacity:1; fill:none\" points=\"\n",
       "  1426.09,2567.48 1426.09,2567.48 1478.09,2567.48 1426.09,2567.48 1426.09,2324.6 1478.09,2324.6 1426.09,2324.6 1426.09,2081.72 1478.09,2081.72 1426.09,2081.72 \n",
       "  1426.09,1838.84 1478.09,1838.84 1426.09,1838.84 1426.09,1595.96 1478.09,1595.96 1426.09,1595.96 1426.09,1353.08 1478.09,1353.08 1426.09,1353.08 1426.09,1110.21 \n",
       "  1478.09,1110.21 1426.09,1110.21 1426.09,867.327 1478.09,867.327 1426.09,867.327 1426.09,624.448 1478.09,624.448 1426.09,624.448 \n",
       "  \"/>\n",
       "<path clip-path=\"url(#clip260)\" d=\"\n",
       "M1900.29 2567.48 L2899.42 2567.48 L2899.42 624.448 L1900.29 624.448  Z\n",
       "  \" fill=\"#ffffff\" fill-rule=\"evenodd\" fill-opacity=\"1\"/>\n",
       "<defs>\n",
       "  <clipPath id=\"clip264\">\n",
       "    <rect x=\"1900\" y=\"624\" width=\"1000\" height=\"1944\"/>\n",
       "  </clipPath>\n",
       "</defs>\n",
       "<path clip-path=\"url(#clip260)\" d=\"M2286.33 43.8146 L2260.53 43.8146 Q2261.13 55.9268 2263.93 61.0714 Q2267.41 67.3908 2273.45 67.3908 Q2279.53 67.3908 2282.89 61.0309 Q2285.84 55.4407 2286.33 43.8146 M2286.21 36.928 Q2285.08 25.4235 2282.89 21.3726 Q2279.4 14.9721 2273.45 14.9721 Q2267.25 14.9721 2263.97 21.2916 Q2261.38 26.3957 2260.61 36.928 L2286.21 36.928 M2273.45 8.89579 Q2283.17 8.89579 2288.72 17.4837 Q2294.27 26.0311 2294.27 41.1815 Q2294.27 56.2914 2288.72 64.8793 Q2283.17 73.5077 2273.45 73.5077 Q2263.69 73.5077 2258.18 64.8793 Q2252.63 56.2914 2252.63 41.1815 Q2252.63 26.0311 2258.18 17.4837 Q2263.69 8.89579 2273.45 8.89579 Z\" fill=\"#000000\" fill-rule=\"evenodd\" fill-opacity=\"1\" /><path clip-path=\"url(#clip260)\" d=\"M2333.97 34.9026 L2385.9 34.9026 L2385.9 41.7081 L2333.97 41.7081 L2333.97 34.9026 M2333.97 51.4303 L2385.9 51.4303 L2385.9 58.3168 L2333.97 58.3168 L2333.97 51.4303 Z\" fill=\"#000000\" fill-rule=\"evenodd\" fill-opacity=\"1\" /><path clip-path=\"url(#clip260)\" d=\"M2424.06 27.2059 L2467.53 27.2059 L2467.53 34.6595 L2461.82 34.6595 L2461.82 62.5298 Q2461.82 65.4464 2462.79 66.7427 Q2463.8 67.9985 2466.03 67.9985 Q2466.64 67.9985 2467.53 67.9175 Q2468.42 67.7959 2468.7 67.7554 L2468.7 73.1431 Q2467.28 73.6697 2465.79 73.9128 Q2464.29 74.1559 2462.79 74.1559 Q2457.93 74.1559 2456.06 71.5228 Q2454.2 68.8492 2454.2 61.7196 L2454.2 34.6595 L2437.47 34.6595 L2437.47 72.576 L2429.85 72.576 L2429.85 34.6595 L2424.06 34.6595 L2424.06 27.2059 Z\" fill=\"#000000\" fill-rule=\"evenodd\" fill-opacity=\"1\" /><path clip-path=\"url(#clip260)\" d=\"M2492.08 12.096 L2498.96 12.096 L2477.9 80.2727 L2471.01 80.2727 L2492.08 12.096 Z\" fill=\"#000000\" fill-rule=\"evenodd\" fill-opacity=\"1\" /><path clip-path=\"url(#clip260)\" d=\"M2530.32 19.2256 L2509.66 51.5113 L2530.32 51.5113 L2530.32 19.2256 M2528.17 12.096 L2538.46 12.096 L2538.46 51.5113 L2547.09 51.5113 L2547.09 58.3168 L2538.46 58.3168 L2538.46 72.576 L2530.32 72.576 L2530.32 58.3168 L2503.01 58.3168 L2503.01 50.4176 L2528.17 12.096 Z\" fill=\"#000000\" fill-rule=\"evenodd\" fill-opacity=\"1\" /><g clip-path=\"url(#clip264)\">\n",
       "<image width=\"999\" height=\"999\" xlink:href=\"data:image/png;base64,\n",
       "iVBORw0KGgoAAAANSUhEUgAAA+cAAAPnCAYAAABN/j28AAAYVElEQVR4nO3ZT26NYRyGYR+noprU\n",
       "hKkN2IKFsBCrEesgkViBRIwZkGDy5gyQIv33mTTxzUiauk97rmsFz/C939/04vGn+Rob49WjJ/UE\n",
       "AAAA/rPr9QAAAADYduIcAAAAYuIcAAAAYuIcAAAAYuIcAAAAYuIcAAAAYuIcAAAAYuIcAAAAYuIc\n",
       "AAAAYuIcAAAAYuIcAAAAYuIcAAAAYuIcAAAAYuIcAAAAYuIcAAAAYuIcAAAAYuIcAAAAYuIcAAAA\n",
       "YuIcAAAAYuIcAAAAYuIcAAAAYuIcAAAAYuIcAAAAYuIcAAAAYuIcAAAAYuIcAAAAYuIcAAAAYuIc\n",
       "AAAAYuIcAAAAYuIcAAAAYuIcAAAAYuIcAAAAYuIcAAAAYuIcAAAAYuIcAAAAYuIcAAAAYuIcAAAA\n",
       "YuIcAAAAYuIcAAAAYuIcAAAAYuIcAAAAYuIcAAAAYuIcAAAAYuIcAAAAYuIcAAAAYuIcAAAAYuIc\n",
       "AAAAYuIcAAAAYuIcAAAAYuIcAAAAYuIcAAAAYuIcAAAAYuIcAAAAYuIcAAAAYuIcAAAAYuIcAAAA\n",
       "YuIcAAAAYuIcAAAAYuIcAAAAYuIcAAAAYuIcAAAAYuIcAAAAYuIcAAAAYuIcAAAAYuIcAAAAYuIc\n",
       "AAAAYuIcAAAAYuIcAAAAYuIcAAAAYuIcAAAAYuIcAAAAYuIcAAAAYuIcAAAAYuIcAAAAYuIcAAAA\n",
       "YuIcAAAAYuIcAAAAYuIcAAAAYuIcAAAAYuIcAAAAYuIcAAAAYuIcAAAAYuIcAAAAYuIcAAAAYuIc\n",
       "AAAAYuIcAAAAYuIcAAAAYuIcAAAAYuIcAAAAYuIcAAAAYuIcAAAAYuIcAAAAYuIcAAAAYuIcAAAA\n",
       "YuIcAAAAYuIcAAAAYuIcAAAAYuIcAAAAYuIcAAAAYtMYY65H8MfHZ6f1BBbePHxaTwAAALaAyzkA\n",
       "AADExDkAAADExDkAAADExDkAAADExDkAAADExDkAAADExDkAAADExDkAAADExDkAAADExDkAAADE\n",
       "xDkAAADExDkAAADExDkAAADExDkAAADExDkAAADExDkAAADExDkAAADExDkAAADExDkAAADExDkA\n",
       "AADExDkAAADExDkAAADExDkAAADExDkAAADExDkAAADExDkAAADExDkAAADExDkAAADExDkAAADE\n",
       "xDkAAADExDkAAADExDkAAADExDkAAADExDkAAADExDkAAADExDkAAADExDkAAADExDkAAADExDkA\n",
       "AADExDkAAADExDkAAADExDkAAADExDkAAADExDkAAADExDkAAADExDkAAADExDkAAADExDkAAADE\n",
       "xDkAAADExDkAAADExDkAAADExDkAAADExDkAAADExDkAAADExDkAAADExDkAAADExDkAAADExDkA\n",
       "AADExDkAAADExDkAAADExDkAAADExDkAAADExDkAAADExDkAAADExDkAAADExDkAAADExDkAAADE\n",
       "xDkAAADExDkAAADExDkAAADExDkAAADExDkAAADExDkAAADExDkAAADExDkAAADExDkAAADExDkA\n",
       "AADExDkAAADExDkAAADExDkAAADExDkAAADExDkAAADExDkAAADExDkAAADExDkAAADExDkAAADE\n",
       "xDkAAADExDkAAADExDkAAADExDkAAADExDkAAADExDkAAADExDkAAADExDkAAADExDkAAADExDkA\n",
       "AADExDkAAADExDkAAADExDkAAADEpjHGXI+ATbV+OdUTWHj/4Hk9AQAALoTLOQAAAMTEOQAAAMTE\n",
       "OQAAAMTEOQAAAMTEOQAAAMTEOQAAAMTEOQAAAMTEOQAAAMTEOQAAAMTEOQAAAMTEOQAAAMTEOQAA\n",
       "AMTEOQAAAMTEOQAAAMTEOQAAAMTEOQAAAMTEOQAAAMTEOQAAAMTEOQAAAMTEOQAAAMTEOQAAAMTE\n",
       "OQAAAMTEOQAAAMTEOQAAAMTEOQAAAMTEOQAAAMTEOQAAAMTEOQAAAMTEOQAAAMTEOQAAAMTEOQAA\n",
       "AMTEOQAAAMTEOQAAAMTEOQAAAMTEOQAAAMTEOQAAAMTEOQAAAMTEOQAAAMTEOQAAAMTEOQAAAMTE\n",
       "OQAAAMTEOQAAAMTEOQAAAMTEOQAAAMTEOQAAAMTEOQAAAMTEOQAAAMTEOQAAAMTEOQAAAMTEOQAA\n",
       "AMTEOQAAAMTEOQAAAMTEOQAAAMTEOQAAAMTEOQAAAMTEOQAAAMTEOQAAAMTEOQAAAMTEOQAAAMTE\n",
       "OQAAAMTEOQAAAMTEOQAAAMTEOQAAAMTEOQAAAMTEOQAAAMTEOQAAAMTEOQAAAMTEOQAAAMTEOQAA\n",
       "AMTEOQAAAMTEOQAAAMTEOQAAAMTEOQAAAMTEOQAAAMTEOQAAAMTEOQAAAMTEOQAAAMTEOQAAAMTE\n",
       "OQAAAMTEOQAAAMTEOQAAAMTEOQAAAMTEOQAAAMTEOQAAAMTEOQAAAMTEOQAAAMTEOQAAAMTEOQAA\n",
       "AMTEOQAAAMTEOQAAAMTEOQAAAMTEOQAAAMTEOQAAAMTEOQAAAMTEOQAAAMTEOQAAAMTEOQAAAMTE\n",
       "OQAAAMTEOQAAAMSmMcZcjwD4Fwdv/Sduki/3X9cTAACuDC9dAAAAiIlzAAAAiIlzAAAAiIlzAAAA\n",
       "iIlzAAAAiIlzAAAAiIlzAAAAiIlzAAAAiIlzAAAAiIlzAAAAiIlzAAAAiIlzAAAAiIlzAAAAiIlz\n",
       "AAAAiIlzAAAAiIlzAAAAiIlzAAAAiIlzAAAAiIlzAAAAiIlzAAAAiIlzAAAAiIlzAAAAiIlzAAAA\n",
       "iIlzAAAAiIlzAAAAiIlzAAAAiIlzAAAAiIlzAAAAiIlzAAAAiIlzAAAAiIlzAAAAiIlzAAAAiIlz\n",
       "AAAAiIlzAAAAiIlzAAAAiIlzAAAAiIlzAAAAiIlzAAAAiIlzAAAAiIlzAAAAiIlzAAAAiIlzAAAA\n",
       "iIlzAAAAiIlzAAAAiIlzAAAAiIlzAAAAiIlzAAAAiIlzAAAAiIlzAAAAiIlzAAAAiIlzAAAAiIlz\n",
       "AAAAiIlzAAAAiIlzAAAAiIlzAAAAiIlzAAAAiIlzAAAAiIlzAAAAiIlzAAAAiIlzAAAAiIlzAAAA\n",
       "iIlzAAAAiIlzAAAAiIlzAAAAiIlzAAAAiIlzAAAAiIlzAAAAiIlzAAAAiIlzAAAAiIlzAAAAiIlz\n",
       "AAAAiIlzAAAAiIlzAAAAiIlzAAAAiIlzAAAAiIlzAAAAiIlzAAAAiIlzAAAAiIlzAAAAiIlzAAAA\n",
       "iIlzAAAAiIlzAAAAiIlzAAAAiIlzAAAAiIlzAAAAiIlzAAAAiIlzAAAAiIlzAAAAiIlzAAAAiIlz\n",
       "AAAAiIlzAAAAiIlzAAAAiIlzAAAAiIlzAAAAiIlzAAAAiIlzAAAAiIlzAAAAiIlzAAAAiIlzAAAA\n",
       "iE1jjLkeAcDlc/jhRj2BhfW9d/UEAOAcXM4BAAAgJs4BAAAgJs4BAAAgJs4BAAAgJs4BAAAgJs4B\n",
       "AAAgJs4BAAAgJs4BAAAgJs4BAAAgJs4BAAAgJs4BAAAgJs4BAAAgJs4BAAAgJs4BAAAgJs4BAAAg\n",
       "Js4BAAAgJs4BAAAgJs4BAAAgJs4BAAAgJs4BAAAgJs4BAAAgJs4BAAAgJs4BAAAgJs4BAAAgJs4B\n",
       "AAAgJs4BAAAgJs4BAAAgJs4BAAAgJs4BAAAgJs4BAAAgJs4BAAAgJs4BAAAgJs4BAAAgJs4BAAAg\n",
       "Js4BAAAgJs4BAAAgJs4BAAAgJs4BAAAgJs4BAAAgJs4BAAAgJs4BAAAgJs4BAAAgJs4BAAAgJs4B\n",
       "AAAgJs4BAAAgJs4BAAAgJs4BAAAgJs4BAAAgJs4BAAAgJs4BAAAgJs4BAAAgJs4BAAAgJs4BAAAg\n",
       "Js4BAAAgJs4BAAAgJs4BAAAgJs4BAAAgJs4BAAAgJs4BAAAgJs4BAAAgJs4BAAAgJs4BAAAgJs4B\n",
       "AAAgJs4BAAAgJs4BAAAgJs4BAAAgJs4BAAAgJs4BAAAgJs4BAAAgJs4BAAAgJs4BAAAgJs4BAAAg\n",
       "Js4BAAAgJs4BAAAgJs4BAAAgJs4BAAAgJs4BAAAgJs4BAAAgJs4BAAAgJs4BAAAgJs4BAAAgJs4B\n",
       "AAAgJs4BAAAgJs4BAAAgJs4BAAAgJs4BAAAgJs4BAAAgJs4BAAAgJs4BAAAgJs4BAAAgJs4BAAAg\n",
       "Js4BAAAgJs4BAAAgJs4BAAAgJs4BAAAgJs4BAAAgJs4BAAAgJs4BAAAgJs4BAAAgNo0x5noEAHA+\n",
       "J2NVT2Dh+53P9QQALhmXcwAAAIiJcwAAAIiJcwAAAIiJcwAAAIiJcwAAAIiJcwAAAIiJcwAAAIiJ\n",
       "cwAAAIiJcwAAAIiJcwAAAIiJcwAAAIiJcwAAAIiJcwAAAIiJcwAAAIiJcwAAAIiJcwAAAIiJcwAA\n",
       "AIiJcwAAAIiJcwAAAIiJcwAAAIiJcwAAAIiJcwAAAIiJcwAAAIiJcwAAAIiJcwAAAIiJcwAAAIiJ\n",
       "cwAAAIiJcwAAAIiJcwAAAIiJcwAAAIiJcwAAAIiJcwAAAIiJcwAAAIiJcwAAAIiJcwAAAIiJcwAA\n",
       "AIiJcwAAAIiJcwAAAIiJcwAAAIiJcwAAAIiJcwAAAIiJcwAAAIiJcwAAAIiJcwAAAIiJcwAAAIiJ\n",
       "cwAAAIiJcwAAAIiJcwAAAIiJcwAAAIiJcwAAAIiJcwAAAIiJcwAAAIiJcwAAAIiJcwAAAIiJcwAA\n",
       "AIiJcwAAAIiJcwAAAIiJcwAAAIiJcwAAAIiJcwAAAIiJcwAAAIiJcwAAAIiJcwAAAIiJcwAAAIiJ\n",
       "cwAAAIiJcwAAAIiJcwAAAIiJcwAAAIiJcwAAAIiJcwAAAIiJcwAAAIiJcwAAAIiJcwAAAIiJcwAA\n",
       "AIiJcwAAAIiJcwAAAIiJcwAAAIiJcwAAAIiJcwAAAIiJcwAAAIiJcwAAAIiJcwAAAIiJcwAAAIiJ\n",
       "cwAAAIiJcwAAAIiJcwAAAIiJcwAAAIiJcwAAAIiJcwAAAIiJcwAAAIiJcwAAAIiJcwAAAIiJcwAA\n",
       "AIiJcwAAAIiJcwAAAIiJcwAAAIiJcwAAAIiJcwAAAIiJcwAAAIhNY4y5HgEAcKV8W9ULWPixt64n\n",
       "APyVyzkAAADExDkAAADExDkAAADExDkAAADExDkAAADExDkAAADExDkAAADExDkAAADExDkAAADE\n",
       "xDkAAADExDkAAADExDkAAADExDkAAADExDkAAADExDkAAADExDkAAADExDkAAADExDkAAADExDkA\n",
       "AADExDkAAADExDkAAADExDkAAADExDkAAADExDkAAADExDkAAADExDkAAADExDkAAADExDkAAADE\n",
       "xDkAAADExDkAAADExDkAAADExDkAAADExDkAAADExDkAAADExDkAAADExDkAAADExDkAAADExDkA\n",
       "AADExDkAAADExDkAAADExDkAAADExDkAAADExDkAAADExDkAAADExDkAAADExDkAAADExDkAAADE\n",
       "xDkAAADExDkAAADExDkAAADExDkAAADExDkAAADExDkAAADExDkAAADExDkAAADExDkAAADExDkA\n",
       "AADExDkAAADExDkAAADExDkAAADExDkAAADExDkAAADExDkAAADExDkAAADExDkAAADExDkAAADE\n",
       "xDkAAADExDkAAADExDkAAADExDkAAADExDkAAADExDkAAADExDkAAADExDkAAADExDkAAADExDkA\n",
       "AADExDkAAADExDkAAADExDkAAADExDkAAADExDkAAADExDkAAADExDkAAADExDkAAADExDkAAADE\n",
       "xDkAAADExDkAAADExDkAAADExDkAAADExDkAAADExDkAAADExDkAAADExDkAAADExDkAAADExDkA\n",
       "AADExDkAAADExDkAAADExDkAAADExDkAAADEVvUAAIArZ/+4XsDC3s+79QQWft36Wk+AjeRyDgAA\n",
       "ADFxDgAAADFxDgAAADFxDgAAADFxDgAAADFxDgAAADFxDgAAADFxDgAAADFxDgAAADFxDgAAADFx\n",
       "DgAAADFxDgAAADFxDgAAADFxDgAAADFxDgAAADFxDgAAADFxDgAAADFxDgAAADFxDgAAADFxDgAA\n",
       "ADFxDgAAADFxDgAAADFxDgAAADFxDgAAADFxDgAAADFxDgAAADFxDgAAADFxDgAAADFxDgAAADFx\n",
       "DgAAADFxDgAAADFxDgAAADFxDgAAADFxDgAAADFxDgAAADFxDgAAADFxDgAAADFxDgAAADFxDgAA\n",
       "ADFxDgAAADFxDgAAADFxDgAAADFxDgAAADFxDgAAADFxDgAAADFxDgAAADFxDgAAADFxDgAAADFx\n",
       "DgAAADFxDgAAADFxDgAAADFxDgAAADFxDgAAADFxDgAAADFxDgAAADFxDgAAADFxDgAAADFxDgAA\n",
       "ADFxDgAAADFxDgAAADFxDgAAADFxDgAAADFxDgAAADFxDgAAADFxDgAAADFxDgAAADFxDgAAADFx\n",
       "DgAAADFxDgAAADFxDgAAADFxDgAAADFxDgAAADFxDgAAADFxDgAAADFxDgAAADFxDgAAADFxDgAA\n",
       "ADFxDgAAADFxDgAAADFxDgAAADFxDgAAADFxDgAAADFxDgAAADFxDgAAADFxDgAAADFxDgAAADFx\n",
       "DgAAADFxDgAAADFxDgAAADFxDgAAADFxDgAAADFxDgAAADFxDgAAADFxDgAAADFxDgAAADFxDgAA\n",
       "ADFxDgAAADFxDgAAADFxDgAAALFVPQAAAC7SvHtUT2Bh92i/nsDC4c5BPYEzLucAAAAQE+cAAAAQ\n",
       "E+cAAAAQE+cAAAAQE+cAAAAQE+cAAAAQE+cAAAAQE+cAAAAQE+cAAAAQE+cAAAAQE+cAAAAQE+cA\n",
       "AAAQE+cAAAAQE+cAAAAQE+cAAAAQE+cAAAAQE+cAAAAQE+cAAAAQE+cAAAAQE+cAAAAQE+cAAAAQ\n",
       "E+cAAAAQE+cAAAAQE+cAAAAQE+cAAAAQE+cAAAAQE+cAAAAQE+cAAAAQE+cAAAAQE+cAAAAQE+cA\n",
       "AAAQE+cAAAAQE+cAAAAQE+cAAAAQE+cAAAAQE+cAAAAQE+cAAAAQE+cAAAAQE+cAAAAQE+cAAAAQ\n",
       "E+cAAAAQE+cAAAAQE+cAAAAQE+cAAAAQE+cAAAAQE+cAAAAQE+cAAAAQE+cAAAAQE+cAAAAQE+cA\n",
       "AAAQE+cAAAAQE+cAAAAQE+cAAAAQE+cAAAAQE+cAAAAQE+cAAAAQE+cAAAAQE+cAAAAQE+cAAAAQ\n",
       "E+cAAAAQE+cAAAAQE+cAAAAQE+cAAAAQE+cAAAAQE+cAAAAQE+cAAAAQE+cAAAAQE+cAAAAQE+cA\n",
       "AAAQE+cAAAAQE+cAAAAQE+cAAAAQE+cAAAAQE+cAAAAQE+cAAAAQE+cAAAAQE+cAAAAQE+cAAAAQ\n",
       "E+cAAAAQE+cAAAAQE+cAAAAQE+cAAAAQE+cAAAAQE+cAAAAQE+cAAAAQE+cAAAAQE+cAAAAQE+cA\n",
       "AAAQE+cAAAAQE+cAAAAQE+cAAAAQE+cAAAAQE+cAAAAQE+cAAAAQE+cAAAAQE+cAAAAQE+cAAAAQ\n",
       "E+cAAAAQE+cAAAAQW9UDAACA7XG6c1xPYOHmye16AmdczgEAACAmzgEAACAmzgEAACAmzgEAACAm\n",
       "zgEAACAmzgEAACAmzgEAACAmzgEAACAmzgEAACAmzgEAACAmzgEAACAmzgEAACAmzgEAACAmzgEA\n",
       "ACAmzgEAACAmzgEAACAmzgEAACAmzgEAACAmzgEAACAmzgEAACAmzgEAACAmzgEAACAmzgEAACAm\n",
       "zgEAACAmzgEAACAmzgEAACAmzgEAACAmzgEAACAmzgEAACAmzgEAACAmzgEAACAmzgEAACAmzgEA\n",
       "ACAmzgEAACAmzgEAACAmzgEAACAmzgEAACAmzgEAACAmzgEAACAmzgEAACAmzgEAACAmzgEAACAm\n",
       "zgEAACAmzgEAACAmzgEAACAmzgEAACAmzgEAACAmzgEAACAmzgEAACAmzgEAACAmzgEAACAmzgEA\n",
       "ACAmzgEAACAmzgEAACAmzgEAACAmzgEAACAmzgEAACAmzgEAACAmzgEAACAmzgEAACAmzgEAACAm\n",
       "zgEAACAmzgEAACAmzgEAACAmzgEAACAmzgEAACAmzgEAACAmzgEAACAmzgEAACAmzgEAACAmzgEA\n",
       "ACAmzgEAACAmzgEAACAmzgEAACAmzgEAACAmzgEAACAmzgEAACAmzgEAACAmzgEAACAmzgEAACAm\n",
       "zgEAACAmzgEAACAmzgEAACAmzgEAACAmzgEAACAmzgEAACAmzgEAACAmzgEAACAmzgEAACAmzgEA\n",
       "ACAmzgEAACAmzgEAACAmzgEAACAmzgEAACAmzgEAACAmzgEAACAmzgEAACAmzgEAACD2G4AxRIWk\n",
       "UqgLAAAAAElFTkSuQmCC\n",
       "\" transform=\"translate(1900, 1096)\"/>\n",
       "</g>\n",
       "<defs>\n",
       "  <clipPath id=\"clip265\">\n",
       "    <rect x=\"3003\" y=\"624\" width=\"157\" height=\"1944\"/>\n",
       "  </clipPath>\n",
       "</defs>\n",
       "<g clip-path=\"url(#clip265)\">\n",
       "<image width=\"156\" height=\"1943\" xlink:href=\"data:image/png;base64,\n",
       "iVBORw0KGgoAAAANSUhEUgAAAJwAAAeXCAYAAAAl2AwAAAAUmUlEQVR4nO3dsZEkNwAEwcFHO0lL\n",
       "6RDdeIBe1AmXacEKFS1MANjz7z//vQ8if376B/C7CI6U4EgJjpTgSAmOlOBI7Zyf/gn8JhaOlOBI\n",
       "CY6U4EgJjpTgSAmO1D7f4QhZOFKCIyU4UoIjJThSgiO1IzlCciMlOFKCIyU4UoIjJThSgiPleBIp\n",
       "C0dKcKQER0pwpARHSnCkvJ5EysKREhwpwZESHCnBkRIcKcGRmuQoyY2U4EgJjpTgSAmOlOBICY7U\n",
       "jgNxhCwcKcGREhwpwZESHCnBkXJNkJSFIyU4UoIjJThSgiMlOFKCI+UVc1IWjpTgSAmOlOBICY6U\n",
       "4EjtSI6Q3EgJjpTgSAmOlOBICY6U4Eg5nkTKwpESHCnBkRIcKcGREhwpwZHyXBcpC0dKcKQER0pw\n",
       "pARHSnCkJjlKciMlOFKCIyU4UoIjJThSgiO143wSIQtHSnCkBEdKcKQER0pwpLyeRMrCkRIcKcGR\n",
       "EhwpwZESHCnBkfJ6EikLR0pwpARHSnCkBEdKcKQER2pHcoTkRkpwpARHSnCkBEdKcKRcEyRl4UgJ\n",
       "jpTgSAmOlOBICY6U4Ei5JkjKwpESHCnBkRIcKcGREhwpx5NIWThSgiMlOFKCIyU4UoIjJThSjieR\n",
       "snCkBEdKcKQER0pwpARHapKjJDdSgiMlOFKCIyU4UoIjJThSO84nEbJwpARHSnCkBEdKcKQER0pw\n",
       "pDzXRcrCkRIcKcGREhwpwZESHCmvJ5GycKQER0pwpARHSnCkBEdKcKQ810VKbqQER0pwpARHSnCk\n",
       "BEfK8SRSFo6U4EgJjpTgSAmOlOBICY6U15NIWThSgiMlOFKCIyU4UoIjJThSzsORsnCkBEdKcKQE\n",
       "R0pwpARHyvEkUhaOlOBICY6U4EgJjpTgSAmO1M4fH+LoWDhSgiMlOFKCIyU4UoIj5XgSKQtHSnCk\n",
       "BEdKcKQER0pwpARHyutJpCwcKcGREhwpwZESHCnBkRIcKefhSFk4UoIjJThSgiMlOFKCI+V4EikL\n",
       "R0pwpARHSnCkBEdKcKQER2qSoyQ3UoIjJThSgiMlOFKCI+V4EikLR0pwpARHSnCkBEdKcKQER8rr\n",
       "SaQsHCnBkRIcKcGREhwpwZESHCnn4UhZOFKCIyU4UoIjJThSgiO1z3cRQhaOlOBICY6U4EgJjpTg\n",
       "SAmOlONJpCwcKcGREhwpwZESHCnBkfLnbqTkRkpwpARHSnCkBEdKcKQER8rxJFIWjpTgSAmOlOBI\n",
       "CY6U4Ej5czdSFo6U4EgJjpTgSAmOlOBICY6U40mkLBwpwZESHCnBkRIcKcGREhwp5+FIWThSgiMl\n",
       "OFKCIyU4UoIjtSM5QnIjJThSgiMlOFKCIyU4UoIj5XgSKQtHSnCkBEdKcKQER0pwpHY8n0TIwpES\n",
       "HCnBkRIcKcGREhwpwZFyPImUhSMlOFKCIyU4UoIjJThSgiPl3wRJWThSgiMlOFKCIyU4UoIj5XgS\n",
       "KQtHSnCkBEdKcKQER0pwpARHyr8JkpIbKcGREhwpwZESHCnBkXI8iZSFIyU4UoIjJThSgiMlOFKC\n",
       "I+U7HCkLR0pwpARHSnCkBEdKcKQER8or5qQsHCnBkRIcKcGREhwpwZFyPImUhSMlOFKCIyU4UoIj\n",
       "JThSgiPleBIpC0dKcKQER0pwpARHSnCk9vkuQsjCkRIcKcGREhwpwZESHCnBkdqRHCG5kRIcKcGR\n",
       "EhwpwZESHCmvJ5GycKQER0pwpARHSnCkBEdKcKS8nkTKwpESHCnBkRIcKcGREhwpwZFyHo6UhSMl\n",
       "OFKCIyU4UoIjJThSPouQsnCkBEdKcKQER0pwpARHSnCkXBMkZeFICY6U4EgJjpTgSAmO1CRHSW6k\n",
       "BEdKcKQER0pwpARHSnCkHE8iZeFICY6U4EgJjpTgSAmOlOBIea6LlIUjJThSgiMlOFKCIyU4UjvO\n",
       "JxGycKQER0pwpARHSnCkBEdKcKQcTyJl4UgJjpTgSAmOlOBICY6U15NIWThSgiMlOFKCIyU4UoIj\n",
       "JThSjieRsnCkBEdKcKQER0pwpARHSnCkJjlKciMlOFKCIyU4UoIjJThSrgmSsnCkBEdKcKQER0pw\n",
       "pARHSnCkXBMkZeFICY6U4EgJjpTgSAmOlONJpCwcKcGREhwpwZESHCnBkRIcKceTSFk4UoIjJThS\n",
       "giMlOFKCIyU4Ur7DkbJwpARHSnCkBEdKcKQER2pHcoTkRkpwpARHSnCkBEdKcKQER2qf97oIWThS\n",
       "giMlOFKCIyU4UoIj5RVzUhaOlOBICY6U4EgJjpTgSAmOlNeTSFk4UoIjJThSgiMlOFKCI+V4EikL\n",
       "R0pwpARHSnCkBEdKcKQER8rxJFIWjpTgSAmOlOBICY6U4EgJjpTvcKQsHCnBkRIcKcGREhwpwZHa\n",
       "kRwhuZESHCnBkRIcKcGREhwpwZFyPImUhSMlOFKCIyU4UoIjJThSXjEnZeFICY6U4EgJjpTgSAmO\n",
       "lOBIOZ5EysKREhwpwZESHCnBkRIcKcGR8h2OlIUjJThSgiMlOFKCIyU4Uq4JkrJwpARHSnCkBEdK\n",
       "cKQER0pwpPb5EEfIwpESHCnBkRIcKcGREhypHckRkhspwZESHCnBkRIcKcGREhwpryeRsnCkBEdK\n",
       "cKQER0pwpARHSnCkfIcjZeFICY6U4EgJjpTgSAmOlFfMSVk4UoIjJThSgiMlOFKCIyU4Uo4nkbJw\n",
       "pARHSnCkBEdKcKQER8pnEVIWjpTgSAmOlOBICY6U4EgJjpRrgqQsHCnBkRIcKcGREhwpwZGa5CjJ\n",
       "jZTgSAmOlOBICY6U4EgJjpTjSaQsHCnBkRIcKcGREhwpwZESHCnPdZGycKQER0pwpARHSnCkBEfK\n",
       "ZxFSFo6U4EgJjpTgSAmOlOBICY7UjnuChCwcKcGREhwpwZESHCnBkXI8iZSFIyU4UoIjJThSgiMl\n",
       "OFKCI+U7HCkLR0pwpARHSnCkBEdKcKQER2pHcoTkRkpwpARHSnCkBEdKcKQcTyJl4UgJjpTgSAmO\n",
       "lOBICY6U4Ej5DkfKwpESHCnBkRIcKcGREhyp+W83ShaOlOBICY6U4EgJjpTgSAmOlONJpCwcKcGR\n",
       "EhwpwZESHCnBkRIcKd/hSFk4UoIjJThSgiMlOFKCI+WaICkLR0pwpARHSnCkBEdKcKQER2qSoyQ3\n",
       "UoIjJThSgiMlOFKCI+XWFikLR0pwpARHSnCkBEdKcKQER8o1QVIWjpTgSAmOlOBICY6U4EgJjpTz\n",
       "cKQsHCnBkRIcKcGREhwpwZHyWYSUhSMlOFKCIyU4UoIjJThSgiPlOxwpC0dKcKQER0pwpARHSnCk\n",
       "fBYhZeFICY6U4EgJjpTgSAmOlOBI7Tvvp38Dv4iFIyU4UoIjJThSgiMlOFKCIyU4UoIjJThSgiMl\n",
       "OFKCIyU4Uq4JkrJwpARHSnCkBEdKcKQER0pwpFwTJGXhSAmOlOBICY6U4EgJjtS+z2cROhaOlOBI\n",
       "CY6U4EgJjpTgSAmOlGuCpCwcKcGREhwpwZESHCnBkdpzPImQhSMlOFKCIyU4UoIjJThSgiPlmiAp\n",
       "C0dKcKQER0pwpARHSnCkBEdqzyvmhCwcKcGREhwpwZESHCnBkXJNkJSFIyU4UoIjJThSgiMlOFKC\n",
       "I7X3fIejY+FICY6U4EgJjpTgSAmO1L7v/vRv4BexcKQER0pwpARHSnCkBEdKcKRcEyRl4UgJjpTg\n",
       "SAmOlOBICY6U4Ej5DkfKwpESHCnBkRIcKcGREhyp3eeaIB0LR0pwpARHSnCkBEdKcKQER8rxJFIW\n",
       "jpTgSAmOlOBICY6U4EjtOZ5EyMKREhwpwZESHCnBkRIcKcGR2vNvgoQsHCnBkRIcKcGREhwpwZHa\n",
       "e25t0bFwpARHSnCkBEdKcKQER0pwpHYdTyJk4UgJjpTgSAmOlOBICY6U4Eh5rouUhSMlOFKCIyU4\n",
       "UoIjJThSrgmSsnCkBEdKcKQER0pwpARHSnCkvGJOysKREhwpwZESHCnBkRIcqV23tghZOFKCIyU4\n",
       "UoIjJThSgiMlOFKuCZKycKQER0pwpARHSnCkBEdKcKRcEyRl4UgJjpTgSAmOlOBICY6Ua4KkLBwp\n",
       "wZESHCnBkRIcKcGREhwp1wRJWThSgiMlOFKCIyU4UoIj5dYWKQtHSnCkBEdKcKQER0pwpARHyjVB\n",
       "UhaOlOBICY6U4EgJjpTgSAmO1J7vcIQsHCnBkRIcKcGREhwpwZHa+7yeRMfCkRIcKcGREhwpwZES\n",
       "HCnBkXI8iZSFIyU4UoIjJThSgiMlOFJeTyJl4UgJjpTgSAmOlOBICY6U4Ei5JkjKwpESHCnBkRIc\n",
       "KcGREhwpwZFyTZCUhSMlOFKCIyU4UoIjJThSrgmSsnCkBEdKcKQER0pwpARHSnCk9p5rgnQsHCnB\n",
       "kRIcKcGREhwpwZHa+xxPomPhSAmOlOBICY6U4EgJjpTgSLkmSMrCkRIcKcGREhwpwZESHCm3tkhZ\n",
       "OFKCIyU4UoIjJThSgiMlOFKuCZKycKQER0pwpARHSnCkBEdKcKRcEyRl4UgJjpTgSAmOlOBICY6U\n",
       "a4KkLBwpwZESHCnBkRIcKcGREhwp1wRJWThSgiMlOFKCIyU4UoIj5dYWKQtHSnCkBEdKcKQER0pw\n",
       "pARHyjVBUhaOlOBICY6U4EgJjpTgSAmOlGuCpCwcKcGREhwpwZESHCnBkXJNkJSFIyU4UoIjJThS\n",
       "giMlOFKCI+WaICkLR0pwpARHSnCkBEdKcKT2HE8iZOFICY6U4EgJjpTgSAmOlOBI7Xo9iZCFIyU4\n",
       "UoIjJThSgiMlOFKCI+WaICkLR0pwpARHSnCkBEdKcKRcEyRl4UgJjpTgSAmOlOBICY6U4Ei5JkjK\n",
       "wpESHCnBkRIcKcGREhwpt7ZIWThSgiMlOFKCIyU4UoIjJThSrgmSsnCkBEdKcKQER0pwpARHyq0t\n",
       "UhaOlOBICY6U4EgJjpTgSAmOlGuCpCwcKcGREhwpwZESHCnBkRIcKdcESVk4UoIjJThSgiMlOFKC\n",
       "I7XreBIhC0dKcKQER0pwpARHSnCkBEdqz3NdhCwcKcGREhwpwZESHCnBkXJri5SFIyU4UoIjJThS\n",
       "giMlOFKCI+WaICkLR0pwpARHSnCkBEdKcKQER8o1QVIWjpTgSAmOlOBICY6U4Ei5JkjKwpESHCnB\n",
       "kRIcKcGREhwpwZFyTZCUhSMlOFKCIyU4UoIjJThSbm2RsnCkBEdKcKQER0pwpARHSnCkXBMkZeFI\n",
       "CY6U4EgJjpTgSAmOlOBIuSZIysKREhwpwZESHCnBkRIcKdcESVk4UoIjJThSgiMlOFKCIyU4Uq4J\n",
       "krJwpARHSnCkBEdKcKQER8qtLVIWjpTgSAmOlOBICY6U4EgJjpTjSaQsHCnBkRIcKcGREhwpwZES\n",
       "HKm9z3k4OhaOlOBICY6U4EgJjpTgSO06nkTIwpESHCnBkRIcKcGREhwpwZFyTZCUhSMlOFKCIyU4\n",
       "UoIjJThSu25tEbJwpARHSnCkBEdKcKQER0pwpBxPImXhSAmOlOBICY6U4EgJjpTPIqQsHCnBkRIc\n",
       "KcGREhwpwZESHCnXBElZOFKCIyU4UoIjJThSgiMlOFLOw5GycKQER0pwpARHSnCkBEdq12cRQhaO\n",
       "lOBICY6U4EgJjpTgSAmO1N5zTZCOhSMlOFKCIyU4UoIjJThSe5/jSXQsHCnBkRIcKcGREhwpwZES\n",
       "HKldx5MIWThSgiMlOFKCIyU4UoIjJThSXjEnZeFICY6U4EgJjpTgSAmOlGuCpCwcKcGREhwpwZES\n",
       "HCnBkRIcKdcESVk4UoIjJThSgiMlOFKCI+XWFikLR0pwpARHSnCkBEdKcKQER2rXdzhCFo6U4EgJ\n",
       "jpTgSAmOlOBICY7U3ueaIB0LR0pwpARHSnCkBEdKcKQcTyJl4UgJjpTgSAmOlOBICY6U4Eh5rouU\n",
       "hSMlOFKCIyU4UoIjJThSbm2RsnCkBEdKcKQER0pwpARHSnCkXBMkZeFICY6U4EgJjpTgSAmOlFtb\n",
       "pCwcKcGREhwpwZESHCnBkRIcqV3XBAlZOFKCIyU4UoIjJThSgiMlOFLOw5GycKQER0pwpARHSnCk\n",
       "BEfK60mkLBwpwZESHCnBkRIcKcGREhypveeaIB0LR0pwpARHSnCkBEdKcKR2P8eT6Fg4UoIjJThS\n",
       "giMlOFKCIyU4Ul5PImXhSAmOlOBICY6U4EgJjpTgSO26JkjIwpESHCnBkRIcKcGREhypPdcECVk4\n",
       "UoIjJThSgiMlOFKCIyU4Uv5NkJSFIyU4UoIjJThSgiMlOFL+3I2UhSMlOFKCIyU4UoIjJThSgiPl\n",
       "eBIpC0dKcKQER0pwpARHSnCkBEfKc12kLBwpwZESHCnBkRIcKcGR8udupCwcKcGREhwpwZESHCnB\n",
       "kRIcqT3XBAlZOFKCIyU4UoIjJThSgiO169YWIQtHSnCkBEdKcKQER0pwpARHyvEkUhaOlOBICY6U\n",
       "4EgJjpTgSAmOlOe6SFk4UoIjJThSgiMlOFKCI+XP3UhZOFKCIyU4UoIjJThSgiMlOFK7rgkSsnCk\n",
       "BEdKcKQER0pwpARHymcRUhaOlOBICY6U4EgJjpTgSAmOlFfMSVk4UoIjJThSgiMlOFKCI7Xr9SRC\n",
       "Fo6U4EgJjpTgSAmOlOBICY6UP3cjZeFICY6U4EgJjpTgSAmOlOBIuSZIysKREhwpwZESHCnBkRIc\n",
       "KdcESVk4UoIjJThSgiMlOFKCIyU4Uv5NkJSFIyU4UoIjJThSgiMlOFJubZGycKQER0pwpARHSnCk\n",
       "BEdKcKQcTyJl4UgJjpTgSAmOlOBICY6U4Ejtfn9/+jfwi1g4UoIjJThSgiMlOFKCI+V4EikLR0pw\n",
       "pARHSnCkBEdKcKQER8pzXaQsHCnBkRIcKcGREhwpwZHa/XwWoWPhSAmOlOBICY6U4EgJjpTgSO0+\n",
       "ryfRsXCkBEdKcKQER0pwpARHSnCkPNdFysKREhwpwZESHCnBkRIcKceTSFk4UoIjJThSgiMlOFKC\n",
       "IyU4Uruf73B0LBwpwZESHCnBkRIcKcGRcjyJlIUjJThSgiMlOFKCIyU4UoIj5TscKQtHSnCkBEdK\n",
       "cKQER0pwpP4HOvdrFLvYkYEAAAAASUVORK5CYII=\n",
       "\" transform=\"translate(3003, 624)\"/>\n",
       "</g>\n",
       "<path clip-path=\"url(#clip260)\" d=\"M3237.42 2564.3 L3267.1 2564.3 L3267.1 2568.24 L3237.42 2568.24 L3237.42 2564.3 Z\" fill=\"#000000\" fill-rule=\"evenodd\" fill-opacity=\"1\" /><path clip-path=\"url(#clip260)\" d=\"M3278 2577.19 L3285.64 2577.19 L3285.64 2550.83 L3277.33 2552.5 L3277.33 2548.24 L3285.59 2546.57 L3290.27 2546.57 L3290.27 2577.19 L3297.91 2577.19 L3297.91 2581.13 L3278 2581.13 L3278 2577.19 Z\" fill=\"#000000\" fill-rule=\"evenodd\" fill-opacity=\"1\" /><path clip-path=\"url(#clip260)\" d=\"M3307.35 2575.25 L3312.24 2575.25 L3312.24 2581.13 L3307.35 2581.13 L3307.35 2575.25 Z\" fill=\"#000000\" fill-rule=\"evenodd\" fill-opacity=\"1\" /><path clip-path=\"url(#clip260)\" d=\"M3332.42 2549.65 Q3328.81 2549.65 3326.98 2553.21 Q3325.18 2556.75 3325.18 2563.88 Q3325.18 2570.99 3326.98 2574.56 Q3328.81 2578.1 3332.42 2578.1 Q3336.06 2578.1 3337.86 2574.56 Q3339.69 2570.99 3339.69 2563.88 Q3339.69 2556.75 3337.86 2553.21 Q3336.06 2549.65 3332.42 2549.65 M3332.42 2545.94 Q3338.23 2545.94 3341.29 2550.55 Q3344.37 2555.13 3344.37 2563.88 Q3344.37 2572.61 3341.29 2577.22 Q3338.23 2581.8 3332.42 2581.8 Q3326.61 2581.8 3323.53 2577.22 Q3320.48 2572.61 3320.48 2563.88 Q3320.48 2555.13 3323.53 2550.55 Q3326.61 2545.94 3332.42 2545.94 Z\" fill=\"#000000\" fill-rule=\"evenodd\" fill-opacity=\"1\" /><path clip-path=\"url(#clip260)\" d=\"M3362.58 2549.65 Q3358.97 2549.65 3357.14 2553.21 Q3355.34 2556.75 3355.34 2563.88 Q3355.34 2570.99 3357.14 2574.56 Q3358.97 2578.1 3362.58 2578.1 Q3366.22 2578.1 3368.02 2574.56 Q3369.85 2570.99 3369.85 2563.88 Q3369.85 2556.75 3368.02 2553.21 Q3366.22 2549.65 3362.58 2549.65 M3362.58 2545.94 Q3368.39 2545.94 3371.45 2550.55 Q3374.53 2555.13 3374.53 2563.88 Q3374.53 2572.61 3371.45 2577.22 Q3368.39 2581.8 3362.58 2581.8 Q3356.77 2581.8 3353.7 2577.22 Q3350.64 2572.61 3350.64 2563.88 Q3350.64 2555.13 3353.7 2550.55 Q3356.77 2545.94 3362.58 2545.94 Z\" fill=\"#000000\" fill-rule=\"evenodd\" fill-opacity=\"1\" /><path clip-path=\"url(#clip260)\" d=\"M3237.42 2321.42 L3267.1 2321.42 L3267.1 2325.36 L3237.42 2325.36 L3237.42 2321.42 Z\" fill=\"#000000\" fill-rule=\"evenodd\" fill-opacity=\"1\" /><path clip-path=\"url(#clip260)\" d=\"M3287.19 2306.77 Q3283.58 2306.77 3281.75 2310.33 Q3279.95 2313.88 3279.95 2321.01 Q3279.95 2328.11 3281.75 2331.68 Q3283.58 2335.22 3287.19 2335.22 Q3290.83 2335.22 3292.63 2331.68 Q3294.46 2328.11 3294.46 2321.01 Q3294.46 2313.88 3292.63 2310.33 Q3290.83 2306.77 3287.19 2306.77 M3287.19 2303.07 Q3293 2303.07 3296.06 2307.67 Q3299.14 2312.26 3299.14 2321.01 Q3299.14 2329.73 3296.06 2334.34 Q3293 2338.92 3287.19 2338.92 Q3281.38 2338.92 3278.3 2334.34 Q3275.25 2329.73 3275.25 2321.01 Q3275.25 2312.26 3278.3 2307.67 Q3281.38 2303.07 3287.19 2303.07 Z\" fill=\"#000000\" fill-rule=\"evenodd\" fill-opacity=\"1\" /><path clip-path=\"url(#clip260)\" d=\"M3307.35 2332.37 L3312.24 2332.37 L3312.24 2338.25 L3307.35 2338.25 L3307.35 2332.37 Z\" fill=\"#000000\" fill-rule=\"evenodd\" fill-opacity=\"1\" /><path clip-path=\"url(#clip260)\" d=\"M3321.24 2303.69 L3343.46 2303.69 L3343.46 2305.68 L3330.92 2338.25 L3326.03 2338.25 L3337.84 2307.63 L3321.24 2307.63 L3321.24 2303.69 Z\" fill=\"#000000\" fill-rule=\"evenodd\" fill-opacity=\"1\" /><path clip-path=\"url(#clip260)\" d=\"M3352.63 2303.69 L3370.99 2303.69 L3370.99 2307.63 L3356.91 2307.63 L3356.91 2316.1 Q3357.93 2315.75 3358.95 2315.59 Q3359.97 2315.4 3360.99 2315.4 Q3366.77 2315.4 3370.15 2318.57 Q3373.53 2321.75 3373.53 2327.16 Q3373.53 2332.74 3370.06 2335.84 Q3366.59 2338.92 3360.27 2338.92 Q3358.09 2338.92 3355.82 2338.55 Q3353.58 2338.18 3351.17 2337.44 L3351.17 2332.74 Q3353.26 2333.88 3355.48 2334.43 Q3357.7 2334.99 3360.18 2334.99 Q3364.18 2334.99 3366.52 2332.88 Q3368.86 2330.77 3368.86 2327.16 Q3368.86 2323.55 3366.52 2321.45 Q3364.18 2319.34 3360.18 2319.34 Q3358.3 2319.34 3356.43 2319.76 Q3354.57 2320.17 3352.63 2321.05 L3352.63 2303.69 Z\" fill=\"#000000\" fill-rule=\"evenodd\" fill-opacity=\"1\" /><path clip-path=\"url(#clip260)\" d=\"M3237.42 2078.54 L3267.1 2078.54 L3267.1 2082.48 L3237.42 2082.48 L3237.42 2078.54 Z\" fill=\"#000000\" fill-rule=\"evenodd\" fill-opacity=\"1\" /><path clip-path=\"url(#clip260)\" d=\"M3287.19 2063.89 Q3283.58 2063.89 3281.75 2067.46 Q3279.95 2071 3279.95 2078.13 Q3279.95 2085.23 3281.75 2088.8 Q3283.58 2092.34 3287.19 2092.34 Q3290.83 2092.34 3292.63 2088.8 Q3294.46 2085.23 3294.46 2078.13 Q3294.46 2071 3292.63 2067.46 Q3290.83 2063.89 3287.19 2063.89 M3287.19 2060.19 Q3293 2060.19 3296.06 2064.79 Q3299.14 2069.38 3299.14 2078.13 Q3299.14 2086.85 3296.06 2091.46 Q3293 2096.04 3287.19 2096.04 Q3281.38 2096.04 3278.3 2091.46 Q3275.25 2086.85 3275.25 2078.13 Q3275.25 2069.38 3278.3 2064.79 Q3281.38 2060.19 3287.19 2060.19 Z\" fill=\"#000000\" fill-rule=\"evenodd\" fill-opacity=\"1\" /><path clip-path=\"url(#clip260)\" d=\"M3307.35 2089.49 L3312.24 2089.49 L3312.24 2095.37 L3307.35 2095.37 L3307.35 2089.49 Z\" fill=\"#000000\" fill-rule=\"evenodd\" fill-opacity=\"1\" /><path clip-path=\"url(#clip260)\" d=\"M3322.47 2060.81 L3340.82 2060.81 L3340.82 2064.75 L3326.75 2064.75 L3326.75 2073.22 Q3327.77 2072.87 3328.79 2072.71 Q3329.81 2072.52 3330.82 2072.52 Q3336.61 2072.52 3339.99 2075.7 Q3343.37 2078.87 3343.37 2084.28 Q3343.37 2089.86 3339.9 2092.96 Q3336.43 2096.04 3330.11 2096.04 Q3327.93 2096.04 3325.66 2095.67 Q3323.42 2095.3 3321.01 2094.56 L3321.01 2089.86 Q3323.09 2091 3325.32 2091.55 Q3327.54 2092.11 3330.01 2092.11 Q3334.02 2092.11 3336.36 2090 Q3338.7 2087.9 3338.7 2084.28 Q3338.7 2080.67 3336.36 2078.57 Q3334.02 2076.46 3330.01 2076.46 Q3328.14 2076.46 3326.26 2076.88 Q3324.41 2077.29 3322.47 2078.17 L3322.47 2060.81 Z\" fill=\"#000000\" fill-rule=\"evenodd\" fill-opacity=\"1\" /><path clip-path=\"url(#clip260)\" d=\"M3362.58 2063.89 Q3358.97 2063.89 3357.14 2067.46 Q3355.34 2071 3355.34 2078.13 Q3355.34 2085.23 3357.14 2088.8 Q3358.97 2092.34 3362.58 2092.34 Q3366.22 2092.34 3368.02 2088.8 Q3369.85 2085.23 3369.85 2078.13 Q3369.85 2071 3368.02 2067.46 Q3366.22 2063.89 3362.58 2063.89 M3362.58 2060.19 Q3368.39 2060.19 3371.45 2064.79 Q3374.53 2069.38 3374.53 2078.13 Q3374.53 2086.85 3371.45 2091.46 Q3368.39 2096.04 3362.58 2096.04 Q3356.77 2096.04 3353.7 2091.46 Q3350.64 2086.85 3350.64 2078.13 Q3350.64 2069.38 3353.7 2064.79 Q3356.77 2060.19 3362.58 2060.19 Z\" fill=\"#000000\" fill-rule=\"evenodd\" fill-opacity=\"1\" /><path clip-path=\"url(#clip260)\" d=\"M3237.42 1835.66 L3267.1 1835.66 L3267.1 1839.6 L3237.42 1839.6 L3237.42 1835.66 Z\" fill=\"#000000\" fill-rule=\"evenodd\" fill-opacity=\"1\" /><path clip-path=\"url(#clip260)\" d=\"M3287.19 1821.01 Q3283.58 1821.01 3281.75 1824.58 Q3279.95 1828.12 3279.95 1835.25 Q3279.95 1842.35 3281.75 1845.92 Q3283.58 1849.46 3287.19 1849.46 Q3290.83 1849.46 3292.63 1845.92 Q3294.46 1842.35 3294.46 1835.25 Q3294.46 1828.12 3292.63 1824.58 Q3290.83 1821.01 3287.19 1821.01 M3287.19 1817.31 Q3293 1817.31 3296.06 1821.91 Q3299.14 1826.5 3299.14 1835.25 Q3299.14 1843.97 3296.06 1848.58 Q3293 1853.16 3287.19 1853.16 Q3281.38 1853.16 3278.3 1848.58 Q3275.25 1843.97 3275.25 1835.25 Q3275.25 1826.5 3278.3 1821.91 Q3281.38 1817.31 3287.19 1817.31 Z\" fill=\"#000000\" fill-rule=\"evenodd\" fill-opacity=\"1\" /><path clip-path=\"url(#clip260)\" d=\"M3307.35 1846.61 L3312.24 1846.61 L3312.24 1852.49 L3307.35 1852.49 L3307.35 1846.61 Z\" fill=\"#000000\" fill-rule=\"evenodd\" fill-opacity=\"1\" /><path clip-path=\"url(#clip260)\" d=\"M3326.45 1848.56 L3342.77 1848.56 L3342.77 1852.49 L3320.82 1852.49 L3320.82 1848.56 Q3323.49 1845.8 3328.07 1841.17 Q3332.68 1836.52 3333.86 1835.18 Q3336.1 1832.66 3336.98 1830.92 Q3337.88 1829.16 3337.88 1827.47 Q3337.88 1824.72 3335.94 1822.98 Q3334.02 1821.24 3330.92 1821.24 Q3328.72 1821.24 3326.26 1822.01 Q3323.83 1822.77 3321.06 1824.32 L3321.06 1819.6 Q3323.88 1818.47 3326.33 1817.89 Q3328.79 1817.31 3330.82 1817.31 Q3336.2 1817.31 3339.39 1819.99 Q3342.58 1822.68 3342.58 1827.17 Q3342.58 1829.3 3341.77 1831.22 Q3340.99 1833.12 3338.88 1835.71 Q3338.3 1836.38 3335.2 1839.6 Q3332.1 1842.79 3326.45 1848.56 Z\" fill=\"#000000\" fill-rule=\"evenodd\" fill-opacity=\"1\" /><path clip-path=\"url(#clip260)\" d=\"M3352.63 1817.93 L3370.99 1817.93 L3370.99 1821.87 L3356.91 1821.87 L3356.91 1830.34 Q3357.93 1829.99 3358.95 1829.83 Q3359.97 1829.65 3360.99 1829.65 Q3366.77 1829.65 3370.15 1832.82 Q3373.53 1835.99 3373.53 1841.41 Q3373.53 1846.98 3370.06 1850.09 Q3366.59 1853.16 3360.27 1853.16 Q3358.09 1853.16 3355.82 1852.79 Q3353.58 1852.42 3351.17 1851.68 L3351.17 1846.98 Q3353.26 1848.12 3355.48 1848.67 Q3357.7 1849.23 3360.18 1849.23 Q3364.18 1849.23 3366.52 1847.12 Q3368.86 1845.02 3368.86 1841.41 Q3368.86 1837.79 3366.52 1835.69 Q3364.18 1833.58 3360.18 1833.58 Q3358.3 1833.58 3356.43 1834 Q3354.57 1834.41 3352.63 1835.29 L3352.63 1817.93 Z\" fill=\"#000000\" fill-rule=\"evenodd\" fill-opacity=\"1\" /><path clip-path=\"url(#clip260)\" d=\"M3249.37 1578.13 Q3245.76 1578.13 3243.93 1581.7 Q3242.12 1585.24 3242.12 1592.37 Q3242.12 1599.48 3243.93 1603.04 Q3245.76 1606.58 3249.37 1606.58 Q3253 1606.58 3254.81 1603.04 Q3256.64 1599.48 3256.64 1592.37 Q3256.64 1585.24 3254.81 1581.7 Q3253 1578.13 3249.37 1578.13 M3249.37 1574.43 Q3255.18 1574.43 3258.23 1579.04 Q3261.31 1583.62 3261.31 1592.37 Q3261.31 1601.1 3258.23 1605.7 Q3255.18 1610.29 3249.37 1610.29 Q3243.56 1610.29 3240.48 1605.7 Q3237.42 1601.1 3237.42 1592.37 Q3237.42 1583.62 3240.48 1579.04 Q3243.56 1574.43 3249.37 1574.43 Z\" fill=\"#000000\" fill-rule=\"evenodd\" fill-opacity=\"1\" /><path clip-path=\"url(#clip260)\" d=\"M3249.37 1335.25 Q3245.76 1335.25 3243.93 1338.82 Q3242.12 1342.36 3242.12 1349.49 Q3242.12 1356.6 3243.93 1360.16 Q3245.76 1363.7 3249.37 1363.7 Q3253 1363.7 3254.81 1360.16 Q3256.64 1356.6 3256.64 1349.49 Q3256.64 1342.36 3254.81 1338.82 Q3253 1335.25 3249.37 1335.25 M3249.37 1331.55 Q3255.18 1331.55 3258.23 1336.16 Q3261.31 1340.74 3261.31 1349.49 Q3261.31 1358.22 3258.23 1362.82 Q3255.18 1367.41 3249.37 1367.41 Q3243.56 1367.41 3240.48 1362.82 Q3237.42 1358.22 3237.42 1349.49 Q3237.42 1340.74 3240.48 1336.16 Q3243.56 1331.55 3249.37 1331.55 Z\" fill=\"#000000\" fill-rule=\"evenodd\" fill-opacity=\"1\" /><path clip-path=\"url(#clip260)\" d=\"M3269.53 1360.86 L3274.41 1360.86 L3274.41 1366.74 L3269.53 1366.74 L3269.53 1360.86 Z\" fill=\"#000000\" fill-rule=\"evenodd\" fill-opacity=\"1\" /><path clip-path=\"url(#clip260)\" d=\"M3288.63 1362.8 L3304.95 1362.8 L3304.95 1366.74 L3283 1366.74 L3283 1362.8 Q3285.66 1360.05 3290.25 1355.42 Q3294.85 1350.76 3296.03 1349.42 Q3298.28 1346.9 3299.16 1345.16 Q3300.06 1343.4 3300.06 1341.71 Q3300.06 1338.96 3298.12 1337.22 Q3296.2 1335.49 3293.09 1335.49 Q3290.89 1335.49 3288.44 1336.25 Q3286.01 1337.01 3283.23 1338.56 L3283.23 1333.84 Q3286.06 1332.71 3288.51 1332.13 Q3290.96 1331.55 3293 1331.55 Q3298.37 1331.55 3301.57 1334.24 Q3304.76 1336.92 3304.76 1341.41 Q3304.76 1343.54 3303.95 1345.46 Q3303.16 1347.36 3301.06 1349.95 Q3300.48 1350.62 3297.38 1353.84 Q3294.27 1357.04 3288.63 1362.8 Z\" fill=\"#000000\" fill-rule=\"evenodd\" fill-opacity=\"1\" /><path clip-path=\"url(#clip260)\" d=\"M3314.81 1332.18 L3333.16 1332.18 L3333.16 1336.11 L3319.09 1336.11 L3319.09 1344.58 Q3320.11 1344.24 3321.13 1344.07 Q3322.14 1343.89 3323.16 1343.89 Q3328.95 1343.89 3332.33 1347.06 Q3335.71 1350.23 3335.71 1355.65 Q3335.71 1361.23 3332.24 1364.33 Q3328.76 1367.41 3322.45 1367.41 Q3320.27 1367.41 3318 1367.04 Q3315.76 1366.67 3313.35 1365.93 L3313.35 1361.23 Q3315.43 1362.36 3317.65 1362.92 Q3319.88 1363.47 3322.35 1363.47 Q3326.36 1363.47 3328.7 1361.37 Q3331.03 1359.26 3331.03 1355.65 Q3331.03 1352.04 3328.7 1349.93 Q3326.36 1347.82 3322.35 1347.82 Q3320.48 1347.82 3318.6 1348.24 Q3316.75 1348.66 3314.81 1349.54 L3314.81 1332.18 Z\" fill=\"#000000\" fill-rule=\"evenodd\" fill-opacity=\"1\" /><path clip-path=\"url(#clip260)\" d=\"M3249.37 1092.38 Q3245.76 1092.38 3243.93 1095.94 Q3242.12 1099.48 3242.12 1106.61 Q3242.12 1113.72 3243.93 1117.28 Q3245.76 1120.82 3249.37 1120.82 Q3253 1120.82 3254.81 1117.28 Q3256.64 1113.72 3256.64 1106.61 Q3256.64 1099.48 3254.81 1095.94 Q3253 1092.38 3249.37 1092.38 M3249.37 1088.67 Q3255.18 1088.67 3258.23 1093.28 Q3261.31 1097.86 3261.31 1106.61 Q3261.31 1115.34 3258.23 1119.94 Q3255.18 1124.53 3249.37 1124.53 Q3243.56 1124.53 3240.48 1119.94 Q3237.42 1115.34 3237.42 1106.61 Q3237.42 1097.86 3240.48 1093.28 Q3243.56 1088.67 3249.37 1088.67 Z\" fill=\"#000000\" fill-rule=\"evenodd\" fill-opacity=\"1\" /><path clip-path=\"url(#clip260)\" d=\"M3269.53 1117.98 L3274.41 1117.98 L3274.41 1123.86 L3269.53 1123.86 L3269.53 1117.98 Z\" fill=\"#000000\" fill-rule=\"evenodd\" fill-opacity=\"1\" /><path clip-path=\"url(#clip260)\" d=\"M3284.64 1089.3 L3303 1089.3 L3303 1093.23 L3288.93 1093.23 L3288.93 1101.7 Q3289.95 1101.36 3290.96 1101.19 Q3291.98 1101.01 3293 1101.01 Q3298.79 1101.01 3302.17 1104.18 Q3305.55 1107.35 3305.55 1112.77 Q3305.55 1118.35 3302.08 1121.45 Q3298.6 1124.53 3292.28 1124.53 Q3290.11 1124.53 3287.84 1124.16 Q3285.59 1123.79 3283.19 1123.05 L3283.19 1118.35 Q3285.27 1119.48 3287.49 1120.04 Q3289.71 1120.59 3292.19 1120.59 Q3296.2 1120.59 3298.53 1118.49 Q3300.87 1116.38 3300.87 1112.77 Q3300.87 1109.16 3298.53 1107.05 Q3296.2 1104.94 3292.19 1104.94 Q3290.32 1104.94 3288.44 1105.36 Q3286.59 1105.78 3284.64 1106.66 L3284.64 1089.3 Z\" fill=\"#000000\" fill-rule=\"evenodd\" fill-opacity=\"1\" /><path clip-path=\"url(#clip260)\" d=\"M3324.76 1092.38 Q3321.15 1092.38 3319.32 1095.94 Q3317.51 1099.48 3317.51 1106.61 Q3317.51 1113.72 3319.32 1117.28 Q3321.15 1120.82 3324.76 1120.82 Q3328.39 1120.82 3330.2 1117.28 Q3332.03 1113.72 3332.03 1106.61 Q3332.03 1099.48 3330.2 1095.94 Q3328.39 1092.38 3324.76 1092.38 M3324.76 1088.67 Q3330.57 1088.67 3333.63 1093.28 Q3336.7 1097.86 3336.7 1106.61 Q3336.7 1115.34 3333.63 1119.94 Q3330.57 1124.53 3324.76 1124.53 Q3318.95 1124.53 3315.87 1119.94 Q3312.82 1115.34 3312.82 1106.61 Q3312.82 1097.86 3315.87 1093.28 Q3318.95 1088.67 3324.76 1088.67 Z\" fill=\"#000000\" fill-rule=\"evenodd\" fill-opacity=\"1\" /><path clip-path=\"url(#clip260)\" d=\"M3249.37 849.496 Q3245.76 849.496 3243.93 853.061 Q3242.12 856.603 3242.12 863.733 Q3242.12 870.839 3243.93 874.404 Q3245.76 877.945 3249.37 877.945 Q3253 877.945 3254.81 874.404 Q3256.64 870.839 3256.64 863.733 Q3256.64 856.603 3254.81 853.061 Q3253 849.496 3249.37 849.496 M3249.37 845.793 Q3255.18 845.793 3258.23 850.399 Q3261.31 854.983 3261.31 863.733 Q3261.31 872.459 3258.23 877.066 Q3255.18 881.649 3249.37 881.649 Q3243.56 881.649 3240.48 877.066 Q3237.42 872.459 3237.42 863.733 Q3237.42 854.983 3240.48 850.399 Q3243.56 845.793 3249.37 845.793 Z\" fill=\"#000000\" fill-rule=\"evenodd\" fill-opacity=\"1\" /><path clip-path=\"url(#clip260)\" d=\"M3269.53 875.098 L3274.41 875.098 L3274.41 880.978 L3269.53 880.978 L3269.53 875.098 Z\" fill=\"#000000\" fill-rule=\"evenodd\" fill-opacity=\"1\" /><path clip-path=\"url(#clip260)\" d=\"M3283.42 846.418 L3305.64 846.418 L3305.64 848.409 L3293.09 880.978 L3288.21 880.978 L3300.01 850.353 L3283.42 850.353 L3283.42 846.418 Z\" fill=\"#000000\" fill-rule=\"evenodd\" fill-opacity=\"1\" /><path clip-path=\"url(#clip260)\" d=\"M3314.81 846.418 L3333.16 846.418 L3333.16 850.353 L3319.09 850.353 L3319.09 858.825 Q3320.11 858.478 3321.13 858.316 Q3322.14 858.131 3323.16 858.131 Q3328.95 858.131 3332.33 861.302 Q3335.71 864.473 3335.71 869.89 Q3335.71 875.469 3332.24 878.57 Q3328.76 881.649 3322.45 881.649 Q3320.27 881.649 3318 881.279 Q3315.76 880.908 3313.35 880.168 L3313.35 875.469 Q3315.43 876.603 3317.65 877.158 Q3319.88 877.714 3322.35 877.714 Q3326.36 877.714 3328.7 875.607 Q3331.03 873.501 3331.03 869.89 Q3331.03 866.279 3328.7 864.172 Q3326.36 862.066 3322.35 862.066 Q3320.48 862.066 3318.6 862.483 Q3316.75 862.899 3314.81 863.779 L3314.81 846.418 Z\" fill=\"#000000\" fill-rule=\"evenodd\" fill-opacity=\"1\" /><path clip-path=\"url(#clip260)\" d=\"M3238.09 634.164 L3245.73 634.164 L3245.73 607.798 L3237.42 609.465 L3237.42 605.206 L3245.69 603.539 L3250.36 603.539 L3250.36 634.164 L3258 634.164 L3258 638.099 L3238.09 638.099 L3238.09 634.164 Z\" fill=\"#000000\" fill-rule=\"evenodd\" fill-opacity=\"1\" /><path clip-path=\"url(#clip260)\" d=\"M3267.45 632.219 L3272.33 632.219 L3272.33 638.099 L3267.45 638.099 L3267.45 632.219 Z\" fill=\"#000000\" fill-rule=\"evenodd\" fill-opacity=\"1\" /><path clip-path=\"url(#clip260)\" d=\"M3292.51 606.618 Q3288.9 606.618 3287.08 610.182 Q3285.27 613.724 3285.27 620.854 Q3285.27 627.96 3287.08 631.525 Q3288.9 635.067 3292.51 635.067 Q3296.15 635.067 3297.95 631.525 Q3299.78 627.96 3299.78 620.854 Q3299.78 613.724 3297.95 610.182 Q3296.15 606.618 3292.51 606.618 M3292.51 602.914 Q3298.33 602.914 3301.38 607.52 Q3304.46 612.104 3304.46 620.854 Q3304.46 629.581 3301.38 634.187 Q3298.33 638.77 3292.51 638.77 Q3286.7 638.77 3283.63 634.187 Q3280.57 629.581 3280.57 620.854 Q3280.57 612.104 3283.63 607.52 Q3286.7 602.914 3292.51 602.914 Z\" fill=\"#000000\" fill-rule=\"evenodd\" fill-opacity=\"1\" /><path clip-path=\"url(#clip260)\" d=\"M3322.68 606.618 Q3319.07 606.618 3317.24 610.182 Q3315.43 613.724 3315.43 620.854 Q3315.43 627.96 3317.24 631.525 Q3319.07 635.067 3322.68 635.067 Q3326.31 635.067 3328.12 631.525 Q3329.95 627.96 3329.95 620.854 Q3329.95 613.724 3328.12 610.182 Q3326.31 606.618 3322.68 606.618 M3322.68 602.914 Q3328.49 602.914 3331.54 607.52 Q3334.62 612.104 3334.62 620.854 Q3334.62 629.581 3331.54 634.187 Q3328.49 638.77 3322.68 638.77 Q3316.87 638.77 3313.79 634.187 Q3310.73 629.581 3310.73 620.854 Q3310.73 612.104 3313.79 607.52 Q3316.87 602.914 3322.68 602.914 Z\" fill=\"#000000\" fill-rule=\"evenodd\" fill-opacity=\"1\" /><polyline clip-path=\"url(#clip260)\" style=\"stroke:#000000; stroke-linecap:butt; stroke-linejoin:round; stroke-width:4; stroke-opacity:1; fill:none\" points=\"\n",
       "  3159.42,2567.48 3159.42,2567.48 3211.42,2567.48 3159.42,2567.48 3159.42,2324.6 3211.42,2324.6 3159.42,2324.6 3159.42,2081.72 3211.42,2081.72 3159.42,2081.72 \n",
       "  3159.42,1838.84 3211.42,1838.84 3159.42,1838.84 3159.42,1595.96 3211.42,1595.96 3159.42,1595.96 3159.42,1353.08 3211.42,1353.08 3159.42,1353.08 3159.42,1110.21 \n",
       "  3211.42,1110.21 3159.42,1110.21 3159.42,867.327 3211.42,867.327 3159.42,867.327 3159.42,624.448 3211.42,624.448 3159.42,624.448 \n",
       "  \"/>\n",
       "<path clip-path=\"url(#clip260)\" d=\"\n",
       "M3633.63 2567.48 L4632.76 2567.48 L4632.76 624.448 L3633.63 624.448  Z\n",
       "  \" fill=\"#ffffff\" fill-rule=\"evenodd\" fill-opacity=\"1\"/>\n",
       "<defs>\n",
       "  <clipPath id=\"clip266\">\n",
       "    <rect x=\"3633\" y=\"624\" width=\"1000\" height=\"1944\"/>\n",
       "  </clipPath>\n",
       "</defs>\n",
       "<path clip-path=\"url(#clip260)\" d=\"M4021.49 43.8146 L3995.68 43.8146 Q3996.29 55.9268 3999.09 61.0714 Q4002.57 67.3908 4008.61 67.3908 Q4014.68 67.3908 4018.04 61.0309 Q4021 55.4407 4021.49 43.8146 M4021.37 36.928 Q4020.23 25.4235 4018.04 21.3726 Q4014.56 14.9721 4008.61 14.9721 Q4002.41 14.9721 3999.13 21.2916 Q3996.53 26.3957 3995.76 36.928 L4021.37 36.928 M4008.61 8.89579 Q4018.33 8.89579 4023.88 17.4837 Q4029.43 26.0311 4029.43 41.1815 Q4029.43 56.2914 4023.88 64.8793 Q4018.33 73.5077 4008.61 73.5077 Q3998.84 73.5077 3993.33 64.8793 Q3987.78 56.2914 3987.78 41.1815 Q3987.78 26.0311 3993.33 17.4837 Q3998.84 8.89579 4008.61 8.89579 Z\" fill=\"#000000\" fill-rule=\"evenodd\" fill-opacity=\"1\" /><path clip-path=\"url(#clip260)\" d=\"M4069.13 34.9026 L4121.06 34.9026 L4121.06 41.7081 L4069.13 41.7081 L4069.13 34.9026 M4069.13 51.4303 L4121.06 51.4303 L4121.06 58.3168 L4069.13 58.3168 L4069.13 51.4303 Z\" fill=\"#000000\" fill-rule=\"evenodd\" fill-opacity=\"1\" /><path clip-path=\"url(#clip260)\" d=\"M4159.22 27.2059 L4202.68 27.2059 L4202.68 34.6595 L4196.97 34.6595 L4196.97 62.5298 Q4196.97 65.4464 4197.94 66.7427 Q4198.96 67.9985 4201.19 67.9985 Q4201.79 67.9985 4202.68 67.9175 Q4203.58 67.7959 4203.86 67.7554 L4203.86 73.1431 Q4202.44 73.6697 4200.94 73.9128 Q4199.44 74.1559 4197.94 74.1559 Q4193.08 74.1559 4191.22 71.5228 Q4189.36 68.8492 4189.36 61.7196 L4189.36 34.6595 L4172.63 34.6595 L4172.63 72.576 L4165.01 72.576 L4165.01 34.6595 L4159.22 34.6595 L4159.22 27.2059 Z\" fill=\"#000000\" fill-rule=\"evenodd\" fill-opacity=\"1\" /><path clip-path=\"url(#clip260)\" d=\"M4227.23 12.096 L4234.12 12.096 L4213.05 80.2727 L4206.17 80.2727 L4227.23 12.096 Z\" fill=\"#000000\" fill-rule=\"evenodd\" fill-opacity=\"1\" /><path clip-path=\"url(#clip260)\" d=\"M4250.04 65.6895 L4278.6 65.6895 L4278.6 72.576 L4240.2 72.576 L4240.2 65.6895 Q4244.85 60.8689 4252.87 52.7671 Q4260.94 44.6248 4263 42.2752 Q4266.93 37.8598 4268.47 34.8216 Q4270.05 31.7429 4270.05 28.7857 Q4270.05 23.9651 4266.65 20.927 Q4263.29 17.8888 4257.86 17.8888 Q4254.01 17.8888 4249.72 19.2256 Q4245.46 20.5624 4240.6 23.2765 L4240.6 15.0127 Q4245.54 13.0277 4249.84 12.015 Q4254.13 11.0023 4257.7 11.0023 Q4267.09 11.0023 4272.68 15.7013 Q4278.27 20.4004 4278.27 28.2591 Q4278.27 31.9859 4276.86 35.3482 Q4275.48 38.6699 4271.79 43.2069 Q4270.78 44.3817 4265.35 50.0125 Q4259.92 55.6027 4250.04 65.6895 Z\" fill=\"#000000\" fill-rule=\"evenodd\" fill-opacity=\"1\" /><g clip-path=\"url(#clip266)\">\n",
       "<image width=\"999\" height=\"999\" xlink:href=\"data:image/png;base64,\n",
       "iVBORw0KGgoAAAANSUhEUgAAA+cAAAPnCAYAAABN/j28AAAYJ0lEQVR4nO3ZsW3QABRFUUzjgTwN\n",
       "S3gYT8MS3oLuT+DKNJFwB1KU3IScM8Frr97y88ev+xsfxnas9QQAAADe2fd6AAAAAHx14hwAAABi\n",
       "4hwAAABi4hwAAABi4hwAAABi4hwAAABi4hwAAABi4hwAAABi4hwAAABi4hwAAABi4hwAAABi4hwA\n",
       "AABi4hwAAABi4hwAAABi4hwAAABi4hwAAABi4hwAAABi4hwAAABi4hwAAABi4hwAAABi4hwAAABi\n",
       "4hwAAABi4hwAAABi4hwAAABi4hwAAABi4hwAAABi4hwAAABi4hwAAABi4hwAAABi4hwAAABi4hwA\n",
       "AABi4hwAAABi4hwAAABi4hwAAABi4hwAAABi4hwAAABi4hwAAABi4hwAAABi4hwAAABi4hwAAABi\n",
       "4hwAAABi4hwAAABi4hwAAABi4hwAAABi4hwAAABi4hwAAABi4hwAAABi4hwAAABi4hwAAABi4hwA\n",
       "AABi4hwAAABi4hwAAABi4hwAAABi4hwAAABi4hwAAABi4hwAAABi4hwAAABi4hwAAABi4hwAAABi\n",
       "4hwAAABi4hwAAABi4hwAAABi4hwAAABi4hwAAABi4hwAAABi4hwAAABi4hwAAABi4hwAAABi4hwA\n",
       "AABi4hwAAABi4hwAAABi4hwAAABi4hwAAABi4hwAAABi4hwAAABi4hwAAABi4hwAAABi4hwAAABi\n",
       "4hwAAABi4hwAAABi4hwAAABi4hwAAABi4hwAAABi4hwAAABi4hwAAABi4hwAAABi4hwAAABi4hwA\n",
       "AABi4hwAAABi4hwAAABi4hwAAABi4hwAAABi4hwAAABi4hwAAABi4hwAAABi4hwAAABi4hwAAABi\n",
       "4hwAAABi4hwAAABiy8zc9Qj+OPernsDDdqz1BAAA4AvwnAMAAEBMnAMAAEBMnAMAAEBMnAMAAEBM\n",
       "nAMAAEBMnAMAAEBMnAMAAEBMnAMAAEBMnAMAAEBMnAMAAEBMnAMAAEBMnAMAAEBMnAMAAEBMnAMA\n",
       "AEBMnAMAAEBMnAMAAEBMnAMAAEBMnAMAAEBMnAMAAEBMnAMAAEBMnAMAAEBMnAMAAEBMnAMAAEBM\n",
       "nAMAAEBMnAMAAEBMnAMAAEBMnAMAAEBMnAMAAEBMnAMAAEBMnAMAAEBMnAMAAEBMnAMAAEBMnAMA\n",
       "AEBMnAMAAEBMnAMAAEBMnAMAAEBMnAMAAEBMnAMAAEBMnAMAAEBMnAMAAEBMnAMAAEBMnAMAAEBM\n",
       "nAMAAEBMnAMAAEBMnAMAAEBMnAMAAEBMnAMAAEBMnAMAAEBMnAMAAEBMnAMAAEBMnAMAAEBMnAMA\n",
       "AEBMnAMAAEBMnAMAAEBMnAMAAEBMnAMAAEBMnAMAAEBMnAMAAEBMnAMAAEBMnAMAAEBMnAMAAEBM\n",
       "nAMAAEBMnAMAAEBMnAMAAEBMnAMAAEBMnAMAAEBMnAMAAEBMnAMAAEBMnAMAAEBMnAMAAEBMnAMA\n",
       "AEBMnAMAAEBMnAMAAEBMnAMAAEBMnAMAAEBMnAMAAEBMnAMAAEBMnAMAAEBMnAMAAEBMnAMAAEBM\n",
       "nAMAAEBMnAMAAEBMnAMAAEBMnAMAAEBMnAMAAEBMnAMAAEBMnAMAAEBMnAMAAEBMnAMAAEBMnAMA\n",
       "AEBMnAMAAEBMnAMAAEBMnAMAAEBMnAMAAEBMnAMAAEBMnAMAAEBMnAMAAEBMnAMAAEBMnAMAAEBs\n",
       "mZm7HgEf1blf9QQetmOtJwAAwJvwnAMAAEBMnAMAAEBMnAMAAEBMnAMAAEBMnAMAAEBMnAMAAEBM\n",
       "nAMAAEBMnAMAAEBMnAMAAEBMnAMAAEBMnAMAAEBMnAMAAEBMnAMAAEBMnAMAAEBMnAMAAEBMnAMA\n",
       "AEBMnAMAAEBMnAMAAEBMnAMAAEBMnAMAAEBMnAMAAEBMnAMAAEBMnAMAAEBMnAMAAEBMnAMAAEBM\n",
       "nAMAAEBMnAMAAEBMnAMAAEBMnAMAAEBMnAMAAEBMnAMAAEBMnAMAAEBMnAMAAEBMnAMAAEBMnAMA\n",
       "AEBMnAMAAEBMnAMAAEBMnAMAAEBMnAMAAEBMnAMAAEBMnAMAAEBMnAMAAEBMnAMAAEBMnAMAAEBM\n",
       "nAMAAEBMnAMAAEBMnAMAAEBMnAMAAEBMnAMAAEBMnAMAAEBMnAMAAEBMnAMAAEBMnAMAAEBMnAMA\n",
       "AEBMnAMAAEBMnAMAAEBMnAMAAEBMnAMAAEBMnAMAAEBMnAMAAEBMnAMAAEBMnAMAAEBMnAMAAEBM\n",
       "nAMAAEBMnAMAAEBMnAMAAEBMnAMAAEBMnAMAAEBMnAMAAEBMnAMAAEBMnAMAAEBMnAMAAEBMnAMA\n",
       "AEBMnAMAAEBMnAMAAEBMnAMAAEBMnAMAAEBMnAMAAEBMnAMAAEBMnAMAAEBMnAMAAEBMnAMAAEBM\n",
       "nAMAAEBMnAMAAEBMnAMAAEBMnAMAAEBMnAMAAEBMnAMAAEBMnAMAAEBMnAMAAEBMnAMAAEBMnAMA\n",
       "AEBMnAMAAEBMnAMAAEBMnAMAAEBMnAMAAEBMnAMAAEBMnAMAAEBMnAMAAEBsmZm7HgHwL879qifw\n",
       "sB1rPQEA4L/hOQcAAICYOAcAAICYOAcAAICYOAcAAICYOAcAAICYOAcAAICYOAcAAICYOAcAAICY\n",
       "OAcAAICYOAcAAICYOAcAAICYOAcAAICYOAcAAICYOAcAAICYOAcAAICYOAcAAICYOAcAAICYOAcA\n",
       "AICYOAcAAICYOAcAAICYOAcAAICYOAcAAICYOAcAAICYOAcAAICYOAcAAICYOAcAAICYOAcAAICY\n",
       "OAcAAICYOAcAAICYOAcAAICYOAcAAICYOAcAAICYOAcAAICYOAcAAICYOAcAAICYOAcAAICYOAcA\n",
       "AICYOAcAAICYOAcAAICYOAcAAICYOAcAAICYOAcAAICYOAcAAICYOAcAAICYOAcAAICYOAcAAICY\n",
       "OAcAAICYOAcAAICYOAcAAICYOAcAAICYOAcAAICYOAcAAICYOAcAAICYOAcAAICYOAcAAICYOAcA\n",
       "AICYOAcAAICYOAcAAICYOAcAAICYOAcAAICYOAcAAICYOAcAAICYOAcAAICYOAcAAICYOAcAAICY\n",
       "OAcAAICYOAcAAICYOAcAAICYOAcAAICYOAcAAICYOAcAAICYOAcAAICYOAcAAICYOAcAAICYOAcA\n",
       "AICYOAcAAICYOAcAAICYOAcAAICYOAcAAICYOAcAAICYOAcAAICYOAcAAICYOAcAAICYOAcAAICY\n",
       "OAcAAICYOAcAAICYOAcAAICYOAcAAICYOAcAAICYOAcAAICYOAcAAICYOAcAAICYOAcAAICYOAcA\n",
       "AICYOAcAAICYOAcAAICYOAcAAICYOAcAAICYOAcAAIDYMjN3PQKAz+fcr3oCD9ux1hMAgFfwnAMA\n",
       "AEBMnAMAAEBMnAMAAEBMnAMAAEBMnAMAAEBMnAMAAEBMnAMAAEBMnAMAAEBMnAMAAEBMnAMAAEBM\n",
       "nAMAAEBMnAMAAEBMnAMAAEBMnAMAAEBMnAMAAEBMnAMAAEBMnAMAAEBMnAMAAEBMnAMAAEBMnAMA\n",
       "AEBMnAMAAEBMnAMAAEBMnAMAAEBMnAMAAEBMnAMAAEBMnAMAAEBMnAMAAEBMnAMAAEBMnAMAAEBM\n",
       "nAMAAEBMnAMAAEBMnAMAAEBMnAMAAEBMnAMAAEBMnAMAAEBMnAMAAEBMnAMAAEBMnAMAAEBMnAMA\n",
       "AEBMnAMAAEBMnAMAAEBMnAMAAEBMnAMAAEBMnAMAAEBMnAMAAEBMnAMAAEBMnAMAAEBMnAMAAEBM\n",
       "nAMAAEBMnAMAAEBMnAMAAEBMnAMAAEBMnAMAAEBMnAMAAEBMnAMAAEBMnAMAAEBMnAMAAEBMnAMA\n",
       "AEBMnAMAAEBMnAMAAEBMnAMAAEBMnAMAAEBMnAMAAEBMnAMAAEBMnAMAAEBMnAMAAEBMnAMAAEBM\n",
       "nAMAAEBMnAMAAEBMnAMAAEBMnAMAAEBMnAMAAEBMnAMAAEBMnAMAAEBMnAMAAEBMnAMAAEBMnAMA\n",
       "AEBMnAMAAEBMnAMAAEBMnAMAAEBMnAMAAEBMnAMAAEBMnAMAAEBMnAMAAEBMnAMAAEBMnAMAAEBM\n",
       "nAMAAEBMnAMAAEBMnAMAAEBMnAMAAEBMnAMAAEBMnAMAAEBMnAMAAEBMnAMAAEBMnAMAAEBMnAMA\n",
       "AEBMnAMAAEBMnAMAAEBMnAMAAEBsmZm7HgEAvM65X/UEHrZjrScA8Ml4zgEAACAmzgEAACAmzgEA\n",
       "ACAmzgEAACAmzgEAACAmzgEAACAmzgEAACAmzgEAACAmzgEAACAmzgEAACAmzgEAACAmzgEAACAm\n",
       "zgEAACAmzgEAACAmzgEAACAmzgEAACAmzgEAACAmzgEAACAmzgEAACAmzgEAACAmzgEAACAmzgEA\n",
       "ACAmzgEAACAmzgEAACAmzgEAACAmzgEAACAmzgEAACAmzgEAACAmzgEAACAmzgEAACAmzgEAACAm\n",
       "zgEAACAmzgEAACAmzgEAACAmzgEAACAmzgEAACAmzgEAACAmzgEAACAmzgEAACAmzgEAACAmzgEA\n",
       "ACAmzgEAACAmzgEAACAmzgEAACAmzgEAACAmzgEAACAmzgEAACAmzgEAACAmzgEAACAmzgEAACAm\n",
       "zgEAACAmzgEAACAmzgEAACAmzgEAACAmzgEAACAmzgEAACAmzgEAACAmzgEAACAmzgEAACAmzgEA\n",
       "ACAmzgEAACAmzgEAACAmzgEAACAmzgEAACAmzgEAACAmzgEAACAmzgEAACAmzgEAACAmzgEAACAm\n",
       "zgEAACAmzgEAACAmzgEAACAmzgEAACAmzgEAACAmzgEAACAmzgEAACAmzgEAACAmzgEAACAmzgEA\n",
       "ACAmzgEAACAmzgEAACAmzgEAACAmzgEAACAmzgEAACAmzgEAACAmzgEAACAmzgEAACAmzgEAACAm\n",
       "zgEAACAmzgEAACAmzgEAACAmzgEAACAmzgEAACAmzgEAACAmzgEAACAmzgEAACAmzgEAACAmzgEA\n",
       "ACAmzgEAACC2zMxdjwAA+J+c+1VP4GE71noCwF95zgEAACAmzgEAACAmzgEAACAmzgEAACAmzgEA\n",
       "ACAmzgEAACAmzgEAACAmzgEAACAmzgEAACAmzgEAACAmzgEAACAmzgEAACAmzgEAACAmzgEAACAm\n",
       "zgEAACAmzgEAACAmzgEAACAmzgEAACAmzgEAACAmzgEAACAmzgEAACAmzgEAACAmzgEAACAmzgEA\n",
       "ACAmzgEAACAmzgEAACAmzgEAACAmzgEAACAmzgEAACAmzgEAACAmzgEAACAmzgEAACAmzgEAACAm\n",
       "zgEAACAmzgEAACAmzgEAACAmzgEAACAmzgEAACAmzgEAACAmzgEAACAmzgEAACAmzgEAACAmzgEA\n",
       "ACAmzgEAACAmzgEAACAmzgEAACAmzgEAACAmzgEAACAmzgEAACAmzgEAACAmzgEAACAmzgEAACAm\n",
       "zgEAACAmzgEAACAmzgEAACAmzgEAACAmzgEAACAmzgEAACAmzgEAACAmzgEAACAmzgEAACAmzgEA\n",
       "ACAmzgEAACAmzgEAACAmzgEAACAmzgEAACAmzgEAACAmzgEAACAmzgEAACAmzgEAACAmzgEAACAm\n",
       "zgEAACAmzgEAACAmzgEAACAmzgEAACAmzgEAACAmzgEAACAmzgEAACAmzgEAACAmzgEAACAmzgEA\n",
       "ACAmzgEAACAmzgEAACAmzgEAACAmzgEAACAmzgEAACAmzgEAACAmzgEAACAmzgEAACAmzgEAACAm\n",
       "zgEAACAmzgEAACAmzgEAACAmzgEAACAmzgEAACAmzgEAACAmzgEAACAmzgEAACAmzgEAACC2zMxd\n",
       "jwAAgLdy7lc9gYftWOsJ8CF5zgEAACAmzgEAACAmzgEAACAmzgEAACAmzgEAACAmzgEAACAmzgEA\n",
       "ACAmzgEAACAmzgEAACAmzgEAACAmzgEAACAmzgEAACAmzgEAACAmzgEAACAmzgEAACAmzgEAACAm\n",
       "zgEAACAmzgEAACAmzgEAACAmzgEAACAmzgEAACAmzgEAACAmzgEAACAmzgEAACAmzgEAACAmzgEA\n",
       "ACAmzgEAACAmzgEAACAmzgEAACAmzgEAACAmzgEAACAmzgEAACAmzgEAACAmzgEAACAmzgEAACAm\n",
       "zgEAACAmzgEAACAmzgEAACAmzgEAACAmzgEAACAmzgEAACAmzgEAACAmzgEAACAmzgEAACAmzgEA\n",
       "ACAmzgEAACAmzgEAACAmzgEAACAmzgEAACAmzgEAACAmzgEAACAmzgEAACAmzgEAACAmzgEAACAm\n",
       "zgEAACAmzgEAACAmzgEAACAmzgEAACAmzgEAACAmzgEAACAmzgEAACAmzgEAACAmzgEAACAmzgEA\n",
       "ACAmzgEAACAmzgEAACAmzgEAACAmzgEAACAmzgEAACAmzgEAACAmzgEAACAmzgEAACAmzgEAACAm\n",
       "zgEAACAmzgEAACAmzgEAACAmzgEAACAmzgEAACAmzgEAACAmzgEAACAmzgEAACAmzgEAACAmzgEA\n",
       "ACAmzgEAACAmzgEAACAmzgEAACAmzgEAACAmzgEAACAmzgEAACAmzgEAACAmzgEAACAmzgEAACAm\n",
       "zgEAACAmzgEAACAmzgEAACAmzgEAACAmzgEAACAmzgEAACAmzgEAACC2zMxdjwAAAL6Gc7/qCTxs\n",
       "x1pP4IXnHAAAAGLiHAAAAGLiHAAAAGLiHAAAAGLiHAAAAGLiHAAAAGLiHAAAAGLiHAAAAGLiHAAA\n",
       "AGLiHAAAAGLiHAAAAGLiHAAAAGLiHAAAAGLiHAAAAGLiHAAAAGLiHAAAAGLiHAAAAGLiHAAAAGLi\n",
       "HAAAAGLiHAAAAGLiHAAAAGLiHAAAAGLiHAAAAGLiHAAAAGLiHAAAAGLiHAAAAGLiHAAAAGLiHAAA\n",
       "AGLiHAAAAGLiHAAAAGLiHAAAAGLiHAAAAGLiHAAAAGLiHAAAAGLiHAAAAGLiHAAAAGLiHAAAAGLi\n",
       "HAAAAGLiHAAAAGLiHAAAAGLiHAAAAGLiHAAAAGLiHAAAAGLiHAAAAGLiHAAAAGLiHAAAAGLiHAAA\n",
       "AGLiHAAAAGLiHAAAAGLiHAAAAGLiHAAAAGLiHAAAAGLiHAAAAGLiHAAAAGLiHAAAAGLiHAAAAGLi\n",
       "HAAAAGLiHAAAAGLiHAAAAGLiHAAAAGLiHAAAAGLiHAAAAGLiHAAAAGLiHAAAAGLiHAAAAGLiHAAA\n",
       "AGLiHAAAAGLiHAAAAGLiHAAAAGLiHAAAAGLiHAAAAGLiHAAAAGLiHAAAAGLiHAAAAGLiHAAAAGLi\n",
       "HAAAAGLiHAAAAGLiHAAAAGLiHAAAAGLiHAAAAGLiHAAAAGLiHAAAAGLiHAAAAGLiHAAAAGLiHAAA\n",
       "AGLiHAAAAGLiHAAAAGLiHAAAAGLiHAAAAGLiHAAAAGLiHAAAAGLiHAAAAGLiHAAAAGLiHAAAAGLi\n",
       "HAAAAGLiHAAAAGLiHAAAAGLiHAAAAGLiHAAAAGLLzNz1CAAAAN7fuV/1BF54zgEAACAmzgEAACAm\n",
       "zgEAACAmzgEAACAmzgEAACAmzgEAACAmzgEAACAmzgEAACAmzgEAACAmzgEAACAmzgEAACAmzgEA\n",
       "ACAmzgEAACAmzgEAACAmzgEAACAmzgEAACAmzgEAACAmzgEAACAmzgEAACAmzgEAACAmzgEAACAm\n",
       "zgEAACAmzgEAACAmzgEAACAmzgEAACAmzgEAACAmzgEAACAmzgEAACAmzgEAACAmzgEAACAmzgEA\n",
       "ACAmzgEAACAmzgEAACAmzgEAACAmzgEAACAmzgEAACAmzgEAACAmzgEAACAmzgEAACAmzgEAACAm\n",
       "zgEAACAmzgEAACAmzgEAACAmzgEAACAmzgEAACAmzgEAACAmzgEAACAmzgEAACAmzgEAACAmzgEA\n",
       "ACAmzgEAACAmzgEAACAmzgEAACAmzgEAACAmzgEAACAmzgEAACAmzgEAACAmzgEAACAmzgEAACAm\n",
       "zgEAACAmzgEAACAmzgEAACAmzgEAACAmzgEAACAmzgEAACAmzgEAACAmzgEAACAmzgEAACAmzgEA\n",
       "ACAmzgEAACAmzgEAACAmzgEAACAmzgEAACAmzgEAACAmzgEAACAmzgEAACAmzgEAACAmzgEAACAm\n",
       "zgEAACAmzgEAACAmzgEAACAmzgEAACAmzgEAACAmzgEAACAmzgEAACAmzgEAACAmzgEAACAmzgEA\n",
       "ACAmzgEAACAmzgEAACAmzgEAACAmzgEAACAmzgEAACAmzgEAACAmzgEAACAmzgEAACAmzgEAACAm\n",
       "zgEAACD2G7MfR3k5ggdwAAAAAElFTkSuQmCC\n",
       "\" transform=\"translate(3634, 1096)\"/>\n",
       "</g>\n",
       "<defs>\n",
       "  <clipPath id=\"clip267\">\n",
       "    <rect x=\"4736\" y=\"624\" width=\"157\" height=\"1944\"/>\n",
       "  </clipPath>\n",
       "</defs>\n",
       "<g clip-path=\"url(#clip267)\">\n",
       "<image width=\"156\" height=\"1943\" xlink:href=\"data:image/png;base64,\n",
       "iVBORw0KGgoAAAANSUhEUgAAAJwAAAeXCAYAAAAl2AwAAAAUmUlEQVR4nO3dsZEkNwAEwcFHO0lL\n",
       "6RDdeIBe1AmXacEKFS1MANjz7z//vQ8if376B/C7CI6U4EgJjpTgSAmOlOBI7Zyf/gn8JhaOlOBI\n",
       "CY6U4EgJjpTgSAmO1D7f4QhZOFKCIyU4UoIjJThSgiO1IzlCciMlOFKCIyU4UoIjJThSgiPleBIp\n",
       "C0dKcKQER0pwpARHSnCkvJ5EysKREhwpwZESHCnBkRIcKcGRmuQoyY2U4EgJjpTgSAmOlOBICY7U\n",
       "jgNxhCwcKcGREhwpwZESHCnBkXJNkJSFIyU4UoIjJThSgiMlOFKCI+UVc1IWjpTgSAmOlOBICY6U\n",
       "4EjtSI6Q3EgJjpTgSAmOlOBICY6U4Eg5nkTKwpESHCnBkRIcKcGREhwpwZHyXBcpC0dKcKQER0pw\n",
       "pARHSnCkJjlKciMlOFKCIyU4UoIjJThSgiO143wSIQtHSnCkBEdKcKQER0pwpLyeRMrCkRIcKcGR\n",
       "EhwpwZESHCnBkfJ6EikLR0pwpARHSnCkBEdKcKQER2pHcoTkRkpwpARHSnCkBEdKcKRcEyRl4UgJ\n",
       "jpTgSAmOlOBICY6U4Ei5JkjKwpESHCnBkRIcKcGREhwpx5NIWThSgiMlOFKCIyU4UoIjJThSjieR\n",
       "snCkBEdKcKQER0pwpARHapKjJDdSgiMlOFKCIyU4UoIjJThSO84nEbJwpARHSnCkBEdKcKQER0pw\n",
       "pDzXRcrCkRIcKcGREhwpwZESHCmvJ5GycKQER0pwpARHSnCkBEdKcKQ810VKbqQER0pwpARHSnCk\n",
       "BEfK8SRSFo6U4EgJjpTgSAmOlOBICY6U15NIWThSgiMlOFKCIyU4UoIjJThSzsORsnCkBEdKcKQE\n",
       "R0pwpARHyvEkUhaOlOBICY6U4EgJjpTgSAmO1M4fH+LoWDhSgiMlOFKCIyU4UoIj5XgSKQtHSnCk\n",
       "BEdKcKQER0pwpARHyutJpCwcKcGREhwpwZESHCnBkRIcKefhSFk4UoIjJThSgiMlOFKCI+V4EikL\n",
       "R0pwpARHSnCkBEdKcKQER2qSoyQ3UoIjJThSgiMlOFKCI+V4EikLR0pwpARHSnCkBEdKcKQER8rr\n",
       "SaQsHCnBkRIcKcGREhwpwZESHCnn4UhZOFKCIyU4UoIjJThSgiO1z3cRQhaOlOBICY6U4EgJjpTg\n",
       "SAmOlONJpCwcKcGREhwpwZESHCnBkfLnbqTkRkpwpARHSnCkBEdKcKQER8rxJFIWjpTgSAmOlOBI\n",
       "CY6U4Ej5czdSFo6U4EgJjpTgSAmOlOBICY6U40mkLBwpwZESHCnBkRIcKcGREhwp5+FIWThSgiMl\n",
       "OFKCIyU4UoIjtSM5QnIjJThSgiMlOFKCIyU4UoIj5XgSKQtHSnCkBEdKcKQER0pwpHY8n0TIwpES\n",
       "HCnBkRIcKcGREhwpwZFyPImUhSMlOFKCIyU4UoIjJThSgiPl3wRJWThSgiMlOFKCIyU4UoIj5XgS\n",
       "KQtHSnCkBEdKcKQER0pwpARHyr8JkpIbKcGREhwpwZESHCnBkXI8iZSFIyU4UoIjJThSgiMlOFKC\n",
       "I+U7HCkLR0pwpARHSnCkBEdKcKQER8or5qQsHCnBkRIcKcGREhwpwZFyPImUhSMlOFKCIyU4UoIj\n",
       "JThSgiPleBIpC0dKcKQER0pwpARHSnCk9vkuQsjCkRIcKcGREhwpwZESHCnBkdqRHCG5kRIcKcGR\n",
       "EhwpwZESHCmvJ5GycKQER0pwpARHSnCkBEdKcKS8nkTKwpESHCnBkRIcKcGREhwpwZFyHo6UhSMl\n",
       "OFKCIyU4UoIjJThSPouQsnCkBEdKcKQER0pwpARHSnCkXBMkZeFICY6U4EgJjpTgSAmO1CRHSW6k\n",
       "BEdKcKQER0pwpARHSnCkHE8iZeFICY6U4EgJjpTgSAmOlOBIea6LlIUjJThSgiMlOFKCIyU4UjvO\n",
       "JxGycKQER0pwpARHSnCkBEdKcKQcTyJl4UgJjpTgSAmOlOBICY6U15NIWThSgiMlOFKCIyU4UoIj\n",
       "JThSjieRsnCkBEdKcKQER0pwpARHSnCkJjlKciMlOFKCIyU4UoIjJThSrgmSsnCkBEdKcKQER0pw\n",
       "pARHSnCkXBMkZeFICY6U4EgJjpTgSAmOlONJpCwcKcGREhwpwZESHCnBkRIcKceTSFk4UoIjJThS\n",
       "giMlOFKCIyU4Ur7DkbJwpARHSnCkBEdKcKQER2pHcoTkRkpwpARHSnCkBEdKcKQER2qf97oIWThS\n",
       "giMlOFKCIyU4UoIj5RVzUhaOlOBICY6U4EgJjpTgSAmOlNeTSFk4UoIjJThSgiMlOFKCI+V4EikL\n",
       "R0pwpARHSnCkBEdKcKQER8rxJFIWjpTgSAmOlOBICY6U4EgJjpTvcKQsHCnBkRIcKcGREhwpwZHa\n",
       "kRwhuZESHCnBkRIcKcGREhwpwZFyPImUhSMlOFKCIyU4UoIjJThSXjEnZeFICY6U4EgJjpTgSAmO\n",
       "lOBIOZ5EysKREhwpwZESHCnBkRIcKcGR8h2OlIUjJThSgiMlOFKCIyU4Uq4JkrJwpARHSnCkBEdK\n",
       "cKQER0pwpPb5EEfIwpESHCnBkRIcKcGREhypHckRkhspwZESHCnBkRIcKcGREhwpryeRsnCkBEdK\n",
       "cKQER0pwpARHSnCkfIcjZeFICY6U4EgJjpTgSAmOlFfMSVk4UoIjJThSgiMlOFKCIyU4Uo4nkbJw\n",
       "pARHSnCkBEdKcKQER8pnEVIWjpTgSAmOlOBICY6U4EgJjpRrgqQsHCnBkRIcKcGREhwpwZGa5CjJ\n",
       "jZTgSAmOlOBICY6U4EgJjpTjSaQsHCnBkRIcKcGREhwpwZESHCnPdZGycKQER0pwpARHSnCkBEfK\n",
       "ZxFSFo6U4EgJjpTgSAmOlOBICY7UjnuChCwcKcGREhwpwZESHCnBkXI8iZSFIyU4UoIjJThSgiMl\n",
       "OFKCI+U7HCkLR0pwpARHSnCkBEdKcKQER2pHcoTkRkpwpARHSnCkBEdKcKQcTyJl4UgJjpTgSAmO\n",
       "lOBICY6U4Ej5DkfKwpESHCnBkRIcKcGREhyp+W83ShaOlOBICY6U4EgJjpTgSAmOlONJpCwcKcGR\n",
       "EhwpwZESHCnBkRIcKd/hSFk4UoIjJThSgiMlOFKCI+WaICkLR0pwpARHSnCkBEdKcKQER2qSoyQ3\n",
       "UoIjJThSgiMlOFKCI+XWFikLR0pwpARHSnCkBEdKcKQER8o1QVIWjpTgSAmOlOBICY6U4EgJjpTz\n",
       "cKQsHCnBkRIcKcGREhwpwZHyWYSUhSMlOFKCIyU4UoIjJThSgiPlOxwpC0dKcKQER0pwpARHSnCk\n",
       "fBYhZeFICY6U4EgJjpTgSAmOlOBI7Tvvp38Dv4iFIyU4UoIjJThSgiMlOFKCIyU4UoIjJThSgiMl\n",
       "OFKCIyU4Uq4JkrJwpARHSnCkBEdKcKQER0pwpFwTJGXhSAmOlOBICY6U4EgJjtS+z2cROhaOlOBI\n",
       "CY6U4EgJjpTgSAmOlGuCpCwcKcGREhwpwZESHCnBkdpzPImQhSMlOFKCIyU4UoIjJThSgiPlmiAp\n",
       "C0dKcKQER0pwpARHSnCkBEdqzyvmhCwcKcGREhwpwZESHCnBkXJNkJSFIyU4UoIjJThSgiMlOFKC\n",
       "I7X3fIejY+FICY6U4EgJjpTgSAmO1L7v/vRv4BexcKQER0pwpARHSnCkBEdKcKRcEyRl4UgJjpTg\n",
       "SAmOlOBICY6U4Ej5DkfKwpESHCnBkRIcKcGREhyp3eeaIB0LR0pwpARHSnCkBEdKcKQER8rxJFIW\n",
       "jpTgSAmOlOBICY6U4EjtOZ5EyMKREhwpwZESHCnBkRIcKcGR2vNvgoQsHCnBkRIcKcGREhwpwZHa\n",
       "e25t0bFwpARHSnCkBEdKcKQER0pwpHYdTyJk4UgJjpTgSAmOlOBICY6U4Eh5rouUhSMlOFKCIyU4\n",
       "UoIjJThSrgmSsnCkBEdKcKQER0pwpARHSnCkvGJOysKREhwpwZESHCnBkRIcqV23tghZOFKCIyU4\n",
       "UoIjJThSgiMlOFKuCZKycKQER0pwpARHSnCkBEdKcKRcEyRl4UgJjpTgSAmOlOBICY6Ua4KkLBwp\n",
       "wZESHCnBkRIcKcGREhwp1wRJWThSgiMlOFKCIyU4UoIj5dYWKQtHSnCkBEdKcKQER0pwpARHyjVB\n",
       "UhaOlOBICY6U4EgJjpTgSAmO1J7vcIQsHCnBkRIcKcGREhwpwZHa+7yeRMfCkRIcKcGREhwpwZES\n",
       "HCnBkXI8iZSFIyU4UoIjJThSgiMlOFJeTyJl4UgJjpTgSAmOlOBICY6U4Ei5JkjKwpESHCnBkRIc\n",
       "KcGREhwpwZFyTZCUhSMlOFKCIyU4UoIjJThSrgmSsnCkBEdKcKQER0pwpARHSnCk9p5rgnQsHCnB\n",
       "kRIcKcGREhwpwZHa+xxPomPhSAmOlOBICY6U4EgJjpTgSLkmSMrCkRIcKcGREhwpwZESHCm3tkhZ\n",
       "OFKCIyU4UoIjJThSgiMlOFKuCZKycKQER0pwpARHSnCkBEdKcKRcEyRl4UgJjpTgSAmOlOBICY6U\n",
       "a4KkLBwpwZESHCnBkRIcKcGREhwp1wRJWThSgiMlOFKCIyU4UoIj5dYWKQtHSnCkBEdKcKQER0pw\n",
       "pARHyjVBUhaOlOBICY6U4EgJjpTgSAmOlGuCpCwcKcGREhwpwZESHCnBkXJNkJSFIyU4UoIjJThS\n",
       "giMlOFKCI+WaICkLR0pwpARHSnCkBEdKcKT2HE8iZOFICY6U4EgJjpTgSAmOlOBI7Xo9iZCFIyU4\n",
       "UoIjJThSgiMlOFKCI+WaICkLR0pwpARHSnCkBEdKcKRcEyRl4UgJjpTgSAmOlOBICY6U4Ei5JkjK\n",
       "wpESHCnBkRIcKcGREhwpt7ZIWThSgiMlOFKCIyU4UoIjJThSrgmSsnCkBEdKcKQER0pwpARHyq0t\n",
       "UhaOlOBICY6U4EgJjpTgSAmOlGuCpCwcKcGREhwpwZESHCnBkRIcKdcESVk4UoIjJThSgiMlOFKC\n",
       "I7XreBIhC0dKcKQER0pwpARHSnCkBEdqz3NdhCwcKcGREhwpwZESHCnBkXJri5SFIyU4UoIjJThS\n",
       "giMlOFKCI+WaICkLR0pwpARHSnCkBEdKcKQER8o1QVIWjpTgSAmOlOBICY6U4Ei5JkjKwpESHCnB\n",
       "kRIcKcGREhwpwZFyTZCUhSMlOFKCIyU4UoIjJThSbm2RsnCkBEdKcKQER0pwpARHSnCkXBMkZeFI\n",
       "CY6U4EgJjpTgSAmOlOBIuSZIysKREhwpwZESHCnBkRIcKdcESVk4UoIjJThSgiMlOFKCIyU4Uq4J\n",
       "krJwpARHSnCkBEdKcKQER8qtLVIWjpTgSAmOlOBICY6U4EgJjpTjSaQsHCnBkRIcKcGREhwpwZES\n",
       "HKm9z3k4OhaOlOBICY6U4EgJjpTgSO06nkTIwpESHCnBkRIcKcGREhwpwZFyTZCUhSMlOFKCIyU4\n",
       "UoIjJThSu25tEbJwpARHSnCkBEdKcKQER0pwpBxPImXhSAmOlOBICY6U4EgJjpTPIqQsHCnBkRIc\n",
       "KcGREhwpwZESHCnXBElZOFKCIyU4UoIjJThSgiMlOFLOw5GycKQER0pwpARHSnCkBEdq12cRQhaO\n",
       "lOBICY6U4EgJjpTgSAmO1N5zTZCOhSMlOFKCIyU4UoIjJThSe5/jSXQsHCnBkRIcKcGREhwpwZES\n",
       "HKldx5MIWThSgiMlOFKCIyU4UoIjJThSXjEnZeFICY6U4EgJjpTgSAmOlGuCpCwcKcGREhwpwZES\n",
       "HCnBkRIcKdcESVk4UoIjJThSgiMlOFKCI+XWFikLR0pwpARHSnCkBEdKcKQER2rXdzhCFo6U4EgJ\n",
       "jpTgSAmOlOBICY7U3ueaIB0LR0pwpARHSnCkBEdKcKQcTyJl4UgJjpTgSAmOlOBICY6U4Eh5rouU\n",
       "hSMlOFKCIyU4UoIjJThSbm2RsnCkBEdKcKQER0pwpARHSnCkXBMkZeFICY6U4EgJjpTgSAmOlFtb\n",
       "pCwcKcGREhwpwZESHCnBkRIcqV3XBAlZOFKCIyU4UoIjJThSgiMlOFLOw5GycKQER0pwpARHSnCk\n",
       "BEfK60mkLBwpwZESHCnBkRIcKcGREhypveeaIB0LR0pwpARHSnCkBEdKcKR2P8eT6Fg4UoIjJThS\n",
       "giMlOFKCIyU4Ul5PImXhSAmOlOBICY6U4EgJjpTgSO26JkjIwpESHCnBkRIcKcGREhypPdcECVk4\n",
       "UoIjJThSgiMlOFKCIyU4Uv5NkJSFIyU4UoIjJThSgiMlOFL+3I2UhSMlOFKCIyU4UoIjJThSgiPl\n",
       "eBIpC0dKcKQER0pwpARHSnCkBEfKc12kLBwpwZESHCnBkRIcKcGR8udupCwcKcGREhwpwZESHCnB\n",
       "kRIcqT3XBAlZOFKCIyU4UoIjJThSgiO169YWIQtHSnCkBEdKcKQER0pwpARHyvEkUhaOlOBICY6U\n",
       "4EgJjpTgSAmOlOe6SFk4UoIjJThSgiMlOFKCI+XP3UhZOFKCIyU4UoIjJThSgiMlOFK7rgkSsnCk\n",
       "BEdKcKQER0pwpARHymcRUhaOlOBICY6U4EgJjpTgSAmOlFfMSVk4UoIjJThSgiMlOFKCI7Xr9SRC\n",
       "Fo6U4EgJjpTgSAmOlOBICY6UP3cjZeFICY6U4EgJjpTgSAmOlOBIuSZIysKREhwpwZESHCnBkRIc\n",
       "KdcESVk4UoIjJThSgiMlOFKCIyU4Uv5NkJSFIyU4UoIjJThSgiMlOFJubZGycKQER0pwpARHSnCk\n",
       "BEdKcKQcTyJl4UgJjpTgSAmOlOBICY6U4Ejtfn9/+jfwi1g4UoIjJThSgiMlOFKCI+V4EikLR0pw\n",
       "pARHSnCkBEdKcKQER8pzXaQsHCnBkRIcKcGREhwpwZHa/XwWoWPhSAmOlOBICY6U4EgJjpTgSO0+\n",
       "ryfRsXCkBEdKcKQER0pwpARHSnCkPNdFysKREhwpwZESHCnBkRIcKceTSFk4UoIjJThSgiMlOFKC\n",
       "IyU4Uruf73B0LBwpwZESHCnBkRIcKcGRcjyJlIUjJThSgiMlOFKCIyU4UoIj5TscKQtHSnCkBEdK\n",
       "cKQER0pwpP4HOvdrFLvYkYEAAAAASUVORK5CYII=\n",
       "\" transform=\"translate(4737, 624)\"/>\n",
       "</g>\n",
       "<path clip-path=\"url(#clip260)\" d=\"M4970.76 2564.3 L5000.43 2564.3 L5000.43 2568.24 L4970.76 2568.24 L4970.76 2564.3 Z\" fill=\"#000000\" fill-rule=\"evenodd\" fill-opacity=\"1\" /><path clip-path=\"url(#clip260)\" d=\"M5011.33 2577.19 L5018.97 2577.19 L5018.97 2550.83 L5010.66 2552.5 L5010.66 2548.24 L5018.93 2546.57 L5023.6 2546.57 L5023.6 2577.19 L5031.24 2577.19 L5031.24 2581.13 L5011.33 2581.13 L5011.33 2577.19 Z\" fill=\"#000000\" fill-rule=\"evenodd\" fill-opacity=\"1\" /><path clip-path=\"url(#clip260)\" d=\"M5040.69 2575.25 L5045.57 2575.25 L5045.57 2581.13 L5040.69 2581.13 L5040.69 2575.25 Z\" fill=\"#000000\" fill-rule=\"evenodd\" fill-opacity=\"1\" /><path clip-path=\"url(#clip260)\" d=\"M5065.76 2549.65 Q5062.14 2549.65 5060.32 2553.21 Q5058.51 2556.75 5058.51 2563.88 Q5058.51 2570.99 5060.32 2574.56 Q5062.14 2578.1 5065.76 2578.1 Q5069.39 2578.1 5071.2 2574.56 Q5073.02 2570.99 5073.02 2563.88 Q5073.02 2556.75 5071.2 2553.21 Q5069.39 2549.65 5065.76 2549.65 M5065.76 2545.94 Q5071.57 2545.94 5074.62 2550.55 Q5077.7 2555.13 5077.7 2563.88 Q5077.7 2572.61 5074.62 2577.22 Q5071.57 2581.8 5065.76 2581.8 Q5059.95 2581.8 5056.87 2577.22 Q5053.81 2572.61 5053.81 2563.88 Q5053.81 2555.13 5056.87 2550.55 Q5059.95 2545.94 5065.76 2545.94 Z\" fill=\"#000000\" fill-rule=\"evenodd\" fill-opacity=\"1\" /><path clip-path=\"url(#clip260)\" d=\"M5095.92 2549.65 Q5092.31 2549.65 5090.48 2553.21 Q5088.67 2556.75 5088.67 2563.88 Q5088.67 2570.99 5090.48 2574.56 Q5092.31 2578.1 5095.92 2578.1 Q5099.55 2578.1 5101.36 2574.56 Q5103.19 2570.99 5103.19 2563.88 Q5103.19 2556.75 5101.36 2553.21 Q5099.55 2549.65 5095.92 2549.65 M5095.92 2545.94 Q5101.73 2545.94 5104.78 2550.55 Q5107.86 2555.13 5107.86 2563.88 Q5107.86 2572.61 5104.78 2577.22 Q5101.73 2581.8 5095.92 2581.8 Q5090.11 2581.8 5087.03 2577.22 Q5083.97 2572.61 5083.97 2563.88 Q5083.97 2555.13 5087.03 2550.55 Q5090.11 2545.94 5095.92 2545.94 Z\" fill=\"#000000\" fill-rule=\"evenodd\" fill-opacity=\"1\" /><path clip-path=\"url(#clip260)\" d=\"M4970.76 2321.42 L5000.43 2321.42 L5000.43 2325.36 L4970.76 2325.36 L4970.76 2321.42 Z\" fill=\"#000000\" fill-rule=\"evenodd\" fill-opacity=\"1\" /><path clip-path=\"url(#clip260)\" d=\"M5020.52 2306.77 Q5016.91 2306.77 5015.08 2310.33 Q5013.28 2313.88 5013.28 2321.01 Q5013.28 2328.11 5015.08 2331.68 Q5016.91 2335.22 5020.52 2335.22 Q5024.16 2335.22 5025.96 2331.68 Q5027.79 2328.11 5027.79 2321.01 Q5027.79 2313.88 5025.96 2310.33 Q5024.16 2306.77 5020.52 2306.77 M5020.52 2303.07 Q5026.33 2303.07 5029.39 2307.67 Q5032.47 2312.26 5032.47 2321.01 Q5032.47 2329.73 5029.39 2334.34 Q5026.33 2338.92 5020.52 2338.92 Q5014.71 2338.92 5011.64 2334.34 Q5008.58 2329.73 5008.58 2321.01 Q5008.58 2312.26 5011.64 2307.67 Q5014.71 2303.07 5020.52 2303.07 Z\" fill=\"#000000\" fill-rule=\"evenodd\" fill-opacity=\"1\" /><path clip-path=\"url(#clip260)\" d=\"M5040.69 2332.37 L5045.57 2332.37 L5045.57 2338.25 L5040.69 2338.25 L5040.69 2332.37 Z\" fill=\"#000000\" fill-rule=\"evenodd\" fill-opacity=\"1\" /><path clip-path=\"url(#clip260)\" d=\"M5054.57 2303.69 L5076.8 2303.69 L5076.8 2305.68 L5064.25 2338.25 L5059.37 2338.25 L5071.17 2307.63 L5054.57 2307.63 L5054.57 2303.69 Z\" fill=\"#000000\" fill-rule=\"evenodd\" fill-opacity=\"1\" /><path clip-path=\"url(#clip260)\" d=\"M5085.96 2303.69 L5104.32 2303.69 L5104.32 2307.63 L5090.25 2307.63 L5090.25 2316.1 Q5091.26 2315.75 5092.28 2315.59 Q5093.3 2315.4 5094.32 2315.4 Q5100.11 2315.4 5103.49 2318.57 Q5106.87 2321.75 5106.87 2327.16 Q5106.87 2332.74 5103.39 2335.84 Q5099.92 2338.92 5093.6 2338.92 Q5091.43 2338.92 5089.16 2338.55 Q5086.91 2338.18 5084.51 2337.44 L5084.51 2332.74 Q5086.59 2333.88 5088.81 2334.43 Q5091.03 2334.99 5093.51 2334.99 Q5097.51 2334.99 5099.85 2332.88 Q5102.19 2330.77 5102.19 2327.16 Q5102.19 2323.55 5099.85 2321.45 Q5097.51 2319.34 5093.51 2319.34 Q5091.63 2319.34 5089.76 2319.76 Q5087.91 2320.17 5085.96 2321.05 L5085.96 2303.69 Z\" fill=\"#000000\" fill-rule=\"evenodd\" fill-opacity=\"1\" /><path clip-path=\"url(#clip260)\" d=\"M4970.76 2078.54 L5000.43 2078.54 L5000.43 2082.48 L4970.76 2082.48 L4970.76 2078.54 Z\" fill=\"#000000\" fill-rule=\"evenodd\" fill-opacity=\"1\" /><path clip-path=\"url(#clip260)\" d=\"M5020.52 2063.89 Q5016.91 2063.89 5015.08 2067.46 Q5013.28 2071 5013.28 2078.13 Q5013.28 2085.23 5015.08 2088.8 Q5016.91 2092.34 5020.52 2092.34 Q5024.16 2092.34 5025.96 2088.8 Q5027.79 2085.23 5027.79 2078.13 Q5027.79 2071 5025.96 2067.46 Q5024.16 2063.89 5020.52 2063.89 M5020.52 2060.19 Q5026.33 2060.19 5029.39 2064.79 Q5032.47 2069.38 5032.47 2078.13 Q5032.47 2086.85 5029.39 2091.46 Q5026.33 2096.04 5020.52 2096.04 Q5014.71 2096.04 5011.64 2091.46 Q5008.58 2086.85 5008.58 2078.13 Q5008.58 2069.38 5011.64 2064.79 Q5014.71 2060.19 5020.52 2060.19 Z\" fill=\"#000000\" fill-rule=\"evenodd\" fill-opacity=\"1\" /><path clip-path=\"url(#clip260)\" d=\"M5040.69 2089.49 L5045.57 2089.49 L5045.57 2095.37 L5040.69 2095.37 L5040.69 2089.49 Z\" fill=\"#000000\" fill-rule=\"evenodd\" fill-opacity=\"1\" /><path clip-path=\"url(#clip260)\" d=\"M5055.8 2060.81 L5074.16 2060.81 L5074.16 2064.75 L5060.08 2064.75 L5060.08 2073.22 Q5061.1 2072.87 5062.12 2072.71 Q5063.14 2072.52 5064.16 2072.52 Q5069.95 2072.52 5073.32 2075.7 Q5076.7 2078.87 5076.7 2084.28 Q5076.7 2089.86 5073.23 2092.96 Q5069.76 2096.04 5063.44 2096.04 Q5061.26 2096.04 5059 2095.67 Q5056.75 2095.3 5054.34 2094.56 L5054.34 2089.86 Q5056.43 2091 5058.65 2091.55 Q5060.87 2092.11 5063.35 2092.11 Q5067.35 2092.11 5069.69 2090 Q5072.03 2087.9 5072.03 2084.28 Q5072.03 2080.67 5069.69 2078.57 Q5067.35 2076.46 5063.35 2076.46 Q5061.47 2076.46 5059.6 2076.88 Q5057.75 2077.29 5055.8 2078.17 L5055.8 2060.81 Z\" fill=\"#000000\" fill-rule=\"evenodd\" fill-opacity=\"1\" /><path clip-path=\"url(#clip260)\" d=\"M5095.92 2063.89 Q5092.31 2063.89 5090.48 2067.46 Q5088.67 2071 5088.67 2078.13 Q5088.67 2085.23 5090.48 2088.8 Q5092.31 2092.34 5095.92 2092.34 Q5099.55 2092.34 5101.36 2088.8 Q5103.19 2085.23 5103.19 2078.13 Q5103.19 2071 5101.36 2067.46 Q5099.55 2063.89 5095.92 2063.89 M5095.92 2060.19 Q5101.73 2060.19 5104.78 2064.79 Q5107.86 2069.38 5107.86 2078.13 Q5107.86 2086.85 5104.78 2091.46 Q5101.73 2096.04 5095.92 2096.04 Q5090.11 2096.04 5087.03 2091.46 Q5083.97 2086.85 5083.97 2078.13 Q5083.97 2069.38 5087.03 2064.79 Q5090.11 2060.19 5095.92 2060.19 Z\" fill=\"#000000\" fill-rule=\"evenodd\" fill-opacity=\"1\" /><path clip-path=\"url(#clip260)\" d=\"M4970.76 1835.66 L5000.43 1835.66 L5000.43 1839.6 L4970.76 1839.6 L4970.76 1835.66 Z\" fill=\"#000000\" fill-rule=\"evenodd\" fill-opacity=\"1\" /><path clip-path=\"url(#clip260)\" d=\"M5020.52 1821.01 Q5016.91 1821.01 5015.08 1824.58 Q5013.28 1828.12 5013.28 1835.25 Q5013.28 1842.35 5015.08 1845.92 Q5016.91 1849.46 5020.52 1849.46 Q5024.16 1849.46 5025.96 1845.92 Q5027.79 1842.35 5027.79 1835.25 Q5027.79 1828.12 5025.96 1824.58 Q5024.16 1821.01 5020.52 1821.01 M5020.52 1817.31 Q5026.33 1817.31 5029.39 1821.91 Q5032.47 1826.5 5032.47 1835.25 Q5032.47 1843.97 5029.39 1848.58 Q5026.33 1853.16 5020.52 1853.16 Q5014.71 1853.16 5011.64 1848.58 Q5008.58 1843.97 5008.58 1835.25 Q5008.58 1826.5 5011.64 1821.91 Q5014.71 1817.31 5020.52 1817.31 Z\" fill=\"#000000\" fill-rule=\"evenodd\" fill-opacity=\"1\" /><path clip-path=\"url(#clip260)\" d=\"M5040.69 1846.61 L5045.57 1846.61 L5045.57 1852.49 L5040.69 1852.49 L5040.69 1846.61 Z\" fill=\"#000000\" fill-rule=\"evenodd\" fill-opacity=\"1\" /><path clip-path=\"url(#clip260)\" d=\"M5059.78 1848.56 L5076.1 1848.56 L5076.1 1852.49 L5054.16 1852.49 L5054.16 1848.56 Q5056.82 1845.8 5061.4 1841.17 Q5066.01 1836.52 5067.19 1835.18 Q5069.44 1832.66 5070.32 1830.92 Q5071.22 1829.16 5071.22 1827.47 Q5071.22 1824.72 5069.27 1822.98 Q5067.35 1821.24 5064.25 1821.24 Q5062.05 1821.24 5059.6 1822.01 Q5057.17 1822.77 5054.39 1824.32 L5054.39 1819.6 Q5057.21 1818.47 5059.67 1817.89 Q5062.12 1817.31 5064.16 1817.31 Q5069.53 1817.31 5072.72 1819.99 Q5075.92 1822.68 5075.92 1827.17 Q5075.92 1829.3 5075.11 1831.22 Q5074.32 1833.12 5072.21 1835.71 Q5071.63 1836.38 5068.53 1839.6 Q5065.43 1842.79 5059.78 1848.56 Z\" fill=\"#000000\" fill-rule=\"evenodd\" fill-opacity=\"1\" /><path clip-path=\"url(#clip260)\" d=\"M5085.96 1817.93 L5104.32 1817.93 L5104.32 1821.87 L5090.25 1821.87 L5090.25 1830.34 Q5091.26 1829.99 5092.28 1829.83 Q5093.3 1829.65 5094.32 1829.65 Q5100.11 1829.65 5103.49 1832.82 Q5106.87 1835.99 5106.87 1841.41 Q5106.87 1846.98 5103.39 1850.09 Q5099.92 1853.16 5093.6 1853.16 Q5091.43 1853.16 5089.16 1852.79 Q5086.91 1852.42 5084.51 1851.68 L5084.51 1846.98 Q5086.59 1848.12 5088.81 1848.67 Q5091.03 1849.23 5093.51 1849.23 Q5097.51 1849.23 5099.85 1847.12 Q5102.19 1845.02 5102.19 1841.41 Q5102.19 1837.79 5099.85 1835.69 Q5097.51 1833.58 5093.51 1833.58 Q5091.63 1833.58 5089.76 1834 Q5087.91 1834.41 5085.96 1835.29 L5085.96 1817.93 Z\" fill=\"#000000\" fill-rule=\"evenodd\" fill-opacity=\"1\" /><path clip-path=\"url(#clip260)\" d=\"M4982.7 1578.13 Q4979.09 1578.13 4977.26 1581.7 Q4975.45 1585.24 4975.45 1592.37 Q4975.45 1599.48 4977.26 1603.04 Q4979.09 1606.58 4982.7 1606.58 Q4986.33 1606.58 4988.14 1603.04 Q4989.97 1599.48 4989.97 1592.37 Q4989.97 1585.24 4988.14 1581.7 Q4986.33 1578.13 4982.7 1578.13 M4982.7 1574.43 Q4988.51 1574.43 4991.57 1579.04 Q4994.64 1583.62 4994.64 1592.37 Q4994.64 1601.1 4991.57 1605.7 Q4988.51 1610.29 4982.7 1610.29 Q4976.89 1610.29 4973.81 1605.7 Q4970.76 1601.1 4970.76 1592.37 Q4970.76 1583.62 4973.81 1579.04 Q4976.89 1574.43 4982.7 1574.43 Z\" fill=\"#000000\" fill-rule=\"evenodd\" fill-opacity=\"1\" /><path clip-path=\"url(#clip260)\" d=\"M4982.7 1335.25 Q4979.09 1335.25 4977.26 1338.82 Q4975.45 1342.36 4975.45 1349.49 Q4975.45 1356.6 4977.26 1360.16 Q4979.09 1363.7 4982.7 1363.7 Q4986.33 1363.7 4988.14 1360.16 Q4989.97 1356.6 4989.97 1349.49 Q4989.97 1342.36 4988.14 1338.82 Q4986.33 1335.25 4982.7 1335.25 M4982.7 1331.55 Q4988.51 1331.55 4991.57 1336.16 Q4994.64 1340.74 4994.64 1349.49 Q4994.64 1358.22 4991.57 1362.82 Q4988.51 1367.41 4982.7 1367.41 Q4976.89 1367.41 4973.81 1362.82 Q4970.76 1358.22 4970.76 1349.49 Q4970.76 1340.74 4973.81 1336.16 Q4976.89 1331.55 4982.7 1331.55 Z\" fill=\"#000000\" fill-rule=\"evenodd\" fill-opacity=\"1\" /><path clip-path=\"url(#clip260)\" d=\"M5002.86 1360.86 L5007.75 1360.86 L5007.75 1366.74 L5002.86 1366.74 L5002.86 1360.86 Z\" fill=\"#000000\" fill-rule=\"evenodd\" fill-opacity=\"1\" /><path clip-path=\"url(#clip260)\" d=\"M5021.96 1362.8 L5038.28 1362.8 L5038.28 1366.74 L5016.33 1366.74 L5016.33 1362.8 Q5019 1360.05 5023.58 1355.42 Q5028.19 1350.76 5029.37 1349.42 Q5031.61 1346.9 5032.49 1345.16 Q5033.39 1343.4 5033.39 1341.71 Q5033.39 1338.96 5031.45 1337.22 Q5029.53 1335.49 5026.43 1335.49 Q5024.23 1335.49 5021.77 1336.25 Q5019.34 1337.01 5016.57 1338.56 L5016.57 1333.84 Q5019.39 1332.71 5021.84 1332.13 Q5024.3 1331.55 5026.33 1331.55 Q5031.7 1331.55 5034.9 1334.24 Q5038.09 1336.92 5038.09 1341.41 Q5038.09 1343.54 5037.28 1345.46 Q5036.5 1347.36 5034.39 1349.95 Q5033.81 1350.62 5030.71 1353.84 Q5027.61 1357.04 5021.96 1362.8 Z\" fill=\"#000000\" fill-rule=\"evenodd\" fill-opacity=\"1\" /><path clip-path=\"url(#clip260)\" d=\"M5048.14 1332.18 L5066.5 1332.18 L5066.5 1336.11 L5052.42 1336.11 L5052.42 1344.58 Q5053.44 1344.24 5054.46 1344.07 Q5055.48 1343.89 5056.5 1343.89 Q5062.28 1343.89 5065.66 1347.06 Q5069.04 1350.23 5069.04 1355.65 Q5069.04 1361.23 5065.57 1364.33 Q5062.1 1367.41 5055.78 1367.41 Q5053.6 1367.41 5051.33 1367.04 Q5049.09 1366.67 5046.68 1365.93 L5046.68 1361.23 Q5048.76 1362.36 5050.99 1362.92 Q5053.21 1363.47 5055.69 1363.47 Q5059.69 1363.47 5062.03 1361.37 Q5064.37 1359.26 5064.37 1355.65 Q5064.37 1352.04 5062.03 1349.93 Q5059.69 1347.82 5055.69 1347.82 Q5053.81 1347.82 5051.94 1348.24 Q5050.08 1348.66 5048.14 1349.54 L5048.14 1332.18 Z\" fill=\"#000000\" fill-rule=\"evenodd\" fill-opacity=\"1\" /><path clip-path=\"url(#clip260)\" d=\"M4982.7 1092.38 Q4979.09 1092.38 4977.26 1095.94 Q4975.45 1099.48 4975.45 1106.61 Q4975.45 1113.72 4977.26 1117.28 Q4979.09 1120.82 4982.7 1120.82 Q4986.33 1120.82 4988.14 1117.28 Q4989.97 1113.72 4989.97 1106.61 Q4989.97 1099.48 4988.14 1095.94 Q4986.33 1092.38 4982.7 1092.38 M4982.7 1088.67 Q4988.51 1088.67 4991.57 1093.28 Q4994.64 1097.86 4994.64 1106.61 Q4994.64 1115.34 4991.57 1119.94 Q4988.51 1124.53 4982.7 1124.53 Q4976.89 1124.53 4973.81 1119.94 Q4970.76 1115.34 4970.76 1106.61 Q4970.76 1097.86 4973.81 1093.28 Q4976.89 1088.67 4982.7 1088.67 Z\" fill=\"#000000\" fill-rule=\"evenodd\" fill-opacity=\"1\" /><path clip-path=\"url(#clip260)\" d=\"M5002.86 1117.98 L5007.75 1117.98 L5007.75 1123.86 L5002.86 1123.86 L5002.86 1117.98 Z\" fill=\"#000000\" fill-rule=\"evenodd\" fill-opacity=\"1\" /><path clip-path=\"url(#clip260)\" d=\"M5017.98 1089.3 L5036.33 1089.3 L5036.33 1093.23 L5022.26 1093.23 L5022.26 1101.7 Q5023.28 1101.36 5024.3 1101.19 Q5025.32 1101.01 5026.33 1101.01 Q5032.12 1101.01 5035.5 1104.18 Q5038.88 1107.35 5038.88 1112.77 Q5038.88 1118.35 5035.41 1121.45 Q5031.94 1124.53 5025.62 1124.53 Q5023.44 1124.53 5021.17 1124.16 Q5018.93 1123.79 5016.52 1123.05 L5016.52 1118.35 Q5018.6 1119.48 5020.83 1120.04 Q5023.05 1120.59 5025.52 1120.59 Q5029.53 1120.59 5031.87 1118.49 Q5034.2 1116.38 5034.2 1112.77 Q5034.2 1109.16 5031.87 1107.05 Q5029.53 1104.94 5025.52 1104.94 Q5023.65 1104.94 5021.77 1105.36 Q5019.92 1105.78 5017.98 1106.66 L5017.98 1089.3 Z\" fill=\"#000000\" fill-rule=\"evenodd\" fill-opacity=\"1\" /><path clip-path=\"url(#clip260)\" d=\"M5058.09 1092.38 Q5054.48 1092.38 5052.65 1095.94 Q5050.85 1099.48 5050.85 1106.61 Q5050.85 1113.72 5052.65 1117.28 Q5054.48 1120.82 5058.09 1120.82 Q5061.73 1120.82 5063.53 1117.28 Q5065.36 1113.72 5065.36 1106.61 Q5065.36 1099.48 5063.53 1095.94 Q5061.73 1092.38 5058.09 1092.38 M5058.09 1088.67 Q5063.9 1088.67 5066.96 1093.28 Q5070.04 1097.86 5070.04 1106.61 Q5070.04 1115.34 5066.96 1119.94 Q5063.9 1124.53 5058.09 1124.53 Q5052.28 1124.53 5049.2 1119.94 Q5046.15 1115.34 5046.15 1106.61 Q5046.15 1097.86 5049.2 1093.28 Q5052.28 1088.67 5058.09 1088.67 Z\" fill=\"#000000\" fill-rule=\"evenodd\" fill-opacity=\"1\" /><path clip-path=\"url(#clip260)\" d=\"M4982.7 849.496 Q4979.09 849.496 4977.26 853.061 Q4975.45 856.603 4975.45 863.733 Q4975.45 870.839 4977.26 874.404 Q4979.09 877.945 4982.7 877.945 Q4986.33 877.945 4988.14 874.404 Q4989.97 870.839 4989.97 863.733 Q4989.97 856.603 4988.14 853.061 Q4986.33 849.496 4982.7 849.496 M4982.7 845.793 Q4988.51 845.793 4991.57 850.399 Q4994.64 854.983 4994.64 863.733 Q4994.64 872.459 4991.57 877.066 Q4988.51 881.649 4982.7 881.649 Q4976.89 881.649 4973.81 877.066 Q4970.76 872.459 4970.76 863.733 Q4970.76 854.983 4973.81 850.399 Q4976.89 845.793 4982.7 845.793 Z\" fill=\"#000000\" fill-rule=\"evenodd\" fill-opacity=\"1\" /><path clip-path=\"url(#clip260)\" d=\"M5002.86 875.098 L5007.75 875.098 L5007.75 880.978 L5002.86 880.978 L5002.86 875.098 Z\" fill=\"#000000\" fill-rule=\"evenodd\" fill-opacity=\"1\" /><path clip-path=\"url(#clip260)\" d=\"M5016.75 846.418 L5038.97 846.418 L5038.97 848.409 L5026.43 880.978 L5021.54 880.978 L5033.35 850.353 L5016.75 850.353 L5016.75 846.418 Z\" fill=\"#000000\" fill-rule=\"evenodd\" fill-opacity=\"1\" /><path clip-path=\"url(#clip260)\" d=\"M5048.14 846.418 L5066.5 846.418 L5066.5 850.353 L5052.42 850.353 L5052.42 858.825 Q5053.44 858.478 5054.46 858.316 Q5055.48 858.131 5056.5 858.131 Q5062.28 858.131 5065.66 861.302 Q5069.04 864.473 5069.04 869.89 Q5069.04 875.469 5065.57 878.57 Q5062.1 881.649 5055.78 881.649 Q5053.6 881.649 5051.33 881.279 Q5049.09 880.908 5046.68 880.168 L5046.68 875.469 Q5048.76 876.603 5050.99 877.158 Q5053.21 877.714 5055.69 877.714 Q5059.69 877.714 5062.03 875.607 Q5064.37 873.501 5064.37 869.89 Q5064.37 866.279 5062.03 864.172 Q5059.69 862.066 5055.69 862.066 Q5053.81 862.066 5051.94 862.483 Q5050.08 862.899 5048.14 863.779 L5048.14 846.418 Z\" fill=\"#000000\" fill-rule=\"evenodd\" fill-opacity=\"1\" /><path clip-path=\"url(#clip260)\" d=\"M4971.43 634.164 L4979.07 634.164 L4979.07 607.798 L4970.76 609.465 L4970.76 605.206 L4979.02 603.539 L4983.7 603.539 L4983.7 634.164 L4991.33 634.164 L4991.33 638.099 L4971.43 638.099 L4971.43 634.164 Z\" fill=\"#000000\" fill-rule=\"evenodd\" fill-opacity=\"1\" /><path clip-path=\"url(#clip260)\" d=\"M5000.78 632.219 L5005.66 632.219 L5005.66 638.099 L5000.78 638.099 L5000.78 632.219 Z\" fill=\"#000000\" fill-rule=\"evenodd\" fill-opacity=\"1\" /><path clip-path=\"url(#clip260)\" d=\"M5025.85 606.618 Q5022.24 606.618 5020.41 610.182 Q5018.6 613.724 5018.6 620.854 Q5018.6 627.96 5020.41 631.525 Q5022.24 635.067 5025.85 635.067 Q5029.48 635.067 5031.29 631.525 Q5033.12 627.96 5033.12 620.854 Q5033.12 613.724 5031.29 610.182 Q5029.48 606.618 5025.85 606.618 M5025.85 602.914 Q5031.66 602.914 5034.71 607.52 Q5037.79 612.104 5037.79 620.854 Q5037.79 629.581 5034.71 634.187 Q5031.66 638.77 5025.85 638.77 Q5020.04 638.77 5016.96 634.187 Q5013.9 629.581 5013.9 620.854 Q5013.9 612.104 5016.96 607.52 Q5020.04 602.914 5025.85 602.914 Z\" fill=\"#000000\" fill-rule=\"evenodd\" fill-opacity=\"1\" /><path clip-path=\"url(#clip260)\" d=\"M5056.01 606.618 Q5052.4 606.618 5050.57 610.182 Q5048.76 613.724 5048.76 620.854 Q5048.76 627.96 5050.57 631.525 Q5052.4 635.067 5056.01 635.067 Q5059.64 635.067 5061.45 631.525 Q5063.28 627.96 5063.28 620.854 Q5063.28 613.724 5061.45 610.182 Q5059.64 606.618 5056.01 606.618 M5056.01 602.914 Q5061.82 602.914 5064.88 607.52 Q5067.95 612.104 5067.95 620.854 Q5067.95 629.581 5064.88 634.187 Q5061.82 638.77 5056.01 638.77 Q5050.2 638.77 5047.12 634.187 Q5044.07 629.581 5044.07 620.854 Q5044.07 612.104 5047.12 607.52 Q5050.2 602.914 5056.01 602.914 Z\" fill=\"#000000\" fill-rule=\"evenodd\" fill-opacity=\"1\" /><polyline clip-path=\"url(#clip260)\" style=\"stroke:#000000; stroke-linecap:butt; stroke-linejoin:round; stroke-width:4; stroke-opacity:1; fill:none\" points=\"\n",
       "  4892.76,2567.48 4892.76,2567.48 4944.76,2567.48 4892.76,2567.48 4892.76,2324.6 4944.76,2324.6 4892.76,2324.6 4892.76,2081.72 4944.76,2081.72 4892.76,2081.72 \n",
       "  4892.76,1838.84 4944.76,1838.84 4892.76,1838.84 4892.76,1595.96 4944.76,1595.96 4892.76,1595.96 4892.76,1353.08 4944.76,1353.08 4892.76,1353.08 4892.76,1110.21 \n",
       "  4944.76,1110.21 4892.76,1110.21 4892.76,867.327 4944.76,867.327 4892.76,867.327 4892.76,624.448 4944.76,624.448 4892.76,624.448 \n",
       "  \"/>\n",
       "</svg>\n"
      ]
     },
     "execution_count": 20,
     "metadata": {},
     "output_type": "execute_result"
    }
   ],
   "source": [
    "p0 = imshow(kahan(10,eps())); plot!(p0, title=\"θ = 0\")\n",
    "p4 = imshow(kahan(10,π/4)); plot!(p4, title=\"θ = π/4\")\n",
    "p2 = imshow(kahan(10,π/2)); plot!(p2, title=\"θ = π/2\")\n",
    "draw(plot(p0, p4, p2, layout=(1,3), size=(1300,800)))"
   ]
  },
  {
   "cell_type": "markdown",
   "metadata": {},
   "source": [
    "If $0 < \\theta < \\pi/2$, each column has its largest component in its first entry; the entries get smaller geometrically."
   ]
  },
  {
   "cell_type": "markdown",
   "metadata": {
    "slideshow": {
     "slide_type": "subslide"
    }
   },
   "source": [
    "### CGS on a Kahan matrix vs. CGS on a perturbed Kahan matrix"
   ]
  },
  {
   "cell_type": "code",
   "execution_count": 21,
   "metadata": {
    "cell_style": "split"
   },
   "outputs": [
    {
     "name": "stdout",
     "output_type": "stream",
     "text": [
      "Reconstruction error || A - Q R ||_F = 0.0\n",
      "Orthonormality error || I - Q'Q ||_F = 0.0\n",
      "Upper-triangularity error || R - triu(R) ||_F = 0.0\n"
     ]
    },
    {
     "data": {
      "text/plain": [
       "true"
      ]
     },
     "execution_count": 21,
     "metadata": {},
     "output_type": "execute_result"
    }
   ],
   "source": [
    "m = 10; θ = π/20\n",
    "M = kahan(m, θ)\n",
    "Q, R = qr_classical_gram_schmidt(M)\n",
    "qr_test(M, Q, R)"
   ]
  },
  {
   "cell_type": "code",
   "execution_count": 22,
   "metadata": {
    "cell_style": "split",
    "scrolled": true
   },
   "outputs": [
    {
     "name": "stdout",
     "output_type": "stream",
     "text": [
      "Reconstruction error || A - Q R ||_F = 0.0\n",
      "Orthonormality error || I - Q'Q ||_F = 1.084717103369114\n",
      "Upper-triangularity error || R - triu(R) ||_F = 0.0\n"
     ]
    },
    {
     "data": {
      "text/plain": [
       "false"
      ]
     },
     "execution_count": 22,
     "metadata": {},
     "output_type": "execute_result"
    }
   ],
   "source": [
    "ϕ = eps(Float64)\n",
    "M_p = copy(M[:,:])\n",
    "rot = [cos(ϕ) sin(ϕ); -sin(ϕ) cos(ϕ)]\n",
    "M_p[1:2,:] = rot * M[1:2,:]\n",
    "Q_p, R_p = qr_classical_gram_schmidt(M_p)\n",
    "qr_test(M_p, Q_p, R_p)"
   ]
  },
  {
   "cell_type": "code",
   "execution_count": 23,
   "metadata": {},
   "outputs": [
    {
     "data": {
      "image/svg+xml": [
       "<?xml version=\"1.0\" encoding=\"utf-8\"?>\n",
       "<svg xmlns=\"http://www.w3.org/2000/svg\" xmlns:xlink=\"http://www.w3.org/1999/xlink\" width=\"1300\" height=\"500\" viewBox=\"0 0 5200 2000\">\n",
       "<defs>\n",
       "  <clipPath id=\"clip300\">\n",
       "    <rect x=\"0\" y=\"0\" width=\"5200\" height=\"2000\"/>\n",
       "  </clipPath>\n",
       "</defs>\n",
       "<path clip-path=\"url(#clip300)\" d=\"\n",
       "M0 2000 L5200 2000 L5200 0 L0 0  Z\n",
       "  \" fill=\"#ffffff\" fill-rule=\"evenodd\" fill-opacity=\"1\"/>\n",
       "<defs>\n",
       "  <clipPath id=\"clip301\">\n",
       "    <rect x=\"1040\" y=\"0\" width=\"3641\" height=\"2000\"/>\n",
       "  </clipPath>\n",
       "</defs>\n",
       "<path clip-path=\"url(#clip300)\" d=\"\n",
       "M166.959 1800.6 L4632.76 1800.6 L4632.76 143.709 L166.959 143.709  Z\n",
       "  \" fill=\"#ffffff\" fill-rule=\"evenodd\" fill-opacity=\"1\"/>\n",
       "<defs>\n",
       "  <clipPath id=\"clip302\">\n",
       "    <rect x=\"166\" y=\"143\" width=\"4467\" height=\"1658\"/>\n",
       "  </clipPath>\n",
       "</defs>\n",
       "<g clip-path=\"url(#clip302)\">\n",
       "<image width=\"1657\" height=\"1657\" xlink:href=\"data:image/png;base64,\n",
       "iVBORw0KGgoAAAANSUhEUgAABnkAAAZ5CAYAAACWn3EwAAAgAElEQVR4nOzbQRHCUBQEwSSFGkQg\n",
       "CQ8IRMlTwCkI4JTTZ6q6Fex9aveZOTcAAAAAAABSjtUDAAAAAAAAuE7kAQAAAAAACBJ5AAAAAAAA\n",
       "gkQeAAAAAACAIJEHAAAAAAAgSOQBAAAAAAAIEnkAAAAAAACCRB4AAAAAAIAgkQcAAAAAACBI5AEA\n",
       "AAAAAAgSeQAAAAAAAIJEHgAAAAAAgCCRBwAAAAAAIEjkAQAAAAAACBJ5AAAAAAAAgkQeAAAAAACA\n",
       "IJEHAAAAAAAgSOQBAAAAAAAIEnkAAAAAAACCRB4AAAAAAIAgkQcAAAAAACBI5AEAAAAAAAgSeQAA\n",
       "AAAAAIJEHgAAAAAAgCCRBwAAAAAAIEjkAQAAAAAACBJ5AAAAAAAAgkQeAAAAAACAIJEHAAAAAAAg\n",
       "SOQBAAAAAAAIEnkAAAAAAACCRB4AAAAAAIAgkQcAAAAAACBI5AEAAAAAAAgSeQAAAAAAAIJEHgAA\n",
       "AAAAgCCRBwAAAAAAIEjkAQAAAAAACBJ5AAAAAAAAgkQeAAAAAACAIJEHAAAAAAAgSOQBAAAAAAAI\n",
       "EnkAAAAAAACCRB4AAAAAAIAgkQcAAAAAACBI5AEAAAAAAAgSeQAAAAAAAIJEHgAAAAAAgCCRBwAA\n",
       "AAAAIEjkAQAAAAAACBJ5AAAAAAAAgkQeAAAAAACAIJEHAAAAAAAgSOQBAAAAAAAIEnkAAAAAAACC\n",
       "RB4AAAAAAIAgkQcAAAAAACBI5AEAAAAAAAgSeQAAAAAAAIJEHgAAAAAAgCCRBwAAAAAAIEjkAQAA\n",
       "AAAACBJ5AAAAAAAAgkQeAAAAAACAIJEHAAAAAAAgSOQBAAAAAAAIEnkAAAAAAACCRB4AAAAAAIAg\n",
       "kQcAAAAAACBI5AEAAAAAAAgSeQAAAAAAAIJEHgAAAAAAgCCRBwAAAAAAIEjkAQAAAAAACBJ5AAAA\n",
       "AAAAgkQeAAAAAACAIJEHAAAAAAAgSOQBAAAAAAAIEnkAAAAAAACCRB4AAAAAAIAgkQcAAAAAACBI\n",
       "5AEAAAAAAAgSeQAAAAAAAIJEHgAAAAAAgCCRBwAAAAAAIEjkAQAAAAAACBJ5AAAAAAAAgkQeAAAA\n",
       "AACAIJEHAAAAAAAgSOQBAAAAAAAIEnkAAAAAAACCRB4AAAAAAIAgkQcAAAAAACBI5AEAAAAAAAgS\n",
       "eQAAAAAAAIJEHgAAAAAAgCCRBwAAAAAAIEjkAQAAAAAACBJ5AAAAAAAAgkQeAAAAAACAIJEHAAAA\n",
       "AAAgSOQBAAAAAAAIEnkAAAAAAACCRB4AAAAAAIAgkQcAAAAAACBI5AEAAAAAAAgSeQAAAAAAAIJE\n",
       "HgAAAAAAgCCRBwAAAAAAIEjkAQAAAAAACBJ5AAAAAAAAgkQeAAAAAACAIJEHAAAAAAAgSOQBAAAA\n",
       "AAAIEnkAAAAAAACCRB4AAAAAAIAgkQcAAAAAACBI5AEAAAAAAAgSeQAAAAAAAIJEHgAAAAAAgCCR\n",
       "BwAAAAAAIEjkAQAAAAAACBJ5AAAAAAAAgkQeAAAAAACAIJEHAAAAAAAgSOQBAAAAAAAIEnkAAAAA\n",
       "AACCRB4AAAAAAIAgkQcAAAAAACBI5AEAAAAAAAgSeQAAAAAAAIJEHgAAAAAAgCCRBwAAAAAAIEjk\n",
       "AQAAAAAACBJ5AAAAAAAAgkQeAAAAAACAIJEHAAAAAAAgSOQBAAAAAAAIEnkAAAAAAACCRB4AAAAA\n",
       "AIAgkQcAAAAAACBI5AEAAAAAAAgSeQAAAAAAAIJEHgAAAAAAgCCRBwAAAAAAIEjkAQAAAAAACBJ5\n",
       "AAAAAAAAgkQeAAAAAACAIJEHAAAAAAAgSOQBAAAAAAAIEnkAAAAAAACCRB4AAAAAAIAgkQcAAAAA\n",
       "ACBI5AEAAAAAAAgSeQAAAAAAAIJEHgAAAAAAgCCRBwAAAAAAIEjkAQAAAAAACBJ5AAAAAAAAgkQe\n",
       "AAAAAACAIJEHAAAAAAAgSOQBAAAAAAAIEnkAAAAAAACCRB4AAAAAAIAgkQcAAAAAACDo9n5+Vm+A\n",
       "H6/HffUEAAAAAAD4a548AAAAAAAAQSIPAAAAAABAkMgDAAAAAAAQJPIAAAAAAAAEiTwAAAAAAABB\n",
       "Ig8AAAAAAECQyAMAAAAAABAk8gAAAAAAAASJPAAAAAAAAEEiDwAAAAAAQJDIAwAAAAAAECTyAAAA\n",
       "AAAABIk8AAAAAAAAQSIPAAAAAABAkMgDAAAAAAAQJPIAAAAAAAAEiTwAAAAAAABBIg8AAAAAAECQ\n",
       "yAMAAAAAABAk8gAAAAAAAASJPAAAAAAAAEEiDwAAAAAAQJDIAwAAAAAAECTyAAAAAAAABIk8AAAA\n",
       "AAAAQSIPAAAAAABAkMgDAAAAAAAQJPIAAAAAAAAEiTwAAAAAAABBIg8AAAAAAECQyAMAAAAAABAk\n",
       "8gAAAAAAAASJPAAAAAAAAEEiDwAAAAAAQJDIAwAAAAAAECTyAAAAAAAABIk8AAAAAAAAQSIPAAAA\n",
       "AABAkMgDAAAAAAAQJPIAAAAAAAAEiTwAAAAAAABBIg8AAAAAAECQyAMAAAAAABAk8gAAAAAAAASJ\n",
       "PAAAAAAAAEEiDwAAAAAAQJDIAwAAAAAAECTyAAAAAAAABIk8AAAAAAAAQSIPAAAAAABAkMgDAAAA\n",
       "AAAQJPIAAAAAAAAEiTwAAAAAAABBIg8AAAAAAECQyAMAAAAAABAk8gAAAAAAAASJPAAAAAAAAEEi\n",
       "DwAAAAAAQJDIAwAAAAAAECTyAAAAAAAABIk8AAAAAAAAQSIPAAAAAABAkMgDAAAAAAAQJPIAAAAA\n",
       "AAAEiTwAAAAAAABBIg8AAAAAAECQyAMAAAAAABAk8gAAAAAAAASJPAAAAAAAAEEiDwAAAAAAQJDI\n",
       "AwAAAAAAECTyAAAAAAAABIk8AAAAAAAAQSIPAAAAAABAkMgDAAAAAAAQJPIAAAAAAAAEiTwAAAAA\n",
       "AABBIg8AAAAAAECQyAMAAAAAABAk8gAAAAAAAASJPAAAAAAAAEEiDwAAAAAAQJDIAwAAAAAAECTy\n",
       "AAAAAAAABIk8AAAAAAAAQSIPAAAAAABAkMgDAAAAAAAQJPIAAAAAAAAEiTwAAAAAAABBIg8AAAAA\n",
       "AECQyAMAAAAAABAk8gAAAAAAAASJPAAAAAAAAEEiDwAAAAAAQJDIAwAAAAAAECTyAAAAAAAABIk8\n",
       "AAAAAAAAQSIPAAAAAABAkMgDAAAAAAAQJPIAAAAAAAAEiTwAAAAAAABBIg8AAAAAAECQyAMAAAAA\n",
       "ABAk8gAAAAAAAASJPAAAAAAAAEEiDwAAAAAAQJDIAwAAAAAAECTyAAAAAAAABIk8AAAAAAAAQSIP\n",
       "AAAAAABAkMgDAAAAAAAQJPIAAAAAAAAEiTwAAAAAAABBIg8AAAAAAECQyAMAAAAAABAk8gAAAAAA\n",
       "AASJPAAAAAAAAEEiDwAAAAAAQJDIAwAAAAAAECTyAAAAAAAABIk8AAAAAAAAQSIPAAAAAABAkMgD\n",
       "AAAAAAAQJPIAAAAAAAAEiTwAAAAAAABBIg8AAAAAAECQyAMAAAAAABAk8gAAAAAAAASJPAAAAAAA\n",
       "AEEiDwAAAAAAQJDIAwAAAAAAECTyAAAAAAAABIk8AAAAAAAAQSIPAAAAAABAkMgDAAAAAAAQJPIA\n",
       "AAAAAAAEiTwAAAAAAABBIg8AAAAAAECQyAMAAAAAABAk8gAAAAAAAASJPAAAAAAAAEEiDwAAAAAA\n",
       "QJDIAwAAAAAAECTyAAAAAAAABIk8AAAAAAAAQSIPAAAAAABAkMgDAAAAAAAQJPIAAAAAAAAEiTwA\n",
       "AAAAAABBIg8AAAAAAECQyAMAAAAAABAk8gAAAAAAAASJPAAAAAAAAEEiDwAAAAAAQJDIAwAAAAAA\n",
       "ECTyAAAAAAAABIk8AAAAAAAAQSIPAAAAAABAkMgDAAAAAAAQJPIAAAAAAAAEiTwAAAAAAABBIg8A\n",
       "AAAAAECQyAMAAAAAABAk8gAAAAAAAASJPAAAAAAAAEH7zJyrRwAAAAAAAHCNJw8AAAAAAECQyAMA\n",
       "AAAAABAk8gAAAAAAAASJPAAAAAAAAEEiDwAAAAAAQJDIAwAAAAAAECTyAAAAAAAABIk8AAAAAAAA\n",
       "QSIPAAAAAABAkMgDAAAAAAAQJPIAAAAAAAAEiTwAAAAAAABBIg8AAAAAAECQyAMAAAAAABAk8gAA\n",
       "AAAAAASJPAAAAAAAAEEiDwAAAAAAQJDIAwAAAAAAECTyAAAAAAAABIk8AAAAAAAAQSIPAAAAAABA\n",
       "kMgDAAAAAAAQJPIAAAAAAAAEiTwAAAAAAABBIg8AAAAAAECQyAMAAAAAABAk8gAAAAAAAASJPAAA\n",
       "AAAAAEEiDwAAAAAAQJDIAwAAAAAAECTyAAAAAAAABIk8AAAAAAAAQSIPAAAAAABAkMgDAAAAAAAQ\n",
       "JPIAAAAAAAAEiTwAAAAAAABBIg8AAAAAAECQyAMAAAAAABAk8gAAAAAAAASJPAAAAAAAAEEiDwAA\n",
       "AAAAQJDIAwAAAAAAECTyAAAAAAAABIk8AAAAAAAAQSIPAAAAAABAkMgDAAAAAAAQJPIAAAAAAAAE\n",
       "iTwAAAAAAABBIg8AAAAAAECQyAMAAAAAABAk8gAAAAAAAASJPAAAAAAAAEEiDwAAAAAAQJDIAwAA\n",
       "AAAAECTyAAAAAAAABIk8AAAAAAAAQSIPAAAAAABAkMgDAAAAAAAQJPIAAAAAAAAEiTwAAAAAAABB\n",
       "Ig8AAAAAAECQyAMAAAAAABAk8gAAAAAAAASJPAAAAAAAAEEiDwAAAAAAQJDIAwAAAAAAECTyAAAA\n",
       "AAAABIk8AAAAAAAAQSIPAAAAAABAkMgDAAAAAAAQJPIAAAAAAAAEiTwAAAAAAABBIg8AAAAAAECQ\n",
       "yAMAAAAAABAk8gAAAAAAAASJPAAAAAAAAEEiDwAAAAAAQJDIAwAAAAAAECTyAAAAAAAABIk8AAAA\n",
       "AAAAQSIPAAAAAABAkMgDAAAAAAAQJPIAAAAAAAAEiTwAAAAAAABBIg8AAAAAAECQyAMAAAAAABAk\n",
       "8gAAAAAAAASJPAAAAAAAAEEiDwAAAAAAQJDIAwAAAAAAECTyAAAAAAAABIk8AAAAAAAAQSIPAAAA\n",
       "AABAkMgDAAAAAAAQJPIAAAAAAAAEiTwAAAAAAABBIg8AAAAAAECQyAMAAAAAABAk8gAAAAAAAASJ\n",
       "PAAAAAAAAEEiDwAAAAAAQJDIAwAAAAAAECTyAAAAAAAABIk8AAAAAAAAQSIPAAAAAABAkMgDAAAA\n",
       "AAAQJPIAAAAAAAAEiTwAAAAAAABBIg8AAAAAAECQyAMAAAAAABAk8gAAAAAAAASJPAAAAAAAAEEi\n",
       "DwAAAAAAQJDIAwAAAAAAECTyAAAAAAAABIk8AAAAAAAAQSIPAAAAAABAkMgDAAAAAAAQJPIAAAAA\n",
       "AAAEiTwAAAAAAABBIg8AAAAAAECQyAMAAAAAABAk8gAAAAAAAASJPAAAAAAAAEEiDwAAAAAAQJDI\n",
       "AwAAAAAAECTyAAAAAAAABIk8AAAAAAAAQSIPAAAAAABAkMgDAAAAAAAQJPIAAAAAAAAEiTwAAAAA\n",
       "AABBIg8AAAAAAECQyAMAAAAAABAk8gAAAAAAAASJPAAAAAAAAEEiDwAAAAAAQJDIAwAAAAAAECTy\n",
       "AAAAAAAABIk8AAAAAAAAQSIPAAAAAABAkMgDAAAAAAAQJPIAAAAAAAAEiTwAAAAAAABBIg8AAAAA\n",
       "AECQyAMAAAAAABAk8gAAAAAAAASJPAAAAAAAAEEiDwAAAAAAQJDIAwAAAAAAECTyAAAAAAAABIk8\n",
       "AAAAAAAAQSIPAAAAAABAkMgDAAAAAAAQJPIAAAAAAAAEiTwAAAAAAABBIg8AAAAAAECQyAMAAAAA\n",
       "ABAk8gAAAAAAAASJPAAAAAAAAEEiDwAAAAAAQJDIAwAAAAAAECTyAAAAAAAABIk8AAAAAAAAQSIP\n",
       "AAAAAABAkMgDAAAAAAAQJPIAAAAAAAAEiTwAAAAAAABBIg8AAAAAAECQyAMAAAAAABAk8gAAAAAA\n",
       "AASJPAAAAAAAAEEiDwAAAAAAQJDIAwAAAAAAECTyAAAAAAAABIk8AAAAAAAAQSIPAAAAAABAkMgD\n",
       "AAAAAAAQJPIAAAAAAAAEiTwAAAAAAABBIg8AAAAAAECQyAMAAAAAABAk8gAAAAAAAASJPAAAAAAA\n",
       "AEEiDwAAAAAAQJDIAwAAAAAAECTyAAAAAAAABIk8AAAAAAAAQSIPAAAAAABAkMgDAAAAAAAQJPIA\n",
       "AAAAAAAEiTwAAAAAAABBIg8AAAAAAECQyAMAAAAAABAk8gAAAAAAAASJPAAAAAAAAEEiDwAAAAAA\n",
       "QJDIAwAAAAAAECTyAAAAAAAABIk8AAAAAAAAQSIPAAAAAABAkMgDAAAAAAAQJPIAAAAAAAAEiTwA\n",
       "AAAAAABBIg8AAAAAAECQyAMAAAAAABAk8gAAAAAAAASJPAAAAAAAAEEiDwAAAAAAQJDIAwAAAAAA\n",
       "ECTyAAAAAAAABIk8AAAAAAAAQSIPAAAAAABAkMgDAAAAAAAQJPIAAAAAAAAEiTwAAAAAAABBIg8A\n",
       "AAAAAECQyAMAAAAAABAk8gAAAAAAAASJPAAAAAAAAEEiDwAAAAAAQJDIAwAAAAAAECTyAAAAAAAA\n",
       "BIk8AAAAAAAAQSIPAAAAAABAkMgDAAAAAAAQJPIAAAAAAAAEiTwAAAAAAABBIg8AAAAAAECQyAMA\n",
       "AAAAABAk8gAAAAAAAASJPAAAAAAAAEEiDwAAAAAAQJDIAwAAAAAAECTyAAAAAAAABIk8AAAAAAAA\n",
       "QSIPAAAAAABAkMgDAAAAAAAQJPIAAAAAAAAEiTwAAAAAAABBIg8AAAAAAECQyAMAAAAAABAk8gAA\n",
       "AAAAAASJPAAAAAAAAEEiDwAAAAAAQJDIAwAAAAAAECTyAAAAAAAABIk8AAAAAAAAQSIPAAAAAABA\n",
       "kMgDAAAAAAAQJPIAAAAAAAAEiTwAAAAAAABBIg8AAAAAAECQyAMAAAAAABAk8gAAAAAAAASJPAAA\n",
       "AAAAAEEiDwAAAAAAQJDIAwAAAAAAECTyAAAAAAAABIk8AAAAAAAAQSIPAAAAAABAkMgDAAAAAAAQ\n",
       "JPIAAAAAAAAEiTwAAAAAAABBIg8AAAAAAECQyAMAAAAAABAk8gAAAAAAAASJPAAAAAAAAEEiDwAA\n",
       "AAAAQJDIAwAAAAAAECTyAAAAAAAABIk8AAAAAAAAQSIPAAAAAABAkMgDAAAAAAAQJPIAAAAAAAAE\n",
       "iTwAAAAAAABBIg8AAAAAAECQyAMAAAAAABAk8gAAAAAAAASJPAAAAAAAAEEiDwAAAAAAQJDIAwAA\n",
       "AAAAECTyAAAAAAAABIk8AAAAAAAAQSIPAAAAAABAkMgDAAAAAAAQJPIAAAAAAAAEiTwAAAAAAABB\n",
       "Ig8AAAAAAECQyAMAAAAAABAk8gAAAAAAAASJPAAAAAAAAEEiDwAAAAAAQJDIAwAAAAAAECTyAAAA\n",
       "AAAABIk8AAAAAAAAQSIPAF/27IAEAAAAQND/1+0I9IYAAAAAwJDkAQAAAAAAGJI8AAAAAAAAQ5IH\n",
       "AAAAAABgSPIAAAAAAAAMSR4AAAAAAIAhyQMAAAAAADAkeQAAAAAAAIYkDwAAAAAAwJDkAQAAAAAA\n",
       "GJI8AAAAAAAAQ5IHAAAAAABgSPIAAAAAAAAMSR4AAAAAAIAhyQMAAAAAADAkeQAAAAAAAIYkDwAA\n",
       "AAAAwJDkAQAAAAAAGJI8AAAAAAAAQ5IHAAAAAABgSPIAAAAAAAAMSR4AAAAAAIAhyQMAAAAAADAk\n",
       "eQAAAAAAAIYkDwAAAAAAwJDkAQAAAAAAGJI8AAAAAAAAQ5IHAAAAAABgSPIAAAAAAAAMSR4AAAAA\n",
       "AIAhyQMAAAAAADAkeQAAAAAAAIYkDwAAAAAAwJDkAQAAAAAAGJI8AAAAAAAAQ5IHAAAAAABgSPIA\n",
       "AAAAAAAMSR4AAAAAAIAhyQMAAAAAADAkeQAAAAAAAIYkDwAAAAAAwJDkAQAAAAAAGJI8AAAAAAAA\n",
       "Q5IHAAAAAABgSPIAAAAAAAAMSR4AAAAAAIAhyQMAAAAAADAkeQAAAAAAAIYkDwAAAAAAwJDkAQAA\n",
       "AAAAGJI8AAAAAAAAQ5IHAAAAAABgSPIAAAAAAAAMSR4AAAAAAIAhyQMAAAAAADAkeQAAAAAAAIYk\n",
       "DwAAAAAAwJDkAQAAAAAAGJI8AAAAAAAAQ5IHAAAAAABgSPIAAAAAAAAMSR4AAAAAAIAhyQMAAAAA\n",
       "ADAkeQAAAAAAAIYkDwAAAAAAwJDkAQAAAAAAGJI8AAAAAAAAQ5IHAAAAAABgSPIAAAAAAAAMSR4A\n",
       "AAAAAIAhyQMAAAAAADAkeQAAAAAAAIYkDwAAAAAAwJDkAQAAAAAAGJI8AAAAAAAAQ5IHAAAAAABg\n",
       "SPIAAAAAAAAMSR4AAAAAAIAhyQMAAAAAADAkeQAAAAAAAIYkDwAAAAAAwJDkAQAAAAAAGJI8AAAA\n",
       "AAAAQ5IHAAAAAABgSPIAAAAAAAAMSR4AAAAAAIAhyQMAAAAAADAkeQAAAAAAAIYkDwAAAAAAwJDk\n",
       "AQAAAAAAGJI8AAAAAAAAQ5IHAAAAAABgSPIAAAAAAAAMSR4AAAAAAIAhyQMAAAAAADAkeQAAAAAA\n",
       "AIYkDwAAAAAAwJDkAQAAAAAAGJI8AAAAAAAAQ5IHAAAAAABgSPIAAAAAAAAMSR4AAAAAAIAhyQMA\n",
       "AAAAADAkeQAAAAAAAIYkDwAAAAAAwJDkAQAAAAAAGJI8AAAAAAAAQ5IHAAAAAABgSPIAAAAAAAAM\n",
       "SR4AAAAAAIAhyQMAAAAAADAkeQAAAAAAAIYkDwAAAAAAwJDkAQAAAAAAGJI8AAAAAAAAQ5IHAAAA\n",
       "AABgSPIAAAAAAAAMSR4AAAAAAIAhyQMAAAAAADAkeQAAAAAAAIYkDwAAAAAAwJDkAQAAAAAAGJI8\n",
       "AAAAAAAAQ5IHAAAAAABgSPIAAAAAAAAMSR4AAAAAAIAhyQMAAAAAADAkeQAAAAAAAIYkDwAAAAAA\n",
       "wJDkAQAAAAAAGJI8AAAAAAAAQ5IHAAAAAABgSPIAAAAAAAAMSR4AAAAAAIAhyQMAAAAAADAkeQAA\n",
       "AAAAAIYkDwAAAAAAwJDkAQAAAAAAGJI8AAAAAAAAQ5IHAAAAAABgSPIAAAAAAAAMSR4AAAAAAIAh\n",
       "yQMAAAAAADAkeQAAAAAAAIYkDwAAAAAAwJDkAQAAAAAAGJI8AAAAAAAAQ5IHAAAAAABgSPIAAAAA\n",
       "AAAMSR4AAAAAAIAhyQMAAAAAADAkeQAAAAAAAIYkDwAAAAAAwJDkAQAAAAAAGJI8AAAAAAAAQ5IH\n",
       "AAAAAABgSPIAAAAAAAAMSR4AAAAAAIAhyQMAAAAAADAkeQAAAAAAAIYkDwAAAAAAwJDkAQAAAAAA\n",
       "GJI8AAAAAAAAQ5IHAAAAAABgSPIAAAAAAAAMSR4AAAAAAIAhyQMAAAAAADAkeQAAAAAAAIYkDwAA\n",
       "AAAAwJDkAQAAAAAAGJI8AAAAAAAAQ5IHAAAAAABgSPIAAAAAAAAMSR4AAAAAAIAhyQMAAAAAADAk\n",
       "eQAAAAAAAIYkDwAAAAAAwJDkAQAAAAAAGJI8AAAAAAAAQ5IHAAAAAABgSPIAAAAAAAAMSR4AAAAA\n",
       "AIAhyQMAAAAAADAkeQAAAAAAAIYkDwAAAAAAwJDkAQAAAAAAGJI8AAAAAAAAQ5IHAAAAAABgSPIA\n",
       "AAAAAAAMSR4AAAAAAIAhyQMAAAAAADAkeQAAAAAAAIYkDwAAAAAAwJDkAQAAAAAAGJI8AAAAAAAA\n",
       "Q5IHAAAAAABgSPIAAAAAAAAMSR4AAAAAAIAhyQMAAAAAADAkeQAAAAAAAIYkDwAAAAAAwJDkAQAA\n",
       "AAAAGJI8AAAAAAAAQ5IHAAAAAABgSPIAAAAAAAAMSR4AAAAAAIAhyQMAAAAAADAkeQAAAAAAAIYk\n",
       "DwAAAAAAwJDkAQAAAAAAGJI8AAAAAAAAQ5IHAAAAAABgSPIAAAAAAAAMSR4AAAAAAIAhyQMAAAAA\n",
       "ADAkeQAAAAAAAIYkDwAAAAAAwJDkAQAAAAAAGJI8AAAAAAAAQ5IHAAAAAABgSPIAAAAAAAAMSR4A\n",
       "AAAAAIAhyQMAAAAAADAkeQAAAAAAAIYkDwAAAAAAwJDkAQAAAAAAGJI8AAAAAAAAQ5IHAAAAAABg\n",
       "SPIAAAAAAAAMSR4AAAAAAIAhyQMAAAAAADAkeQAAAAAAAIYkDwAAAAAAwJDkAQAAAAAAGJI8AAAA\n",
       "AAAAQ5IHAAAAAABgSPIAAAAAAAAMSR4AAAAAAIAhyQMAAAAAADAkeQAAAAAAAIYkDwAAAAAAwJDk\n",
       "AQAAAAAAGJI8AAAAAAAAQ5IHAAAAAABgSPIAAAAAAAAMSR4AAAAAAIAhyQMAAAAAADAkeQAAAAAA\n",
       "AIYkDwAAAAAAwJDkAQAAAAAAGJI8AAAAAAAAQ5IHAAAAAABgSPIAAAAAAAAMSR4AAAAAAIAhyQMA\n",
       "AAAAADAkeQAAAAAAAIYkDwAAAAAAwJDkAQAAAAAAGJI8AAAAAAAAQ5IHAAAAAABgSPIAAAAAAAAM\n",
       "SR4AAAAAAIAhyQMAAAAAADAkeQAAAAAAAIYkDwAAAAAAwJDkAQAAAAAAGJI8AAAAAAAAQ5IHAAAA\n",
       "AABgSPIAAAAAAAAMSR4AAAAAAIAhyQMAAAAAADAkeQAAAAAAAIYkDwAAAAAAwJDkAQAAAAAAGJI8\n",
       "AAAAAAAAQ5IHAAAAAABgSPIAAAAAAAAMSR4AAAAAAIAhyQMAAAAAADAkeQAAAAAAAIYkDwAAAAAA\n",
       "wJDkAQAAAAAAGJI8AAAAAAAAQ5IHAAAAAABgSPIAAAAAAAAMSR4AAAAAAIAhyQMAAAAAADAkeQAA\n",
       "AAAAAIYkDwAAAAAAwJDkAQAAAAAAGJI8AAAAAAAAQ5IHAAAAAABgSPIAAAAAAAAMSR4AAAAAAIAh\n",
       "yQMAAAAAADAkeQAAAAAAAIYkDwAAAAAAwJDkAQAAAAAAGJI8AAAAAAAAQ5IHAAAAAABgSPIAAAAA\n",
       "AAAMSR4AAAAAAIAhyQMAAAAAADAkeQAAAFZEB0EAABh9SURBVAAAAIYkDwAAAAAAwJDkAQAAAAAA\n",
       "GJI8AAAAAAAAQ5IHAAAAAABgSPIAAAAAAAAMSR4AAAAAAIAhyQMAAAAAADAkeQAAAAAAAIYkDwAA\n",
       "AAAAwJDkAQAAAAAAGJI8AAAAAAAAQ5IHAAAAAABgSPIAAAAAAAAMSR4AAAAAAIAhyQMAAAAAADAk\n",
       "eQAAAAAAAIYkDwAAAAAAwJDkAQAAAAAAGJI8AAAAAAAAQ5IHAAAAAABgSPIAAAAAAAAMSR4AAAAA\n",
       "AIAhyQMAAAAAADAkeQAAAAAAAIYkDwAAAAAAwJDkAQAAAAAAGJI8AAAAAAAAQ5IHAAAAAABgSPIA\n",
       "AAAAAAAMSR4AAAAAAIAhyQMAAAAAADAkeQAAAAAAAIYkDwAAAAAAwJDkAQAAAAAAGJI8AAAAAAAA\n",
       "Q5IHAAAAAABgSPIAAAAAAAAMSR4AAAAAAIAhyQMAAAAAADAkeQAAAAAAAIYkDwAAAAAAwJDkAQAA\n",
       "AAAAGJI8AAAAAAAAQ5IHAAAAAABgSPIAAAAAAAAMSR4AAAAAAIAhyQMAAAAAADAkeQAAAAAAAIYk\n",
       "DwAAAAAAwJDkAQAAAAAAGJI8AAAAAAAAQ5IHAAAAAABgSPIAAAAAAAAMSR4AAAAAAIAhyQMAAAAA\n",
       "ADAkeQAAAAAAAIYkDwAAAAAAwJDkAQAAAAAAGJI8AAAAAAAAQ5IHAAAAAABgSPIAAAAAAAAMSR4A\n",
       "AAAAAIAhyQMAAAAAADAkeQAAAAAAAIYkDwAAAAAAwJDkAQAAAAAAGJI8AAAAAAAAQ5IHAAAAAABg\n",
       "SPIAAAAAAAAMSR4AAAAAAIAhyQMAAAAAADAkeQAAAAAAAIYkDwAAAAAAwJDkAQAAAAAAGJI8AAAA\n",
       "AAAAQ5IHAAAAAABgSPIAAAAAAAAMSR4AAAAAAIAhyQMAAAAAADAkeQAAAAAAAIYkDwAAAAAAwJDk\n",
       "AQAAAAAAGJI8AAAAAAAAQ5IHAAAAAABgSPIAAAAAAAAMSR4AAAAAAIAhyQMAAAAAADAkeQAAAAAA\n",
       "AIYkDwAAAAAAwJDkAQAAAAAAGJI8AAAAAAAAQ5IHAAAAAABgSPIAAAAAAAAMSR4AAAAAAIAhyQMA\n",
       "AAAAADAkeQAAAAAAAIYkDwAAAAAAwJDkAQAAAAAAGJI8AAAAAAAAQ5IHAAAAAABgSPIAAAAAAAAM\n",
       "SR4AAAAAAIAhyQMAAAAAADAkeQAAAAAAAIYkDwAAAAAAwJDkAQAAAAAAGJI8AAAAAAAAQ5IHAAAA\n",
       "AABgSPIAAAAAAAAMSR4AAAAAAIAhyQMAAAAAADAkeQAAAAAAAIYkDwAAAAAAwJDkAQAAAAAAGJI8\n",
       "AAAAAAAAQ5IHAAAAAABgSPIAAAAAAAAMSR4AAAAAAIAhyQMAAAAAADAkeQAAAAAAAIYkDwAAAAAA\n",
       "wJDkAQAAAAAAGJI8AAAAAAAAQ5IHAAAAAABgSPIAAAAAAAAMSR4AAAAAAIAhyQMAAAAAADAkeQAA\n",
       "AAAAAIYkDwAAAAAAwJDkAQAAAAAAGJI8AAAAAAAAQ5IHAAAAAABgSPIAAAAAAAAMSR4AAAAAAIAh\n",
       "yQMAAAAAADAkeQAAAAAAAIYkDwAAAAAAwJDkAQAAAAAAGJI8AAAAAAAAQ5IHAAAAAABgSPIAAAAA\n",
       "AAAMSR4AAAAAAIAhyQMAAAAAADAkeQAAAAAAAIYkDwAAAAAAwJDkAQAAAAAAGJI8AAAAAAAAQ5IH\n",
       "AAAAAABgSPIAAAAAAAAMSR4AAAAAAIAhyQMAAAAAADAkeQAAAAAAAIYkDwAAAAAAwJDkAQAAAAAA\n",
       "GJI8AAAAAAAAQ5IHAAAAAABgSPIAAAAAAAAMSR4AAAAAAIAhyQMAAAAAADAkeQAAAAAAAIYkDwAA\n",
       "AAAAwJDkAQAAAAAAGJI8AAAAAAAAQ5IHAAAAAABgSPIAAAAAAAAMSR4AAAAAAIAhyQMAAAAAADAk\n",
       "eQAAAAAAAIYkDwAAAAAAwJDkAQAAAAAAGJI8AAAAAAAAQ5IHAAAAAABgSPIAAAAAAAAMSR4AAAAA\n",
       "AIAhyQMAAAAAADAkeQAAAAAAAIYkDwAAAAAAwJDkAQAAAAAAGJI8AAAAAAAAQ5IHAAAAAABgSPIA\n",
       "AAAAAAAMSR4AAAAAAIAhyQMAAAAAADAkeQAAAAAAAIYkDwAAAAAAwJDkAQAAAAAAGJI8AAAAAAAA\n",
       "Q5IHAAAAAABgSPIAAAAAAAAMSR4AAAAAAIAhyQMAAAAAADAkeQAAAAAAAIYkDwAAAAAAwJDkAQAA\n",
       "AAAAGJI8AAAAAAAAQ5IHAAAAAABgSPIAAAAAAAAMSR4AAAAAAIAhyQMAAAAAADAkeQAAAAAAAIYk\n",
       "DwAAAAAAwJDkAQAAAAAAGJI8AAAAAAAAQ5IHAAAAAABgSPIAAAAAAAAMSR4AAAAAAIAhyQMAAAAA\n",
       "ADAkeQAAAAAAAIYkDwAAAAAAwJDkAQAAAAAAGJI8AAAAAAAAQ5IHAAAAAABgSPIAAAAAAAAMSR4A\n",
       "AAAAAIAhyQMAAAAAADAkeQAAAAAAAIYkDwAAAAAAwJDkAQAAAAAAGJI8AAAAAAAAQ5IHAAAAAABg\n",
       "SPIAAAAAAAAMSR4AAAAAAIAhyQMAAAAAADAkeQAAAAAAAIYkDwAAAAAAwJDkAQAAAAAAGJI8AAAA\n",
       "AAAAQ5IHAAAAAABgSPIAAAAAAAAMSR4AAAAAAIAhyQMAAAAAADAkeQAAAAAAAIYkDwAAAAAAwJDk\n",
       "AQAAAAAAGJI8AAAAAAAAQ5IHAAAAAABgSPIAAAAAAAAMSR4AAAAAAIAhyQMAAAAAADAkeQAAAAAA\n",
       "AIYkDwAAAAAAwJDkAQAAAAAAGJI8AAAAAAAAQ5IHAAAAAABgSPIAAAAAAAAMSR4AAAAAAIAhyQMA\n",
       "AAAAADAkeQAAAAAAAIYkDwAAAAAAwJDkAQAAAAAAGJI8AAAAAAAAQ5IHAAAAAABgSPIAAAAAAAAM\n",
       "SR4AAAAAAIAhyQMAAAAAADAkeQAAAAAAAIYkDwAAAAAAwJDkAQAAAAAAGJI8AAAAAAAAQ5IHAAAA\n",
       "AABgSPIAAAAAAAAMSR4AAAAAAIAhyQMAAAAAADAkeQAAAAAAAIYkDwAAAAAAwJDkAQAAAAAAGJI8\n",
       "AAAAAAAAQ5IHAAAAAABgSPIAAAAAAAAMSR4AAAAAAIAhyQMAAAAAADAkeQAAAAAAAIYkDwAAAAAA\n",
       "wJDkAQAAAAAAGJI8AAAAAAAAQ5IHAAAAAABgSPIAAAAAAAAMSR4AAAAAAIAhyQMAAAAAADAkeQAA\n",
       "AAAAAIYkDwAAAAAAwJDkAQAAAAAAGJI8AAAAAAAAQ5IHAAAAAABgSPIAAAAAAAAMSR4AAAAAAIAh\n",
       "yQMAAAAAADAkeQAAAAAAAIYkDwAAAAAAwJDkAQAAAAAAGJI8AAAAAAAAQ5IHAAAAAABgSPIAAAAA\n",
       "AAAMSR4AAAAAAIAhyQMAAAAAADAkeQAAAAAAAIYkDwAAAAAAwJDkAQAAAAAAGJI8AAAAAAAAQ5IH\n",
       "AAAAAABgSPIAAAAAAAAMSR4AAAAAAIAhyQMAAAAAADAkeQAAAAAAAIYkDwAAAAAAwJDkAQAAAAAA\n",
       "GJI8AAAAAAAAQ5IHAAAAAABgSPIAAAAAAAAMSR4AAAAAAIAhyQMAAAAAADAkeQAAAAAAAIYkDwAA\n",
       "AAAAwJDkAQAAAAAAGJI8AAAAAAAAQ5IHAAAAAABgSPIAAAAAAAAMSR4AAAAAAIAhyQMAAAAAADAk\n",
       "eQAAAAAAAIYkDwAAAAAAwJDkAQAAAAAAGJI8AAAAAAAAQ5IHAAAAAABgSPIAAAAAAAAMSR4AAAAA\n",
       "AIAhyQMAUHt2QAIAAAAg6P/rdgR6QwAAAIAhyQMAAAAAADAkeQAAAAAAAIYkDwAAAAAAwJDkAQAA\n",
       "AAAAGJI8AAAAAAAAQ5IHAAAAAABgSPIAAAAAAAAMSR4AAAAAAIAhyQMAAAAAADAkeQAAAAAAAIYk\n",
       "DwAAAAAAwJDkAQAAAAAAGJI8AAAAAAAAQ5IHAAAAAABgSPIAAAAAAAAMSR4AAAAAAIAhyQMAAAAA\n",
       "ADAkeQAAAAAAAIYkDwAAAAAAwJDkAQAAAAAAGJI8AAAAAAAAQ5IHAAAAAABgSPIAAAAAAAAMSR4A\n",
       "AAAAAIAhyQMAAAAAADAkeQAAAAAAAIYkDwAAAAAAwJDkAQAAAAAAGJI8AAAAAAAAQ5IHAAAAAABg\n",
       "SPIAAAAAAAAMSR4AAAAAAIAhyQMAAAAAADAkeQAAAAAAAIYkDwAAAAAAwJDkAQAAAAAAGJI8AAAA\n",
       "AAAAQ5IHAAAAAABgSPIAAAAAAAAMSR4AAAAAAIAhyQMAAAAAADAkeQAAAAAAAIYkDwAAAAAAwJDk\n",
       "AQAAAAAAGJI8AAAAAAAAQ5IHAAAAAABgSPIAAAAAAAAMSR4AAAAAAIAhyQMAAAAAADAkeQAAAAAA\n",
       "AIYkDwAAAAAAwJDkAQAAAAAAGJI8AAAAAAAAQ5IHAAAAAABgSPIAAAAAAAAMSR4AAAAAAIAhyQMA\n",
       "AAAAADAkeQAAAAAAAIYkDwAAAAAAwJDkAQAAAAAAGJI8AAAAAAAAQ5IHAAAAAABgSPIAAAAAAAAM\n",
       "SR4AAAAAAIAhyQMAAAAAADAkeQAAAAAAAIYkDwAAAAAAwJDkAQAAAAAAGJI8AAAAAAAAQ5IHAAAA\n",
       "AABgSPIAAAAAAAAMSR4AAAAAAIAhyQMAAAAAADAkeQAAAAAAAIYkDwAAAAAAwJDkAQAAAAAAGJI8\n",
       "AAAAAAAAQ5IHAAAAAABgSPIAAAAAAAAMSR4AAAAAAIAhyQMAAAAAADAkeQAAAAAAAIYkDwAAAAAA\n",
       "wJDkAQAAAAAAGJI8AAAAAAAAQ5IHAAAAAABgSPIAAAAAAAAMSR4AAAAAAIAhyQMAAAAAADAkeQAA\n",
       "AAAAAIYkDwAAAAAAwJDkAQAAAAAAGJI8AAAAAAAAQ5IHAAAAAABgSPIAAAAAAAAMSR4AAAAAAIAh\n",
       "yQMAAAAAADAkeQAAAAAAAIYkDwAAAAAAwJDkAQAAAAAAGJI8AAAAAAAAQ5IHAAAAAABgSPIAAAAA\n",
       "AAAMSR4AAAAAAIAhyQMAAAAAADAkeQAAAAAAAIYkDwAAAAAAwJDkAQAAAAAAGJI8AAAAAAAAQ5IH\n",
       "AAAAAABgSPIAAAAAAAAMSR4AAAAAAIAhyQMAAAAAADAkeQAAAAAAAIYkDwAAAAAAwJDkAQAAAAAA\n",
       "GJI8AAAAAAAAQ5IHAAAAAABgSPIAAAAAAAAMSR4AAAAAAIAhyQMAAAAAADAkeQAAAAAAAIYkDwAA\n",
       "AAAAwJDkAQAAAAAAGJI8AAAAAAAAQ5IHAAAAAABgSPIAAAAAAAAMSR4AAAAAAIAhyQMAAAAAADAk\n",
       "eQAAAAAAAIYkDwAAAAAAwJDkAQAAAAAAGJI8AAAAAAAAQ5IHAAAAAABgSPIAAAAAAAAMSR4AAAAA\n",
       "AIAhyQMAAAAAADAkeQAAAAAAAIYkDwAAAAAAwJDkAQAAAAAAGJI8AAAAAAAAQ5IHAAAAAABgSPIA\n",
       "AAAAAAAMSR4AAAAAAIAhyQMAAAAAADAkeQAAAAAAAIYkDwAAAAAAwJDkAQAAAAAAGJI8AAAAAAAA\n",
       "Q5IHAAAAAABgSPIAAAAAAAAMSR4AAAAAAIAhyQMAAAAAADAkeQAAAAAAAIYkDwAAAAAAwJDkAQAA\n",
       "AAAAGJI8AAAAAAAAQ5IHAAAAAABgSPIAAAAAAAAMSR4AAAAAAIAhyQMAAAAAADAkeQAAAAAAAIYk\n",
       "DwAAAAAAwJDkAQAAAAAAGJI8AAAAAAAAQ5IHAAAAAABgSPIAAAAAAAAMSR4AAAAAAIAhyQMAAAAA\n",
       "ADAkeQAAAAAAAIYkDwAAAAAAwJDkAQAAAAAAGJI8AAAAAAAAQ5IHAAAAAABgSPIAAAAAAAAMSR4A\n",
       "AAAAAIAhyQMAAAAAADAkeQAAAAAAAIYkDwAAAAAAwJDkAQAAAAAAGJI8AAAAAAAAQ5IHAAAAAABg\n",
       "SPIAAAAAAAAMSR4AAAAAAIAhyQMAAAAAADAkeQAAAAAAAIYkDwAAAAAAwJDkAQAAAAAAGJI8AAAA\n",
       "AAAAQ5IHAAAAAABgSPIAAAAAAAAMSR4AAAAAAIAhyQMAAAAAADAkeQAAAAAAAIYkDwAAAAAAwJDk\n",
       "AQAAAAAAGJI8AAAAAAAAQ5IHAAAAAABgSPIAAAAAAAAMSR4AAAAAAIAhyQMAAAAAADAkeQAAAAAA\n",
       "AIYkDwAAAAAAwJDkAQAAAAAAGJI8AAAAAAAAQ5IHAAAAAABgSPIAAAAAAAAMSR4AAAAAAIAhyQMA\n",
       "AAAAADAkeQAAAAAAAIYkDwAAAAAAwJDkAQAAAAAAGJI8AAAAAAAAQ5IHAAAAAABgSPIAAAAAAAAM\n",
       "SR4AAAAAAIAhyQMAAAAAADAkeQAAAAAAAIYkDwAAAAAAwJDkAQAAAAAAGJI8AAAAAAAAQ5IHAAAA\n",
       "AABgSPIAAAAAAAAMSR4AAAAAAIAhyQMAAAAAADAkeQAAAAAAAIYkDwAAAAAAwJDkAQAAAAAAGJI8\n",
       "AAAAAAAAQ5IHAAAAAABgSPIAAAAAAAAMSR4AAAAAAIAhyQMAAAAAADAkeQAAAAAAAIYkDwAAAAAA\n",
       "wJDkAQAAAAAAGJI8AAAAAAAAQ5IHAAAAAABgSPIAAAAAAAAMSR4AAAAAAIAhyQMAAAAAADAkeQAA\n",
       "AAAAAIYkDwAAAAAAwJDkAQAAAAAAGJI8AAAAAAAAQ5IHAAAAAABgSPIAAAAAAAAMSR4AAAAAAIAh\n",
       "yQMAAAAAADAkeQAAAAAAAIYkDwAAAAAAwJDkAQAAAAAAGJI8AAAAAAAAQ5IHAAAAAABgSPIAAAAA\n",
       "AAAMSR4AAAAAAIAhyQMAAAAAADAkeQAAAAAAAIYkDwAAAAAAwJDkAQAAAAAAGJI8AAAAAAAAQ5IH\n",
       "AAAAAABgSPIAAAAAAAAMSR4AAAAAAIAhyQMAAAAAADAkeQAAAAAAAIYkDwAAAAAAwJDkAQAAAAAA\n",
       "GJI8AAAAAAAAQ5IHAAAAAABgSPIAAAAAAAAMSR4AAAAAAIAhyQMAAAAAADAkeQAAAAAAAIYkDwAA\n",
       "AAAAwJDkAQAAAAAAGJI8AAAAAAAAQ5IHAAAAAABgSPIAAAAAAAAMSR4AAAAAAIAhyQMAAAAAADAk\n",
       "eQAAAAAAAIYkDwAAAAAAwJDkAQAAAAAAGJI8AAAAAAAAQ5IHAAAAAABgSPIAAAAAAAAMSR4AAAAA\n",
       "AIAhyQMAAAAAADAkeQAAAAAAAIYkDwAAAAAAwJDkAQAAAAAAGJI8AAAAAAAAQ5IHAAAAAABgSPIA\n",
       "AAAAAAAMSR4AAAAAAIAhyQMAAAAAADAkeQAAAAAAAIYkDwAAAAAAwJDkAQAAAAAAGJI8AAAAAAAA\n",
       "Q5IHAAAAAABgSPIAAAAAAAAMSR4AAAAAAIAhyQMAAAAAADAkeQAAAAAAAIYkDwAAAAAAwJDkAQAA\n",
       "AAAAGJI8AAAAAAAAQ5IHAAAAAABgSPIAAAAAAAAMSR4AAAAAAIAhyQMAAAAAADAkeQAAAAAAAIYk\n",
       "DwAAAAAAwJDkAQAAAAAAGJI8AAAAAAAAQ5IHAAAAAABgSPIAAAAAAAAMSR4AAAAAAIAhyQMAAAAA\n",
       "ADAkeQAAAAAAAIYkDwAAAAAAwJDkAQAAAAAAGJI8AAAAAAAAQ5IHAAAAAABgSPIAAAAAAAAMSR4A\n",
       "AAAAAIAhyQMAAAAAADAkeQAAAAAAAIYkDwAAAAAAwJDkAQAAAAAAGJI8AAAAAAAAQ5IHAAAAAABg\n",
       "SPIAAAAAAAAMSR4AAAAAAIAhyQMAAAAAADAkeQAAAAAAAIYkDwAAAAAAwJDkAQAAAAAAGJI8AAAA\n",
       "AAAAQ5IHAAAAAABgSPIAAAAAAAAMSR4AAAAAAIAhyQMAAAAAADAkeQAAAAAAAIYkDwAAAAAAwJDk\n",
       "AQAAAAAAGJI8AAAAAAAAQ5IHAAAAAABgSPIAAAAAAAAMSR4AAAAAAIAhyQMAAAAAADAkeQAAAAAA\n",
       "AIYkDwAAAAAAwJDkAQAAAAAAGJI8AAAAAAAAQ5IHAAAAAABgSPIAAAAAAAAMSR4AAAAAAIAhyQMA\n",
       "AAAAADAkeQAAAAAAAIYkDwAAAAAAwJDkAQAAAAAAGJI8AAAAAAAAQ5IHAAAAAABgSPIAAAAAAAAM\n",
       "SR4AAAAAAIAhyQMAAAAAADAkeQAAAAAAAIYkDwAAAAAAwJDkAQAAAAAAGJI8AAAAAAAAQ5IHAAAA\n",
       "AABgSPIAAAAAAAAMSR4AAAAAAIAhyQMAAAAAADAkeQAAAAAAAIYkDwAAAAAAwJDkAQAAAAAAGJI8\n",
       "AAAAAAAAQ5IHAAAAAABgSPIAAAAAAAAMSR4AAAAAAIAhyQMAAAAAADAkeQAAAAAAAIYkDwAAAAAA\n",
       "wJDkAQAAAAAAGJI8AAAAAAAAQ5IHAAAAAABgSPIAAAAAAAAMSR4AAAAAAIAhyQMAAAAAADAkeQAA\n",
       "AAAAAIYkDwAAAAAAwJDkAQAAAAAAGJI8AAAAAAAAQwGBVBeQO1gzZQAAAABJRU5ErkJggg==\n",
       "\" transform=\"translate(1571, 144)\"/>\n",
       "</g>\n",
       "<defs>\n",
       "  <clipPath id=\"clip303\">\n",
       "    <rect x=\"4736\" y=\"143\" width=\"157\" height=\"1658\"/>\n",
       "  </clipPath>\n",
       "</defs>\n",
       "<g clip-path=\"url(#clip303)\">\n",
       "<image width=\"156\" height=\"1657\" xlink:href=\"data:image/png;base64,\n",
       "iVBORw0KGgoAAAANSUhEUgAAAJwAAAZ5CAYAAACv4X1GAAARwUlEQVR4nO3dwXEbMQAEQZxqk3Sk\n",
       "Tshp6OAshg92R6DH1FZRAMjn759/90Dk59N/AN9FcKQER0pwpARHSnCk9jyf/hP4JhaOlOBICY6U\n",
       "4EgJjtSOT6mELBwpwZESHCnBkRIcKcGR2iM5QnIjJThSgiMlOFKCI+XwnpSFIyU4UoIjJThSgiMl\n",
       "OFJe3pOycKQER0pwpARHSnCkJjlKciMlOFKCIyU4UoIjJThSe5zeE7JwpARHSnCkBEdKcKRcMSdl\n",
       "4UgJjpTgSAmOlOBICY6ULyQkZeFICY6U4EgJjpTgSPlxN1JyIyU4UoIjJThSgiMlOFIO70lZOFKC\n",
       "IyU4UoIjJThSXt6TsnCkBEdKcKQER0pwpARHyq8JkpIbKcGREhwpwZESHCk/7kbKwpESHCnBkRIc\n",
       "KcGREhwpL+9JWThSgiMlOFKCIyU4Ul7ek7JwpARHSnCkBEdKcKQER8qvCZKSGynBkRIcKcGREhwp\n",
       "V8xJWThSgiMlOFKCIyU4Uq6Yk7JwpARHSnCkBEdKcKQER8rhPSkLR0pwpARHSnCkBEfK4T0pC0dK\n",
       "cKQER0pwpARHSnCkJjlKciMlOFKCIyU4UoIjtcfpPSELR0pwpARHSnCkBEdKcKS8vCdl4UgJjpTg\n",
       "SAmOlOBIeXlPysKREhwpwZESHCnBkRIcKS/vScmNlOBICY6U4EgJjpTDe1IWjpTgSAmOlOBICY6U\n",
       "4Eh5eU/KwpESHCnBkRIcKcGRcnhPysKREhwpwZESHCnBkRIcKYf3pCwcKcGREhwpwZESHKk9Pz6m\n",
       "0rFwpARHSnCkBEdKcKQER8rhPSkLR0pwpARHSnCkBEfKy3tSFo6U4EgJjpTgSAmOlOBIObwnZeFI\n",
       "CY6U4EgJjpTgSDm8J2XhSAmOlOBICY6U4EgJjtQkR0lupARHSnCkBEdKcKQc3pOycKQER0pwpARH\n",
       "SnCkPIQmZeFICY6U4EgJjpTgSAmOlMN7UhaOlOBICY6U4EgJjtSOj6mELBwpwZESHCnBkRIcKcGR\n",
       "cnhPysKREhwpwZESHCnBkfIt5qTkRkpwpARHSnCkBEdKcKQc3pOycKQER0pwpARHSnCkfG0+KQtH\n",
       "SnCkBEdKcKQER0pwpBzek7JwpARHSnCkBEdKcKQc3pOycKQER0pwpARHSnCkBEdqj+QIyY2U4EgJ\n",
       "jpTgSAmOlMN7UhaOlOBICY6U4EgJjpTgSO3x9J6QhSMlOFKCIyU4UoIj5fCelIUjJThSgiMlOFKC\n",
       "IyU4Ur42n5SFIyU4UoIjJThSgiPl8J6UhSMlOFKCIyU4UoIjJThSvjaflNxICY6U4EgJjpTgSDm8\n",
       "J2XhSAmOlOBICY6U4Ej5lErKwpESHCnBkRIcKcGREhwp3w9HysKREhwpwZESHCnBkXJ4T8rCkRIc\n",
       "KcGREhwpwZESHCmH96QsHCnBkRIcKcGREhypHR9TCVk4UoIjJThSgiMlOFKCI+XH3UjJjZTgSAmO\n",
       "lOBICY6Ul/ekLBwpwZESHCnBkRIcKcGR8vKelIUjJThSgiMlOFKCI+XwnpSFIyU4UoIjJThSgiMl\n",
       "OFL+LULKwpESHCnBkRIcKcGRcsWclIUjJThSgiMlOFKCIyU4UpMcJbmREhwpwZESHCnBkXJ4T8rC\n",
       "kRIcKcGREhwpwZESHCkv70lZOFKCIyU4UoIjJThSe5zeE7JwpARHSnCkBEdKcKQER8rhPSkLR0pw\n",
       "pARHSnCkBEfKy3tSFo6U4EgJjpTgSAmOlOBIObwnZeFICY6U4EgJjpTgSPlxN1JyIyU4UoIjJThS\n",
       "giPlijkpC0dKcKQER0pwpARHSnCkXDEnZeFICY6U4EgJjpTgSDm8J2XhSAmOlOBICY6U4EgJjpTD\n",
       "e1IWjpTgSAmOlOBICY6UT6mkLBwpwZESHCnBkRIcKcGR2iM5QnIjJThSgiMlOFKCI7Xj6T0hC0dK\n",
       "cKQER0pwpARHSnCkfCEhKQtHSnCkBEdKcKQER8rLe1IWjpTgSAmOlOBICY6U4Eg5vCdl4UgJjpTg\n",
       "SAmOlOBIObwnZeFICY6U4EgJjpTgSAmOlH+LkLJwpARHSnCkBEdKcKT8uBspuZESHCnBkRIcKcGR\n",
       "Ehwph/ekLBwpwZESHCnBkRIcKd8PR8rCkRIcKcGREhwpwZESHCmH96QsHCnBkRIcKcGREhwpn1JJ\n",
       "WThSgiMlOFKCIyU4UoIj5U0DKQtHSnCkBEdKcKQER2rHx1RCFo6U4EgJjpTgSAmOlB93IyU3UoIj\n",
       "JThSgiMlOFKCI+XlPSkLR0pwpARHSnCkBEfKp1RSFo6U4EgJjpTgSAmOlOBI+X44UhaOlOBICY6U\n",
       "4EgJjpTDe1IWjpTgSAmOlOBICY6U4Ej5twgpC0dKcKQER0pwpARHyhVzUhaOlOBICY6U4EgJjpTg\n",
       "SE1ylORGSnCkBEdKcKQER8rhPSkLR0pwpARHSnCkBEdKcKS8vCdl4UgJjpTgSAmOlOBI+ZRKysKR\n",
       "EhwpwZESHCnBkRIcqT0eNRCycKQER0pwpARHSnCkHN6TsnCkBEdKcKQER0pwpARHyr9FSFk4UoIj\n",
       "JThSgiMlOFJ7JEdIbqQER0pwpARHSnCkBEfK4T0pC0dKcKQER0pwpARHyqdUUhaOlOBICY6U4EgJ\n",
       "jtR8iTklC0dKcKQER0pwpARHSnCkHN6TsnCkBEdKcKQER0pwpHxKJWXhSAmOlOBICY6U4EgJjpQ3\n",
       "DaQsHCnBkRIcKcGREhypSY6S3EgJjpTgSAmOlOBICY6UNw2kLBwpwZESHCnBkRIcKVfMSVk4UoIj\n",
       "JThSgiMlOFKCI+XwnpSFIyU4UoIjJThSgiPlUyopC0dKcKQER0pwpARHSnCk/FuElIUjJThSgiMl\n",
       "OFKCI+VTKikLR0pwpARHSnCkBEdKcKR2nvvpv4EvYuFICY6U4EgJjpTgSAmOlOBICY6U4EgJjpTg\n",
       "SAmOlDcNpCwcKcGREhwpwZESHClXzElZOFKCIyU4UoIjJThSgiO1c/xbhI6FIyU4UoIjJThSgiPl\n",
       "ijkpC0dKcKQER0pwpARHSnCkdh3eE7JwpARHSnCkBEdKcKRcMSdl4UgJjpTgSAmOlOBI7fp+OEIW\n",
       "jpTgSAmOlOBICY6U4Ei5Yk7KwpESHCnBkRIcKcGR2r0+pdKxcKQER0pwpARHSnCkBEdq57yf/hv4\n",
       "IhaOlOBICY6U4EgJjpQr5qQsHCnBkRIcKcGREhwpwZHybxFSFo6U4EgJjpTgSAmO1N7rijkdC0dK\n",
       "cKQER0pwpARHSnCkHN6TsnCkBEdKcKQER0pwpHYd3hOycKQER0pwpARHSnCkBEdq19fmE7JwpARH\n",
       "SnCkBEdKcKT85j0pC0dKcKQER0pwpARHSnCk9jq8J2ThSAmOlOBICY6U4Eh5eU/KwpESHCnBkRIc\n",
       "KcGREhwpbxpIWThSgiMlOFKCIyU4Ur4fjpSFIyU4UoIjJThSgiMlOFJ7vWkgZOFICY6U4EgJjpTg\n",
       "SLliTsrCkRIcKcGREhwpwZESHClvGkhZOFKCIyU4UoIjJThSrpiTsnCkBEdKcKQER0pwpFwxJ2Xh\n",
       "SAmOlOBICY6U4EgJjpQr5qQsHCnBkRIcKcGREhwpV8xJWThSgiMlOFKCIyU4UoIjtevfIoQsHCnB\n",
       "kRIcKcGREhyp3ePlPR0LR0pwpARHSnCkBEdKcKQc3pOycKQER0pwpARHSnCkvLwnZeFICY6U4EgJ\n",
       "jpTgSAmOlDcNpCwcKcGREhwpwZESHClXzElZOFKCIyU4UoIjJThSgiPlTQMpC0dKcKQER0pwpARH\n",
       "ave6Yk7HwpESHCnBkRIcKcGREhyp3ePwno6FIyU4UoIjJThSgiPlijkpC0dKcKQER0pwpARHSnCk\n",
       "vGkgZeFICY6U4EgJjpTgSLliTsrCkRIcKcGREhwpwZESHClvGkhZOFKCIyU4UoIjJThSrpiTsnCk\n",
       "BEdKcKQER0pwpFwxJ2XhSAmOlOBICY6U4EgJjpQr5qQsHCnBkRIcKcGREhwpV8xJWThSgiMlOFKC\n",
       "IyU4UoIj5U0DKQtHSnCkBEdKcKQER8oVc1IWjpTgSAmOlOBICY6U4Eh500DKwpESHCnBkRIcKcGR\n",
       "2nV4T8jCkRIcKcGREhwpwZESHKm9Xt4TsnCkBEdKcKQER0pwpFwxJ2XhSAmOlOBICY6U4EgJjpQ3\n",
       "DaQsHCnBkRIcKcGREhwpV8xJWThSgiMlOFKCIyU4UoIj5U0DKQtHSnCkBEdKcKQER8oVc1IWjpTg\n",
       "SAmOlOBICY6U4Eh500DKwpESHCnBkRIcKcGRcsWclIUjJThSgiMlOFKCIyU4Ut40kLJwpARHSnCk\n",
       "BEdKcKT2OrwnZOFICY6U4EgJjpTgSAmO1K6X94QsHCnBkRIcKcGREhwpV8xJWThSgiMlOFKCIyU4\n",
       "Uq6Yk7JwpARHSnCkBEdKcKQER8oVc1IWjpTgSAmOlOBICY6UK+akLBwpwZESHCnBkRIcKcGR8qaB\n",
       "lIUjJThSgiMlOFKCI+WKOSkLR0pwpARHSnCkBEdKcKS8aSBl4UgJjpTgSAmOlOBIuWJOysKREhwp\n",
       "wZESHCnBkRIcKW8aSFk4UoIjJThSgiMlOFKumJOycKQER0pwpARHSnCkBEfKmwZSFo6U4EgJjpTg\n",
       "SAmOlMN7UhaOlOBICY6U4EgJjpTgSO0eh/d0LBwpwZESHCnBkRIcqb0O7wlZOFKCIyU4UoIjJThS\n",
       "giPlTQMpC0dKcKQER0pwpARHaq8r5oQsHCnBkRIcKcGREhwpwZFyeE/KwpESHCnBkRIcKcGR8imV\n",
       "lIUjJThSgiMlOFKCIyU4Ut40kLJwpARHSnCkBEdKcKQc3pOycKQER0pwpARHSnCk/LgbKQtHSnCk\n",
       "BEdKcKQER0pwpHavK+Z0LBwpwZESHCnBkRIcqd3j8J6OhSMlOFKCIyU4UoIjJThSex3eE7JwpARH\n",
       "SnCkBEdKcKR8PxwpC0dKcKQER0pwpARHSnCkvGkgZeFICY6U4EgJjpTgSLliTsrCkRIcKcGREhwp\n",
       "wZESHClvGkhZOFKCIyU4UoIjJThSfvOelIUjJThSgiMlOFKCIyU4UrvHmwY6Fo6U4EgJjpTgSAmO\n",
       "lMN7UhaOlOBICY6U4EgJjpTgSHl5T8rCkRIcKcGREhwpwZFyxZyUhSMlOFKCIyU4UoIjJThS3jSQ\n",
       "snCkBEdKcKQER0pwpFwxJ2XhSAmOlOBICY6U4EgJjtRebxoIWThSgiMlOFKCIyU4Ug7vSVk4UoIj\n",
       "JThSgiMlOFIeQpOycKQER0pwpARHSnCkBEdq97piTsfCkRIcKcGREhwpwZHaexze07FwpARHSnCk\n",
       "BEdKcKQER8rLe1IWjpTgSAmOlOBICY7UXlfMCVk4UoIjJThSgiMlOFKCI7XrTQMhC0dKcKQER0pw\n",
       "pARHytfmk7JwpARHSnCkBEdKcKQER8rX5pOycKQER0pwpARHSnCkHN6TsnCkBEdKcKQER0pwpARH\n",
       "yst7UhaOlOBICY6U4EgJjpSvzSdl4UgJjpTgSAmOlOBICY6U37wnZeFICY6U4EgJjpTgSO11xZyQ\n",
       "hSMlOFKCIyU4UoIjJThSDu9JWThSgiMlOFKCIyU4Ul7ek7JwpARHSnCkBEdKcKQER8rX5pOycKQE\n",
       "R0pwpARHSnCk/OY9KQtHSnCkBEdKcKQER0pwpPxbhJSFIyU4UoIjJThSgiPl++FIWThSgiMlOFKC\n",
       "IyU4Un7cjZSFIyU4UoIjJThSgiMlOFK+Np+UhSMlOFKCIyU4UoIj5Yo5KQtHSnCkBEdKcKQER0pw\n",
       "pLxpIGXhSAmOlOBICY6U4Ej5FnNSFo6U4EgJjpTgSAmOlOBIedNAysKREhwpwZESHCnBkXJ4T8rC\n",
       "kRIcKcGREhwpwZESHKm95/fTfwNfxMKREhwpwZESHCnBkXJ4T8rCkRIcKcGREhwpwZESHCkv70lZ\n",
       "OFKCIyU4UoIjJThSftyNlIUjJThSgiMlOFKCIyU4Unuvl/d0LBwpwZESHCnBkRIcKS/vSVk4UoIj\n",
       "JThSgiMlOFKCI+XwnpSFIyU4UoIjJThSgiPlx91IWThSgiMlOFKCIyU4UoIj5fCelIUjJThSgiMl\n",
       "OFKCI+VTKikLR0pwpARHSnCkBEfqP5MaaNh04LtAAAAAAElFTkSuQmCC\n",
       "\" transform=\"translate(4737, 144)\"/>\n",
       "</g>\n",
       "<path clip-path=\"url(#clip300)\" d=\"M4970.76 1715.18 L5000.43 1715.18 L5000.43 1719.11 L4970.76 1719.11 L4970.76 1715.18 Z\" fill=\"#000000\" fill-rule=\"evenodd\" fill-opacity=\"1\" /><path clip-path=\"url(#clip300)\" d=\"M5020.52 1700.53 Q5016.91 1700.53 5015.08 1704.09 Q5013.28 1707.63 5013.28 1714.76 Q5013.28 1721.87 5015.08 1725.43 Q5016.91 1728.97 5020.52 1728.97 Q5024.16 1728.97 5025.96 1725.43 Q5027.79 1721.87 5027.79 1714.76 Q5027.79 1707.63 5025.96 1704.09 Q5024.16 1700.53 5020.52 1700.53 M5020.52 1696.82 Q5026.33 1696.82 5029.39 1701.43 Q5032.47 1706.01 5032.47 1714.76 Q5032.47 1723.49 5029.39 1728.1 Q5026.33 1732.68 5020.52 1732.68 Q5014.71 1732.68 5011.64 1728.1 Q5008.58 1723.49 5008.58 1714.76 Q5008.58 1706.01 5011.64 1701.43 Q5014.71 1696.82 5020.52 1696.82 Z\" fill=\"#000000\" fill-rule=\"evenodd\" fill-opacity=\"1\" /><path clip-path=\"url(#clip300)\" d=\"M5040.69 1726.13 L5045.57 1726.13 L5045.57 1732.01 L5040.69 1732.01 L5040.69 1726.13 Z\" fill=\"#000000\" fill-rule=\"evenodd\" fill-opacity=\"1\" /><path clip-path=\"url(#clip300)\" d=\"M5059.78 1728.07 L5076.1 1728.07 L5076.1 1732.01 L5054.16 1732.01 L5054.16 1728.07 Q5056.82 1725.32 5061.4 1720.69 Q5066.01 1716.04 5067.19 1714.69 Q5069.44 1712.17 5070.32 1710.43 Q5071.22 1708.67 5071.22 1706.98 Q5071.22 1704.23 5069.27 1702.49 Q5067.35 1700.76 5064.25 1700.76 Q5062.05 1700.76 5059.6 1701.52 Q5057.17 1702.29 5054.39 1703.84 L5054.39 1699.11 Q5057.21 1697.98 5059.67 1697.4 Q5062.12 1696.82 5064.16 1696.82 Q5069.53 1696.82 5072.72 1699.51 Q5075.92 1702.19 5075.92 1706.68 Q5075.92 1708.81 5075.11 1710.73 Q5074.32 1712.63 5072.21 1715.22 Q5071.63 1715.9 5068.53 1719.11 Q5065.43 1722.31 5059.78 1728.07 Z\" fill=\"#000000\" fill-rule=\"evenodd\" fill-opacity=\"1\" /><path clip-path=\"url(#clip300)\" d=\"M5085.5 1697.45 L5107.35 1697.45 L5107.35 1701.38 L5090.18 1701.38 L5090.18 1711.61 L5106.63 1711.61 L5106.63 1715.55 L5090.18 1715.55 L5090.18 1728.07 L5107.77 1728.07 L5107.77 1732.01 L5085.5 1732.01 L5085.5 1697.45 Z\" fill=\"#000000\" fill-rule=\"evenodd\" fill-opacity=\"1\" /><path clip-path=\"url(#clip300)\" d=\"M5115.82 1715.18 L5145.5 1715.18 L5145.5 1719.11 L5115.82 1719.11 L5115.82 1715.18 Z\" fill=\"#000000\" fill-rule=\"evenodd\" fill-opacity=\"1\" /><path clip-path=\"url(#clip300)\" d=\"M5156.4 1728.07 L5164.04 1728.07 L5164.04 1701.71 L5155.73 1703.37 L5155.73 1699.11 L5164 1697.45 L5168.67 1697.45 L5168.67 1728.07 L5176.31 1728.07 L5176.31 1732.01 L5156.4 1732.01 L5156.4 1728.07 Z\" fill=\"#000000\" fill-rule=\"evenodd\" fill-opacity=\"1\" /><path clip-path=\"url(#clip300)\" d=\"M5185.8 1697.45 L5204.16 1697.45 L5204.16 1701.38 L5190.08 1701.38 L5190.08 1709.85 Q5191.1 1709.51 5192.12 1709.35 Q5193.14 1709.16 5194.16 1709.16 Q5199.94 1709.16 5203.32 1712.33 Q5206.7 1715.5 5206.7 1720.92 Q5206.7 1726.5 5203.23 1729.6 Q5199.76 1732.68 5193.44 1732.68 Q5191.26 1732.68 5189 1732.31 Q5186.75 1731.94 5184.34 1731.2 L5184.34 1726.5 Q5186.43 1727.63 5188.65 1728.19 Q5190.87 1728.74 5193.35 1728.74 Q5197.35 1728.74 5199.69 1726.64 Q5202.03 1724.53 5202.03 1720.92 Q5202.03 1717.31 5199.69 1715.2 Q5197.35 1713.1 5193.35 1713.1 Q5191.47 1713.1 5189.6 1713.51 Q5187.75 1713.93 5185.8 1714.81 L5185.8 1697.45 Z\" fill=\"#000000\" fill-rule=\"evenodd\" fill-opacity=\"1\" /><path clip-path=\"url(#clip300)\" d=\"M4970.76 1528.63 L5000.43 1528.63 L5000.43 1532.56 L4970.76 1532.56 L4970.76 1528.63 Z\" fill=\"#000000\" fill-rule=\"evenodd\" fill-opacity=\"1\" /><path clip-path=\"url(#clip300)\" d=\"M5020.52 1513.98 Q5016.91 1513.98 5015.08 1517.54 Q5013.28 1521.08 5013.28 1528.21 Q5013.28 1535.32 5015.08 1538.88 Q5016.91 1542.43 5020.52 1542.43 Q5024.16 1542.43 5025.96 1538.88 Q5027.79 1535.32 5027.79 1528.21 Q5027.79 1521.08 5025.96 1517.54 Q5024.16 1513.98 5020.52 1513.98 M5020.52 1510.27 Q5026.33 1510.27 5029.39 1514.88 Q5032.47 1519.46 5032.47 1528.21 Q5032.47 1536.94 5029.39 1541.55 Q5026.33 1546.13 5020.52 1546.13 Q5014.71 1546.13 5011.64 1541.55 Q5008.58 1536.94 5008.58 1528.21 Q5008.58 1519.46 5011.64 1514.88 Q5014.71 1510.27 5020.52 1510.27 Z\" fill=\"#000000\" fill-rule=\"evenodd\" fill-opacity=\"1\" /><path clip-path=\"url(#clip300)\" d=\"M5040.69 1539.58 L5045.57 1539.58 L5045.57 1545.46 L5040.69 1545.46 L5040.69 1539.58 Z\" fill=\"#000000\" fill-rule=\"evenodd\" fill-opacity=\"1\" /><path clip-path=\"url(#clip300)\" d=\"M5056.57 1541.52 L5064.2 1541.52 L5064.2 1515.16 L5055.89 1516.82 L5055.89 1512.56 L5064.16 1510.9 L5068.83 1510.9 L5068.83 1541.52 L5076.47 1541.52 L5076.47 1545.46 L5056.57 1545.46 L5056.57 1541.52 Z\" fill=\"#000000\" fill-rule=\"evenodd\" fill-opacity=\"1\" /><path clip-path=\"url(#clip300)\" d=\"M5085.96 1510.9 L5104.32 1510.9 L5104.32 1514.83 L5090.25 1514.83 L5090.25 1523.3 Q5091.26 1522.96 5092.28 1522.8 Q5093.3 1522.61 5094.32 1522.61 Q5100.11 1522.61 5103.49 1525.78 Q5106.87 1528.95 5106.87 1534.37 Q5106.87 1539.95 5103.39 1543.05 Q5099.92 1546.13 5093.6 1546.13 Q5091.43 1546.13 5089.16 1545.76 Q5086.91 1545.39 5084.51 1544.65 L5084.51 1539.95 Q5086.59 1541.08 5088.81 1541.64 Q5091.03 1542.19 5093.51 1542.19 Q5097.51 1542.19 5099.85 1540.09 Q5102.19 1537.98 5102.19 1534.37 Q5102.19 1530.76 5099.85 1528.65 Q5097.51 1526.55 5093.51 1526.55 Q5091.63 1526.55 5089.76 1526.96 Q5087.91 1527.38 5085.96 1528.26 L5085.96 1510.9 Z\" fill=\"#000000\" fill-rule=\"evenodd\" fill-opacity=\"1\" /><path clip-path=\"url(#clip300)\" d=\"M5115.66 1510.9 L5137.51 1510.9 L5137.51 1514.83 L5120.34 1514.83 L5120.34 1525.06 L5136.8 1525.06 L5136.8 1529 L5120.34 1529 L5120.34 1541.52 L5137.93 1541.52 L5137.93 1545.46 L5115.66 1545.46 L5115.66 1510.9 Z\" fill=\"#000000\" fill-rule=\"evenodd\" fill-opacity=\"1\" /><path clip-path=\"url(#clip300)\" d=\"M5145.99 1528.63 L5175.66 1528.63 L5175.66 1532.56 L5145.99 1532.56 L5145.99 1528.63 Z\" fill=\"#000000\" fill-rule=\"evenodd\" fill-opacity=\"1\" /><path clip-path=\"url(#clip300)\" d=\"M5186.56 1541.52 L5194.2 1541.52 L5194.2 1515.16 L5185.89 1516.82 L5185.89 1512.56 L5194.16 1510.9 L5198.83 1510.9 L5198.83 1541.52 L5206.47 1541.52 L5206.47 1545.46 L5186.56 1545.46 L5186.56 1541.52 Z\" fill=\"#000000\" fill-rule=\"evenodd\" fill-opacity=\"1\" /><path clip-path=\"url(#clip300)\" d=\"M5215.96 1510.9 L5234.32 1510.9 L5234.32 1514.83 L5220.25 1514.83 L5220.25 1523.3 Q5221.26 1522.96 5222.28 1522.8 Q5223.3 1522.61 5224.32 1522.61 Q5230.11 1522.61 5233.49 1525.78 Q5236.87 1528.95 5236.87 1534.37 Q5236.87 1539.95 5233.39 1543.05 Q5229.92 1546.13 5223.6 1546.13 Q5221.43 1546.13 5219.16 1545.76 Q5216.91 1545.39 5214.5 1544.65 L5214.5 1539.95 Q5216.59 1541.08 5218.81 1541.64 Q5221.03 1542.19 5223.51 1542.19 Q5227.51 1542.19 5229.85 1540.09 Q5232.19 1537.98 5232.19 1534.37 Q5232.19 1530.76 5229.85 1528.65 Q5227.51 1526.55 5223.51 1526.55 Q5221.63 1526.55 5219.76 1526.96 Q5217.91 1527.38 5215.96 1528.26 L5215.96 1510.9 Z\" fill=\"#000000\" fill-rule=\"evenodd\" fill-opacity=\"1\" /><path clip-path=\"url(#clip300)\" d=\"M4970.76 1342.08 L5000.43 1342.08 L5000.43 1346.01 L4970.76 1346.01 L4970.76 1342.08 Z\" fill=\"#000000\" fill-rule=\"evenodd\" fill-opacity=\"1\" /><path clip-path=\"url(#clip300)\" d=\"M5020.52 1327.43 Q5016.91 1327.43 5015.08 1330.99 Q5013.28 1334.53 5013.28 1341.66 Q5013.28 1348.77 5015.08 1352.33 Q5016.91 1355.88 5020.52 1355.88 Q5024.16 1355.88 5025.96 1352.33 Q5027.79 1348.77 5027.79 1341.66 Q5027.79 1334.53 5025.96 1330.99 Q5024.16 1327.43 5020.52 1327.43 M5020.52 1323.72 Q5026.33 1323.72 5029.39 1328.33 Q5032.47 1332.91 5032.47 1341.66 Q5032.47 1350.39 5029.39 1355 Q5026.33 1359.58 5020.52 1359.58 Q5014.71 1359.58 5011.64 1355 Q5008.58 1350.39 5008.58 1341.66 Q5008.58 1332.91 5011.64 1328.33 Q5014.71 1323.72 5020.52 1323.72 Z\" fill=\"#000000\" fill-rule=\"evenodd\" fill-opacity=\"1\" /><path clip-path=\"url(#clip300)\" d=\"M5040.69 1353.03 L5045.57 1353.03 L5045.57 1358.91 L5040.69 1358.91 L5040.69 1353.03 Z\" fill=\"#000000\" fill-rule=\"evenodd\" fill-opacity=\"1\" /><path clip-path=\"url(#clip300)\" d=\"M5056.57 1354.97 L5064.2 1354.97 L5064.2 1328.61 L5055.89 1330.27 L5055.89 1326.01 L5064.16 1324.35 L5068.83 1324.35 L5068.83 1354.97 L5076.47 1354.97 L5076.47 1358.91 L5056.57 1358.91 L5056.57 1354.97 Z\" fill=\"#000000\" fill-rule=\"evenodd\" fill-opacity=\"1\" /><path clip-path=\"url(#clip300)\" d=\"M5085.5 1324.35 L5107.35 1324.35 L5107.35 1328.28 L5090.18 1328.28 L5090.18 1338.51 L5106.63 1338.51 L5106.63 1342.45 L5090.18 1342.45 L5090.18 1354.97 L5107.77 1354.97 L5107.77 1358.91 L5085.5 1358.91 L5085.5 1324.35 Z\" fill=\"#000000\" fill-rule=\"evenodd\" fill-opacity=\"1\" /><path clip-path=\"url(#clip300)\" d=\"M5115.82 1342.08 L5145.5 1342.08 L5145.5 1346.01 L5115.82 1346.01 L5115.82 1342.08 Z\" fill=\"#000000\" fill-rule=\"evenodd\" fill-opacity=\"1\" /><path clip-path=\"url(#clip300)\" d=\"M5156.4 1354.97 L5164.04 1354.97 L5164.04 1328.61 L5155.73 1330.27 L5155.73 1326.01 L5164 1324.35 L5168.67 1324.35 L5168.67 1354.97 L5176.31 1354.97 L5176.31 1358.91 L5156.4 1358.91 L5156.4 1354.97 Z\" fill=\"#000000\" fill-rule=\"evenodd\" fill-opacity=\"1\" /><path clip-path=\"url(#clip300)\" d=\"M5185.8 1324.35 L5204.16 1324.35 L5204.16 1328.28 L5190.08 1328.28 L5190.08 1336.75 Q5191.1 1336.41 5192.12 1336.25 Q5193.14 1336.06 5194.16 1336.06 Q5199.94 1336.06 5203.32 1339.23 Q5206.7 1342.4 5206.7 1347.82 Q5206.7 1353.4 5203.23 1356.5 Q5199.76 1359.58 5193.44 1359.58 Q5191.26 1359.58 5189 1359.21 Q5186.75 1358.84 5184.34 1358.1 L5184.34 1353.4 Q5186.43 1354.53 5188.65 1355.09 Q5190.87 1355.64 5193.35 1355.64 Q5197.35 1355.64 5199.69 1353.54 Q5202.03 1351.43 5202.03 1347.82 Q5202.03 1344.21 5199.69 1342.1 Q5197.35 1340 5193.35 1340 Q5191.47 1340 5189.6 1340.41 Q5187.75 1340.83 5185.8 1341.71 L5185.8 1324.35 Z\" fill=\"#000000\" fill-rule=\"evenodd\" fill-opacity=\"1\" /><path clip-path=\"url(#clip300)\" d=\"M4970.76 1155.53 L5000.43 1155.53 L5000.43 1159.46 L4970.76 1159.46 L4970.76 1155.53 Z\" fill=\"#000000\" fill-rule=\"evenodd\" fill-opacity=\"1\" /><path clip-path=\"url(#clip300)\" d=\"M5020.52 1140.88 Q5016.91 1140.88 5015.08 1144.44 Q5013.28 1147.98 5013.28 1155.11 Q5013.28 1162.22 5015.08 1165.78 Q5016.91 1169.33 5020.52 1169.33 Q5024.16 1169.33 5025.96 1165.78 Q5027.79 1162.22 5027.79 1155.11 Q5027.79 1147.98 5025.96 1144.44 Q5024.16 1140.88 5020.52 1140.88 M5020.52 1137.17 Q5026.33 1137.17 5029.39 1141.78 Q5032.47 1146.36 5032.47 1155.11 Q5032.47 1163.84 5029.39 1168.45 Q5026.33 1173.03 5020.52 1173.03 Q5014.71 1173.03 5011.64 1168.45 Q5008.58 1163.84 5008.58 1155.11 Q5008.58 1146.36 5011.64 1141.78 Q5014.71 1137.17 5020.52 1137.17 Z\" fill=\"#000000\" fill-rule=\"evenodd\" fill-opacity=\"1\" /><path clip-path=\"url(#clip300)\" d=\"M5040.69 1166.48 L5045.57 1166.48 L5045.57 1172.36 L5040.69 1172.36 L5040.69 1166.48 Z\" fill=\"#000000\" fill-rule=\"evenodd\" fill-opacity=\"1\" /><path clip-path=\"url(#clip300)\" d=\"M5055.8 1137.8 L5074.16 1137.8 L5074.16 1141.73 L5060.08 1141.73 L5060.08 1150.21 Q5061.1 1149.86 5062.12 1149.7 Q5063.14 1149.51 5064.16 1149.51 Q5069.95 1149.51 5073.32 1152.68 Q5076.7 1155.85 5076.7 1161.27 Q5076.7 1166.85 5073.23 1169.95 Q5069.76 1173.03 5063.44 1173.03 Q5061.26 1173.03 5059 1172.66 Q5056.75 1172.29 5054.34 1171.55 L5054.34 1166.85 Q5056.43 1167.98 5058.65 1168.54 Q5060.87 1169.09 5063.35 1169.09 Q5067.35 1169.09 5069.69 1166.99 Q5072.03 1164.88 5072.03 1161.27 Q5072.03 1157.66 5069.69 1155.55 Q5067.35 1153.45 5063.35 1153.45 Q5061.47 1153.45 5059.6 1153.86 Q5057.75 1154.28 5055.8 1155.16 L5055.8 1137.8 Z\" fill=\"#000000\" fill-rule=\"evenodd\" fill-opacity=\"1\" /><path clip-path=\"url(#clip300)\" d=\"M5085.5 1137.8 L5107.35 1137.8 L5107.35 1141.73 L5090.18 1141.73 L5090.18 1151.96 L5106.63 1151.96 L5106.63 1155.9 L5090.18 1155.9 L5090.18 1168.42 L5107.77 1168.42 L5107.77 1172.36 L5085.5 1172.36 L5085.5 1137.8 Z\" fill=\"#000000\" fill-rule=\"evenodd\" fill-opacity=\"1\" /><path clip-path=\"url(#clip300)\" d=\"M5115.82 1155.53 L5145.5 1155.53 L5145.5 1159.46 L5115.82 1159.46 L5115.82 1155.53 Z\" fill=\"#000000\" fill-rule=\"evenodd\" fill-opacity=\"1\" /><path clip-path=\"url(#clip300)\" d=\"M5156.4 1168.42 L5164.04 1168.42 L5164.04 1142.06 L5155.73 1143.72 L5155.73 1139.46 L5164 1137.8 L5168.67 1137.8 L5168.67 1168.42 L5176.31 1168.42 L5176.31 1172.36 L5156.4 1172.36 L5156.4 1168.42 Z\" fill=\"#000000\" fill-rule=\"evenodd\" fill-opacity=\"1\" /><path clip-path=\"url(#clip300)\" d=\"M5196.33 1153.21 Q5193.19 1153.21 5191.33 1155.37 Q5189.5 1157.52 5189.5 1161.27 Q5189.5 1165 5191.33 1167.17 Q5193.19 1169.33 5196.33 1169.33 Q5199.48 1169.33 5201.31 1167.17 Q5203.16 1165 5203.16 1161.27 Q5203.16 1157.52 5201.31 1155.37 Q5199.48 1153.21 5196.33 1153.21 M5205.62 1138.56 L5205.62 1142.82 Q5203.86 1141.99 5202.05 1141.55 Q5200.27 1141.11 5198.51 1141.11 Q5193.88 1141.11 5191.43 1144.23 Q5189 1147.36 5188.65 1153.68 Q5190.01 1151.66 5192.07 1150.6 Q5194.13 1149.51 5196.61 1149.51 Q5201.82 1149.51 5204.83 1152.68 Q5207.86 1155.83 5207.86 1161.27 Q5207.86 1166.59 5204.71 1169.81 Q5201.56 1173.03 5196.33 1173.03 Q5190.34 1173.03 5187.17 1168.45 Q5184 1163.84 5184 1155.11 Q5184 1146.92 5187.88 1142.06 Q5191.77 1137.17 5198.32 1137.17 Q5200.08 1137.17 5201.87 1137.52 Q5203.67 1137.87 5205.62 1138.56 Z\" fill=\"#000000\" fill-rule=\"evenodd\" fill-opacity=\"1\" /><path clip-path=\"url(#clip300)\" d=\"M4982.7 954.327 Q4979.09 954.327 4977.26 957.891 Q4975.45 961.433 4975.45 968.563 Q4975.45 975.669 4977.26 979.234 Q4979.09 982.776 4982.7 982.776 Q4986.33 982.776 4988.14 979.234 Q4989.97 975.669 4989.97 968.563 Q4989.97 961.433 4988.14 957.891 Q4986.33 954.327 4982.7 954.327 M4982.7 950.623 Q4988.51 950.623 4991.57 955.229 Q4994.64 959.813 4994.64 968.563 Q4994.64 977.289 4991.57 981.896 Q4988.51 986.479 4982.7 986.479 Q4976.89 986.479 4973.81 981.896 Q4970.76 977.289 4970.76 968.563 Q4970.76 959.813 4973.81 955.229 Q4976.89 950.623 4982.7 950.623 Z\" fill=\"#000000\" fill-rule=\"evenodd\" fill-opacity=\"1\" /><path clip-path=\"url(#clip300)\" d=\"M4982.7 767.777 Q4979.09 767.777 4977.26 771.342 Q4975.45 774.883 4975.45 782.013 Q4975.45 789.119 4977.26 792.684 Q4979.09 796.226 4982.7 796.226 Q4986.33 796.226 4988.14 792.684 Q4989.97 789.119 4989.97 782.013 Q4989.97 774.883 4988.14 771.342 Q4986.33 767.777 4982.7 767.777 M4982.7 764.073 Q4988.51 764.073 4991.57 768.68 Q4994.64 773.263 4994.64 782.013 Q4994.64 790.74 4991.57 795.346 Q4988.51 799.929 4982.7 799.929 Q4976.89 799.929 4973.81 795.346 Q4970.76 790.74 4970.76 782.013 Q4970.76 773.263 4973.81 768.68 Q4976.89 764.073 4982.7 764.073 Z\" fill=\"#000000\" fill-rule=\"evenodd\" fill-opacity=\"1\" /><path clip-path=\"url(#clip300)\" d=\"M5002.86 793.379 L5007.75 793.379 L5007.75 799.258 L5002.86 799.258 L5002.86 793.379 Z\" fill=\"#000000\" fill-rule=\"evenodd\" fill-opacity=\"1\" /><path clip-path=\"url(#clip300)\" d=\"M5017.98 764.698 L5036.33 764.698 L5036.33 768.633 L5022.26 768.633 L5022.26 777.105 Q5023.28 776.758 5024.3 776.596 Q5025.32 776.411 5026.33 776.411 Q5032.12 776.411 5035.5 779.582 Q5038.88 782.754 5038.88 788.17 Q5038.88 793.749 5035.41 796.851 Q5031.94 799.929 5025.62 799.929 Q5023.44 799.929 5021.17 799.559 Q5018.93 799.189 5016.52 798.448 L5016.52 793.749 Q5018.6 794.883 5020.83 795.439 Q5023.05 795.994 5025.52 795.994 Q5029.53 795.994 5031.87 793.888 Q5034.2 791.781 5034.2 788.17 Q5034.2 784.559 5031.87 782.453 Q5029.53 780.346 5025.52 780.346 Q5023.65 780.346 5021.77 780.763 Q5019.92 781.18 5017.98 782.059 L5017.98 764.698 Z\" fill=\"#000000\" fill-rule=\"evenodd\" fill-opacity=\"1\" /><path clip-path=\"url(#clip300)\" d=\"M5047.68 764.698 L5069.53 764.698 L5069.53 768.633 L5052.35 768.633 L5052.35 778.865 L5068.81 778.865 L5068.81 782.8 L5052.35 782.8 L5052.35 795.323 L5069.95 795.323 L5069.95 799.258 L5047.68 799.258 L5047.68 764.698 Z\" fill=\"#000000\" fill-rule=\"evenodd\" fill-opacity=\"1\" /><path clip-path=\"url(#clip300)\" d=\"M5078 782.429 L5107.68 782.429 L5107.68 786.365 L5078 786.365 L5078 782.429 Z\" fill=\"#000000\" fill-rule=\"evenodd\" fill-opacity=\"1\" /><path clip-path=\"url(#clip300)\" d=\"M5118.58 795.323 L5126.22 795.323 L5126.22 768.957 L5117.91 770.624 L5117.91 766.365 L5126.17 764.698 L5130.85 764.698 L5130.85 795.323 L5138.49 795.323 L5138.49 799.258 L5118.58 799.258 L5118.58 795.323 Z\" fill=\"#000000\" fill-rule=\"evenodd\" fill-opacity=\"1\" /><path clip-path=\"url(#clip300)\" d=\"M5158.51 780.115 Q5155.36 780.115 5153.51 782.267 Q5151.68 784.42 5151.68 788.17 Q5151.68 791.897 5153.51 794.073 Q5155.36 796.226 5158.51 796.226 Q5161.66 796.226 5163.49 794.073 Q5165.34 791.897 5165.34 788.17 Q5165.34 784.42 5163.49 782.267 Q5161.66 780.115 5158.51 780.115 M5167.79 765.462 L5167.79 769.721 Q5166.03 768.888 5164.23 768.448 Q5162.44 768.008 5160.69 768.008 Q5156.06 768.008 5153.6 771.133 Q5151.17 774.258 5150.82 780.578 Q5152.19 778.564 5154.25 777.499 Q5156.31 776.411 5158.79 776.411 Q5164 776.411 5167 779.582 Q5170.04 782.73 5170.04 788.17 Q5170.04 793.494 5166.89 796.712 Q5163.74 799.929 5158.51 799.929 Q5152.51 799.929 5149.34 795.346 Q5146.17 790.74 5146.17 782.013 Q5146.17 773.818 5150.06 768.957 Q5153.95 764.073 5160.5 764.073 Q5162.26 764.073 5164.04 764.42 Q5165.85 764.768 5167.79 765.462 Z\" fill=\"#000000\" fill-rule=\"evenodd\" fill-opacity=\"1\" /><path clip-path=\"url(#clip300)\" d=\"M4982.7 581.227 Q4979.09 581.227 4977.26 584.792 Q4975.45 588.333 4975.45 595.463 Q4975.45 602.569 4977.26 606.134 Q4979.09 609.676 4982.7 609.676 Q4986.33 609.676 4988.14 606.134 Q4989.97 602.569 4989.97 595.463 Q4989.97 588.333 4988.14 584.792 Q4986.33 581.227 4982.7 581.227 M4982.7 577.523 Q4988.51 577.523 4991.57 582.13 Q4994.64 586.713 4994.64 595.463 Q4994.64 604.19 4991.57 608.796 Q4988.51 613.38 4982.7 613.38 Q4976.89 613.38 4973.81 608.796 Q4970.76 604.19 4970.76 595.463 Q4970.76 586.713 4973.81 582.13 Q4976.89 577.523 4982.7 577.523 Z\" fill=\"#000000\" fill-rule=\"evenodd\" fill-opacity=\"1\" /><path clip-path=\"url(#clip300)\" d=\"M5002.86 606.829 L5007.75 606.829 L5007.75 612.708 L5002.86 612.708 L5002.86 606.829 Z\" fill=\"#000000\" fill-rule=\"evenodd\" fill-opacity=\"1\" /><path clip-path=\"url(#clip300)\" d=\"M5018.74 608.773 L5026.38 608.773 L5026.38 582.408 L5018.07 584.074 L5018.07 579.815 L5026.33 578.148 L5031.01 578.148 L5031.01 608.773 L5038.65 608.773 L5038.65 612.708 L5018.74 612.708 L5018.74 608.773 Z\" fill=\"#000000\" fill-rule=\"evenodd\" fill-opacity=\"1\" /><path clip-path=\"url(#clip300)\" d=\"M5047.68 578.148 L5069.53 578.148 L5069.53 582.083 L5052.35 582.083 L5052.35 592.315 L5068.81 592.315 L5068.81 596.25 L5052.35 596.25 L5052.35 608.773 L5069.95 608.773 L5069.95 612.708 L5047.68 612.708 L5047.68 578.148 Z\" fill=\"#000000\" fill-rule=\"evenodd\" fill-opacity=\"1\" /><path clip-path=\"url(#clip300)\" d=\"M5078 595.88 L5107.68 595.88 L5107.68 599.815 L5078 599.815 L5078 595.88 Z\" fill=\"#000000\" fill-rule=\"evenodd\" fill-opacity=\"1\" /><path clip-path=\"url(#clip300)\" d=\"M5118.58 608.773 L5126.22 608.773 L5126.22 582.408 L5117.91 584.074 L5117.91 579.815 L5126.17 578.148 L5130.85 578.148 L5130.85 608.773 L5138.49 608.773 L5138.49 612.708 L5118.58 612.708 L5118.58 608.773 Z\" fill=\"#000000\" fill-rule=\"evenodd\" fill-opacity=\"1\" /><path clip-path=\"url(#clip300)\" d=\"M5147.98 578.148 L5166.33 578.148 L5166.33 582.083 L5152.26 582.083 L5152.26 590.556 Q5153.28 590.208 5154.3 590.046 Q5155.32 589.861 5156.33 589.861 Q5162.12 589.861 5165.5 593.032 Q5168.88 596.204 5168.88 601.62 Q5168.88 607.199 5165.41 610.301 Q5161.94 613.38 5155.62 613.38 Q5153.44 613.38 5151.17 613.009 Q5148.93 612.639 5146.52 611.898 L5146.52 607.199 Q5148.6 608.333 5150.82 608.889 Q5153.05 609.444 5155.52 609.444 Q5159.53 609.444 5161.87 607.338 Q5164.2 605.231 5164.2 601.62 Q5164.2 598.009 5161.87 595.903 Q5159.53 593.796 5155.52 593.796 Q5153.65 593.796 5151.77 594.213 Q5149.92 594.63 5147.98 595.509 L5147.98 578.148 Z\" fill=\"#000000\" fill-rule=\"evenodd\" fill-opacity=\"1\" /><path clip-path=\"url(#clip300)\" d=\"M4982.7 394.677 Q4979.09 394.677 4977.26 398.242 Q4975.45 401.784 4975.45 408.913 Q4975.45 416.02 4977.26 419.584 Q4979.09 423.126 4982.7 423.126 Q4986.33 423.126 4988.14 419.584 Q4989.97 416.02 4989.97 408.913 Q4989.97 401.784 4988.14 398.242 Q4986.33 394.677 4982.7 394.677 M4982.7 390.973 Q4988.51 390.973 4991.57 395.58 Q4994.64 400.163 4994.64 408.913 Q4994.64 417.64 4991.57 422.246 Q4988.51 426.83 4982.7 426.83 Q4976.89 426.83 4973.81 422.246 Q4970.76 417.64 4970.76 408.913 Q4970.76 400.163 4973.81 395.58 Q4976.89 390.973 4982.7 390.973 Z\" fill=\"#000000\" fill-rule=\"evenodd\" fill-opacity=\"1\" /><path clip-path=\"url(#clip300)\" d=\"M5002.86 420.279 L5007.75 420.279 L5007.75 426.158 L5002.86 426.158 L5002.86 420.279 Z\" fill=\"#000000\" fill-rule=\"evenodd\" fill-opacity=\"1\" /><path clip-path=\"url(#clip300)\" d=\"M5018.74 422.223 L5026.38 422.223 L5026.38 395.858 L5018.07 397.524 L5018.07 393.265 L5026.33 391.598 L5031.01 391.598 L5031.01 422.223 L5038.65 422.223 L5038.65 426.158 L5018.74 426.158 L5018.74 422.223 Z\" fill=\"#000000\" fill-rule=\"evenodd\" fill-opacity=\"1\" /><path clip-path=\"url(#clip300)\" d=\"M5048.14 391.598 L5066.5 391.598 L5066.5 395.534 L5052.42 395.534 L5052.42 404.006 Q5053.44 403.659 5054.46 403.497 Q5055.48 403.311 5056.5 403.311 Q5062.28 403.311 5065.66 406.483 Q5069.04 409.654 5069.04 415.071 Q5069.04 420.649 5065.57 423.751 Q5062.1 426.83 5055.78 426.83 Q5053.6 426.83 5051.33 426.459 Q5049.09 426.089 5046.68 425.348 L5046.68 420.649 Q5048.76 421.783 5050.99 422.339 Q5053.21 422.895 5055.69 422.895 Q5059.69 422.895 5062.03 420.788 Q5064.37 418.682 5064.37 415.071 Q5064.37 411.459 5062.03 409.353 Q5059.69 407.246 5055.69 407.246 Q5053.81 407.246 5051.94 407.663 Q5050.08 408.08 5048.14 408.959 L5048.14 391.598 Z\" fill=\"#000000\" fill-rule=\"evenodd\" fill-opacity=\"1\" /><path clip-path=\"url(#clip300)\" d=\"M5077.84 391.598 L5099.69 391.598 L5099.69 395.534 L5082.51 395.534 L5082.51 405.765 L5098.97 405.765 L5098.97 409.7 L5082.51 409.7 L5082.51 422.223 L5100.11 422.223 L5100.11 426.158 L5077.84 426.158 L5077.84 391.598 Z\" fill=\"#000000\" fill-rule=\"evenodd\" fill-opacity=\"1\" /><path clip-path=\"url(#clip300)\" d=\"M5108.16 409.33 L5137.84 409.33 L5137.84 413.265 L5108.16 413.265 L5108.16 409.33 Z\" fill=\"#000000\" fill-rule=\"evenodd\" fill-opacity=\"1\" /><path clip-path=\"url(#clip300)\" d=\"M5148.74 422.223 L5156.38 422.223 L5156.38 395.858 L5148.07 397.524 L5148.07 393.265 L5156.33 391.598 L5161.01 391.598 L5161.01 422.223 L5168.65 422.223 L5168.65 426.158 L5148.74 426.158 L5148.74 422.223 Z\" fill=\"#000000\" fill-rule=\"evenodd\" fill-opacity=\"1\" /><path clip-path=\"url(#clip300)\" d=\"M5178.14 391.598 L5196.5 391.598 L5196.5 395.534 L5182.42 395.534 L5182.42 404.006 Q5183.44 403.659 5184.46 403.497 Q5185.48 403.311 5186.5 403.311 Q5192.28 403.311 5195.66 406.483 Q5199.04 409.654 5199.04 415.071 Q5199.04 420.649 5195.57 423.751 Q5192.1 426.83 5185.78 426.83 Q5183.6 426.83 5181.33 426.459 Q5179.09 426.089 5176.68 425.348 L5176.68 420.649 Q5178.76 421.783 5180.99 422.339 Q5183.21 422.895 5185.69 422.895 Q5189.69 422.895 5192.03 420.788 Q5194.37 418.682 5194.37 415.071 Q5194.37 411.459 5192.03 409.353 Q5189.69 407.246 5185.69 407.246 Q5183.81 407.246 5181.94 407.663 Q5180.08 408.08 5178.14 408.959 L5178.14 391.598 Z\" fill=\"#000000\" fill-rule=\"evenodd\" fill-opacity=\"1\" /><path clip-path=\"url(#clip300)\" d=\"M4982.7 208.127 Q4979.09 208.127 4977.26 211.692 Q4975.45 215.234 4975.45 222.363 Q4975.45 229.47 4977.26 233.035 Q4979.09 236.576 4982.7 236.576 Q4986.33 236.576 4988.14 233.035 Q4989.97 229.47 4989.97 222.363 Q4989.97 215.234 4988.14 211.692 Q4986.33 208.127 4982.7 208.127 M4982.7 204.424 Q4988.51 204.424 4991.57 209.03 Q4994.64 213.613 4994.64 222.363 Q4994.64 231.09 4991.57 235.697 Q4988.51 240.28 4982.7 240.28 Q4976.89 240.28 4973.81 235.697 Q4970.76 231.09 4970.76 222.363 Q4970.76 213.613 4973.81 209.03 Q4976.89 204.424 4982.7 204.424 Z\" fill=\"#000000\" fill-rule=\"evenodd\" fill-opacity=\"1\" /><path clip-path=\"url(#clip300)\" d=\"M5002.86 233.729 L5007.75 233.729 L5007.75 239.609 L5002.86 239.609 L5002.86 233.729 Z\" fill=\"#000000\" fill-rule=\"evenodd\" fill-opacity=\"1\" /><path clip-path=\"url(#clip300)\" d=\"M5021.96 235.673 L5038.28 235.673 L5038.28 239.609 L5016.33 239.609 L5016.33 235.673 Q5019 232.919 5023.58 228.289 Q5028.19 223.636 5029.37 222.294 Q5031.61 219.771 5032.49 218.035 Q5033.39 216.275 5033.39 214.586 Q5033.39 211.831 5031.45 210.095 Q5029.53 208.359 5026.43 208.359 Q5024.23 208.359 5021.77 209.123 Q5019.34 209.887 5016.57 211.437 L5016.57 206.715 Q5019.39 205.581 5021.84 205.002 Q5024.3 204.424 5026.33 204.424 Q5031.7 204.424 5034.9 207.109 Q5038.09 209.794 5038.09 214.285 Q5038.09 216.414 5037.28 218.336 Q5036.5 220.234 5034.39 222.826 Q5033.81 223.498 5030.71 226.715 Q5027.61 229.91 5021.96 235.673 Z\" fill=\"#000000\" fill-rule=\"evenodd\" fill-opacity=\"1\" /><path clip-path=\"url(#clip300)\" d=\"M5047.68 205.049 L5069.53 205.049 L5069.53 208.984 L5052.35 208.984 L5052.35 219.215 L5068.81 219.215 L5068.81 223.15 L5052.35 223.15 L5052.35 235.673 L5069.95 235.673 L5069.95 239.609 L5047.68 239.609 L5047.68 205.049 Z\" fill=\"#000000\" fill-rule=\"evenodd\" fill-opacity=\"1\" /><path clip-path=\"url(#clip300)\" d=\"M5078 222.78 L5107.68 222.78 L5107.68 226.715 L5078 226.715 L5078 222.78 Z\" fill=\"#000000\" fill-rule=\"evenodd\" fill-opacity=\"1\" /><path clip-path=\"url(#clip300)\" d=\"M5118.58 235.673 L5126.22 235.673 L5126.22 209.308 L5117.91 210.974 L5117.91 206.715 L5126.17 205.049 L5130.85 205.049 L5130.85 235.673 L5138.49 235.673 L5138.49 239.609 L5118.58 239.609 L5118.58 235.673 Z\" fill=\"#000000\" fill-rule=\"evenodd\" fill-opacity=\"1\" /><path clip-path=\"url(#clip300)\" d=\"M5147.98 205.049 L5166.33 205.049 L5166.33 208.984 L5152.26 208.984 L5152.26 217.456 Q5153.28 217.109 5154.3 216.947 Q5155.32 216.761 5156.33 216.761 Q5162.12 216.761 5165.5 219.933 Q5168.88 223.104 5168.88 228.521 Q5168.88 234.099 5165.41 237.201 Q5161.94 240.28 5155.62 240.28 Q5153.44 240.28 5151.17 239.91 Q5148.93 239.539 5146.52 238.798 L5146.52 234.099 Q5148.6 235.234 5150.82 235.789 Q5153.05 236.345 5155.52 236.345 Q5159.53 236.345 5161.87 234.238 Q5164.2 232.132 5164.2 228.521 Q5164.2 224.91 5161.87 222.803 Q5159.53 220.697 5155.52 220.697 Q5153.65 220.697 5151.77 221.113 Q5149.92 221.53 5147.98 222.41 L5147.98 205.049 Z\" fill=\"#000000\" fill-rule=\"evenodd\" fill-opacity=\"1\" /><polyline clip-path=\"url(#clip300)\" style=\"stroke:#000000; stroke-linecap:butt; stroke-linejoin:round; stroke-width:4; stroke-opacity:1; fill:none\" points=\"\n",
       "  4892.76,1800.6 4892.76,1718.36 4944.76,1718.36 4892.76,1718.36 4892.76,1531.81 4944.76,1531.81 4892.76,1531.81 4892.76,1345.26 4944.76,1345.26 4892.76,1345.26 \n",
       "  4892.76,1158.71 4944.76,1158.71 4892.76,1158.71 4892.76,972.157 4944.76,972.157 4892.76,972.157 4892.76,785.607 4944.76,785.607 4892.76,785.607 4892.76,599.057 \n",
       "  4944.76,599.057 4892.76,599.057 4892.76,412.507 4944.76,412.507 4892.76,412.507 4892.76,225.957 4944.76,225.957 4892.76,225.957 4892.76,143.709 \n",
       "  \"/>\n",
       "</svg>\n"
      ]
     },
     "execution_count": 23,
     "metadata": {},
     "output_type": "execute_result"
    }
   ],
   "source": [
    "D = M - M_p; dscale = maximum(abs.(D)); p = imshow(D, (-dscale, dscale)); draw(plot!(p, size=(1300, 500)))"
   ]
  },
  {
   "cell_type": "code",
   "execution_count": 24,
   "metadata": {
    "hideCode": true,
    "slideshow": {
     "slide_type": "subslide"
    }
   },
   "outputs": [
    {
     "name": "stderr",
     "output_type": "stream",
     "text": [
      "┌ Info: Saved animation to \n",
      "│   fn = /Users/lzs/Desktop/个人/CSE 6643 Numerical Linear Algebra/Lecture/tmp.gif\n",
      "└ @ Plots /Users/lzs/.julia/packages/Plots/9C6z9/src/animation.jl:114\n"
     ]
    },
    {
     "data": {
      "text/html": [
       "<img src=\"data:image/gif;base64,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\" />"
      ],
      "text/plain": [
       "Plots.AnimatedGif(\"/Users/lzs/Desktop/个人/CSE 6643 Numerical Linear Algebra/Lecture/tmp.gif\")"
      ]
     },
     "execution_count": 24,
     "metadata": {},
     "output_type": "execute_result"
    }
   ],
   "source": [
    "m = 10; n = 10;\n",
    "M = kahan(m, θ)\n",
    "M_p = copy(M[:,:])\n",
    "rot = [cos(ϕ) sin(ϕ); -sin(ϕ) cos(ϕ)]\n",
    "M_p[1:2,:] = rot * M[1:2,:]\n",
    "Q̂ = copy(M_p)\n",
    "R̂ = zeros(n, n)\n",
    "r_scale = maximum(abs.(qr(M_p).R))\n",
    "anim = Animation()\n",
    "function step_plot(A,Q̂,R̂,j)\n",
    "    Q_plot = imshow(Q̂,(-1,1))\n",
    "    plot!(Q_plot,title=\"Q\")\n",
    "    ortho_plot = imshow(Q̂' * Q̂)\n",
    "    plot!(ortho_plot,title=\"Q'Q\")\n",
    "    recon_plot = imshow(M_p - Q̂ * R̂,(-1,1))\n",
    "    plot!(recon_plot,title=\"M_p - QR\")\n",
    "    R_plot = imshow(R̂,(-r_scale,r_scale))\n",
    "    plot!(R_plot,title=\"R\")\n",
    "    return plot(Q_plot, R_plot, ortho_plot, recon_plot, layout=(1,4), size=(1300,800), plot_title=\"Step $j\")\n",
    "end\n",
    "frame(anim,step_plot(M_p,Q̂,R̂,0))\n",
    "for j in 1:n\n",
    "    # Compute coefficients of aⱼ in Q̂[:,1:j-1] basis\n",
    "    R̂[1:j-1,j] = Q̂[:,1:j-1]' * Q̂[:,j]\n",
    "    # Project Q̂[:,1:j-1] components out of Q̂[:,j]\n",
    "    Q̂[:,j] -= Q̂[:,1:j-1] * R̂[1:j-1,j]\n",
    "    # Normalize\n",
    "    R̂[j,j] = norm(Q̂[:,j])\n",
    "    Q̂[:,j] /= R̂[j,j]\n",
    "    frame(anim,step_plot(M_p,Q̂,R̂,j))\n",
    "end\n",
    "frame(anim,step_plot(M_p,Q̂,R̂,n))\n",
    "gif(anim,fps=0.5)"
   ]
  },
  {
   "cell_type": "markdown",
   "metadata": {
    "slideshow": {
     "slide_type": "subslide"
    }
   },
   "source": [
    "### What happens in the last column of the perturbed Kahan matrix?\n",
    "\n",
    "$$ \\tilde{q}_m \\gets (I - P_{1:m-1}) a_m = a_m - q_1 q_1^* a_m - q_2 q_2^* a_m - \\dots $$"
   ]
  },
  {
   "cell_type": "markdown",
   "metadata": {
    "slideshow": {
     "slide_type": "fragment"
    }
   },
   "source": [
    "- In exact arithmetic, $\\|\\tilde{q}_m\\|_2$ is very small: $\\sin(\\theta)^{m-1} \\approx 6 \\cdot 10^{-8}$ "
   ]
  },
  {
   "cell_type": "markdown",
   "metadata": {
    "slideshow": {
     "slide_type": "fragment"
    }
   },
   "source": [
    "- Consider just the first projection:\n",
    "\n",
    "$$s_1 = a_m - q_1 (q_1^* a_m)$$\n",
    "  \n",
    "- In the presence of rounding error, a perturbed vector $\\hat s_1 = s_1 + \\delta_1$ is computed with error $\\delta_1$"
   ]
  },
  {
   "cell_type": "markdown",
   "metadata": {
    "slideshow": {
     "slide_type": "fragment"
    }
   },
   "source": [
    "- Later on in the class we will see that $\\|\\delta_1\\|$ is proportional to $\\epsilon\\|a_m\\|$, where $\\epsilon \\approx 10^{-16}$"
   ]
  },
  {
   "cell_type": "markdown",
   "metadata": {
    "slideshow": {
     "slide_type": "subslide"
    }
   },
   "source": [
    "### The accumulation of roundoff errors has swamped the result\n",
    "\n",
    "- There were similar small but growing errors in the previous $q_j$s.  Instead of calculating $\\tilde{q}_m$, we have calculated\n",
    "\n",
    "$$\\tilde{q}_m + \\delta_1 + \\delta_2 + \\dots + \\delta_{m-1}.$$"
   ]
  },
  {
   "cell_type": "markdown",
   "metadata": {
    "slideshow": {
     "slide_type": "fragment"
    }
   },
   "source": [
    "- The errors are as big as the desired quantity, \n",
    "\n",
    "$$\\|\\tilde{q}_m\\| \\approx \\|\\delta_1 + \\delta_2 + \\dots + \\delta_{m-1}\\|.$$"
   ]
  },
  {
   "cell_type": "markdown",
   "metadata": {
    "slideshow": {
     "slide_type": "fragment"
    }
   },
   "source": [
    "- When we then normalize, $q_m \\gets \\tilde{q}_m / \\|\\tilde{q}_m\\|$, the errors are magnified from $\\sim 10^{-8}$ to $\\sim 10^{0}$: catastrophe!"
   ]
  },
  {
   "cell_type": "code",
   "execution_count": 25,
   "metadata": {
    "hideCode": true,
    "scrolled": false,
    "slideshow": {
     "slide_type": "subslide"
    }
   },
   "outputs": [
    {
     "data": {
      "image/svg+xml": [
       "<?xml version=\"1.0\" encoding=\"utf-8\"?>\n",
       "<svg xmlns=\"http://www.w3.org/2000/svg\" xmlns:xlink=\"http://www.w3.org/1999/xlink\" width=\"1300\" height=\"800\" viewBox=\"0 0 5200 3200\">\n",
       "<defs>\n",
       "  <clipPath id=\"clip460\">\n",
       "    <rect x=\"0\" y=\"0\" width=\"5200\" height=\"3200\"/>\n",
       "  </clipPath>\n",
       "</defs>\n",
       "<path clip-path=\"url(#clip460)\" d=\"\n",
       "M0 3200 L5200 3200 L5200 0 L0 0  Z\n",
       "  \" fill=\"#ffffff\" fill-rule=\"evenodd\" fill-opacity=\"1\"/>\n",
       "<defs>\n",
       "  <clipPath id=\"clip461\">\n",
       "    <rect x=\"1040\" y=\"0\" width=\"3641\" height=\"3200\"/>\n",
       "  </clipPath>\n",
       "</defs>\n",
       "<path clip-path=\"url(#clip460)\" d=\"\n",
       "M241.607 3013.49 L2552.76 3013.49 L2552.76 118.82 L241.607 118.82  Z\n",
       "  \" fill=\"#ffffff\" fill-rule=\"evenodd\" fill-opacity=\"1\"/>\n",
       "<defs>\n",
       "  <clipPath id=\"clip462\">\n",
       "    <rect x=\"241\" y=\"118\" width=\"2312\" height=\"2896\"/>\n",
       "  </clipPath>\n",
       "</defs>\n",
       "<polyline clip-path=\"url(#clip462)\" style=\"stroke:#000000; stroke-linecap:butt; stroke-linejoin:round; stroke-width:2; stroke-opacity:0.1; fill:none\" points=\"\n",
       "  445.298,3013.49 445.298,118.82 \n",
       "  \"/>\n",
       "<polyline clip-path=\"url(#clip462)\" style=\"stroke:#000000; stroke-linecap:butt; stroke-linejoin:round; stroke-width:2; stroke-opacity:0.1; fill:none\" points=\"\n",
       "  825.837,3013.49 825.837,118.82 \n",
       "  \"/>\n",
       "<polyline clip-path=\"url(#clip462)\" style=\"stroke:#000000; stroke-linecap:butt; stroke-linejoin:round; stroke-width:2; stroke-opacity:0.1; fill:none\" points=\"\n",
       "  1206.38,3013.49 1206.38,118.82 \n",
       "  \"/>\n",
       "<polyline clip-path=\"url(#clip462)\" style=\"stroke:#000000; stroke-linecap:butt; stroke-linejoin:round; stroke-width:2; stroke-opacity:0.1; fill:none\" points=\"\n",
       "  1586.92,3013.49 1586.92,118.82 \n",
       "  \"/>\n",
       "<polyline clip-path=\"url(#clip462)\" style=\"stroke:#000000; stroke-linecap:butt; stroke-linejoin:round; stroke-width:2; stroke-opacity:0.1; fill:none\" points=\"\n",
       "  1967.45,3013.49 1967.45,118.82 \n",
       "  \"/>\n",
       "<polyline clip-path=\"url(#clip462)\" style=\"stroke:#000000; stroke-linecap:butt; stroke-linejoin:round; stroke-width:2; stroke-opacity:0.1; fill:none\" points=\"\n",
       "  2347.99,3013.49 2347.99,118.82 \n",
       "  \"/>\n",
       "<polyline clip-path=\"url(#clip460)\" style=\"stroke:#000000; stroke-linecap:butt; stroke-linejoin:round; stroke-width:4; stroke-opacity:1; fill:none\" points=\"\n",
       "  241.607,3013.49 2552.76,3013.49 \n",
       "  \"/>\n",
       "<polyline clip-path=\"url(#clip460)\" style=\"stroke:#000000; stroke-linecap:butt; stroke-linejoin:round; stroke-width:4; stroke-opacity:1; fill:none\" points=\"\n",
       "  445.298,3013.49 445.298,2994.6 \n",
       "  \"/>\n",
       "<polyline clip-path=\"url(#clip460)\" style=\"stroke:#000000; stroke-linecap:butt; stroke-linejoin:round; stroke-width:4; stroke-opacity:1; fill:none\" points=\"\n",
       "  825.837,3013.49 825.837,2994.6 \n",
       "  \"/>\n",
       "<polyline clip-path=\"url(#clip460)\" style=\"stroke:#000000; stroke-linecap:butt; stroke-linejoin:round; stroke-width:4; stroke-opacity:1; fill:none\" points=\"\n",
       "  1206.38,3013.49 1206.38,2994.6 \n",
       "  \"/>\n",
       "<polyline clip-path=\"url(#clip460)\" style=\"stroke:#000000; stroke-linecap:butt; stroke-linejoin:round; stroke-width:4; stroke-opacity:1; fill:none\" points=\"\n",
       "  1586.92,3013.49 1586.92,2994.6 \n",
       "  \"/>\n",
       "<polyline clip-path=\"url(#clip460)\" style=\"stroke:#000000; stroke-linecap:butt; stroke-linejoin:round; stroke-width:4; stroke-opacity:1; fill:none\" points=\"\n",
       "  1967.45,3013.49 1967.45,2994.6 \n",
       "  \"/>\n",
       "<polyline clip-path=\"url(#clip460)\" style=\"stroke:#000000; stroke-linecap:butt; stroke-linejoin:round; stroke-width:4; stroke-opacity:1; fill:none\" points=\"\n",
       "  2347.99,3013.49 2347.99,2994.6 \n",
       "  \"/>\n",
       "<path clip-path=\"url(#clip460)\" d=\"M435.68 3094.36 L443.319 3094.36 L443.319 3067.99 L435.008 3069.66 L435.008 3065.4 L443.272 3063.73 L447.948 3063.73 L447.948 3094.36 L455.587 3094.36 L455.587 3098.29 L435.68 3098.29 L435.68 3094.36 Z\" fill=\"#000000\" fill-rule=\"evenodd\" fill-opacity=\"1\" /><path clip-path=\"url(#clip460)\" d=\"M820.49 3094.36 L836.809 3094.36 L836.809 3098.29 L814.865 3098.29 L814.865 3094.36 Q817.527 3091.6 822.11 3086.97 Q826.717 3082.32 827.897 3080.98 Q830.142 3078.46 831.022 3076.72 Q831.925 3074.96 831.925 3073.27 Q831.925 3070.52 829.98 3068.78 Q828.059 3067.04 824.957 3067.04 Q822.758 3067.04 820.305 3067.81 Q817.874 3068.57 815.096 3070.12 L815.096 3065.4 Q817.92 3064.27 820.374 3063.69 Q822.828 3063.11 824.865 3063.11 Q830.235 3063.11 833.429 3065.79 Q836.624 3068.48 836.624 3072.97 Q836.624 3075.1 835.814 3077.02 Q835.027 3078.92 832.92 3081.51 Q832.341 3082.18 829.24 3085.4 Q826.138 3088.59 820.49 3094.36 Z\" fill=\"#000000\" fill-rule=\"evenodd\" fill-opacity=\"1\" /><path clip-path=\"url(#clip460)\" d=\"M1210.62 3079.66 Q1213.98 3080.38 1215.86 3082.65 Q1217.75 3084.91 1217.75 3088.25 Q1217.75 3093.36 1214.23 3096.16 Q1210.72 3098.96 1204.23 3098.96 Q1202.06 3098.96 1199.74 3098.53 Q1197.45 3098.11 1195 3097.25 L1195 3092.74 Q1196.94 3093.87 1199.26 3094.45 Q1201.57 3095.03 1204.1 3095.03 Q1208.49 3095.03 1210.79 3093.29 Q1213.1 3091.56 1213.1 3088.25 Q1213.1 3085.19 1210.95 3083.48 Q1208.82 3081.74 1205 3081.74 L1200.97 3081.74 L1200.97 3077.9 L1205.18 3077.9 Q1208.63 3077.9 1210.46 3076.53 Q1212.29 3075.15 1212.29 3072.55 Q1212.29 3069.89 1210.39 3068.48 Q1208.52 3067.04 1205 3067.04 Q1203.08 3067.04 1200.88 3067.46 Q1198.68 3067.88 1196.04 3068.76 L1196.04 3064.59 Q1198.7 3063.85 1201.02 3063.48 Q1203.36 3063.11 1205.42 3063.11 Q1210.74 3063.11 1213.84 3065.54 Q1216.94 3067.95 1216.94 3072.07 Q1216.94 3074.94 1215.3 3076.93 Q1213.66 3078.9 1210.62 3079.66 Z\" fill=\"#000000\" fill-rule=\"evenodd\" fill-opacity=\"1\" /><path clip-path=\"url(#clip460)\" d=\"M1589.92 3067.81 L1578.12 3086.26 L1589.92 3086.26 L1589.92 3067.81 M1588.7 3063.73 L1594.58 3063.73 L1594.58 3086.26 L1599.51 3086.26 L1599.51 3090.15 L1594.58 3090.15 L1594.58 3098.29 L1589.92 3098.29 L1589.92 3090.15 L1574.32 3090.15 L1574.32 3085.63 L1588.7 3063.73 Z\" fill=\"#000000\" fill-rule=\"evenodd\" fill-opacity=\"1\" /><path clip-path=\"url(#clip460)\" d=\"M1957.73 3063.73 L1976.09 3063.73 L1976.09 3067.67 L1962.01 3067.67 L1962.01 3076.14 Q1963.03 3075.79 1964.05 3075.63 Q1965.07 3075.45 1966.09 3075.45 Q1971.88 3075.45 1975.26 3078.62 Q1978.63 3081.79 1978.63 3087.21 Q1978.63 3092.78 1975.16 3095.89 Q1971.69 3098.96 1965.37 3098.96 Q1963.2 3098.96 1960.93 3098.59 Q1958.68 3098.22 1956.27 3097.48 L1956.27 3092.78 Q1958.36 3093.92 1960.58 3094.47 Q1962.8 3095.03 1965.28 3095.03 Q1969.28 3095.03 1971.62 3092.92 Q1973.96 3090.82 1973.96 3087.21 Q1973.96 3083.59 1971.62 3081.49 Q1969.28 3079.38 1965.28 3079.38 Q1963.4 3079.38 1961.53 3079.8 Q1959.68 3080.22 1957.73 3081.09 L1957.73 3063.73 Z\" fill=\"#000000\" fill-rule=\"evenodd\" fill-opacity=\"1\" /><path clip-path=\"url(#clip460)\" d=\"M2348.4 3079.15 Q2345.25 3079.15 2343.4 3081.3 Q2341.57 3083.46 2341.57 3087.21 Q2341.57 3090.93 2343.4 3093.11 Q2345.25 3095.26 2348.4 3095.26 Q2351.55 3095.26 2353.38 3093.11 Q2355.23 3090.93 2355.23 3087.21 Q2355.23 3083.46 2353.38 3081.3 Q2351.55 3079.15 2348.4 3079.15 M2357.68 3064.5 L2357.68 3068.76 Q2355.92 3067.92 2354.12 3067.48 Q2352.33 3067.04 2350.57 3067.04 Q2345.94 3067.04 2343.49 3070.17 Q2341.06 3073.29 2340.71 3079.61 Q2342.08 3077.6 2344.14 3076.53 Q2346.2 3075.45 2348.68 3075.45 Q2353.88 3075.45 2356.89 3078.62 Q2359.93 3081.77 2359.93 3087.21 Q2359.93 3092.53 2356.78 3095.75 Q2353.63 3098.96 2348.4 3098.96 Q2342.4 3098.96 2339.23 3094.38 Q2336.06 3089.78 2336.06 3081.05 Q2336.06 3072.85 2339.95 3067.99 Q2343.84 3063.11 2350.39 3063.11 Q2352.15 3063.11 2353.93 3063.46 Q2355.74 3063.8 2357.68 3064.5 Z\" fill=\"#000000\" fill-rule=\"evenodd\" fill-opacity=\"1\" /><path clip-path=\"url(#clip460)\" d=\"M1122.93 3152.84 L1129.36 3152.84 L1129.36 3172.92 L1150.69 3152.84 L1158.96 3152.84 L1135.38 3174.99 L1160.65 3200.36 L1152.18 3200.36 L1129.36 3177.47 L1129.36 3200.36 L1122.93 3200.36 L1122.93 3152.84 Z\" fill=\"#000000\" fill-rule=\"evenodd\" fill-opacity=\"1\" /><path clip-path=\"url(#clip460)\" d=\"M1180.48 3182.44 Q1173.38 3182.44 1170.64 3184.06 Q1167.9 3185.68 1167.9 3189.6 Q1167.9 3192.72 1169.94 3194.56 Q1172.01 3196.38 1175.54 3196.38 Q1180.41 3196.38 1183.34 3192.94 Q1186.3 3189.47 1186.3 3183.74 L1186.3 3182.44 L1180.48 3182.44 M1192.16 3180.02 L1192.16 3200.36 L1186.3 3200.36 L1186.3 3194.95 Q1184.3 3198.19 1181.3 3199.75 Q1178.31 3201.28 1173.98 3201.28 Q1168.51 3201.28 1165.26 3198.23 Q1162.05 3195.14 1162.05 3189.98 Q1162.05 3183.97 1166.06 3180.91 Q1170.1 3177.85 1178.09 3177.85 L1186.3 3177.85 L1186.3 3177.28 Q1186.3 3173.24 1183.63 3171.04 Q1180.99 3168.82 1176.18 3168.82 Q1173.12 3168.82 1170.23 3169.55 Q1167.33 3170.28 1164.66 3171.74 L1164.66 3166.33 Q1167.87 3165.09 1170.9 3164.49 Q1173.92 3163.85 1176.79 3163.85 Q1184.52 3163.85 1188.34 3167.86 Q1192.16 3171.87 1192.16 3180.02 Z\" fill=\"#000000\" fill-rule=\"evenodd\" fill-opacity=\"1\" /><path clip-path=\"url(#clip460)\" d=\"M1233.85 3178.84 L1233.85 3200.36 L1228 3200.36 L1228 3179.03 Q1228 3173.97 1226.02 3171.46 Q1224.05 3168.94 1220.1 3168.94 Q1215.36 3168.94 1212.62 3171.97 Q1209.89 3174.99 1209.89 3180.21 L1209.89 3200.36 L1204 3200.36 L1204 3150.83 L1209.89 3150.83 L1209.89 3170.25 Q1211.99 3167.03 1214.82 3165.44 Q1217.68 3163.85 1221.41 3163.85 Q1227.55 3163.85 1230.7 3167.67 Q1233.85 3171.46 1233.85 3178.84 Z\" fill=\"#000000\" fill-rule=\"evenodd\" fill-opacity=\"1\" /><path clip-path=\"url(#clip460)\" d=\"M1261.74 3182.44 Q1254.64 3182.44 1251.9 3184.06 Q1249.16 3185.68 1249.16 3189.6 Q1249.16 3192.72 1251.2 3194.56 Q1253.27 3196.38 1256.8 3196.38 Q1261.67 3196.38 1264.6 3192.94 Q1267.56 3189.47 1267.56 3183.74 L1267.56 3182.44 L1261.74 3182.44 M1273.42 3180.02 L1273.42 3200.36 L1267.56 3200.36 L1267.56 3194.95 Q1265.55 3198.19 1262.56 3199.75 Q1259.57 3201.28 1255.24 3201.28 Q1249.77 3201.28 1246.52 3198.23 Q1243.31 3195.14 1243.31 3189.98 Q1243.31 3183.97 1247.32 3180.91 Q1251.36 3177.85 1259.35 3177.85 L1267.56 3177.85 L1267.56 3177.28 Q1267.56 3173.24 1264.89 3171.04 Q1262.24 3168.82 1257.44 3168.82 Q1254.38 3168.82 1251.49 3169.55 Q1248.59 3170.28 1245.92 3171.74 L1245.92 3166.33 Q1249.13 3165.09 1252.15 3164.49 Q1255.18 3163.85 1258.04 3163.85 Q1265.78 3163.85 1269.6 3167.86 Q1273.42 3171.87 1273.42 3180.02 Z\" fill=\"#000000\" fill-rule=\"evenodd\" fill-opacity=\"1\" /><path clip-path=\"url(#clip460)\" d=\"M1315.11 3178.84 L1315.11 3200.36 L1309.26 3200.36 L1309.26 3179.03 Q1309.26 3173.97 1307.28 3171.46 Q1305.31 3168.94 1301.36 3168.94 Q1296.62 3168.94 1293.88 3171.97 Q1291.14 3174.99 1291.14 3180.21 L1291.14 3200.36 L1285.26 3200.36 L1285.26 3164.71 L1291.14 3164.71 L1291.14 3170.25 Q1293.25 3167.03 1296.08 3165.44 Q1298.94 3163.85 1302.67 3163.85 Q1308.81 3163.85 1311.96 3167.67 Q1315.11 3171.46 1315.11 3178.84 Z\" fill=\"#000000\" fill-rule=\"evenodd\" fill-opacity=\"1\" /><path clip-path=\"url(#clip460)\" d=\"M1375.27 3171.55 Q1377.46 3167.61 1380.52 3165.73 Q1383.57 3163.85 1387.71 3163.85 Q1393.28 3163.85 1396.31 3167.77 Q1399.33 3171.65 1399.33 3178.84 L1399.33 3200.36 L1393.44 3200.36 L1393.44 3179.03 Q1393.44 3173.91 1391.63 3171.43 Q1389.81 3168.94 1386.09 3168.94 Q1381.54 3168.94 1378.9 3171.97 Q1376.25 3174.99 1376.25 3180.21 L1376.25 3200.36 L1370.37 3200.36 L1370.37 3179.03 Q1370.37 3173.88 1368.55 3171.43 Q1366.74 3168.94 1362.95 3168.94 Q1358.46 3168.94 1355.82 3172 Q1353.18 3175.02 1353.18 3180.21 L1353.18 3200.36 L1347.29 3200.36 L1347.29 3164.71 L1353.18 3164.71 L1353.18 3170.25 Q1355.18 3166.97 1357.98 3165.41 Q1360.79 3163.85 1364.64 3163.85 Q1368.52 3163.85 1371.23 3165.82 Q1373.96 3167.8 1375.27 3171.55 Z\" fill=\"#000000\" fill-rule=\"evenodd\" fill-opacity=\"1\" /><path clip-path=\"url(#clip460)\" d=\"M1427.21 3182.44 Q1420.11 3182.44 1417.38 3184.06 Q1414.64 3185.68 1414.64 3189.6 Q1414.64 3192.72 1416.68 3194.56 Q1418.75 3196.38 1422.28 3196.38 Q1427.15 3196.38 1430.08 3192.94 Q1433.04 3189.47 1433.04 3183.74 L1433.04 3182.44 L1427.21 3182.44 M1438.89 3180.02 L1438.89 3200.36 L1433.04 3200.36 L1433.04 3194.95 Q1431.03 3198.19 1428.04 3199.75 Q1425.05 3201.28 1420.72 3201.28 Q1415.24 3201.28 1412 3198.23 Q1408.78 3195.14 1408.78 3189.98 Q1408.78 3183.97 1412.79 3180.91 Q1416.84 3177.85 1424.82 3177.85 L1433.04 3177.85 L1433.04 3177.28 Q1433.04 3173.24 1430.36 3171.04 Q1427.72 3168.82 1422.92 3168.82 Q1419.86 3168.82 1416.96 3169.55 Q1414.07 3170.28 1411.39 3171.74 L1411.39 3166.33 Q1414.61 3165.09 1417.63 3164.49 Q1420.66 3163.85 1423.52 3163.85 Q1431.25 3163.85 1435.07 3167.86 Q1438.89 3171.87 1438.89 3180.02 Z\" fill=\"#000000\" fill-rule=\"evenodd\" fill-opacity=\"1\" /><path clip-path=\"url(#clip460)\" d=\"M1456.75 3154.59 L1456.75 3164.71 L1468.81 3164.71 L1468.81 3169.26 L1456.75 3169.26 L1456.75 3188.61 Q1456.75 3192.97 1457.93 3194.21 Q1459.14 3195.46 1462.8 3195.46 L1468.81 3195.46 L1468.81 3200.36 L1462.8 3200.36 Q1456.02 3200.36 1453.44 3197.84 Q1450.86 3195.3 1450.86 3188.61 L1450.86 3169.26 L1446.56 3169.26 L1446.56 3164.71 L1450.86 3164.71 L1450.86 3154.59 L1456.75 3154.59 Z\" fill=\"#000000\" fill-rule=\"evenodd\" fill-opacity=\"1\" /><path clip-path=\"url(#clip460)\" d=\"M1497.17 3170.18 Q1496.18 3169.61 1495.01 3169.36 Q1493.86 3169.07 1492.46 3169.07 Q1487.5 3169.07 1484.82 3172.32 Q1482.18 3175.53 1482.18 3181.58 L1482.18 3200.36 L1476.29 3200.36 L1476.29 3164.71 L1482.18 3164.71 L1482.18 3170.25 Q1484.03 3167 1486.99 3165.44 Q1489.95 3163.85 1494.18 3163.85 Q1494.78 3163.85 1495.52 3163.95 Q1496.25 3164.01 1497.14 3164.17 L1497.17 3170.18 Z\" fill=\"#000000\" fill-rule=\"evenodd\" fill-opacity=\"1\" /><path clip-path=\"url(#clip460)\" d=\"M1503.31 3164.71 L1509.17 3164.71 L1509.17 3200.36 L1503.31 3200.36 L1503.31 3164.71 M1503.31 3150.83 L1509.17 3150.83 L1509.17 3158.25 L1503.31 3158.25 L1503.31 3150.83 Z\" fill=\"#000000\" fill-rule=\"evenodd\" fill-opacity=\"1\" /><path clip-path=\"url(#clip460)\" d=\"M1551.06 3164.71 L1538.17 3182.06 L1551.73 3200.36 L1544.82 3200.36 L1534.44 3186.35 L1524.07 3200.36 L1517.16 3200.36 L1531 3181.71 L1518.34 3164.71 L1525.24 3164.71 L1534.7 3177.41 L1544.15 3164.71 L1551.06 3164.71 Z\" fill=\"#000000\" fill-rule=\"evenodd\" fill-opacity=\"1\" /><path clip-path=\"url(#clip460)\" d=\"M1604.66 3177.76 L1584.38 3177.76 Q1584.86 3187.28 1587.05 3191.32 Q1589.79 3196.28 1594.53 3196.28 Q1599.31 3196.28 1601.95 3191.29 Q1604.27 3186.89 1604.66 3177.76 M1604.56 3172.35 Q1603.67 3163.31 1601.95 3160.13 Q1599.21 3155.1 1594.53 3155.1 Q1589.66 3155.1 1587.09 3160.06 Q1585.05 3164.07 1584.44 3172.35 L1604.56 3172.35 M1594.53 3150.32 Q1602.17 3150.32 1606.53 3157.07 Q1610.89 3163.79 1610.89 3175.69 Q1610.89 3187.56 1606.53 3194.31 Q1602.17 3201.09 1594.53 3201.09 Q1586.86 3201.09 1582.54 3194.31 Q1578.17 3187.56 1578.17 3175.69 Q1578.17 3163.79 1582.54 3157.07 Q1586.86 3150.32 1594.53 3150.32 Z\" fill=\"#000000\" fill-rule=\"evenodd\" fill-opacity=\"1\" /><path clip-path=\"url(#clip460)\" d=\"M1618.82 3166.14 L1644.51 3166.14 L1644.51 3169.17 L1618.82 3169.17 L1618.82 3166.14 Z\" fill=\"#000000\" fill-rule=\"evenodd\" fill-opacity=\"1\" /><path clip-path=\"url(#clip460)\" d=\"M1653.83 3175.6 L1660.32 3175.6 L1660.32 3156.15 L1653.23 3157.45 L1653.23 3153.76 L1660.55 3152.52 L1664.91 3152.52 L1664.91 3175.6 L1671.43 3175.6 L1671.43 3179.1 L1653.83 3179.1 L1653.83 3175.6 Z\" fill=\"#000000\" fill-rule=\"evenodd\" fill-opacity=\"1\" /><polyline clip-path=\"url(#clip462)\" style=\"stroke:#000000; stroke-linecap:butt; stroke-linejoin:round; stroke-width:2; stroke-opacity:0.1; fill:none\" points=\"\n",
       "  241.607,1669.83 2552.76,1669.83 \n",
       "  \"/>\n",
       "<polyline clip-path=\"url(#clip462)\" style=\"stroke:#000000; stroke-linecap:butt; stroke-linejoin:round; stroke-width:2; stroke-opacity:0.1; fill:none\" points=\"\n",
       "  241.607,169.29 2552.76,169.29 \n",
       "  \"/>\n",
       "<polyline clip-path=\"url(#clip460)\" style=\"stroke:#000000; stroke-linecap:butt; stroke-linejoin:round; stroke-width:4; stroke-opacity:1; fill:none\" points=\"\n",
       "  241.607,3013.49 241.607,118.82 \n",
       "  \"/>\n",
       "<polyline clip-path=\"url(#clip460)\" style=\"stroke:#000000; stroke-linecap:butt; stroke-linejoin:round; stroke-width:4; stroke-opacity:1; fill:none\" points=\"\n",
       "  241.607,1669.83 260.505,1669.83 \n",
       "  \"/>\n",
       "<polyline clip-path=\"url(#clip460)\" style=\"stroke:#000000; stroke-linecap:butt; stroke-linejoin:round; stroke-width:4; stroke-opacity:1; fill:none\" points=\"\n",
       "  241.607,169.29 260.505,169.29 \n",
       "  \"/>\n",
       "<path clip-path=\"url(#clip460)\" d=\"M37.6634 1689.62 L45.3023 1689.62 L45.3023 1663.25 L36.9921 1664.92 L36.9921 1660.66 L45.256 1658.99 L49.9319 1658.99 L49.9319 1689.62 L57.5707 1689.62 L57.5707 1693.55 L37.6634 1693.55 L37.6634 1689.62 Z\" fill=\"#000000\" fill-rule=\"evenodd\" fill-opacity=\"1\" /><path clip-path=\"url(#clip460)\" d=\"M77.0151 1662.07 Q73.404 1662.07 71.5753 1665.64 Q69.7697 1669.18 69.7697 1676.31 Q69.7697 1683.41 71.5753 1686.98 Q73.404 1690.52 77.0151 1690.52 Q80.6493 1690.52 82.4548 1686.98 Q84.2835 1683.41 84.2835 1676.31 Q84.2835 1669.18 82.4548 1665.64 Q80.6493 1662.07 77.0151 1662.07 M77.0151 1658.37 Q82.8252 1658.37 85.8808 1662.97 Q88.9594 1667.56 88.9594 1676.31 Q88.9594 1685.03 85.8808 1689.64 Q82.8252 1694.22 77.0151 1694.22 Q71.2049 1694.22 68.1262 1689.64 Q65.0707 1685.03 65.0707 1676.31 Q65.0707 1667.56 68.1262 1662.97 Q71.2049 1658.37 77.0151 1658.37 Z\" fill=\"#000000\" fill-rule=\"evenodd\" fill-opacity=\"1\" /><path clip-path=\"url(#clip460)\" d=\"M88.9594 1652.47 L113.071 1652.47 L113.071 1655.67 L88.9594 1655.67 L88.9594 1652.47 Z\" fill=\"#000000\" fill-rule=\"evenodd\" fill-opacity=\"1\" /><path clip-path=\"url(#clip460)\" d=\"M121.929 1662.95 L128.136 1662.95 L128.136 1641.52 L121.384 1642.88 L121.384 1639.42 L128.098 1638.06 L131.898 1638.06 L131.898 1662.95 L138.104 1662.95 L138.104 1666.14 L121.929 1666.14 L121.929 1662.95 Z\" fill=\"#000000\" fill-rule=\"evenodd\" fill-opacity=\"1\" /><path clip-path=\"url(#clip460)\" d=\"M153.903 1640.56 Q150.969 1640.56 149.483 1643.46 Q148.016 1646.34 148.016 1652.13 Q148.016 1657.9 149.483 1660.8 Q150.969 1663.68 153.903 1663.68 Q156.855 1663.68 158.322 1660.8 Q159.808 1657.9 159.808 1652.13 Q159.808 1646.34 158.322 1643.46 Q156.855 1640.56 153.903 1640.56 M153.903 1637.55 Q158.623 1637.55 161.106 1641.3 Q163.607 1645.02 163.607 1652.13 Q163.607 1659.22 161.106 1662.96 Q158.623 1666.69 153.903 1666.69 Q149.182 1666.69 146.68 1662.96 Q144.198 1659.22 144.198 1652.13 Q144.198 1645.02 146.68 1641.3 Q149.182 1637.55 153.903 1637.55 Z\" fill=\"#000000\" fill-rule=\"evenodd\" fill-opacity=\"1\" /><path clip-path=\"url(#clip460)\" d=\"M92.9018 189.082 L100.541 189.082 L100.541 162.717 L92.2305 164.383 L92.2305 160.124 L100.494 158.457 L105.17 158.457 L105.17 189.082 L112.809 189.082 L112.809 193.017 L92.9018 193.017 L92.9018 189.082 Z\" fill=\"#000000\" fill-rule=\"evenodd\" fill-opacity=\"1\" /><path clip-path=\"url(#clip460)\" d=\"M132.253 161.536 Q128.642 161.536 126.814 165.101 Q125.008 168.643 125.008 175.772 Q125.008 182.879 126.814 186.443 Q128.642 189.985 132.253 189.985 Q135.888 189.985 137.693 186.443 Q139.522 182.879 139.522 175.772 Q139.522 168.643 137.693 165.101 Q135.888 161.536 132.253 161.536 M132.253 157.832 Q138.064 157.832 141.119 162.439 Q144.198 167.022 144.198 175.772 Q144.198 184.499 141.119 189.105 Q138.064 193.689 132.253 193.689 Q126.443 193.689 123.365 189.105 Q120.309 184.499 120.309 175.772 Q120.309 167.022 123.365 162.439 Q126.443 157.832 132.253 157.832 Z\" fill=\"#000000\" fill-rule=\"evenodd\" fill-opacity=\"1\" /><path clip-path=\"url(#clip460)\" d=\"M153.903 140.028 Q150.969 140.028 149.483 142.925 Q148.016 145.802 148.016 151.595 Q148.016 157.369 149.483 160.266 Q150.969 163.143 153.903 163.143 Q156.855 163.143 158.322 160.266 Q159.808 157.369 159.808 151.595 Q159.808 145.802 158.322 142.925 Q156.855 140.028 153.903 140.028 M153.903 137.019 Q158.623 137.019 161.106 140.762 Q163.607 144.486 163.607 151.595 Q163.607 158.686 161.106 162.428 Q158.623 166.152 153.903 166.152 Q149.182 166.152 146.68 162.428 Q144.198 158.686 144.198 151.595 Q144.198 144.486 146.68 140.762 Q149.182 137.019 153.903 137.019 Z\" fill=\"#000000\" fill-rule=\"evenodd\" fill-opacity=\"1\" /><path clip-path=\"url(#clip460)\" d=\"M955.734 16.7545 L955.734 25.383 Q951.602 21.5346 946.903 19.6307 Q942.245 17.7268 936.979 17.7268 Q926.608 17.7268 921.099 24.0867 Q915.59 30.4061 915.59 42.3968 Q915.59 54.3469 921.099 60.7069 Q926.608 67.0263 936.979 67.0263 Q942.245 67.0263 946.903 65.1223 Q951.602 63.2184 955.734 59.3701 L955.734 67.9175 Q951.44 70.8341 946.62 72.2924 Q941.84 73.7508 936.493 73.7508 Q922.76 73.7508 914.861 65.3654 Q906.962 56.9395 906.962 42.3968 Q906.962 27.8135 914.861 19.4281 Q922.76 11.0023 936.493 11.0023 Q941.921 11.0023 946.701 12.4606 Q951.521 13.8784 955.734 16.7545 Z\" fill=\"#000000\" fill-rule=\"evenodd\" fill-opacity=\"1\" /><path clip-path=\"url(#clip460)\" d=\"M968.049 9.54393 L975.503 9.54393 L975.503 72.576 L968.049 72.576 L968.049 9.54393 Z\" fill=\"#000000\" fill-rule=\"evenodd\" fill-opacity=\"1\" /><path clip-path=\"url(#clip460)\" d=\"M1011.72 49.7694 Q1002.68 49.7694 999.201 51.8354 Q995.717 53.9013 995.717 58.8839 Q995.717 62.8538 998.309 65.2034 Q1000.94 67.5124 1005.44 67.5124 Q1011.64 67.5124 1015.36 63.1374 Q1019.13 58.7219 1019.13 51.4303 L1019.13 49.7694 L1011.72 49.7694 M1026.58 46.6907 L1026.58 72.576 L1019.13 72.576 L1019.13 65.6895 Q1016.58 69.8214 1012.77 71.8063 Q1008.96 73.7508 1003.45 73.7508 Q996.487 73.7508 992.355 69.8619 Q988.263 65.9325 988.263 59.3701 Q988.263 51.7138 993.367 47.825 Q998.512 43.9361 1008.68 43.9361 L1019.13 43.9361 L1019.13 43.2069 Q1019.13 38.0623 1015.73 35.2672 Q1012.37 32.4315 1006.25 32.4315 Q1002.36 32.4315 998.674 33.3632 Q994.988 34.295 991.585 36.1584 L991.585 29.2718 Q995.676 27.692 999.525 26.9223 Q1003.37 26.1121 1007.02 26.1121 Q1016.86 26.1121 1021.72 31.2163 Q1026.58 36.3204 1026.58 46.6907 Z\" fill=\"#000000\" fill-rule=\"evenodd\" fill-opacity=\"1\" /><path clip-path=\"url(#clip460)\" d=\"M1070.86 28.5427 L1070.86 35.5912 Q1067.7 33.9709 1064.3 33.1607 Q1060.9 32.3505 1057.25 32.3505 Q1051.7 32.3505 1048.91 34.0519 Q1046.15 35.7533 1046.15 39.156 Q1046.15 41.7486 1048.14 43.2475 Q1050.12 44.7058 1056.12 46.0426 L1058.67 46.6097 Q1066.61 48.3111 1069.93 51.4303 Q1073.29 54.509 1073.29 60.0587 Q1073.29 66.3781 1068.27 70.0644 Q1063.29 73.7508 1054.54 73.7508 Q1050.89 73.7508 1046.92 73.0216 Q1042.99 72.3329 1038.62 70.9151 L1038.62 63.2184 Q1042.75 65.3654 1046.76 66.4591 Q1050.77 67.5124 1054.7 67.5124 Q1059.96 67.5124 1062.8 65.73 Q1065.64 63.9071 1065.64 60.6258 Q1065.64 57.5877 1063.57 55.9673 Q1061.54 54.3469 1054.62 52.8481 L1052.02 52.2405 Q1045.1 50.7821 1042.02 47.7845 Q1038.94 44.7463 1038.94 39.4801 Q1038.94 33.0797 1043.48 29.5959 Q1048.01 26.1121 1056.36 26.1121 Q1060.49 26.1121 1064.14 26.7198 Q1067.78 27.3274 1070.86 28.5427 Z\" fill=\"#000000\" fill-rule=\"evenodd\" fill-opacity=\"1\" /><path clip-path=\"url(#clip460)\" d=\"M1114.08 28.5427 L1114.08 35.5912 Q1110.92 33.9709 1107.52 33.1607 Q1104.12 32.3505 1100.47 32.3505 Q1094.92 32.3505 1092.13 34.0519 Q1089.37 35.7533 1089.37 39.156 Q1089.37 41.7486 1091.36 43.2475 Q1093.34 44.7058 1099.34 46.0426 L1101.89 46.6097 Q1109.83 48.3111 1113.15 51.4303 Q1116.51 54.509 1116.51 60.0587 Q1116.51 66.3781 1111.49 70.0644 Q1106.51 73.7508 1097.76 73.7508 Q1094.11 73.7508 1090.14 73.0216 Q1086.21 72.3329 1081.84 70.9151 L1081.84 63.2184 Q1085.97 65.3654 1089.98 66.4591 Q1093.99 67.5124 1097.92 67.5124 Q1103.19 67.5124 1106.02 65.73 Q1108.86 63.9071 1108.86 60.6258 Q1108.86 57.5877 1106.79 55.9673 Q1104.77 54.3469 1097.84 52.8481 L1095.25 52.2405 Q1088.32 50.7821 1085.24 47.7845 Q1082.16 44.7463 1082.16 39.4801 Q1082.16 33.0797 1086.7 29.5959 Q1091.24 26.1121 1099.58 26.1121 Q1103.71 26.1121 1107.36 26.7198 Q1111.01 27.3274 1114.08 28.5427 Z\" fill=\"#000000\" fill-rule=\"evenodd\" fill-opacity=\"1\" /><path clip-path=\"url(#clip460)\" d=\"M1128.38 27.2059 L1135.84 27.2059 L1135.84 72.576 L1128.38 72.576 L1128.38 27.2059 M1128.38 9.54393 L1135.84 9.54393 L1135.84 18.9825 L1128.38 18.9825 L1128.38 9.54393 Z\" fill=\"#000000\" fill-rule=\"evenodd\" fill-opacity=\"1\" /><path clip-path=\"url(#clip460)\" d=\"M1184.08 28.9478 L1184.08 35.9153 Q1180.92 34.1734 1177.72 33.3227 Q1174.56 32.4315 1171.32 32.4315 Q1164.07 32.4315 1160.06 37.0496 Q1156.05 41.6271 1156.05 49.9314 Q1156.05 58.2358 1160.06 62.8538 Q1164.07 67.4314 1171.32 67.4314 Q1174.56 67.4314 1177.72 66.5807 Q1180.92 65.6895 1184.08 63.9476 L1184.08 70.8341 Q1180.96 72.2924 1177.6 73.0216 Q1174.28 73.7508 1170.51 73.7508 Q1160.26 73.7508 1154.23 67.3098 Q1148.19 60.8689 1148.19 49.9314 Q1148.19 38.832 1154.27 32.472 Q1160.39 26.1121 1171 26.1121 Q1174.44 26.1121 1177.72 26.8413 Q1181.01 27.5299 1184.08 28.9478 Z\" fill=\"#000000\" fill-rule=\"evenodd\" fill-opacity=\"1\" /><path clip-path=\"url(#clip460)\" d=\"M1217.67 49.7694 Q1208.63 49.7694 1205.15 51.8354 Q1201.66 53.9013 1201.66 58.8839 Q1201.66 62.8538 1204.26 65.2034 Q1206.89 67.5124 1211.39 67.5124 Q1217.58 67.5124 1221.31 63.1374 Q1225.08 58.7219 1225.08 51.4303 L1225.08 49.7694 L1217.67 49.7694 M1232.53 46.6907 L1232.53 72.576 L1225.08 72.576 L1225.08 65.6895 Q1222.53 69.8214 1218.72 71.8063 Q1214.91 73.7508 1209.4 73.7508 Q1202.43 73.7508 1198.3 69.8619 Q1194.21 65.9325 1194.21 59.3701 Q1194.21 51.7138 1199.32 47.825 Q1204.46 43.9361 1214.63 43.9361 L1225.08 43.9361 L1225.08 43.2069 Q1225.08 38.0623 1221.68 35.2672 Q1218.31 32.4315 1212.2 32.4315 Q1208.31 32.4315 1204.62 33.3632 Q1200.94 34.295 1197.53 36.1584 L1197.53 29.2718 Q1201.62 27.692 1205.47 26.9223 Q1209.32 26.1121 1212.97 26.1121 Q1222.81 26.1121 1227.67 31.2163 Q1232.53 36.3204 1232.53 46.6907 Z\" fill=\"#000000\" fill-rule=\"evenodd\" fill-opacity=\"1\" /><path clip-path=\"url(#clip460)\" d=\"M1247.89 9.54393 L1255.34 9.54393 L1255.34 72.576 L1247.89 72.576 L1247.89 9.54393 Z\" fill=\"#000000\" fill-rule=\"evenodd\" fill-opacity=\"1\" /><path clip-path=\"url(#clip460)\" d=\"M1338.87 63.9476 L1338.87 47.7034 L1325.5 47.7034 L1325.5 40.9789 L1346.97 40.9789 L1346.97 66.9452 Q1342.23 70.3075 1336.52 72.0494 Q1330.81 73.7508 1324.33 73.7508 Q1310.15 73.7508 1302.13 65.4869 Q1294.15 57.1826 1294.15 42.3968 Q1294.15 27.5705 1302.13 19.3066 Q1310.15 11.0023 1324.33 11.0023 Q1330.24 11.0023 1335.55 12.4606 Q1340.89 13.9189 1345.39 16.7545 L1345.39 25.464 Q1340.85 21.6156 1335.75 19.6712 Q1330.65 17.7268 1325.01 17.7268 Q1313.92 17.7268 1308.33 23.9246 Q1302.78 30.1225 1302.78 42.3968 Q1302.78 54.6305 1308.33 60.8284 Q1313.92 67.0263 1325.01 67.0263 Q1329.35 67.0263 1332.75 66.2971 Q1336.15 65.5274 1338.87 63.9476 Z\" fill=\"#000000\" fill-rule=\"evenodd\" fill-opacity=\"1\" /><path clip-path=\"url(#clip460)\" d=\"M1387.88 34.1734 Q1386.63 33.4443 1385.13 33.1202 Q1383.67 32.7556 1381.89 32.7556 Q1375.57 32.7556 1372.17 36.8875 Q1368.81 40.9789 1368.81 48.6757 L1368.81 72.576 L1361.31 72.576 L1361.31 27.2059 L1368.81 27.2059 L1368.81 34.2544 Q1371.15 30.1225 1374.92 28.1376 Q1378.69 26.1121 1384.08 26.1121 Q1384.85 26.1121 1385.78 26.2337 Q1386.71 26.3147 1387.84 26.5172 L1387.88 34.1734 Z\" fill=\"#000000\" fill-rule=\"evenodd\" fill-opacity=\"1\" /><path clip-path=\"url(#clip460)\" d=\"M1416.32 49.7694 Q1407.29 49.7694 1403.8 51.8354 Q1400.32 53.9013 1400.32 58.8839 Q1400.32 62.8538 1402.91 65.2034 Q1405.55 67.5124 1410.04 67.5124 Q1416.24 67.5124 1419.97 63.1374 Q1423.74 58.7219 1423.74 51.4303 L1423.74 49.7694 L1416.32 49.7694 M1431.19 46.6907 L1431.19 72.576 L1423.74 72.576 L1423.74 65.6895 Q1421.18 69.8214 1417.38 71.8063 Q1413.57 73.7508 1408.06 73.7508 Q1401.09 73.7508 1396.96 69.8619 Q1392.87 65.9325 1392.87 59.3701 Q1392.87 51.7138 1397.97 47.825 Q1403.12 43.9361 1413.28 43.9361 L1423.74 43.9361 L1423.74 43.2069 Q1423.74 38.0623 1420.33 35.2672 Q1416.97 32.4315 1410.85 32.4315 Q1406.96 32.4315 1403.28 33.3632 Q1399.59 34.295 1396.19 36.1584 L1396.19 29.2718 Q1400.28 27.692 1404.13 26.9223 Q1407.98 26.1121 1411.62 26.1121 Q1421.47 26.1121 1426.33 31.2163 Q1431.19 36.3204 1431.19 46.6907 Z\" fill=\"#000000\" fill-rule=\"evenodd\" fill-opacity=\"1\" /><path clip-path=\"url(#clip460)\" d=\"M1481.87 35.9153 Q1484.66 30.8922 1488.55 28.5022 Q1492.44 26.1121 1497.7 26.1121 Q1504.79 26.1121 1508.64 31.0947 Q1512.49 36.0368 1512.49 45.1919 L1512.49 72.576 L1505 72.576 L1505 45.4349 Q1505 38.913 1502.69 35.7533 Q1500.38 32.5936 1495.64 32.5936 Q1489.85 32.5936 1486.48 36.4419 Q1483.12 40.2903 1483.12 46.9338 L1483.12 72.576 L1475.63 72.576 L1475.63 45.4349 Q1475.63 38.8725 1473.32 35.7533 Q1471.01 32.5936 1466.19 32.5936 Q1460.48 32.5936 1457.11 36.4824 Q1453.75 40.3308 1453.75 46.9338 L1453.75 72.576 L1446.26 72.576 L1446.26 27.2059 L1453.75 27.2059 L1453.75 34.2544 Q1456.3 30.082 1459.87 28.0971 Q1463.43 26.1121 1468.34 26.1121 Q1473.28 26.1121 1476.72 28.6237 Q1480.2 31.1352 1481.87 35.9153 Z\" fill=\"#000000\" fill-rule=\"evenodd\" fill-opacity=\"1\" /><path clip-path=\"url(#clip460)\" d=\"M1523.59 46.5287 L1545.42 46.5287 L1545.42 53.1722 L1523.59 53.1722 L1523.59 46.5287 Z\" fill=\"#000000\" fill-rule=\"evenodd\" fill-opacity=\"1\" /><path clip-path=\"url(#clip460)\" d=\"M1593.87 14.0809 L1593.87 22.0612 Q1589.21 19.8332 1585.08 18.7395 Q1580.95 17.6457 1577.1 17.6457 Q1570.42 17.6457 1566.77 20.2383 Q1563.17 22.8309 1563.17 27.611 Q1563.17 31.6214 1565.56 33.6873 Q1567.99 35.7128 1574.71 36.9686 L1579.65 37.9813 Q1588.81 39.7232 1593.14 44.1387 Q1597.52 48.5136 1597.52 55.8863 Q1597.52 64.6767 1591.6 69.2137 Q1585.73 73.7508 1574.35 73.7508 Q1570.05 73.7508 1565.19 72.7785 Q1560.37 71.8063 1555.19 69.9024 L1555.19 61.4765 Q1560.17 64.2716 1564.95 65.6895 Q1569.73 67.1073 1574.35 67.1073 Q1581.36 67.1073 1585.16 64.3527 Q1588.97 61.598 1588.97 56.4939 Q1588.97 52.0379 1586.22 49.5264 Q1583.5 47.0148 1577.26 45.759 L1572.28 44.7868 Q1563.13 42.9639 1559.04 39.075 Q1554.94 35.1862 1554.94 28.2591 Q1554.94 20.2383 1560.57 15.6203 Q1566.25 11.0023 1576.17 11.0023 Q1580.42 11.0023 1584.84 11.7719 Q1589.26 12.5416 1593.87 14.0809 Z\" fill=\"#000000\" fill-rule=\"evenodd\" fill-opacity=\"1\" /><path clip-path=\"url(#clip460)\" d=\"M1642.61 28.9478 L1642.61 35.9153 Q1639.45 34.1734 1636.25 33.3227 Q1633.09 32.4315 1629.85 32.4315 Q1622.59 32.4315 1618.58 37.0496 Q1614.57 41.6271 1614.57 49.9314 Q1614.57 58.2358 1618.58 62.8538 Q1622.59 67.4314 1629.85 67.4314 Q1633.09 67.4314 1636.25 66.5807 Q1639.45 65.6895 1642.61 63.9476 L1642.61 70.8341 Q1639.49 72.2924 1636.12 73.0216 Q1632.8 73.7508 1629.04 73.7508 Q1618.79 73.7508 1612.75 67.3098 Q1606.71 60.8689 1606.71 49.9314 Q1606.71 38.832 1612.79 32.472 Q1618.91 26.1121 1629.52 26.1121 Q1632.96 26.1121 1636.25 26.8413 Q1639.53 27.5299 1642.61 28.9478 Z\" fill=\"#000000\" fill-rule=\"evenodd\" fill-opacity=\"1\" /><path clip-path=\"url(#clip460)\" d=\"M1693.28 45.1919 L1693.28 72.576 L1685.83 72.576 L1685.83 45.4349 Q1685.83 38.994 1683.32 35.7938 Q1680.81 32.5936 1675.78 32.5936 Q1669.75 32.5936 1666.26 36.4419 Q1662.78 40.2903 1662.78 46.9338 L1662.78 72.576 L1655.29 72.576 L1655.29 9.54393 L1662.78 9.54393 L1662.78 34.2544 Q1665.45 30.163 1669.06 28.1376 Q1672.7 26.1121 1677.44 26.1121 Q1685.26 26.1121 1689.27 30.9732 Q1693.28 35.7938 1693.28 45.1919 Z\" fill=\"#000000\" fill-rule=\"evenodd\" fill-opacity=\"1\" /><path clip-path=\"url(#clip460)\" d=\"M1743.47 35.9153 Q1746.27 30.8922 1750.16 28.5022 Q1754.05 26.1121 1759.31 26.1121 Q1766.4 26.1121 1770.25 31.0947 Q1774.1 36.0368 1774.1 45.1919 L1774.1 72.576 L1766.6 72.576 L1766.6 45.4349 Q1766.6 38.913 1764.29 35.7533 Q1761.99 32.5936 1757.25 32.5936 Q1751.45 32.5936 1748.09 36.4419 Q1744.73 40.2903 1744.73 46.9338 L1744.73 72.576 L1737.23 72.576 L1737.23 45.4349 Q1737.23 38.8725 1734.93 35.7533 Q1732.62 32.5936 1727.8 32.5936 Q1722.08 32.5936 1718.72 36.4824 Q1715.36 40.3308 1715.36 46.9338 L1715.36 72.576 L1707.87 72.576 L1707.87 27.2059 L1715.36 27.2059 L1715.36 34.2544 Q1717.91 30.082 1721.48 28.0971 Q1725.04 26.1121 1729.94 26.1121 Q1734.89 26.1121 1738.33 28.6237 Q1741.81 31.1352 1743.47 35.9153 Z\" fill=\"#000000\" fill-rule=\"evenodd\" fill-opacity=\"1\" /><path clip-path=\"url(#clip460)\" d=\"M1788.96 27.2059 L1796.42 27.2059 L1796.42 72.576 L1788.96 72.576 L1788.96 27.2059 M1788.96 9.54393 L1796.42 9.54393 L1796.42 18.9825 L1788.96 18.9825 L1788.96 9.54393 Z\" fill=\"#000000\" fill-rule=\"evenodd\" fill-opacity=\"1\" /><path clip-path=\"url(#clip460)\" d=\"M1841.87 34.0924 L1841.87 9.54393 L1849.32 9.54393 L1849.32 72.576 L1841.87 72.576 L1841.87 65.7705 Q1839.52 69.8214 1835.91 71.8063 Q1832.35 73.7508 1827.33 73.7508 Q1819.1 73.7508 1813.92 67.1883 Q1808.77 60.6258 1808.77 49.9314 Q1808.77 39.2371 1813.92 32.6746 Q1819.1 26.1121 1827.33 26.1121 Q1832.35 26.1121 1835.91 28.0971 Q1839.52 30.0415 1841.87 34.0924 M1816.47 49.9314 Q1816.47 58.1548 1819.83 62.8538 Q1823.24 67.5124 1829.15 67.5124 Q1835.06 67.5124 1838.47 62.8538 Q1841.87 58.1548 1841.87 49.9314 Q1841.87 41.7081 1838.47 37.0496 Q1835.06 32.3505 1829.15 32.3505 Q1823.24 32.3505 1819.83 37.0496 Q1816.47 41.7081 1816.47 49.9314 Z\" fill=\"#000000\" fill-rule=\"evenodd\" fill-opacity=\"1\" /><path clip-path=\"url(#clip460)\" d=\"M1872.05 14.324 L1872.05 27.2059 L1887.4 27.2059 L1887.4 32.9987 L1872.05 32.9987 L1872.05 57.6282 Q1872.05 63.1779 1873.55 64.7578 Q1875.09 66.3376 1879.75 66.3376 L1887.4 66.3376 L1887.4 72.576 L1879.75 72.576 Q1871.12 72.576 1867.84 69.3758 Q1864.55 66.1351 1864.55 57.6282 L1864.55 32.9987 L1859.09 32.9987 L1859.09 27.2059 L1864.55 27.2059 L1864.55 14.324 L1872.05 14.324 Z\" fill=\"#000000\" fill-rule=\"evenodd\" fill-opacity=\"1\" /><polyline clip-path=\"url(#clip462)\" style=\"stroke:#009af9; stroke-linecap:butt; stroke-linejoin:round; stroke-width:8; stroke-opacity:1; fill:none\" points=\"\n",
       "  307.017,2968.32 319.13,2878.55 331.243,2793.86 343.356,2746.22 355.469,2713.53 367.582,2688.92 379.695,2412.64 391.808,2335.97 403.921,2639.47 416.034,2627.61 \n",
       "  428.147,2626.57 440.26,2607.93 452.373,2102.11 464.486,2076.43 476.598,2050.47 488.711,2026.16 500.824,2572.87 512.937,1963.74 525.05,1946.86 537.163,1923.34 \n",
       "  549.276,1885.08 561.389,1863.61 573.502,1841.12 585.615,1816.52 597.728,1784.61 609.841,1763.98 621.954,1740.18 634.067,2602.71 646.18,2607.81 658.293,2613.38 \n",
       "  670.405,2619.49 682.518,2626.26 694.631,2633.85 706.744,2642.46 718.857,2652.43 730.97,2664.23 743.083,2678.7 755.196,2697.37 767.309,2723.72 779.422,2768.83 \n",
       "  791.535,2968.32 803.648,1458.87 815.761,1442.98 827.874,2696.99 839.987,2678.19 852.1,2663.59 864.212,2651.66 876.325,2641.56 888.438,2632.81 900.551,2625.09 \n",
       "  912.664,2618.18 924.777,2611.93 936.89,2606.21 949.003,2600.96 961.116,2596.09 973.229,2591.55 985.342,1224.63 997.455,1211.72 1009.57,1198.62 1021.68,1185.93 \n",
       "  1033.79,1173.38 1045.91,1160.86 1058.02,1148.64 1070.13,1136.55 1082.25,1125 1094.36,1113.18 1106.47,1101.5 1118.58,1087.81 1130.7,1076.29 1142.81,1064.79 \n",
       "  1154.92,1053.64 1167.04,996.729 1179.15,984.818 1191.26,973.842 1203.37,963.023 1215.49,952.359 1227.6,940.931 1239.71,930.469 1251.83,920.13 1263.94,909.899 \n",
       "  1276.05,898.903 1288.17,888.774 1300.28,878.781 1312.39,868.929 1324.5,858.352 1336.62,848.695 1348.73,813.526 1360.84,803.233 1372.96,793.839 1385.07,783.935 \n",
       "  1397.18,774.182 1409.29,765.017 1421.41,755.435 1433.52,746.442 1445.63,737.542 1457.75,728.173 1469.86,719.428 1481.97,710.236 1494.09,701.635 1506.2,693.093 \n",
       "  1518.31,598.818 1530.42,589.174 1542.54,580.339 1554.65,571.436 1566.76,562.678 1578.88,625.214 1590.99,615.042 1603.1,606.858 1615.21,598.739 1627.33,590.673 \n",
       "  1639.44,582.67 1651.55,574.738 1663.67,566.844 1675.78,559.03 1687.89,551.269 1700.01,543.571 1712.12,535.916 1724.23,528.231 1736.34,520.698 1748.46,513.22 \n",
       "  1760.57,505.793 1772.68,498.37 1784.8,491.029 1796.91,483.755 1809.02,476.536 1821.13,469.363 1833.25,462.239 1845.36,455.165 1857.47,448.126 1869.59,441.002 \n",
       "  1881.7,434.061 1893.81,427.163 1905.93,420.322 1918.04,413.523 1930.15,406.771 1942.26,400.064 1954.38,393.384 1966.49,386.737 1978.6,380.155 1990.72,373.612 \n",
       "  2002.83,367.115 2014.94,360.661 2027.05,354.246 2039.17,347.874 2051.28,341.542 2063.39,335.241 2075.51,328.991 2087.62,322.786 2099.73,316.617 2111.84,310.494 \n",
       "  2123.96,304.415 2136.07,298.381 2148.18,292.391 2160.3,286.45 2172.41,280.557 2184.52,274.716 2196.64,268.862 2208.75,263.031 2220.86,257.163 2232.97,251.562 \n",
       "  2245.09,246.031 2257.2,240.559 2269.31,235.187 2281.43,229.907 2293.54,224.728 2305.65,219.658 2317.76,214.707 2329.88,209.884 2341.99,205.202 2354.1,200.677 \n",
       "  2366.22,196.275 2378.33,192.099 2390.44,188.113 2402.56,184.329 2414.67,180.747 2426.78,177.392 2438.89,174.261 2451.01,171.357 2463.12,168.679 2475.23,166.226 \n",
       "  2487.35,163.99 \n",
       "  \"/>\n",
       "<polyline clip-path=\"url(#clip462)\" style=\"stroke:#e26f46; stroke-linecap:butt; stroke-linejoin:round; stroke-width:8; stroke-opacity:1; fill:none\" points=\"\n",
       "  307.017,2968.32 319.13,2968.32 331.243,2968.32 343.356,2968.32 355.469,2968.32 367.582,2968.32 379.695,2585.92 391.808,2533.48 403.921,2968.32 416.034,2968.32 \n",
       "  428.147,2968.32 440.26,2968.32 452.373,2533.48 464.486,2514.32 476.598,2540.75 488.711,2550.12 500.824,2968.32 512.937,2578.65 525.05,2538.77 537.163,2550.12 \n",
       "  549.276,2563.33 561.389,2563.33 573.502,2550.12 585.615,2533.48 597.728,2968.32 609.841,2578.65 621.954,2585.92 634.067,2968.32 646.18,2968.32 658.293,2968.32 \n",
       "  670.405,2968.32 682.518,2968.32 694.631,2968.32 706.744,2968.32 718.857,2968.32 730.97,2968.32 743.083,2968.32 755.196,2968.32 767.309,2968.32 779.422,2968.32 \n",
       "  791.535,2968.32 803.648,2549.45 815.761,2547.51 827.874,2968.32 839.987,2968.32 852.1,2968.32 864.212,2968.32 876.325,2968.32 888.438,2968.32 900.551,2968.32 \n",
       "  912.664,2968.32 924.777,2968.32 936.89,2968.32 949.003,2968.32 961.116,2968.32 973.229,2968.32 985.342,2578.65 997.455,2572.71 1009.57,2607.5 1021.68,2968.32 \n",
       "  1033.79,2766.6 1045.91,2721.43 1058.02,2968.32 1070.13,2968.32 1082.25,2766.6 1094.36,2653.67 1106.47,2668.99 1118.58,2697.84 1130.7,2698.84 1142.81,2585.41 \n",
       "  1154.92,2581.19 1167.04,2649.84 1179.15,2583.94 1191.26,2653.67 1203.37,2668.99 1215.49,2668.99 1227.6,2968.32 1239.71,2674.28 1251.83,2766.6 1263.94,2968.32 \n",
       "  1276.05,2744.02 1288.17,2583.94 1300.28,2759.33 1312.39,2674.16 1324.5,2766.6 1336.62,2674.16 1348.73,2583.82 1360.84,2563.27 1372.96,2562.33 1385.07,2653.61 \n",
       "  1397.18,2653.67 1409.29,2672.42 1421.41,2674.28 1433.52,2766.6 1445.63,2585.92 1457.75,2764.63 1469.86,2744.02 1481.97,2968.32 1494.09,2856.94 1506.2,2676.26 \n",
       "  1518.31,2563.33 1530.42,2674.28 1542.54,2630.58 1554.65,2630.96 1566.76,2719.45 1578.88,2595.29 1590.99,2629.11 1603.1,2809.8 1615.21,2697.84 1627.33,2719.45 \n",
       "  1639.44,2630.84 1651.55,2628.99 1663.67,2668.18 1675.78,2697.84 1687.89,2719.45 1700.01,2811.77 1712.12,2631.09 1724.23,2630.83 1736.34,2630.96 1748.46,2631.09 \n",
       "  1760.57,2631.09 1772.68,2630.96 1784.8,2606.53 1796.91,2607.5 1809.02,2721.43 1821.13,2968.32 1833.25,2719.45 1845.36,2968.32 1857.47,2628.99 1869.59,2719.45 \n",
       "  1881.7,2698.84 1893.81,2721.43 1905.93,2721.4 1918.04,2789.19 1930.15,2789.19 1942.26,2811.77 1954.38,2629.11 1966.49,2698.83 1978.6,2698.83 1990.72,2720.92 \n",
       "  2002.83,2968.32 2014.94,2968.32 2027.05,2947.28 2039.17,2968.32 2051.28,2968.32 2063.39,2631.06 2075.51,2947.28 2087.62,2968.32 2099.73,2698.83 2111.84,2698.59 \n",
       "  2123.96,2834.36 2136.07,2856.94 2148.18,2720.89 2160.3,2834.36 2172.41,2968.32 2184.52,2721.43 2196.64,2968.32 2208.75,2608.49 2220.86,2856.94 2232.97,2968.32 \n",
       "  2245.09,2766.57 2257.2,2766.6 2269.31,2743.01 2281.43,2764.63 2293.54,2968.32 2305.65,2968.32 2317.76,2834.1 2329.88,2743 2341.99,2766.6 2354.1,2968.32 \n",
       "  2366.22,2968.32 2378.33,2968.32 2390.44,2742.04 2402.56,2744.02 2414.67,2630.58 2426.78,2630.58 2438.89,2631.09 2451.01,2630.58 2463.12,2631.09 2475.23,2968.32 \n",
       "  2487.35,2968.32 \n",
       "  \"/>\n",
       "<path clip-path=\"url(#clip460)\" d=\"\n",
       "M1739.64 370.829 L2475.72 370.829 L2475.72 215.309 L1739.64 215.309  Z\n",
       "  \" fill=\"#ffffff\" fill-rule=\"evenodd\" fill-opacity=\"1\"/>\n",
       "<polyline clip-path=\"url(#clip460)\" style=\"stroke:#000000; stroke-linecap:butt; stroke-linejoin:round; stroke-width:4; stroke-opacity:1; fill:none\" points=\"\n",
       "  1739.64,370.829 2475.72,370.829 2475.72,215.309 1739.64,215.309 1739.64,370.829 \n",
       "  \"/>\n",
       "<polyline clip-path=\"url(#clip460)\" style=\"stroke:#009af9; stroke-linecap:butt; stroke-linejoin:round; stroke-width:4; stroke-opacity:1; fill:none\" points=\"\n",
       "  1765.32,267.149 1919.4,267.149 \n",
       "  \"/>\n",
       "<path clip-path=\"url(#clip460)\" d=\"M1956.98 261.489 Q1953.55 261.489 1951.56 264.174 Q1949.57 266.836 1949.57 271.489 Q1949.57 276.142 1951.54 278.827 Q1953.53 281.489 1956.98 281.489 Q1960.38 281.489 1962.37 278.804 Q1964.36 276.119 1964.36 271.489 Q1964.36 266.883 1962.37 264.198 Q1960.38 261.489 1956.98 261.489 M1956.98 257.878 Q1962.53 257.878 1965.7 261.489 Q1968.88 265.1 1968.88 271.489 Q1968.88 277.855 1965.7 281.489 Q1962.53 285.1 1956.98 285.1 Q1951.4 285.1 1948.23 281.489 Q1945.08 277.855 1945.08 271.489 Q1945.08 265.1 1948.23 261.489 Q1951.4 257.878 1956.98 257.878 Z\" fill=\"#000000\" fill-rule=\"evenodd\" fill-opacity=\"1\" /><path clip-path=\"url(#clip460)\" d=\"M1990.96 262.485 Q1990.24 262.068 1989.38 261.883 Q1988.55 261.674 1987.53 261.674 Q1983.92 261.674 1981.98 264.036 Q1980.06 266.373 1980.06 270.772 L1980.06 284.429 L1975.77 284.429 L1975.77 258.503 L1980.06 258.503 L1980.06 262.531 Q1981.4 260.17 1983.55 259.036 Q1985.7 257.878 1988.78 257.878 Q1989.22 257.878 1989.75 257.948 Q1990.29 257.994 1990.94 258.11 L1990.96 262.485 Z\" fill=\"#000000\" fill-rule=\"evenodd\" fill-opacity=\"1\" /><path clip-path=\"url(#clip460)\" d=\"M1999.64 251.142 L1999.64 258.503 L2008.41 258.503 L2008.41 261.813 L1999.64 261.813 L1999.64 275.887 Q1999.64 279.059 2000.5 279.961 Q2001.37 280.864 2004.04 280.864 L2008.41 280.864 L2008.41 284.429 L2004.04 284.429 Q1999.11 284.429 1997.23 282.6 Q1995.36 280.748 1995.36 275.887 L1995.36 261.813 L1992.23 261.813 L1992.23 258.503 L1995.36 258.503 L1995.36 251.142 L1999.64 251.142 Z\" fill=\"#000000\" fill-rule=\"evenodd\" fill-opacity=\"1\" /><path clip-path=\"url(#clip460)\" d=\"M2035.56 268.781 L2035.56 284.429 L2031.31 284.429 L2031.31 268.92 Q2031.31 265.239 2029.87 263.411 Q2028.43 261.582 2025.56 261.582 Q2022.12 261.582 2020.12 263.781 Q2018.13 265.98 2018.13 269.776 L2018.13 284.429 L2013.85 284.429 L2013.85 248.411 L2018.13 248.411 L2018.13 262.531 Q2019.66 260.193 2021.72 259.036 Q2023.81 257.878 2026.51 257.878 Q2030.98 257.878 2033.27 260.656 Q2035.56 263.411 2035.56 268.781 Z\" fill=\"#000000\" fill-rule=\"evenodd\" fill-opacity=\"1\" /><path clip-path=\"url(#clip460)\" d=\"M2054.11 261.489 Q2050.68 261.489 2048.69 264.174 Q2046.7 266.836 2046.7 271.489 Q2046.7 276.142 2048.67 278.827 Q2050.66 281.489 2054.11 281.489 Q2057.51 281.489 2059.5 278.804 Q2061.49 276.119 2061.49 271.489 Q2061.49 266.883 2059.5 264.198 Q2057.51 261.489 2054.11 261.489 M2054.11 257.878 Q2059.66 257.878 2062.83 261.489 Q2066 265.1 2066 271.489 Q2066 277.855 2062.83 281.489 Q2059.66 285.1 2054.11 285.1 Q2048.53 285.1 2045.36 281.489 Q2042.21 277.855 2042.21 271.489 Q2042.21 265.1 2045.36 261.489 Q2048.53 257.878 2054.11 257.878 Z\" fill=\"#000000\" fill-rule=\"evenodd\" fill-opacity=\"1\" /><path clip-path=\"url(#clip460)\" d=\"M2094.62 268.781 L2094.62 284.429 L2090.36 284.429 L2090.36 268.92 Q2090.36 265.239 2088.92 263.411 Q2087.49 261.582 2084.62 261.582 Q2081.17 261.582 2079.18 263.781 Q2077.18 265.98 2077.18 269.776 L2077.18 284.429 L2072.9 284.429 L2072.9 258.503 L2077.18 258.503 L2077.18 262.531 Q2078.71 260.193 2080.77 259.036 Q2082.86 257.878 2085.56 257.878 Q2090.03 257.878 2092.32 260.656 Q2094.62 263.411 2094.62 268.781 Z\" fill=\"#000000\" fill-rule=\"evenodd\" fill-opacity=\"1\" /><path clip-path=\"url(#clip460)\" d=\"M2113.16 261.489 Q2109.73 261.489 2107.74 264.174 Q2105.75 266.836 2105.75 271.489 Q2105.75 276.142 2107.72 278.827 Q2109.71 281.489 2113.16 281.489 Q2116.56 281.489 2118.55 278.804 Q2120.54 276.119 2120.54 271.489 Q2120.54 266.883 2118.55 264.198 Q2116.56 261.489 2113.16 261.489 M2113.16 257.878 Q2118.71 257.878 2121.88 261.489 Q2125.05 265.1 2125.05 271.489 Q2125.05 277.855 2121.88 281.489 Q2118.71 285.1 2113.16 285.1 Q2107.58 285.1 2104.41 281.489 Q2101.26 277.855 2101.26 271.489 Q2101.26 265.1 2104.41 261.489 Q2107.58 257.878 2113.16 257.878 Z\" fill=\"#000000\" fill-rule=\"evenodd\" fill-opacity=\"1\" /><path clip-path=\"url(#clip460)\" d=\"M2147.14 262.485 Q2146.42 262.068 2145.56 261.883 Q2144.73 261.674 2143.71 261.674 Q2140.1 261.674 2138.16 264.036 Q2136.24 266.373 2136.24 270.772 L2136.24 284.429 L2131.95 284.429 L2131.95 258.503 L2136.24 258.503 L2136.24 262.531 Q2137.58 260.17 2139.73 259.036 Q2141.88 257.878 2144.96 257.878 Q2145.4 257.878 2145.93 257.948 Q2146.47 257.994 2147.11 258.11 L2147.14 262.485 Z\" fill=\"#000000\" fill-rule=\"evenodd\" fill-opacity=\"1\" /><path clip-path=\"url(#clip460)\" d=\"M2170.96 263.48 Q2172.55 260.61 2174.78 259.244 Q2177 257.878 2180.01 257.878 Q2184.06 257.878 2186.26 260.725 Q2188.46 263.549 2188.46 268.781 L2188.46 284.429 L2184.17 284.429 L2184.17 268.92 Q2184.17 265.193 2182.86 263.387 Q2181.54 261.582 2178.83 261.582 Q2175.52 261.582 2173.6 263.781 Q2171.67 265.98 2171.67 269.776 L2171.67 284.429 L2167.39 284.429 L2167.39 268.92 Q2167.39 265.17 2166.07 263.387 Q2164.75 261.582 2162 261.582 Q2158.74 261.582 2156.81 263.804 Q2154.89 266.003 2154.89 269.776 L2154.89 284.429 L2150.61 284.429 L2150.61 258.503 L2154.89 258.503 L2154.89 262.531 Q2156.35 260.147 2158.39 259.012 Q2160.42 257.878 2163.23 257.878 Q2166.05 257.878 2168.02 259.313 Q2170.01 260.749 2170.96 263.48 Z\" fill=\"#000000\" fill-rule=\"evenodd\" fill-opacity=\"1\" /><path clip-path=\"url(#clip460)\" d=\"M2208.73 271.397 Q2203.57 271.397 2201.58 272.577 Q2199.59 273.758 2199.59 276.605 Q2199.59 278.873 2201.07 280.216 Q2202.58 281.535 2205.15 281.535 Q2208.69 281.535 2210.82 279.035 Q2212.97 276.512 2212.97 272.346 L2212.97 271.397 L2208.73 271.397 M2217.23 269.637 L2217.23 284.429 L2212.97 284.429 L2212.97 280.494 Q2211.51 282.855 2209.34 283.989 Q2207.16 285.1 2204.01 285.1 Q2200.03 285.1 2197.67 282.878 Q2195.33 280.633 2195.33 276.883 Q2195.33 272.508 2198.25 270.286 Q2201.19 268.063 2207 268.063 L2212.97 268.063 L2212.97 267.647 Q2212.97 264.707 2211.03 263.11 Q2209.11 261.489 2205.61 261.489 Q2203.39 261.489 2201.28 262.022 Q2199.17 262.554 2197.23 263.619 L2197.23 259.684 Q2199.57 258.781 2201.77 258.341 Q2203.97 257.878 2206.05 257.878 Q2211.67 257.878 2214.45 260.795 Q2217.23 263.711 2217.23 269.637 Z\" fill=\"#000000\" fill-rule=\"evenodd\" fill-opacity=\"1\" /><path clip-path=\"url(#clip460)\" d=\"M2226 248.411 L2230.26 248.411 L2230.26 284.429 L2226 284.429 L2226 248.411 Z\" fill=\"#000000\" fill-rule=\"evenodd\" fill-opacity=\"1\" /><path clip-path=\"url(#clip460)\" d=\"M2239.17 258.503 L2243.43 258.503 L2243.43 284.429 L2239.17 284.429 L2239.17 258.503 M2239.17 248.411 L2243.43 248.411 L2243.43 253.804 L2239.17 253.804 L2239.17 248.411 Z\" fill=\"#000000\" fill-rule=\"evenodd\" fill-opacity=\"1\" /><path clip-path=\"url(#clip460)\" d=\"M2256.56 251.142 L2256.56 258.503 L2265.33 258.503 L2265.33 261.813 L2256.56 261.813 L2256.56 275.887 Q2256.56 279.059 2257.42 279.961 Q2258.29 280.864 2260.96 280.864 L2265.33 280.864 L2265.33 284.429 L2260.96 284.429 Q2256.03 284.429 2254.15 282.6 Q2252.28 280.748 2252.28 275.887 L2252.28 261.813 L2249.15 261.813 L2249.15 258.503 L2252.28 258.503 L2252.28 251.142 L2256.56 251.142 Z\" fill=\"#000000\" fill-rule=\"evenodd\" fill-opacity=\"1\" /><path clip-path=\"url(#clip460)\" d=\"M2281.72 286.836 Q2279.92 291.466 2278.2 292.878 Q2276.49 294.29 2273.62 294.29 L2270.22 294.29 L2270.22 290.725 L2272.72 290.725 Q2274.48 290.725 2275.45 289.892 Q2276.42 289.059 2277.6 285.957 L2278.36 284.012 L2267.88 258.503 L2272.39 258.503 L2280.49 278.781 L2288.6 258.503 L2293.11 258.503 L2281.72 286.836 Z\" fill=\"#000000\" fill-rule=\"evenodd\" fill-opacity=\"1\" /><path clip-path=\"url(#clip460)\" d=\"M2336.23 270.401 L2336.23 272.485 L2316.65 272.485 Q2316.93 276.883 2319.29 279.197 Q2321.67 281.489 2325.91 281.489 Q2328.36 281.489 2330.66 280.887 Q2332.97 280.285 2335.24 279.082 L2335.24 283.11 Q2332.95 284.082 2330.54 284.591 Q2328.13 285.1 2325.66 285.1 Q2319.45 285.1 2315.82 281.489 Q2312.21 277.878 2312.21 271.721 Q2312.21 265.355 2315.63 261.628 Q2319.08 257.878 2324.91 257.878 Q2330.15 257.878 2333.18 261.258 Q2336.23 264.614 2336.23 270.401 M2331.98 269.151 Q2331.93 265.656 2330.01 263.573 Q2328.11 261.489 2324.96 261.489 Q2321.4 261.489 2319.24 263.503 Q2317.11 265.517 2316.79 269.174 L2331.98 269.151 Z\" fill=\"#000000\" fill-rule=\"evenodd\" fill-opacity=\"1\" /><path clip-path=\"url(#clip460)\" d=\"M2358.25 262.485 Q2357.53 262.068 2356.67 261.883 Q2355.84 261.674 2354.82 261.674 Q2351.21 261.674 2349.27 264.036 Q2347.35 266.373 2347.35 270.772 L2347.35 284.429 L2343.06 284.429 L2343.06 258.503 L2347.35 258.503 L2347.35 262.531 Q2348.69 260.17 2350.84 259.036 Q2352.99 257.878 2356.07 257.878 Q2356.51 257.878 2357.04 257.948 Q2357.58 257.994 2358.22 258.11 L2358.25 262.485 Z\" fill=\"#000000\" fill-rule=\"evenodd\" fill-opacity=\"1\" /><path clip-path=\"url(#clip460)\" d=\"M2376.91 262.485 Q2376.19 262.068 2375.33 261.883 Q2374.5 261.674 2373.48 261.674 Q2369.87 261.674 2367.92 264.036 Q2366 266.373 2366 270.772 L2366 284.429 L2361.72 284.429 L2361.72 258.503 L2366 258.503 L2366 262.531 Q2367.35 260.17 2369.5 259.036 Q2371.65 257.878 2374.73 257.878 Q2375.17 257.878 2375.7 257.948 Q2376.23 257.994 2376.88 258.11 L2376.91 262.485 Z\" fill=\"#000000\" fill-rule=\"evenodd\" fill-opacity=\"1\" /><path clip-path=\"url(#clip460)\" d=\"M2390.38 261.489 Q2386.95 261.489 2384.96 264.174 Q2382.97 266.836 2382.97 271.489 Q2382.97 276.142 2384.94 278.827 Q2386.93 281.489 2390.38 281.489 Q2393.78 281.489 2395.77 278.804 Q2397.76 276.119 2397.76 271.489 Q2397.76 266.883 2395.77 264.198 Q2393.78 261.489 2390.38 261.489 M2390.38 257.878 Q2395.93 257.878 2399.1 261.489 Q2402.28 265.1 2402.28 271.489 Q2402.28 277.855 2399.1 281.489 Q2395.93 285.1 2390.38 285.1 Q2384.8 285.1 2381.63 281.489 Q2378.48 277.855 2378.48 271.489 Q2378.48 265.1 2381.63 261.489 Q2384.8 257.878 2390.38 257.878 Z\" fill=\"#000000\" fill-rule=\"evenodd\" fill-opacity=\"1\" /><path clip-path=\"url(#clip460)\" d=\"M2424.36 262.485 Q2423.64 262.068 2422.78 261.883 Q2421.95 261.674 2420.93 261.674 Q2417.32 261.674 2415.38 264.036 Q2413.46 266.373 2413.46 270.772 L2413.46 284.429 L2409.17 284.429 L2409.17 258.503 L2413.46 258.503 L2413.46 262.531 Q2414.8 260.17 2416.95 259.036 Q2419.1 257.878 2422.18 257.878 Q2422.62 257.878 2423.16 257.948 Q2423.69 257.994 2424.34 258.11 L2424.36 262.485 Z\" fill=\"#000000\" fill-rule=\"evenodd\" fill-opacity=\"1\" /><polyline clip-path=\"url(#clip460)\" style=\"stroke:#e26f46; stroke-linecap:butt; stroke-linejoin:round; stroke-width:4; stroke-opacity:1; fill:none\" points=\"\n",
       "  1765.32,318.989 1919.4,318.989 \n",
       "  \"/>\n",
       "<path clip-path=\"url(#clip460)\" d=\"M1960.26 314.325 Q1959.55 313.908 1958.69 313.723 Q1957.86 313.514 1956.84 313.514 Q1953.23 313.514 1951.28 315.876 Q1949.36 318.213 1949.36 322.612 L1949.36 336.269 L1945.08 336.269 L1945.08 310.343 L1949.36 310.343 L1949.36 314.371 Q1950.7 312.01 1952.86 310.876 Q1955.01 309.718 1958.09 309.718 Q1958.53 309.718 1959.06 309.788 Q1959.59 309.834 1960.24 309.95 L1960.26 314.325 Z\" fill=\"#000000\" fill-rule=\"evenodd\" fill-opacity=\"1\" /><path clip-path=\"url(#clip460)\" d=\"M1985.87 322.241 L1985.87 324.325 L1966.28 324.325 Q1966.56 328.723 1968.92 331.037 Q1971.31 333.329 1975.54 333.329 Q1978 333.329 1980.29 332.727 Q1982.6 332.125 1984.87 330.922 L1984.87 334.95 Q1982.58 335.922 1980.17 336.431 Q1977.76 336.94 1975.29 336.94 Q1969.08 336.94 1965.45 333.329 Q1961.84 329.718 1961.84 323.561 Q1961.84 317.195 1965.26 313.468 Q1968.71 309.718 1974.55 309.718 Q1979.78 309.718 1982.81 313.098 Q1985.87 316.454 1985.87 322.241 M1981.61 320.991 Q1981.56 317.496 1979.64 315.413 Q1977.74 313.329 1974.59 313.329 Q1971.03 313.329 1968.88 315.343 Q1966.75 317.357 1966.42 321.014 L1981.61 320.991 Z\" fill=\"#000000\" fill-rule=\"evenodd\" fill-opacity=\"1\" /><path clip-path=\"url(#clip460)\" d=\"M2011.51 311.339 L2011.51 315.32 Q2009.71 314.325 2007.88 313.839 Q2006.07 313.329 2004.22 313.329 Q2000.08 313.329 1997.79 315.968 Q1995.5 318.584 1995.5 323.329 Q1995.5 328.075 1997.79 330.713 Q2000.08 333.329 2004.22 333.329 Q2006.07 333.329 2007.88 332.843 Q2009.71 332.334 2011.51 331.338 L2011.51 335.274 Q2009.73 336.107 2007.81 336.524 Q2005.91 336.94 2003.76 336.94 Q1997.9 336.94 1994.45 333.26 Q1991 329.579 1991 323.329 Q1991 316.987 1994.48 313.352 Q1997.97 309.718 2004.04 309.718 Q2006 309.718 2007.88 310.135 Q2009.75 310.528 2011.51 311.339 Z\" fill=\"#000000\" fill-rule=\"evenodd\" fill-opacity=\"1\" /><path clip-path=\"url(#clip460)\" d=\"M2028.97 313.329 Q2025.54 313.329 2023.55 316.014 Q2021.56 318.676 2021.56 323.329 Q2021.56 327.982 2023.53 330.667 Q2025.52 333.329 2028.97 333.329 Q2032.37 333.329 2034.36 330.644 Q2036.35 327.959 2036.35 323.329 Q2036.35 318.723 2034.36 316.038 Q2032.37 313.329 2028.97 313.329 M2028.97 309.718 Q2034.52 309.718 2037.69 313.329 Q2040.87 316.94 2040.87 323.329 Q2040.87 329.695 2037.69 333.329 Q2034.52 336.94 2028.97 336.94 Q2023.39 336.94 2020.22 333.329 Q2017.07 329.695 2017.07 323.329 Q2017.07 316.94 2020.22 313.329 Q2023.39 309.718 2028.97 309.718 Z\" fill=\"#000000\" fill-rule=\"evenodd\" fill-opacity=\"1\" /><path clip-path=\"url(#clip460)\" d=\"M2069.48 320.621 L2069.48 336.269 L2065.22 336.269 L2065.22 320.76 Q2065.22 317.079 2063.78 315.251 Q2062.35 313.422 2059.48 313.422 Q2056.03 313.422 2054.04 315.621 Q2052.05 317.82 2052.05 321.616 L2052.05 336.269 L2047.76 336.269 L2047.76 310.343 L2052.05 310.343 L2052.05 314.371 Q2053.57 312.033 2055.63 310.876 Q2057.72 309.718 2060.43 309.718 Q2064.89 309.718 2067.18 312.496 Q2069.48 315.251 2069.48 320.621 Z\" fill=\"#000000\" fill-rule=\"evenodd\" fill-opacity=\"1\" /><path clip-path=\"url(#clip460)\" d=\"M2094.5 311.107 L2094.5 315.135 Q2092.69 314.209 2090.75 313.746 Q2088.81 313.283 2086.72 313.283 Q2083.55 313.283 2081.95 314.255 Q2080.38 315.227 2080.38 317.172 Q2080.38 318.653 2081.51 319.51 Q2082.65 320.343 2086.07 321.107 L2087.53 321.431 Q2092.07 322.403 2093.97 324.186 Q2095.89 325.945 2095.89 329.116 Q2095.89 332.727 2093.02 334.834 Q2090.17 336.94 2085.17 336.94 Q2083.09 336.94 2080.82 336.524 Q2078.57 336.13 2076.07 335.32 L2076.07 330.922 Q2078.43 332.149 2080.73 332.774 Q2083.02 333.375 2085.26 333.375 Q2088.27 333.375 2089.89 332.357 Q2091.51 331.315 2091.51 329.44 Q2091.51 327.704 2090.33 326.778 Q2089.18 325.852 2085.22 324.996 L2083.74 324.649 Q2079.78 323.815 2078.02 322.102 Q2076.26 320.366 2076.26 317.357 Q2076.26 313.7 2078.85 311.709 Q2081.44 309.718 2086.21 309.718 Q2088.57 309.718 2090.66 310.065 Q2092.74 310.413 2094.5 311.107 Z\" fill=\"#000000\" fill-rule=\"evenodd\" fill-opacity=\"1\" /><path clip-path=\"url(#clip460)\" d=\"M2106.88 302.982 L2106.88 310.343 L2115.66 310.343 L2115.66 313.653 L2106.88 313.653 L2106.88 327.727 Q2106.88 330.899 2107.74 331.801 Q2108.62 332.704 2111.28 332.704 L2115.66 332.704 L2115.66 336.269 L2111.28 336.269 Q2106.35 336.269 2104.48 334.44 Q2102.6 332.588 2102.6 327.727 L2102.6 313.653 L2099.48 313.653 L2099.48 310.343 L2102.6 310.343 L2102.6 302.982 L2106.88 302.982 Z\" fill=\"#000000\" fill-rule=\"evenodd\" fill-opacity=\"1\" /><path clip-path=\"url(#clip460)\" d=\"M2136.28 314.325 Q2135.56 313.908 2134.71 313.723 Q2133.87 313.514 2132.86 313.514 Q2129.24 313.514 2127.3 315.876 Q2125.38 318.213 2125.38 322.612 L2125.38 336.269 L2121.1 336.269 L2121.1 310.343 L2125.38 310.343 L2125.38 314.371 Q2126.72 312.01 2128.87 310.876 Q2131.03 309.718 2134.11 309.718 Q2134.55 309.718 2135.08 309.788 Q2135.61 309.834 2136.26 309.95 L2136.28 314.325 Z\" fill=\"#000000\" fill-rule=\"evenodd\" fill-opacity=\"1\" /><path clip-path=\"url(#clip460)\" d=\"M2140.31 326.038 L2140.31 310.343 L2144.57 310.343 L2144.57 325.875 Q2144.57 329.556 2146 331.408 Q2147.44 333.237 2150.31 333.237 Q2153.76 333.237 2155.75 331.037 Q2157.76 328.838 2157.76 325.042 L2157.76 310.343 L2162.02 310.343 L2162.02 336.269 L2157.76 336.269 L2157.76 332.287 Q2156.21 334.649 2154.15 335.806 Q2152.11 336.94 2149.41 336.94 Q2144.94 336.94 2142.62 334.162 Q2140.31 331.385 2140.31 326.038 M2151.03 309.718 L2151.03 309.718 Z\" fill=\"#000000\" fill-rule=\"evenodd\" fill-opacity=\"1\" /><path clip-path=\"url(#clip460)\" d=\"M2189.45 311.339 L2189.45 315.32 Q2187.65 314.325 2185.82 313.839 Q2184.01 313.329 2182.16 313.329 Q2178.02 313.329 2175.73 315.968 Q2173.43 318.584 2173.43 323.329 Q2173.43 328.075 2175.73 330.713 Q2178.02 333.329 2182.16 333.329 Q2184.01 333.329 2185.82 332.843 Q2187.65 332.334 2189.45 331.338 L2189.45 335.274 Q2187.67 336.107 2185.75 336.524 Q2183.85 336.94 2181.7 336.94 Q2175.84 336.94 2172.39 333.26 Q2168.94 329.579 2168.94 323.329 Q2168.94 316.987 2172.42 313.352 Q2175.91 309.718 2181.98 309.718 Q2183.94 309.718 2185.82 310.135 Q2187.69 310.528 2189.45 311.339 Z\" fill=\"#000000\" fill-rule=\"evenodd\" fill-opacity=\"1\" /><path clip-path=\"url(#clip460)\" d=\"M2201.07 302.982 L2201.07 310.343 L2209.85 310.343 L2209.85 313.653 L2201.07 313.653 L2201.07 327.727 Q2201.07 330.899 2201.93 331.801 Q2202.81 332.704 2205.47 332.704 L2209.85 332.704 L2209.85 336.269 L2205.47 336.269 Q2200.54 336.269 2198.67 334.44 Q2196.79 332.588 2196.79 327.727 L2196.79 313.653 L2193.67 313.653 L2193.67 310.343 L2196.79 310.343 L2196.79 302.982 L2201.07 302.982 Z\" fill=\"#000000\" fill-rule=\"evenodd\" fill-opacity=\"1\" /><path clip-path=\"url(#clip460)\" d=\"M2215.45 310.343 L2219.71 310.343 L2219.71 336.269 L2215.45 336.269 L2215.45 310.343 M2215.45 300.251 L2219.71 300.251 L2219.71 305.644 L2215.45 305.644 L2215.45 300.251 Z\" fill=\"#000000\" fill-rule=\"evenodd\" fill-opacity=\"1\" /><path clip-path=\"url(#clip460)\" d=\"M2238.67 313.329 Q2235.24 313.329 2233.25 316.014 Q2231.26 318.676 2231.26 323.329 Q2231.26 327.982 2233.23 330.667 Q2235.22 333.329 2238.67 333.329 Q2242.07 333.329 2244.06 330.644 Q2246.05 327.959 2246.05 323.329 Q2246.05 318.723 2244.06 316.038 Q2242.07 313.329 2238.67 313.329 M2238.67 309.718 Q2244.22 309.718 2247.39 313.329 Q2250.56 316.94 2250.56 323.329 Q2250.56 329.695 2247.39 333.329 Q2244.22 336.94 2238.67 336.94 Q2233.09 336.94 2229.92 333.329 Q2226.77 329.695 2226.77 323.329 Q2226.77 316.94 2229.92 313.329 Q2233.09 309.718 2238.67 309.718 Z\" fill=\"#000000\" fill-rule=\"evenodd\" fill-opacity=\"1\" /><path clip-path=\"url(#clip460)\" d=\"M2279.17 320.621 L2279.17 336.269 L2274.92 336.269 L2274.92 320.76 Q2274.92 317.079 2273.48 315.251 Q2272.04 313.422 2269.17 313.422 Q2265.73 313.422 2263.73 315.621 Q2261.74 317.82 2261.74 321.616 L2261.74 336.269 L2257.46 336.269 L2257.46 310.343 L2261.74 310.343 L2261.74 314.371 Q2263.27 312.033 2265.33 310.876 Q2267.42 309.718 2270.12 309.718 Q2274.59 309.718 2276.88 312.496 Q2279.17 315.251 2279.17 320.621 Z\" fill=\"#000000\" fill-rule=\"evenodd\" fill-opacity=\"1\" /><path clip-path=\"url(#clip460)\" d=\"M2324.91 322.241 L2324.91 324.325 L2305.33 324.325 Q2305.61 328.723 2307.97 331.037 Q2310.35 333.329 2314.59 333.329 Q2317.04 333.329 2319.34 332.727 Q2321.65 332.125 2323.92 330.922 L2323.92 334.95 Q2321.63 335.922 2319.22 336.431 Q2316.81 336.94 2314.34 336.94 Q2308.13 336.94 2304.5 333.329 Q2300.89 329.718 2300.89 323.561 Q2300.89 317.195 2304.31 313.468 Q2307.76 309.718 2313.6 309.718 Q2318.83 309.718 2321.86 313.098 Q2324.91 316.454 2324.91 322.241 M2320.66 320.991 Q2320.61 317.496 2318.69 315.413 Q2316.79 313.329 2313.64 313.329 Q2310.08 313.329 2307.92 315.343 Q2305.79 317.357 2305.47 321.014 L2320.66 320.991 Z\" fill=\"#000000\" fill-rule=\"evenodd\" fill-opacity=\"1\" /><path clip-path=\"url(#clip460)\" d=\"M2346.93 314.325 Q2346.21 313.908 2345.35 313.723 Q2344.52 313.514 2343.5 313.514 Q2339.89 313.514 2337.95 315.876 Q2336.03 318.213 2336.03 322.612 L2336.03 336.269 L2331.74 336.269 L2331.74 310.343 L2336.03 310.343 L2336.03 314.371 Q2337.37 312.01 2339.52 310.876 Q2341.67 309.718 2344.75 309.718 Q2345.19 309.718 2345.72 309.788 Q2346.26 309.834 2346.91 309.95 L2346.93 314.325 Z\" fill=\"#000000\" fill-rule=\"evenodd\" fill-opacity=\"1\" /><path clip-path=\"url(#clip460)\" d=\"M2365.59 314.325 Q2364.87 313.908 2364.01 313.723 Q2363.18 313.514 2362.16 313.514 Q2358.55 313.514 2356.6 315.876 Q2354.68 318.213 2354.68 322.612 L2354.68 336.269 L2350.4 336.269 L2350.4 310.343 L2354.68 310.343 L2354.68 314.371 Q2356.03 312.01 2358.18 310.876 Q2360.33 309.718 2363.41 309.718 Q2363.85 309.718 2364.38 309.788 Q2364.91 309.834 2365.56 309.95 L2365.59 314.325 Z\" fill=\"#000000\" fill-rule=\"evenodd\" fill-opacity=\"1\" /><path clip-path=\"url(#clip460)\" d=\"M2379.06 313.329 Q2375.63 313.329 2373.64 316.014 Q2371.65 318.676 2371.65 323.329 Q2371.65 327.982 2373.62 330.667 Q2375.61 333.329 2379.06 333.329 Q2382.46 333.329 2384.45 330.644 Q2386.44 327.959 2386.44 323.329 Q2386.44 318.723 2384.45 316.038 Q2382.46 313.329 2379.06 313.329 M2379.06 309.718 Q2384.61 309.718 2387.78 313.329 Q2390.96 316.94 2390.96 323.329 Q2390.96 329.695 2387.78 333.329 Q2384.61 336.94 2379.06 336.94 Q2373.48 336.94 2370.31 333.329 Q2367.16 329.695 2367.16 323.329 Q2367.16 316.94 2370.31 313.329 Q2373.48 309.718 2379.06 309.718 Z\" fill=\"#000000\" fill-rule=\"evenodd\" fill-opacity=\"1\" /><path clip-path=\"url(#clip460)\" d=\"M2413.04 314.325 Q2412.32 313.908 2411.47 313.723 Q2410.63 313.514 2409.61 313.514 Q2406 313.514 2404.06 315.876 Q2402.14 318.213 2402.14 322.612 L2402.14 336.269 L2397.85 336.269 L2397.85 310.343 L2402.14 310.343 L2402.14 314.371 Q2403.48 312.01 2405.63 310.876 Q2407.78 309.718 2410.86 309.718 Q2411.3 309.718 2411.84 309.788 Q2412.37 309.834 2413.02 309.95 L2413.04 314.325 Z\" fill=\"#000000\" fill-rule=\"evenodd\" fill-opacity=\"1\" /><path clip-path=\"url(#clip460)\" d=\"\n",
       "M2841.61 3013.49 L5152.76 3013.49 L5152.76 118.82 L2841.61 118.82  Z\n",
       "  \" fill=\"#ffffff\" fill-rule=\"evenodd\" fill-opacity=\"1\"/>\n",
       "<defs>\n",
       "  <clipPath id=\"clip463\">\n",
       "    <rect x=\"2841\" y=\"118\" width=\"2312\" height=\"2896\"/>\n",
       "  </clipPath>\n",
       "</defs>\n",
       "<polyline clip-path=\"url(#clip463)\" style=\"stroke:#000000; stroke-linecap:butt; stroke-linejoin:round; stroke-width:2; stroke-opacity:0.1; fill:none\" points=\"\n",
       "  3045.3,3013.49 3045.3,118.82 \n",
       "  \"/>\n",
       "<polyline clip-path=\"url(#clip463)\" style=\"stroke:#000000; stroke-linecap:butt; stroke-linejoin:round; stroke-width:2; stroke-opacity:0.1; fill:none\" points=\"\n",
       "  3425.84,3013.49 3425.84,118.82 \n",
       "  \"/>\n",
       "<polyline clip-path=\"url(#clip463)\" style=\"stroke:#000000; stroke-linecap:butt; stroke-linejoin:round; stroke-width:2; stroke-opacity:0.1; fill:none\" points=\"\n",
       "  3806.38,3013.49 3806.38,118.82 \n",
       "  \"/>\n",
       "<polyline clip-path=\"url(#clip463)\" style=\"stroke:#000000; stroke-linecap:butt; stroke-linejoin:round; stroke-width:2; stroke-opacity:0.1; fill:none\" points=\"\n",
       "  4186.92,3013.49 4186.92,118.82 \n",
       "  \"/>\n",
       "<polyline clip-path=\"url(#clip463)\" style=\"stroke:#000000; stroke-linecap:butt; stroke-linejoin:round; stroke-width:2; stroke-opacity:0.1; fill:none\" points=\"\n",
       "  4567.45,3013.49 4567.45,118.82 \n",
       "  \"/>\n",
       "<polyline clip-path=\"url(#clip463)\" style=\"stroke:#000000; stroke-linecap:butt; stroke-linejoin:round; stroke-width:2; stroke-opacity:0.1; fill:none\" points=\"\n",
       "  4947.99,3013.49 4947.99,118.82 \n",
       "  \"/>\n",
       "<polyline clip-path=\"url(#clip460)\" style=\"stroke:#000000; stroke-linecap:butt; stroke-linejoin:round; stroke-width:4; stroke-opacity:1; fill:none\" points=\"\n",
       "  2841.61,3013.49 5152.76,3013.49 \n",
       "  \"/>\n",
       "<polyline clip-path=\"url(#clip460)\" style=\"stroke:#000000; stroke-linecap:butt; stroke-linejoin:round; stroke-width:4; stroke-opacity:1; fill:none\" points=\"\n",
       "  3045.3,3013.49 3045.3,2994.6 \n",
       "  \"/>\n",
       "<polyline clip-path=\"url(#clip460)\" style=\"stroke:#000000; stroke-linecap:butt; stroke-linejoin:round; stroke-width:4; stroke-opacity:1; fill:none\" points=\"\n",
       "  3425.84,3013.49 3425.84,2994.6 \n",
       "  \"/>\n",
       "<polyline clip-path=\"url(#clip460)\" style=\"stroke:#000000; stroke-linecap:butt; stroke-linejoin:round; stroke-width:4; stroke-opacity:1; fill:none\" points=\"\n",
       "  3806.38,3013.49 3806.38,2994.6 \n",
       "  \"/>\n",
       "<polyline clip-path=\"url(#clip460)\" style=\"stroke:#000000; stroke-linecap:butt; stroke-linejoin:round; stroke-width:4; stroke-opacity:1; fill:none\" points=\"\n",
       "  4186.92,3013.49 4186.92,2994.6 \n",
       "  \"/>\n",
       "<polyline clip-path=\"url(#clip460)\" style=\"stroke:#000000; stroke-linecap:butt; stroke-linejoin:round; stroke-width:4; stroke-opacity:1; fill:none\" points=\"\n",
       "  4567.45,3013.49 4567.45,2994.6 \n",
       "  \"/>\n",
       "<polyline clip-path=\"url(#clip460)\" style=\"stroke:#000000; stroke-linecap:butt; stroke-linejoin:round; stroke-width:4; stroke-opacity:1; fill:none\" points=\"\n",
       "  4947.99,3013.49 4947.99,2994.6 \n",
       "  \"/>\n",
       "<path clip-path=\"url(#clip460)\" d=\"M3035.68 3094.36 L3043.32 3094.36 L3043.32 3067.99 L3035.01 3069.66 L3035.01 3065.4 L3043.27 3063.73 L3047.95 3063.73 L3047.95 3094.36 L3055.59 3094.36 L3055.59 3098.29 L3035.68 3098.29 L3035.68 3094.36 Z\" fill=\"#000000\" fill-rule=\"evenodd\" fill-opacity=\"1\" /><path clip-path=\"url(#clip460)\" d=\"M3420.49 3094.36 L3436.81 3094.36 L3436.81 3098.29 L3414.86 3098.29 L3414.86 3094.36 Q3417.53 3091.6 3422.11 3086.97 Q3426.72 3082.32 3427.9 3080.98 Q3430.14 3078.46 3431.02 3076.72 Q3431.92 3074.96 3431.92 3073.27 Q3431.92 3070.52 3429.98 3068.78 Q3428.06 3067.04 3424.96 3067.04 Q3422.76 3067.04 3420.3 3067.81 Q3417.87 3068.57 3415.1 3070.12 L3415.1 3065.4 Q3417.92 3064.27 3420.37 3063.69 Q3422.83 3063.11 3424.86 3063.11 Q3430.24 3063.11 3433.43 3065.79 Q3436.62 3068.48 3436.62 3072.97 Q3436.62 3075.1 3435.81 3077.02 Q3435.03 3078.92 3432.92 3081.51 Q3432.34 3082.18 3429.24 3085.4 Q3426.14 3088.59 3420.49 3094.36 Z\" fill=\"#000000\" fill-rule=\"evenodd\" fill-opacity=\"1\" /><path clip-path=\"url(#clip460)\" d=\"M3810.62 3079.66 Q3813.98 3080.38 3815.86 3082.65 Q3817.75 3084.91 3817.75 3088.25 Q3817.75 3093.36 3814.23 3096.16 Q3810.72 3098.96 3804.23 3098.96 Q3802.06 3098.96 3799.74 3098.53 Q3797.45 3098.11 3795 3097.25 L3795 3092.74 Q3796.94 3093.87 3799.26 3094.45 Q3801.57 3095.03 3804.1 3095.03 Q3808.49 3095.03 3810.79 3093.29 Q3813.1 3091.56 3813.1 3088.25 Q3813.1 3085.19 3810.95 3083.48 Q3808.82 3081.74 3805 3081.74 L3800.97 3081.74 L3800.97 3077.9 L3805.18 3077.9 Q3808.63 3077.9 3810.46 3076.53 Q3812.29 3075.15 3812.29 3072.55 Q3812.29 3069.89 3810.39 3068.48 Q3808.52 3067.04 3805 3067.04 Q3803.08 3067.04 3800.88 3067.46 Q3798.68 3067.88 3796.04 3068.76 L3796.04 3064.59 Q3798.7 3063.85 3801.02 3063.48 Q3803.36 3063.11 3805.42 3063.11 Q3810.74 3063.11 3813.84 3065.54 Q3816.94 3067.95 3816.94 3072.07 Q3816.94 3074.94 3815.3 3076.93 Q3813.66 3078.9 3810.62 3079.66 Z\" fill=\"#000000\" fill-rule=\"evenodd\" fill-opacity=\"1\" /><path clip-path=\"url(#clip460)\" d=\"M4189.92 3067.81 L4178.12 3086.26 L4189.92 3086.26 L4189.92 3067.81 M4188.7 3063.73 L4194.58 3063.73 L4194.58 3086.26 L4199.51 3086.26 L4199.51 3090.15 L4194.58 3090.15 L4194.58 3098.29 L4189.92 3098.29 L4189.92 3090.15 L4174.32 3090.15 L4174.32 3085.63 L4188.7 3063.73 Z\" fill=\"#000000\" fill-rule=\"evenodd\" fill-opacity=\"1\" /><path clip-path=\"url(#clip460)\" d=\"M4557.73 3063.73 L4576.09 3063.73 L4576.09 3067.67 L4562.01 3067.67 L4562.01 3076.14 Q4563.03 3075.79 4564.05 3075.63 Q4565.07 3075.45 4566.09 3075.45 Q4571.88 3075.45 4575.26 3078.62 Q4578.63 3081.79 4578.63 3087.21 Q4578.63 3092.78 4575.16 3095.89 Q4571.69 3098.96 4565.37 3098.96 Q4563.2 3098.96 4560.93 3098.59 Q4558.68 3098.22 4556.27 3097.48 L4556.27 3092.78 Q4558.36 3093.92 4560.58 3094.47 Q4562.8 3095.03 4565.28 3095.03 Q4569.28 3095.03 4571.62 3092.92 Q4573.96 3090.82 4573.96 3087.21 Q4573.96 3083.59 4571.62 3081.49 Q4569.28 3079.38 4565.28 3079.38 Q4563.4 3079.38 4561.53 3079.8 Q4559.68 3080.22 4557.73 3081.09 L4557.73 3063.73 Z\" fill=\"#000000\" fill-rule=\"evenodd\" fill-opacity=\"1\" /><path clip-path=\"url(#clip460)\" d=\"M4948.4 3079.15 Q4945.25 3079.15 4943.4 3081.3 Q4941.57 3083.46 4941.57 3087.21 Q4941.57 3090.93 4943.4 3093.11 Q4945.25 3095.26 4948.4 3095.26 Q4951.55 3095.26 4953.38 3093.11 Q4955.23 3090.93 4955.23 3087.21 Q4955.23 3083.46 4953.38 3081.3 Q4951.55 3079.15 4948.4 3079.15 M4957.68 3064.5 L4957.68 3068.76 Q4955.92 3067.92 4954.12 3067.48 Q4952.33 3067.04 4950.57 3067.04 Q4945.94 3067.04 4943.49 3070.17 Q4941.06 3073.29 4940.71 3079.61 Q4942.08 3077.6 4944.14 3076.53 Q4946.2 3075.45 4948.68 3075.45 Q4953.88 3075.45 4956.89 3078.62 Q4959.93 3081.77 4959.93 3087.21 Q4959.93 3092.53 4956.78 3095.75 Q4953.63 3098.96 4948.4 3098.96 Q4942.4 3098.96 4939.23 3094.38 Q4936.06 3089.78 4936.06 3081.05 Q4936.06 3072.85 4939.95 3067.99 Q4943.84 3063.11 4950.39 3063.11 Q4952.15 3063.11 4953.93 3063.46 Q4955.74 3063.8 4957.68 3064.5 Z\" fill=\"#000000\" fill-rule=\"evenodd\" fill-opacity=\"1\" /><path clip-path=\"url(#clip460)\" d=\"M3722.93 3152.84 L3729.36 3152.84 L3729.36 3172.92 L3750.69 3152.84 L3758.96 3152.84 L3735.38 3174.99 L3760.65 3200.36 L3752.18 3200.36 L3729.36 3177.47 L3729.36 3200.36 L3722.93 3200.36 L3722.93 3152.84 Z\" fill=\"#000000\" fill-rule=\"evenodd\" fill-opacity=\"1\" /><path clip-path=\"url(#clip460)\" d=\"M3780.48 3182.44 Q3773.38 3182.44 3770.64 3184.06 Q3767.9 3185.68 3767.9 3189.6 Q3767.9 3192.72 3769.94 3194.56 Q3772.01 3196.38 3775.54 3196.38 Q3780.41 3196.38 3783.34 3192.94 Q3786.3 3189.47 3786.3 3183.74 L3786.3 3182.44 L3780.48 3182.44 M3792.16 3180.02 L3792.16 3200.36 L3786.3 3200.36 L3786.3 3194.95 Q3784.3 3198.19 3781.3 3199.75 Q3778.31 3201.28 3773.98 3201.28 Q3768.51 3201.28 3765.26 3198.23 Q3762.05 3195.14 3762.05 3189.98 Q3762.05 3183.97 3766.06 3180.91 Q3770.1 3177.85 3778.09 3177.85 L3786.3 3177.85 L3786.3 3177.28 Q3786.3 3173.24 3783.63 3171.04 Q3780.99 3168.82 3776.18 3168.82 Q3773.12 3168.82 3770.23 3169.55 Q3767.33 3170.28 3764.66 3171.74 L3764.66 3166.33 Q3767.87 3165.09 3770.9 3164.49 Q3773.92 3163.85 3776.79 3163.85 Q3784.52 3163.85 3788.34 3167.86 Q3792.16 3171.87 3792.16 3180.02 Z\" fill=\"#000000\" fill-rule=\"evenodd\" fill-opacity=\"1\" /><path clip-path=\"url(#clip460)\" d=\"M3833.85 3178.84 L3833.85 3200.36 L3828 3200.36 L3828 3179.03 Q3828 3173.97 3826.02 3171.46 Q3824.05 3168.94 3820.1 3168.94 Q3815.36 3168.94 3812.62 3171.97 Q3809.89 3174.99 3809.89 3180.21 L3809.89 3200.36 L3804 3200.36 L3804 3150.83 L3809.89 3150.83 L3809.89 3170.25 Q3811.99 3167.03 3814.82 3165.44 Q3817.68 3163.85 3821.41 3163.85 Q3827.55 3163.85 3830.7 3167.67 Q3833.85 3171.46 3833.85 3178.84 Z\" fill=\"#000000\" fill-rule=\"evenodd\" fill-opacity=\"1\" /><path clip-path=\"url(#clip460)\" d=\"M3861.74 3182.44 Q3854.64 3182.44 3851.9 3184.06 Q3849.16 3185.68 3849.16 3189.6 Q3849.16 3192.72 3851.2 3194.56 Q3853.27 3196.38 3856.8 3196.38 Q3861.67 3196.38 3864.6 3192.94 Q3867.56 3189.47 3867.56 3183.74 L3867.56 3182.44 L3861.74 3182.44 M3873.42 3180.02 L3873.42 3200.36 L3867.56 3200.36 L3867.56 3194.95 Q3865.55 3198.19 3862.56 3199.75 Q3859.57 3201.28 3855.24 3201.28 Q3849.77 3201.28 3846.52 3198.23 Q3843.31 3195.14 3843.31 3189.98 Q3843.31 3183.97 3847.32 3180.91 Q3851.36 3177.85 3859.35 3177.85 L3867.56 3177.85 L3867.56 3177.28 Q3867.56 3173.24 3864.89 3171.04 Q3862.24 3168.82 3857.44 3168.82 Q3854.38 3168.82 3851.49 3169.55 Q3848.59 3170.28 3845.92 3171.74 L3845.92 3166.33 Q3849.13 3165.09 3852.15 3164.49 Q3855.18 3163.85 3858.04 3163.85 Q3865.78 3163.85 3869.6 3167.86 Q3873.42 3171.87 3873.42 3180.02 Z\" fill=\"#000000\" fill-rule=\"evenodd\" fill-opacity=\"1\" /><path clip-path=\"url(#clip460)\" d=\"M3915.11 3178.84 L3915.11 3200.36 L3909.26 3200.36 L3909.26 3179.03 Q3909.26 3173.97 3907.28 3171.46 Q3905.31 3168.94 3901.36 3168.94 Q3896.62 3168.94 3893.88 3171.97 Q3891.14 3174.99 3891.14 3180.21 L3891.14 3200.36 L3885.26 3200.36 L3885.26 3164.71 L3891.14 3164.71 L3891.14 3170.25 Q3893.25 3167.03 3896.08 3165.44 Q3898.94 3163.85 3902.67 3163.85 Q3908.81 3163.85 3911.96 3167.67 Q3915.11 3171.46 3915.11 3178.84 Z\" fill=\"#000000\" fill-rule=\"evenodd\" fill-opacity=\"1\" /><path clip-path=\"url(#clip460)\" d=\"M3975.27 3171.55 Q3977.46 3167.61 3980.52 3165.73 Q3983.57 3163.85 3987.71 3163.85 Q3993.28 3163.85 3996.31 3167.77 Q3999.33 3171.65 3999.33 3178.84 L3999.33 3200.36 L3993.44 3200.36 L3993.44 3179.03 Q3993.44 3173.91 3991.63 3171.43 Q3989.81 3168.94 3986.09 3168.94 Q3981.54 3168.94 3978.9 3171.97 Q3976.25 3174.99 3976.25 3180.21 L3976.25 3200.36 L3970.37 3200.36 L3970.37 3179.03 Q3970.37 3173.88 3968.55 3171.43 Q3966.74 3168.94 3962.95 3168.94 Q3958.46 3168.94 3955.82 3172 Q3953.18 3175.02 3953.18 3180.21 L3953.18 3200.36 L3947.29 3200.36 L3947.29 3164.71 L3953.18 3164.71 L3953.18 3170.25 Q3955.18 3166.97 3957.98 3165.41 Q3960.79 3163.85 3964.64 3163.85 Q3968.52 3163.85 3971.23 3165.82 Q3973.96 3167.8 3975.27 3171.55 Z\" fill=\"#000000\" fill-rule=\"evenodd\" fill-opacity=\"1\" /><path clip-path=\"url(#clip460)\" d=\"M4027.21 3182.44 Q4020.11 3182.44 4017.38 3184.06 Q4014.64 3185.68 4014.64 3189.6 Q4014.64 3192.72 4016.68 3194.56 Q4018.75 3196.38 4022.28 3196.38 Q4027.15 3196.38 4030.08 3192.94 Q4033.04 3189.47 4033.04 3183.74 L4033.04 3182.44 L4027.21 3182.44 M4038.89 3180.02 L4038.89 3200.36 L4033.04 3200.36 L4033.04 3194.95 Q4031.03 3198.19 4028.04 3199.75 Q4025.05 3201.28 4020.72 3201.28 Q4015.24 3201.28 4012 3198.23 Q4008.78 3195.14 4008.78 3189.98 Q4008.78 3183.97 4012.79 3180.91 Q4016.84 3177.85 4024.82 3177.85 L4033.04 3177.85 L4033.04 3177.28 Q4033.04 3173.24 4030.36 3171.04 Q4027.72 3168.82 4022.92 3168.82 Q4019.86 3168.82 4016.96 3169.55 Q4014.07 3170.28 4011.39 3171.74 L4011.39 3166.33 Q4014.61 3165.09 4017.63 3164.49 Q4020.66 3163.85 4023.52 3163.85 Q4031.25 3163.85 4035.07 3167.86 Q4038.89 3171.87 4038.89 3180.02 Z\" fill=\"#000000\" fill-rule=\"evenodd\" fill-opacity=\"1\" /><path clip-path=\"url(#clip460)\" d=\"M4056.75 3154.59 L4056.75 3164.71 L4068.81 3164.71 L4068.81 3169.26 L4056.75 3169.26 L4056.75 3188.61 Q4056.75 3192.97 4057.93 3194.21 Q4059.14 3195.46 4062.8 3195.46 L4068.81 3195.46 L4068.81 3200.36 L4062.8 3200.36 Q4056.02 3200.36 4053.44 3197.84 Q4050.86 3195.3 4050.86 3188.61 L4050.86 3169.26 L4046.56 3169.26 L4046.56 3164.71 L4050.86 3164.71 L4050.86 3154.59 L4056.75 3154.59 Z\" fill=\"#000000\" fill-rule=\"evenodd\" fill-opacity=\"1\" /><path clip-path=\"url(#clip460)\" d=\"M4097.17 3170.18 Q4096.18 3169.61 4095.01 3169.36 Q4093.86 3169.07 4092.46 3169.07 Q4087.5 3169.07 4084.82 3172.32 Q4082.18 3175.53 4082.18 3181.58 L4082.18 3200.36 L4076.29 3200.36 L4076.29 3164.71 L4082.18 3164.71 L4082.18 3170.25 Q4084.03 3167 4086.99 3165.44 Q4089.95 3163.85 4094.18 3163.85 Q4094.78 3163.85 4095.52 3163.95 Q4096.25 3164.01 4097.14 3164.17 L4097.17 3170.18 Z\" fill=\"#000000\" fill-rule=\"evenodd\" fill-opacity=\"1\" /><path clip-path=\"url(#clip460)\" d=\"M4103.31 3164.71 L4109.17 3164.71 L4109.17 3200.36 L4103.31 3200.36 L4103.31 3164.71 M4103.31 3150.83 L4109.17 3150.83 L4109.17 3158.25 L4103.31 3158.25 L4103.31 3150.83 Z\" fill=\"#000000\" fill-rule=\"evenodd\" fill-opacity=\"1\" /><path clip-path=\"url(#clip460)\" d=\"M4151.06 3164.71 L4138.17 3182.06 L4151.73 3200.36 L4144.82 3200.36 L4134.44 3186.35 L4124.07 3200.36 L4117.16 3200.36 L4131 3181.71 L4118.34 3164.71 L4125.24 3164.71 L4134.7 3177.41 L4144.15 3164.71 L4151.06 3164.71 Z\" fill=\"#000000\" fill-rule=\"evenodd\" fill-opacity=\"1\" /><path clip-path=\"url(#clip460)\" d=\"M4204.66 3177.76 L4184.38 3177.76 Q4184.86 3187.28 4187.05 3191.32 Q4189.79 3196.28 4194.53 3196.28 Q4199.31 3196.28 4201.95 3191.29 Q4204.27 3186.89 4204.66 3177.76 M4204.56 3172.35 Q4203.67 3163.31 4201.95 3160.13 Q4199.21 3155.1 4194.53 3155.1 Q4189.66 3155.1 4187.09 3160.06 Q4185.05 3164.07 4184.44 3172.35 L4204.56 3172.35 M4194.53 3150.32 Q4202.17 3150.32 4206.53 3157.07 Q4210.89 3163.79 4210.89 3175.69 Q4210.89 3187.56 4206.53 3194.31 Q4202.17 3201.09 4194.53 3201.09 Q4186.86 3201.09 4182.54 3194.31 Q4178.17 3187.56 4178.17 3175.69 Q4178.17 3163.79 4182.54 3157.07 Q4186.86 3150.32 4194.53 3150.32 Z\" fill=\"#000000\" fill-rule=\"evenodd\" fill-opacity=\"1\" /><path clip-path=\"url(#clip460)\" d=\"M4218.82 3166.14 L4244.51 3166.14 L4244.51 3169.17 L4218.82 3169.17 L4218.82 3166.14 Z\" fill=\"#000000\" fill-rule=\"evenodd\" fill-opacity=\"1\" /><path clip-path=\"url(#clip460)\" d=\"M4253.83 3175.6 L4260.32 3175.6 L4260.32 3156.15 L4253.23 3157.45 L4253.23 3153.76 L4260.55 3152.52 L4264.91 3152.52 L4264.91 3175.6 L4271.43 3175.6 L4271.43 3179.1 L4253.83 3179.1 L4253.83 3175.6 Z\" fill=\"#000000\" fill-rule=\"evenodd\" fill-opacity=\"1\" /><polyline clip-path=\"url(#clip463)\" style=\"stroke:#000000; stroke-linecap:butt; stroke-linejoin:round; stroke-width:2; stroke-opacity:0.1; fill:none\" points=\"\n",
       "  2841.61,1669.83 5152.76,1669.83 \n",
       "  \"/>\n",
       "<polyline clip-path=\"url(#clip463)\" style=\"stroke:#000000; stroke-linecap:butt; stroke-linejoin:round; stroke-width:2; stroke-opacity:0.1; fill:none\" points=\"\n",
       "  2841.61,169.29 5152.76,169.29 \n",
       "  \"/>\n",
       "<polyline clip-path=\"url(#clip460)\" style=\"stroke:#000000; stroke-linecap:butt; stroke-linejoin:round; stroke-width:4; stroke-opacity:1; fill:none\" points=\"\n",
       "  2841.61,3013.49 2841.61,118.82 \n",
       "  \"/>\n",
       "<polyline clip-path=\"url(#clip460)\" style=\"stroke:#000000; stroke-linecap:butt; stroke-linejoin:round; stroke-width:4; stroke-opacity:1; fill:none\" points=\"\n",
       "  2841.61,1669.83 2860.51,1669.83 \n",
       "  \"/>\n",
       "<polyline clip-path=\"url(#clip460)\" style=\"stroke:#000000; stroke-linecap:butt; stroke-linejoin:round; stroke-width:4; stroke-opacity:1; fill:none\" points=\"\n",
       "  2841.61,169.29 2860.51,169.29 \n",
       "  \"/>\n",
       "<path clip-path=\"url(#clip460)\" d=\"M2637.66 1689.62 L2645.3 1689.62 L2645.3 1663.25 L2636.99 1664.92 L2636.99 1660.66 L2645.26 1658.99 L2649.93 1658.99 L2649.93 1689.62 L2657.57 1689.62 L2657.57 1693.55 L2637.66 1693.55 L2637.66 1689.62 Z\" fill=\"#000000\" fill-rule=\"evenodd\" fill-opacity=\"1\" /><path clip-path=\"url(#clip460)\" d=\"M2677.02 1662.07 Q2673.4 1662.07 2671.58 1665.64 Q2669.77 1669.18 2669.77 1676.31 Q2669.77 1683.41 2671.58 1686.98 Q2673.4 1690.52 2677.02 1690.52 Q2680.65 1690.52 2682.45 1686.98 Q2684.28 1683.41 2684.28 1676.31 Q2684.28 1669.18 2682.45 1665.64 Q2680.65 1662.07 2677.02 1662.07 M2677.02 1658.37 Q2682.83 1658.37 2685.88 1662.97 Q2688.96 1667.56 2688.96 1676.31 Q2688.96 1685.03 2685.88 1689.64 Q2682.83 1694.22 2677.02 1694.22 Q2671.2 1694.22 2668.13 1689.64 Q2665.07 1685.03 2665.07 1676.31 Q2665.07 1667.56 2668.13 1662.97 Q2671.2 1658.37 2677.02 1658.37 Z\" fill=\"#000000\" fill-rule=\"evenodd\" fill-opacity=\"1\" /><path clip-path=\"url(#clip460)\" d=\"M2688.96 1652.47 L2713.07 1652.47 L2713.07 1655.67 L2688.96 1655.67 L2688.96 1652.47 Z\" fill=\"#000000\" fill-rule=\"evenodd\" fill-opacity=\"1\" /><path clip-path=\"url(#clip460)\" d=\"M2721.93 1662.95 L2728.14 1662.95 L2728.14 1641.52 L2721.38 1642.88 L2721.38 1639.42 L2728.1 1638.06 L2731.9 1638.06 L2731.9 1662.95 L2738.1 1662.95 L2738.1 1666.14 L2721.93 1666.14 L2721.93 1662.95 Z\" fill=\"#000000\" fill-rule=\"evenodd\" fill-opacity=\"1\" /><path clip-path=\"url(#clip460)\" d=\"M2753.9 1640.56 Q2750.97 1640.56 2749.48 1643.46 Q2748.02 1646.34 2748.02 1652.13 Q2748.02 1657.9 2749.48 1660.8 Q2750.97 1663.68 2753.9 1663.68 Q2756.86 1663.68 2758.32 1660.8 Q2759.81 1657.9 2759.81 1652.13 Q2759.81 1646.34 2758.32 1643.46 Q2756.86 1640.56 2753.9 1640.56 M2753.9 1637.55 Q2758.62 1637.55 2761.11 1641.3 Q2763.61 1645.02 2763.61 1652.13 Q2763.61 1659.22 2761.11 1662.96 Q2758.62 1666.69 2753.9 1666.69 Q2749.18 1666.69 2746.68 1662.96 Q2744.2 1659.22 2744.2 1652.13 Q2744.2 1645.02 2746.68 1641.3 Q2749.18 1637.55 2753.9 1637.55 Z\" fill=\"#000000\" fill-rule=\"evenodd\" fill-opacity=\"1\" /><path clip-path=\"url(#clip460)\" d=\"M2692.9 189.082 L2700.54 189.082 L2700.54 162.717 L2692.23 164.383 L2692.23 160.124 L2700.49 158.457 L2705.17 158.457 L2705.17 189.082 L2712.81 189.082 L2712.81 193.017 L2692.9 193.017 L2692.9 189.082 Z\" fill=\"#000000\" fill-rule=\"evenodd\" fill-opacity=\"1\" /><path clip-path=\"url(#clip460)\" d=\"M2732.25 161.536 Q2728.64 161.536 2726.81 165.101 Q2725.01 168.643 2725.01 175.772 Q2725.01 182.879 2726.81 186.443 Q2728.64 189.985 2732.25 189.985 Q2735.89 189.985 2737.69 186.443 Q2739.52 182.879 2739.52 175.772 Q2739.52 168.643 2737.69 165.101 Q2735.89 161.536 2732.25 161.536 M2732.25 157.832 Q2738.06 157.832 2741.12 162.439 Q2744.2 167.022 2744.2 175.772 Q2744.2 184.499 2741.12 189.105 Q2738.06 193.689 2732.25 193.689 Q2726.44 193.689 2723.36 189.105 Q2720.31 184.499 2720.31 175.772 Q2720.31 167.022 2723.36 162.439 Q2726.44 157.832 2732.25 157.832 Z\" fill=\"#000000\" fill-rule=\"evenodd\" fill-opacity=\"1\" /><path clip-path=\"url(#clip460)\" d=\"M2753.9 140.028 Q2750.97 140.028 2749.48 142.925 Q2748.02 145.802 2748.02 151.595 Q2748.02 157.369 2749.48 160.266 Q2750.97 163.143 2753.9 163.143 Q2756.86 163.143 2758.32 160.266 Q2759.81 157.369 2759.81 151.595 Q2759.81 145.802 2758.32 142.925 Q2756.86 140.028 2753.9 140.028 M2753.9 137.019 Q2758.62 137.019 2761.11 140.762 Q2763.61 144.486 2763.61 151.595 Q2763.61 158.686 2761.11 162.428 Q2758.62 166.152 2753.9 166.152 Q2749.18 166.152 2746.68 162.428 Q2744.2 158.686 2744.2 151.595 Q2744.2 144.486 2746.68 140.762 Q2749.18 137.019 2753.9 137.019 Z\" fill=\"#000000\" fill-rule=\"evenodd\" fill-opacity=\"1\" /><path clip-path=\"url(#clip460)\" d=\"M3846 27.2059 L3853.46 27.2059 L3853.46 73.3862 Q3853.46 82.0551 3850.13 85.944 Q3846.85 89.8329 3839.52 89.8329 L3836.68 89.8329 L3836.68 83.5134 L3838.67 83.5134 Q3842.92 83.5134 3844.46 81.5285 Q3846 79.5841 3846 73.3862 L3846 27.2059 M3846 9.54393 L3853.46 9.54393 L3853.46 18.9825 L3846 18.9825 L3846 9.54393 Z\" fill=\"#000000\" fill-rule=\"evenodd\" fill-opacity=\"1\" /><path clip-path=\"url(#clip460)\" d=\"M3868.28 54.671 L3868.28 27.2059 L3875.74 27.2059 L3875.74 54.3874 Q3875.74 60.8284 3878.25 64.0691 Q3880.76 67.2693 3885.78 67.2693 Q3891.82 67.2693 3895.3 63.421 Q3898.83 59.5726 3898.83 52.9291 L3898.83 27.2059 L3906.28 27.2059 L3906.28 72.576 L3898.83 72.576 L3898.83 65.6084 Q3896.11 69.7404 3892.51 71.7658 Q3888.94 73.7508 3884.2 73.7508 Q3876.38 73.7508 3872.33 68.8897 Q3868.28 64.0286 3868.28 54.671 M3887.04 26.1121 L3887.04 26.1121 Z\" fill=\"#000000\" fill-rule=\"evenodd\" fill-opacity=\"1\" /><path clip-path=\"url(#clip460)\" d=\"M3921.63 9.54393 L3929.09 9.54393 L3929.09 72.576 L3921.63 72.576 L3921.63 9.54393 Z\" fill=\"#000000\" fill-rule=\"evenodd\" fill-opacity=\"1\" /><path clip-path=\"url(#clip460)\" d=\"M3944.68 27.2059 L3952.14 27.2059 L3952.14 72.576 L3944.68 72.576 L3944.68 27.2059 M3944.68 9.54393 L3952.14 9.54393 L3952.14 18.9825 L3944.68 18.9825 L3944.68 9.54393 Z\" fill=\"#000000\" fill-rule=\"evenodd\" fill-opacity=\"1\" /><path clip-path=\"url(#clip460)\" d=\"M3988.35 49.7694 Q3979.32 49.7694 3975.83 51.8354 Q3972.35 53.9013 3972.35 58.8839 Q3972.35 62.8538 3974.94 65.2034 Q3977.58 67.5124 3982.07 67.5124 Q3988.27 67.5124 3992 63.1374 Q3995.76 58.7219 3995.76 51.4303 L3995.76 49.7694 L3988.35 49.7694 M4003.22 46.6907 L4003.22 72.576 L3995.76 72.576 L3995.76 65.6895 Q3993.21 69.8214 3989.4 71.8063 Q3985.6 73.7508 3980.09 73.7508 Q3973.12 73.7508 3968.99 69.8619 Q3964.9 65.9325 3964.9 59.3701 Q3964.9 51.7138 3970 47.825 Q3975.14 43.9361 3985.31 43.9361 L3995.76 43.9361 L3995.76 43.2069 Q3995.76 38.0623 3992.36 35.2672 Q3989 32.4315 3982.88 32.4315 Q3978.99 32.4315 3975.31 33.3632 Q3971.62 34.295 3968.22 36.1584 L3968.22 29.2718 Q3972.31 27.692 3976.16 26.9223 Q3980.01 26.1121 3983.65 26.1121 Q3993.5 26.1121 3998.36 31.2163 Q4003.22 36.3204 4003.22 46.6907 Z\" fill=\"#000000\" fill-rule=\"evenodd\" fill-opacity=\"1\" /><path clip-path=\"url(#clip460)\" d=\"M4069.81 17.6457 Q4060.9 17.6457 4055.64 24.2892 Q4050.41 30.9327 4050.41 42.3968 Q4050.41 53.8203 4055.64 60.4638 Q4060.9 67.1073 4069.81 67.1073 Q4078.73 67.1073 4083.91 60.4638 Q4089.14 53.8203 4089.14 42.3968 Q4089.14 30.9327 4083.91 24.2892 Q4078.73 17.6457 4069.81 17.6457 M4081.28 71.4823 L4092.05 83.2704 L4082.17 83.2704 L4073.22 73.5887 Q4071.88 73.6697 4071.15 73.7103 Q4070.46 73.7508 4069.81 73.7508 Q4057.05 73.7508 4049.4 65.2439 Q4041.78 56.6965 4041.78 42.3968 Q4041.78 28.0566 4049.4 19.5497 Q4057.05 11.0023 4069.81 11.0023 Q4082.53 11.0023 4090.15 19.5497 Q4097.77 28.0566 4097.77 42.3968 Q4097.77 52.9291 4093.51 60.4233 Q4089.3 67.9175 4081.28 71.4823 Z\" fill=\"#000000\" fill-rule=\"evenodd\" fill-opacity=\"1\" /><path clip-path=\"url(#clip460)\" d=\"M4139.25 44.2197 Q4141.88 45.1109 4144.35 48.0275 Q4146.86 50.9442 4149.37 56.0483 L4157.68 72.576 L4148.89 72.576 L4141.15 57.061 Q4138.15 50.9847 4135.32 48.9997 Q4132.52 47.0148 4127.66 47.0148 L4118.75 47.0148 L4118.75 72.576 L4110.57 72.576 L4110.57 12.096 L4129.04 12.096 Q4139.41 12.096 4144.51 16.4305 Q4149.62 20.7649 4149.62 29.5149 Q4149.62 35.2267 4146.94 38.994 Q4144.31 42.7613 4139.25 44.2197 M4118.75 18.8205 L4118.75 40.2903 L4129.04 40.2903 Q4134.95 40.2903 4137.95 37.5762 Q4140.99 34.8216 4140.99 29.5149 Q4140.99 24.2082 4137.95 21.5346 Q4134.95 18.8205 4129.04 18.8205 L4118.75 18.8205 Z\" fill=\"#000000\" fill-rule=\"evenodd\" fill-opacity=\"1\" /><polyline clip-path=\"url(#clip463)\" style=\"stroke:#009af9; stroke-linecap:butt; stroke-linejoin:round; stroke-width:8; stroke-opacity:1; fill:none\" points=\"\n",
       "  2907.02,2968.32 2919.13,2968.32 2931.24,2968.32 2943.36,2968.32 2955.47,2968.32 2967.58,2968.32 2979.69,2968.32 2991.81,2968.32 3003.92,2968.32 3016.03,2968.32 \n",
       "  3028.15,2968.32 3040.26,2968.32 3052.37,2968.32 3064.49,2968.32 3076.6,2968.32 3088.71,2968.32 3100.82,2968.32 3112.94,2968.32 3125.05,2968.32 3137.16,2968.32 \n",
       "  3149.28,2968.32 3161.39,2968.32 3173.5,2968.32 3185.61,2968.32 3197.73,2968.32 3209.84,2968.32 3221.95,2968.32 3234.07,2968.32 3246.18,2968.32 3258.29,2968.32 \n",
       "  3270.41,2968.32 3282.52,2968.32 3294.63,2968.32 3306.74,2968.32 3318.86,2968.32 3330.97,2968.32 3343.08,2968.32 3355.2,2968.32 3367.31,2968.32 3379.42,2968.32 \n",
       "  3391.53,2968.32 3403.65,2968.32 3415.76,2968.32 3427.87,2968.32 3439.99,2968.32 3452.1,2968.32 3464.21,2968.32 3476.33,2968.32 3488.44,2968.32 3500.55,2968.32 \n",
       "  3512.66,2968.32 3524.78,2968.32 3536.89,2968.32 3549,2968.32 3561.12,2968.32 3573.23,2968.32 3585.34,2968.32 3597.45,2968.32 3609.57,2968.32 3621.68,2968.32 \n",
       "  3633.79,2968.32 3645.91,2968.32 3658.02,2968.32 3670.13,2968.32 3682.25,2968.32 3694.36,2968.32 3706.47,2968.32 3718.58,2968.32 3730.7,2968.32 3742.81,2968.32 \n",
       "  3754.92,2968.32 3767.04,2968.32 3779.15,2968.32 3791.26,2968.32 3803.37,2968.32 3815.49,2968.32 3827.6,2968.32 3839.71,2968.32 3851.83,2968.32 3863.94,2968.32 \n",
       "  3876.05,2968.32 3888.17,2968.32 3900.28,2968.32 3912.39,2968.32 3924.5,2968.32 3936.62,2968.32 3948.73,2968.32 3960.84,2968.32 3972.96,2968.32 3985.07,2968.32 \n",
       "  3997.18,2968.32 4009.29,2968.32 4021.41,2968.32 4033.52,2968.32 4045.63,2968.32 4057.75,2968.32 4069.86,2968.32 4081.97,2968.32 4094.09,2968.32 4106.2,2968.32 \n",
       "  4118.31,2968.32 4130.42,2968.32 4142.54,2968.32 4154.65,2968.32 4166.76,2968.32 4178.88,2968.32 4190.99,2968.32 4203.1,2968.32 4215.21,2968.32 4227.33,2968.32 \n",
       "  4239.44,2968.32 4251.55,2968.32 4263.67,2968.32 4275.78,2968.32 4287.89,2968.32 4300.01,2968.32 4312.12,2968.32 4324.23,2968.32 4336.34,2968.32 4348.46,2968.32 \n",
       "  4360.57,2968.32 4372.68,2968.32 4384.8,2968.32 4396.91,2968.32 4409.02,2968.32 4421.13,2968.32 4433.25,2968.32 4445.36,2968.32 4457.47,2968.32 4469.59,2968.32 \n",
       "  4481.7,2968.32 4493.81,2968.32 4505.93,2968.32 4518.04,2968.32 4530.15,2968.32 4542.26,2968.32 4554.38,2968.32 4566.49,2968.32 4578.6,2968.32 4590.72,2968.32 \n",
       "  4602.83,2968.32 4614.94,2968.32 4627.05,2968.32 4639.17,2968.32 4651.28,2968.32 4663.39,2968.32 4675.51,2968.32 4687.62,2968.32 4699.73,2968.32 4711.84,2968.32 \n",
       "  4723.96,2968.32 4736.07,2968.32 4748.18,2968.32 4760.3,2968.32 4772.41,2968.32 4784.52,2968.32 4796.64,2968.32 4808.75,2968.32 4820.86,2968.32 4832.97,2968.32 \n",
       "  4845.09,2968.32 4857.2,2968.32 4869.31,2968.32 4881.43,2968.32 4893.54,2968.32 4905.65,2968.32 4917.76,2968.32 4929.88,2968.32 4941.99,2968.32 4954.1,2968.32 \n",
       "  4966.22,2968.32 4978.33,2968.32 4990.44,2968.32 5002.56,2968.32 5014.67,2968.32 5026.78,2968.32 5038.89,2968.32 5051.01,2968.32 5063.12,2968.32 5075.23,2968.32 \n",
       "  5087.35,2968.32 \n",
       "  \"/>\n",
       "<polyline clip-path=\"url(#clip463)\" style=\"stroke:#e26f46; stroke-linecap:butt; stroke-linejoin:round; stroke-width:8; stroke-opacity:1; fill:none\" points=\"\n",
       "  2907.02,2968.32 2919.13,2968.32 2931.24,2968.32 2943.36,2968.32 2955.47,2968.32 2967.58,2968.32 2979.69,2968.32 2991.81,2968.32 3003.92,2968.32 3016.03,2968.32 \n",
       "  3028.15,2536.91 3040.26,2968.32 3052.37,2968.32 3064.49,2968.32 3076.6,2968.32 3088.71,2968.32 3100.82,2968.32 3112.94,2968.32 3125.05,2968.32 3137.16,2968.32 \n",
       "  3149.28,2968.32 3161.39,2968.32 3173.5,2968.32 3185.61,2968.32 3197.73,2968.32 3209.84,2968.32 3221.95,2968.32 3234.07,2968.32 3246.18,2968.32 3258.29,2968.32 \n",
       "  3270.41,2968.32 3282.52,2968.32 3294.63,2968.32 3306.74,2968.32 3318.86,2968.32 3330.97,2968.32 3343.08,2968.32 3355.2,2968.32 3367.31,2968.32 3379.42,2968.32 \n",
       "  3391.53,2518.16 3403.65,2968.32 3415.76,2968.32 3427.87,2968.32 3439.99,2968.32 3452.1,2968.32 3464.21,2968.32 3476.33,2968.32 3488.44,2968.32 3500.55,2968.32 \n",
       "  3512.66,2968.32 3524.78,2968.32 3536.89,2968.32 3549,2968.32 3561.12,2968.32 3573.23,2968.32 3585.34,2968.32 3597.45,2968.32 3609.57,2968.32 3621.68,2968.32 \n",
       "  3633.79,2968.32 3645.91,2968.32 3658.02,2968.32 3670.13,2968.32 3682.25,2968.32 3694.36,2968.32 3706.47,2968.32 3718.58,2968.32 3730.7,2968.32 3742.81,2968.32 \n",
       "  3754.92,2968.32 3767.04,2968.32 3779.15,2968.32 3791.26,2968.32 3803.37,2968.32 3815.49,2968.32 3827.6,2968.32 3839.71,2968.32 3851.83,2968.32 3863.94,2968.32 \n",
       "  3876.05,2968.32 3888.17,2968.32 3900.28,2968.32 3912.39,2968.32 3924.5,2968.32 3936.62,2968.32 3948.73,2968.32 3960.84,2968.32 3972.96,2968.32 3985.07,2968.32 \n",
       "  3997.18,2968.32 4009.29,2968.32 4021.41,2968.32 4033.52,2968.32 4045.63,2968.32 4057.75,2968.32 4069.86,2968.32 4081.97,2968.32 4094.09,2968.32 4106.2,2968.32 \n",
       "  4118.31,2968.32 4130.42,2968.32 4142.54,2968.32 4154.65,2968.32 4166.76,2968.32 4178.88,2968.32 4190.99,2968.32 4203.1,2968.32 4215.21,2968.32 4227.33,2968.32 \n",
       "  4239.44,2968.32 4251.55,2968.32 4263.67,2968.32 4275.78,2968.32 4287.89,2968.32 4300.01,2968.32 4312.12,2968.32 4324.23,2968.32 4336.34,2968.32 4348.46,2968.32 \n",
       "  4360.57,2968.32 4372.68,2968.32 4384.8,2968.32 4396.91,2968.32 4409.02,2968.32 4421.13,2968.32 4433.25,2968.32 4445.36,2968.32 4457.47,2968.32 4469.59,2968.32 \n",
       "  4481.7,2968.32 4493.81,2968.32 4505.93,2968.32 4518.04,2968.32 4530.15,2968.32 4542.26,2968.32 4554.38,2968.32 4566.49,2968.32 4578.6,2968.32 4590.72,2968.32 \n",
       "  4602.83,2968.32 4614.94,2968.32 4627.05,2968.32 4639.17,2968.32 4651.28,2968.32 4663.39,2968.32 4675.51,2968.32 4687.62,2968.32 4699.73,2968.32 4711.84,2968.32 \n",
       "  4723.96,2968.32 4736.07,2968.32 4748.18,2968.32 4760.3,2968.32 4772.41,2968.32 4784.52,2968.32 4796.64,2968.32 4808.75,2968.32 4820.86,2968.32 4832.97,2968.32 \n",
       "  4845.09,2968.32 4857.2,2968.32 4869.31,2968.32 4881.43,2968.32 4893.54,2968.32 4905.65,2968.32 4917.76,2968.32 4929.88,2968.32 4941.99,2968.32 4954.1,2968.32 \n",
       "  4966.22,2968.32 4978.33,2968.32 4990.44,2968.32 5002.56,2968.32 5014.67,2968.32 5026.78,2968.32 5038.89,2968.32 5051.01,2968.32 5063.12,2968.32 5075.23,2968.32 \n",
       "  5087.35,2968.32 \n",
       "  \"/>\n",
       "<path clip-path=\"url(#clip460)\" d=\"\n",
       "M4339.64 370.829 L5075.72 370.829 L5075.72 215.309 L4339.64 215.309  Z\n",
       "  \" fill=\"#ffffff\" fill-rule=\"evenodd\" fill-opacity=\"1\"/>\n",
       "<polyline clip-path=\"url(#clip460)\" style=\"stroke:#000000; stroke-linecap:butt; stroke-linejoin:round; stroke-width:4; stroke-opacity:1; fill:none\" points=\"\n",
       "  4339.64,370.829 5075.72,370.829 5075.72,215.309 4339.64,215.309 4339.64,370.829 \n",
       "  \"/>\n",
       "<polyline clip-path=\"url(#clip460)\" style=\"stroke:#009af9; stroke-linecap:butt; stroke-linejoin:round; stroke-width:4; stroke-opacity:1; fill:none\" points=\"\n",
       "  4365.32,267.149 4519.4,267.149 \n",
       "  \"/>\n",
       "<path clip-path=\"url(#clip460)\" d=\"M4556.98 261.489 Q4553.55 261.489 4551.56 264.174 Q4549.57 266.836 4549.57 271.489 Q4549.57 276.142 4551.54 278.827 Q4553.53 281.489 4556.98 281.489 Q4560.38 281.489 4562.37 278.804 Q4564.36 276.119 4564.36 271.489 Q4564.36 266.883 4562.37 264.198 Q4560.38 261.489 4556.98 261.489 M4556.98 257.878 Q4562.53 257.878 4565.7 261.489 Q4568.88 265.1 4568.88 271.489 Q4568.88 277.855 4565.7 281.489 Q4562.53 285.1 4556.98 285.1 Q4551.4 285.1 4548.23 281.489 Q4545.08 277.855 4545.08 271.489 Q4545.08 265.1 4548.23 261.489 Q4551.4 257.878 4556.98 257.878 Z\" fill=\"#000000\" fill-rule=\"evenodd\" fill-opacity=\"1\" /><path clip-path=\"url(#clip460)\" d=\"M4590.96 262.485 Q4590.24 262.068 4589.38 261.883 Q4588.55 261.674 4587.53 261.674 Q4583.92 261.674 4581.98 264.036 Q4580.06 266.373 4580.06 270.772 L4580.06 284.429 L4575.77 284.429 L4575.77 258.503 L4580.06 258.503 L4580.06 262.531 Q4581.4 260.17 4583.55 259.036 Q4585.7 257.878 4588.78 257.878 Q4589.22 257.878 4589.75 257.948 Q4590.29 257.994 4590.94 258.11 L4590.96 262.485 Z\" fill=\"#000000\" fill-rule=\"evenodd\" fill-opacity=\"1\" /><path clip-path=\"url(#clip460)\" d=\"M4599.64 251.142 L4599.64 258.503 L4608.41 258.503 L4608.41 261.813 L4599.64 261.813 L4599.64 275.887 Q4599.64 279.059 4600.5 279.961 Q4601.37 280.864 4604.04 280.864 L4608.41 280.864 L4608.41 284.429 L4604.04 284.429 Q4599.11 284.429 4597.23 282.6 Q4595.36 280.748 4595.36 275.887 L4595.36 261.813 L4592.23 261.813 L4592.23 258.503 L4595.36 258.503 L4595.36 251.142 L4599.64 251.142 Z\" fill=\"#000000\" fill-rule=\"evenodd\" fill-opacity=\"1\" /><path clip-path=\"url(#clip460)\" d=\"M4635.56 268.781 L4635.56 284.429 L4631.31 284.429 L4631.31 268.92 Q4631.31 265.239 4629.87 263.411 Q4628.43 261.582 4625.56 261.582 Q4622.12 261.582 4620.12 263.781 Q4618.13 265.98 4618.13 269.776 L4618.13 284.429 L4613.85 284.429 L4613.85 248.411 L4618.13 248.411 L4618.13 262.531 Q4619.66 260.193 4621.72 259.036 Q4623.81 257.878 4626.51 257.878 Q4630.98 257.878 4633.27 260.656 Q4635.56 263.411 4635.56 268.781 Z\" fill=\"#000000\" fill-rule=\"evenodd\" fill-opacity=\"1\" /><path clip-path=\"url(#clip460)\" d=\"M4654.11 261.489 Q4650.68 261.489 4648.69 264.174 Q4646.7 266.836 4646.7 271.489 Q4646.7 276.142 4648.67 278.827 Q4650.66 281.489 4654.11 281.489 Q4657.51 281.489 4659.5 278.804 Q4661.49 276.119 4661.49 271.489 Q4661.49 266.883 4659.5 264.198 Q4657.51 261.489 4654.11 261.489 M4654.11 257.878 Q4659.66 257.878 4662.83 261.489 Q4666 265.1 4666 271.489 Q4666 277.855 4662.83 281.489 Q4659.66 285.1 4654.11 285.1 Q4648.53 285.1 4645.36 281.489 Q4642.21 277.855 4642.21 271.489 Q4642.21 265.1 4645.36 261.489 Q4648.53 257.878 4654.11 257.878 Z\" fill=\"#000000\" fill-rule=\"evenodd\" fill-opacity=\"1\" /><path clip-path=\"url(#clip460)\" d=\"M4694.62 268.781 L4694.62 284.429 L4690.36 284.429 L4690.36 268.92 Q4690.36 265.239 4688.92 263.411 Q4687.49 261.582 4684.62 261.582 Q4681.17 261.582 4679.18 263.781 Q4677.18 265.98 4677.18 269.776 L4677.18 284.429 L4672.9 284.429 L4672.9 258.503 L4677.18 258.503 L4677.18 262.531 Q4678.71 260.193 4680.77 259.036 Q4682.86 257.878 4685.56 257.878 Q4690.03 257.878 4692.32 260.656 Q4694.62 263.411 4694.62 268.781 Z\" fill=\"#000000\" fill-rule=\"evenodd\" fill-opacity=\"1\" /><path clip-path=\"url(#clip460)\" d=\"M4713.16 261.489 Q4709.73 261.489 4707.74 264.174 Q4705.75 266.836 4705.75 271.489 Q4705.75 276.142 4707.72 278.827 Q4709.71 281.489 4713.16 281.489 Q4716.56 281.489 4718.55 278.804 Q4720.54 276.119 4720.54 271.489 Q4720.54 266.883 4718.55 264.198 Q4716.56 261.489 4713.16 261.489 M4713.16 257.878 Q4718.71 257.878 4721.88 261.489 Q4725.05 265.1 4725.05 271.489 Q4725.05 277.855 4721.88 281.489 Q4718.71 285.1 4713.16 285.1 Q4707.58 285.1 4704.41 281.489 Q4701.26 277.855 4701.26 271.489 Q4701.26 265.1 4704.41 261.489 Q4707.58 257.878 4713.16 257.878 Z\" fill=\"#000000\" fill-rule=\"evenodd\" fill-opacity=\"1\" /><path clip-path=\"url(#clip460)\" d=\"M4747.14 262.485 Q4746.42 262.068 4745.56 261.883 Q4744.73 261.674 4743.71 261.674 Q4740.1 261.674 4738.16 264.036 Q4736.24 266.373 4736.24 270.772 L4736.24 284.429 L4731.95 284.429 L4731.95 258.503 L4736.24 258.503 L4736.24 262.531 Q4737.58 260.17 4739.73 259.036 Q4741.88 257.878 4744.96 257.878 Q4745.4 257.878 4745.93 257.948 Q4746.47 257.994 4747.11 258.11 L4747.14 262.485 Z\" fill=\"#000000\" fill-rule=\"evenodd\" fill-opacity=\"1\" /><path clip-path=\"url(#clip460)\" d=\"M4770.96 263.48 Q4772.55 260.61 4774.78 259.244 Q4777 257.878 4780.01 257.878 Q4784.06 257.878 4786.26 260.725 Q4788.46 263.549 4788.46 268.781 L4788.46 284.429 L4784.17 284.429 L4784.17 268.92 Q4784.17 265.193 4782.86 263.387 Q4781.54 261.582 4778.83 261.582 Q4775.52 261.582 4773.6 263.781 Q4771.67 265.98 4771.67 269.776 L4771.67 284.429 L4767.39 284.429 L4767.39 268.92 Q4767.39 265.17 4766.07 263.387 Q4764.75 261.582 4762 261.582 Q4758.74 261.582 4756.81 263.804 Q4754.89 266.003 4754.89 269.776 L4754.89 284.429 L4750.61 284.429 L4750.61 258.503 L4754.89 258.503 L4754.89 262.531 Q4756.35 260.147 4758.39 259.012 Q4760.42 257.878 4763.23 257.878 Q4766.05 257.878 4768.02 259.313 Q4770.01 260.749 4770.96 263.48 Z\" fill=\"#000000\" fill-rule=\"evenodd\" fill-opacity=\"1\" /><path clip-path=\"url(#clip460)\" d=\"M4808.73 271.397 Q4803.57 271.397 4801.58 272.577 Q4799.59 273.758 4799.59 276.605 Q4799.59 278.873 4801.07 280.216 Q4802.58 281.535 4805.15 281.535 Q4808.69 281.535 4810.82 279.035 Q4812.97 276.512 4812.97 272.346 L4812.97 271.397 L4808.73 271.397 M4817.23 269.637 L4817.23 284.429 L4812.97 284.429 L4812.97 280.494 Q4811.51 282.855 4809.34 283.989 Q4807.16 285.1 4804.01 285.1 Q4800.03 285.1 4797.67 282.878 Q4795.33 280.633 4795.33 276.883 Q4795.33 272.508 4798.25 270.286 Q4801.19 268.063 4807 268.063 L4812.97 268.063 L4812.97 267.647 Q4812.97 264.707 4811.03 263.11 Q4809.11 261.489 4805.61 261.489 Q4803.39 261.489 4801.28 262.022 Q4799.17 262.554 4797.23 263.619 L4797.23 259.684 Q4799.57 258.781 4801.77 258.341 Q4803.97 257.878 4806.05 257.878 Q4811.67 257.878 4814.45 260.795 Q4817.23 263.711 4817.23 269.637 Z\" fill=\"#000000\" fill-rule=\"evenodd\" fill-opacity=\"1\" /><path clip-path=\"url(#clip460)\" d=\"M4826 248.411 L4830.26 248.411 L4830.26 284.429 L4826 284.429 L4826 248.411 Z\" fill=\"#000000\" fill-rule=\"evenodd\" fill-opacity=\"1\" /><path clip-path=\"url(#clip460)\" d=\"M4839.17 258.503 L4843.43 258.503 L4843.43 284.429 L4839.17 284.429 L4839.17 258.503 M4839.17 248.411 L4843.43 248.411 L4843.43 253.804 L4839.17 253.804 L4839.17 248.411 Z\" fill=\"#000000\" fill-rule=\"evenodd\" fill-opacity=\"1\" /><path clip-path=\"url(#clip460)\" d=\"M4856.56 251.142 L4856.56 258.503 L4865.33 258.503 L4865.33 261.813 L4856.56 261.813 L4856.56 275.887 Q4856.56 279.059 4857.42 279.961 Q4858.29 280.864 4860.96 280.864 L4865.33 280.864 L4865.33 284.429 L4860.96 284.429 Q4856.03 284.429 4854.15 282.6 Q4852.28 280.748 4852.28 275.887 L4852.28 261.813 L4849.15 261.813 L4849.15 258.503 L4852.28 258.503 L4852.28 251.142 L4856.56 251.142 Z\" fill=\"#000000\" fill-rule=\"evenodd\" fill-opacity=\"1\" /><path clip-path=\"url(#clip460)\" d=\"M4881.72 286.836 Q4879.92 291.466 4878.2 292.878 Q4876.49 294.29 4873.62 294.29 L4870.22 294.29 L4870.22 290.725 L4872.72 290.725 Q4874.48 290.725 4875.45 289.892 Q4876.42 289.059 4877.6 285.957 L4878.36 284.012 L4867.88 258.503 L4872.39 258.503 L4880.49 278.781 L4888.6 258.503 L4893.11 258.503 L4881.72 286.836 Z\" fill=\"#000000\" fill-rule=\"evenodd\" fill-opacity=\"1\" /><path clip-path=\"url(#clip460)\" d=\"M4936.23 270.401 L4936.23 272.485 L4916.65 272.485 Q4916.93 276.883 4919.29 279.197 Q4921.67 281.489 4925.91 281.489 Q4928.36 281.489 4930.66 280.887 Q4932.97 280.285 4935.24 279.082 L4935.24 283.11 Q4932.95 284.082 4930.54 284.591 Q4928.13 285.1 4925.66 285.1 Q4919.45 285.1 4915.82 281.489 Q4912.21 277.878 4912.21 271.721 Q4912.21 265.355 4915.63 261.628 Q4919.08 257.878 4924.91 257.878 Q4930.15 257.878 4933.18 261.258 Q4936.23 264.614 4936.23 270.401 M4931.98 269.151 Q4931.93 265.656 4930.01 263.573 Q4928.11 261.489 4924.96 261.489 Q4921.4 261.489 4919.24 263.503 Q4917.11 265.517 4916.79 269.174 L4931.98 269.151 Z\" fill=\"#000000\" fill-rule=\"evenodd\" fill-opacity=\"1\" /><path clip-path=\"url(#clip460)\" d=\"M4958.25 262.485 Q4957.53 262.068 4956.67 261.883 Q4955.84 261.674 4954.82 261.674 Q4951.21 261.674 4949.27 264.036 Q4947.35 266.373 4947.35 270.772 L4947.35 284.429 L4943.06 284.429 L4943.06 258.503 L4947.35 258.503 L4947.35 262.531 Q4948.69 260.17 4950.84 259.036 Q4952.99 257.878 4956.07 257.878 Q4956.51 257.878 4957.04 257.948 Q4957.58 257.994 4958.22 258.11 L4958.25 262.485 Z\" fill=\"#000000\" fill-rule=\"evenodd\" fill-opacity=\"1\" /><path clip-path=\"url(#clip460)\" d=\"M4976.91 262.485 Q4976.19 262.068 4975.33 261.883 Q4974.5 261.674 4973.48 261.674 Q4969.87 261.674 4967.92 264.036 Q4966 266.373 4966 270.772 L4966 284.429 L4961.72 284.429 L4961.72 258.503 L4966 258.503 L4966 262.531 Q4967.35 260.17 4969.5 259.036 Q4971.65 257.878 4974.73 257.878 Q4975.17 257.878 4975.7 257.948 Q4976.23 257.994 4976.88 258.11 L4976.91 262.485 Z\" fill=\"#000000\" fill-rule=\"evenodd\" fill-opacity=\"1\" /><path clip-path=\"url(#clip460)\" d=\"M4990.38 261.489 Q4986.95 261.489 4984.96 264.174 Q4982.97 266.836 4982.97 271.489 Q4982.97 276.142 4984.94 278.827 Q4986.93 281.489 4990.38 281.489 Q4993.78 281.489 4995.77 278.804 Q4997.76 276.119 4997.76 271.489 Q4997.76 266.883 4995.77 264.198 Q4993.78 261.489 4990.38 261.489 M4990.38 257.878 Q4995.93 257.878 4999.1 261.489 Q5002.28 265.1 5002.28 271.489 Q5002.28 277.855 4999.1 281.489 Q4995.93 285.1 4990.38 285.1 Q4984.8 285.1 4981.63 281.489 Q4978.48 277.855 4978.48 271.489 Q4978.48 265.1 4981.63 261.489 Q4984.8 257.878 4990.38 257.878 Z\" fill=\"#000000\" fill-rule=\"evenodd\" fill-opacity=\"1\" /><path clip-path=\"url(#clip460)\" d=\"M5024.36 262.485 Q5023.64 262.068 5022.78 261.883 Q5021.95 261.674 5020.93 261.674 Q5017.32 261.674 5015.38 264.036 Q5013.46 266.373 5013.46 270.772 L5013.46 284.429 L5009.17 284.429 L5009.17 258.503 L5013.46 258.503 L5013.46 262.531 Q5014.8 260.17 5016.95 259.036 Q5019.1 257.878 5022.18 257.878 Q5022.62 257.878 5023.16 257.948 Q5023.69 257.994 5024.34 258.11 L5024.36 262.485 Z\" fill=\"#000000\" fill-rule=\"evenodd\" fill-opacity=\"1\" /><polyline clip-path=\"url(#clip460)\" style=\"stroke:#e26f46; stroke-linecap:butt; stroke-linejoin:round; stroke-width:4; stroke-opacity:1; fill:none\" points=\"\n",
       "  4365.32,318.989 4519.4,318.989 \n",
       "  \"/>\n",
       "<path clip-path=\"url(#clip460)\" d=\"M4560.26 314.325 Q4559.55 313.908 4558.69 313.723 Q4557.86 313.514 4556.84 313.514 Q4553.23 313.514 4551.28 315.876 Q4549.36 318.213 4549.36 322.612 L4549.36 336.269 L4545.08 336.269 L4545.08 310.343 L4549.36 310.343 L4549.36 314.371 Q4550.7 312.01 4552.86 310.876 Q4555.01 309.718 4558.09 309.718 Q4558.53 309.718 4559.06 309.788 Q4559.59 309.834 4560.24 309.95 L4560.26 314.325 Z\" fill=\"#000000\" fill-rule=\"evenodd\" fill-opacity=\"1\" /><path clip-path=\"url(#clip460)\" d=\"M4585.87 322.241 L4585.87 324.325 L4566.28 324.325 Q4566.56 328.723 4568.92 331.037 Q4571.31 333.329 4575.54 333.329 Q4578 333.329 4580.29 332.727 Q4582.6 332.125 4584.87 330.922 L4584.87 334.95 Q4582.58 335.922 4580.17 336.431 Q4577.76 336.94 4575.29 336.94 Q4569.08 336.94 4565.45 333.329 Q4561.84 329.718 4561.84 323.561 Q4561.84 317.195 4565.26 313.468 Q4568.71 309.718 4574.55 309.718 Q4579.78 309.718 4582.81 313.098 Q4585.87 316.454 4585.87 322.241 M4581.61 320.991 Q4581.56 317.496 4579.64 315.413 Q4577.74 313.329 4574.59 313.329 Q4571.03 313.329 4568.88 315.343 Q4566.75 317.357 4566.42 321.014 L4581.61 320.991 Z\" fill=\"#000000\" fill-rule=\"evenodd\" fill-opacity=\"1\" /><path clip-path=\"url(#clip460)\" d=\"M4611.51 311.339 L4611.51 315.32 Q4609.71 314.325 4607.88 313.839 Q4606.07 313.329 4604.22 313.329 Q4600.08 313.329 4597.79 315.968 Q4595.5 318.584 4595.5 323.329 Q4595.5 328.075 4597.79 330.713 Q4600.08 333.329 4604.22 333.329 Q4606.07 333.329 4607.88 332.843 Q4609.71 332.334 4611.51 331.338 L4611.51 335.274 Q4609.73 336.107 4607.81 336.524 Q4605.91 336.94 4603.76 336.94 Q4597.9 336.94 4594.45 333.26 Q4591 329.579 4591 323.329 Q4591 316.987 4594.48 313.352 Q4597.97 309.718 4604.04 309.718 Q4606 309.718 4607.88 310.135 Q4609.75 310.528 4611.51 311.339 Z\" fill=\"#000000\" fill-rule=\"evenodd\" fill-opacity=\"1\" /><path clip-path=\"url(#clip460)\" d=\"M4628.97 313.329 Q4625.54 313.329 4623.55 316.014 Q4621.56 318.676 4621.56 323.329 Q4621.56 327.982 4623.53 330.667 Q4625.52 333.329 4628.97 333.329 Q4632.37 333.329 4634.36 330.644 Q4636.35 327.959 4636.35 323.329 Q4636.35 318.723 4634.36 316.038 Q4632.37 313.329 4628.97 313.329 M4628.97 309.718 Q4634.52 309.718 4637.69 313.329 Q4640.87 316.94 4640.87 323.329 Q4640.87 329.695 4637.69 333.329 Q4634.52 336.94 4628.97 336.94 Q4623.39 336.94 4620.22 333.329 Q4617.07 329.695 4617.07 323.329 Q4617.07 316.94 4620.22 313.329 Q4623.39 309.718 4628.97 309.718 Z\" fill=\"#000000\" fill-rule=\"evenodd\" fill-opacity=\"1\" /><path clip-path=\"url(#clip460)\" d=\"M4669.48 320.621 L4669.48 336.269 L4665.22 336.269 L4665.22 320.76 Q4665.22 317.079 4663.78 315.251 Q4662.35 313.422 4659.48 313.422 Q4656.03 313.422 4654.04 315.621 Q4652.05 317.82 4652.05 321.616 L4652.05 336.269 L4647.76 336.269 L4647.76 310.343 L4652.05 310.343 L4652.05 314.371 Q4653.57 312.033 4655.63 310.876 Q4657.72 309.718 4660.43 309.718 Q4664.89 309.718 4667.18 312.496 Q4669.48 315.251 4669.48 320.621 Z\" fill=\"#000000\" fill-rule=\"evenodd\" fill-opacity=\"1\" /><path clip-path=\"url(#clip460)\" d=\"M4694.5 311.107 L4694.5 315.135 Q4692.69 314.209 4690.75 313.746 Q4688.81 313.283 4686.72 313.283 Q4683.55 313.283 4681.95 314.255 Q4680.38 315.227 4680.38 317.172 Q4680.38 318.653 4681.51 319.51 Q4682.65 320.343 4686.07 321.107 L4687.53 321.431 Q4692.07 322.403 4693.97 324.186 Q4695.89 325.945 4695.89 329.116 Q4695.89 332.727 4693.02 334.834 Q4690.17 336.94 4685.17 336.94 Q4683.09 336.94 4680.82 336.524 Q4678.57 336.13 4676.07 335.32 L4676.07 330.922 Q4678.43 332.149 4680.73 332.774 Q4683.02 333.375 4685.26 333.375 Q4688.27 333.375 4689.89 332.357 Q4691.51 331.315 4691.51 329.44 Q4691.51 327.704 4690.33 326.778 Q4689.18 325.852 4685.22 324.996 L4683.74 324.649 Q4679.78 323.815 4678.02 322.102 Q4676.26 320.366 4676.26 317.357 Q4676.26 313.7 4678.85 311.709 Q4681.44 309.718 4686.21 309.718 Q4688.57 309.718 4690.66 310.065 Q4692.74 310.413 4694.5 311.107 Z\" fill=\"#000000\" fill-rule=\"evenodd\" fill-opacity=\"1\" /><path clip-path=\"url(#clip460)\" d=\"M4706.88 302.982 L4706.88 310.343 L4715.66 310.343 L4715.66 313.653 L4706.88 313.653 L4706.88 327.727 Q4706.88 330.899 4707.74 331.801 Q4708.62 332.704 4711.28 332.704 L4715.66 332.704 L4715.66 336.269 L4711.28 336.269 Q4706.35 336.269 4704.48 334.44 Q4702.6 332.588 4702.6 327.727 L4702.6 313.653 L4699.48 313.653 L4699.48 310.343 L4702.6 310.343 L4702.6 302.982 L4706.88 302.982 Z\" fill=\"#000000\" fill-rule=\"evenodd\" fill-opacity=\"1\" /><path clip-path=\"url(#clip460)\" d=\"M4736.28 314.325 Q4735.56 313.908 4734.71 313.723 Q4733.87 313.514 4732.86 313.514 Q4729.24 313.514 4727.3 315.876 Q4725.38 318.213 4725.38 322.612 L4725.38 336.269 L4721.1 336.269 L4721.1 310.343 L4725.38 310.343 L4725.38 314.371 Q4726.72 312.01 4728.87 310.876 Q4731.03 309.718 4734.11 309.718 Q4734.55 309.718 4735.08 309.788 Q4735.61 309.834 4736.26 309.95 L4736.28 314.325 Z\" fill=\"#000000\" fill-rule=\"evenodd\" fill-opacity=\"1\" /><path clip-path=\"url(#clip460)\" d=\"M4740.31 326.038 L4740.31 310.343 L4744.57 310.343 L4744.57 325.875 Q4744.57 329.556 4746 331.408 Q4747.44 333.237 4750.31 333.237 Q4753.76 333.237 4755.75 331.037 Q4757.76 328.838 4757.76 325.042 L4757.76 310.343 L4762.02 310.343 L4762.02 336.269 L4757.76 336.269 L4757.76 332.287 Q4756.21 334.649 4754.15 335.806 Q4752.11 336.94 4749.41 336.94 Q4744.94 336.94 4742.62 334.162 Q4740.31 331.385 4740.31 326.038 M4751.03 309.718 L4751.03 309.718 Z\" fill=\"#000000\" fill-rule=\"evenodd\" fill-opacity=\"1\" /><path clip-path=\"url(#clip460)\" d=\"M4789.45 311.339 L4789.45 315.32 Q4787.65 314.325 4785.82 313.839 Q4784.01 313.329 4782.16 313.329 Q4778.02 313.329 4775.73 315.968 Q4773.43 318.584 4773.43 323.329 Q4773.43 328.075 4775.73 330.713 Q4778.02 333.329 4782.16 333.329 Q4784.01 333.329 4785.82 332.843 Q4787.65 332.334 4789.45 331.338 L4789.45 335.274 Q4787.67 336.107 4785.75 336.524 Q4783.85 336.94 4781.7 336.94 Q4775.84 336.94 4772.39 333.26 Q4768.94 329.579 4768.94 323.329 Q4768.94 316.987 4772.42 313.352 Q4775.91 309.718 4781.98 309.718 Q4783.94 309.718 4785.82 310.135 Q4787.69 310.528 4789.45 311.339 Z\" fill=\"#000000\" fill-rule=\"evenodd\" fill-opacity=\"1\" /><path clip-path=\"url(#clip460)\" d=\"M4801.07 302.982 L4801.07 310.343 L4809.85 310.343 L4809.85 313.653 L4801.07 313.653 L4801.07 327.727 Q4801.07 330.899 4801.93 331.801 Q4802.81 332.704 4805.47 332.704 L4809.85 332.704 L4809.85 336.269 L4805.47 336.269 Q4800.54 336.269 4798.67 334.44 Q4796.79 332.588 4796.79 327.727 L4796.79 313.653 L4793.67 313.653 L4793.67 310.343 L4796.79 310.343 L4796.79 302.982 L4801.07 302.982 Z\" fill=\"#000000\" fill-rule=\"evenodd\" fill-opacity=\"1\" /><path clip-path=\"url(#clip460)\" d=\"M4815.45 310.343 L4819.71 310.343 L4819.71 336.269 L4815.45 336.269 L4815.45 310.343 M4815.45 300.251 L4819.71 300.251 L4819.71 305.644 L4815.45 305.644 L4815.45 300.251 Z\" fill=\"#000000\" fill-rule=\"evenodd\" fill-opacity=\"1\" /><path clip-path=\"url(#clip460)\" d=\"M4838.67 313.329 Q4835.24 313.329 4833.25 316.014 Q4831.26 318.676 4831.26 323.329 Q4831.26 327.982 4833.23 330.667 Q4835.22 333.329 4838.67 333.329 Q4842.07 333.329 4844.06 330.644 Q4846.05 327.959 4846.05 323.329 Q4846.05 318.723 4844.06 316.038 Q4842.07 313.329 4838.67 313.329 M4838.67 309.718 Q4844.22 309.718 4847.39 313.329 Q4850.56 316.94 4850.56 323.329 Q4850.56 329.695 4847.39 333.329 Q4844.22 336.94 4838.67 336.94 Q4833.09 336.94 4829.92 333.329 Q4826.77 329.695 4826.77 323.329 Q4826.77 316.94 4829.92 313.329 Q4833.09 309.718 4838.67 309.718 Z\" fill=\"#000000\" fill-rule=\"evenodd\" fill-opacity=\"1\" /><path clip-path=\"url(#clip460)\" d=\"M4879.17 320.621 L4879.17 336.269 L4874.92 336.269 L4874.92 320.76 Q4874.92 317.079 4873.48 315.251 Q4872.04 313.422 4869.17 313.422 Q4865.73 313.422 4863.73 315.621 Q4861.74 317.82 4861.74 321.616 L4861.74 336.269 L4857.46 336.269 L4857.46 310.343 L4861.74 310.343 L4861.74 314.371 Q4863.27 312.033 4865.33 310.876 Q4867.42 309.718 4870.12 309.718 Q4874.59 309.718 4876.88 312.496 Q4879.17 315.251 4879.17 320.621 Z\" fill=\"#000000\" fill-rule=\"evenodd\" fill-opacity=\"1\" /><path clip-path=\"url(#clip460)\" d=\"M4924.91 322.241 L4924.91 324.325 L4905.33 324.325 Q4905.61 328.723 4907.97 331.037 Q4910.35 333.329 4914.59 333.329 Q4917.04 333.329 4919.34 332.727 Q4921.65 332.125 4923.92 330.922 L4923.92 334.95 Q4921.63 335.922 4919.22 336.431 Q4916.81 336.94 4914.34 336.94 Q4908.13 336.94 4904.5 333.329 Q4900.89 329.718 4900.89 323.561 Q4900.89 317.195 4904.31 313.468 Q4907.76 309.718 4913.6 309.718 Q4918.83 309.718 4921.86 313.098 Q4924.91 316.454 4924.91 322.241 M4920.66 320.991 Q4920.61 317.496 4918.69 315.413 Q4916.79 313.329 4913.64 313.329 Q4910.08 313.329 4907.92 315.343 Q4905.79 317.357 4905.47 321.014 L4920.66 320.991 Z\" fill=\"#000000\" fill-rule=\"evenodd\" fill-opacity=\"1\" /><path clip-path=\"url(#clip460)\" d=\"M4946.93 314.325 Q4946.21 313.908 4945.35 313.723 Q4944.52 313.514 4943.5 313.514 Q4939.89 313.514 4937.95 315.876 Q4936.03 318.213 4936.03 322.612 L4936.03 336.269 L4931.74 336.269 L4931.74 310.343 L4936.03 310.343 L4936.03 314.371 Q4937.37 312.01 4939.52 310.876 Q4941.67 309.718 4944.75 309.718 Q4945.19 309.718 4945.72 309.788 Q4946.26 309.834 4946.91 309.95 L4946.93 314.325 Z\" fill=\"#000000\" fill-rule=\"evenodd\" fill-opacity=\"1\" /><path clip-path=\"url(#clip460)\" d=\"M4965.59 314.325 Q4964.87 313.908 4964.01 313.723 Q4963.18 313.514 4962.16 313.514 Q4958.55 313.514 4956.6 315.876 Q4954.68 318.213 4954.68 322.612 L4954.68 336.269 L4950.4 336.269 L4950.4 310.343 L4954.68 310.343 L4954.68 314.371 Q4956.03 312.01 4958.18 310.876 Q4960.33 309.718 4963.41 309.718 Q4963.85 309.718 4964.38 309.788 Q4964.91 309.834 4965.56 309.95 L4965.59 314.325 Z\" fill=\"#000000\" fill-rule=\"evenodd\" fill-opacity=\"1\" /><path clip-path=\"url(#clip460)\" d=\"M4979.06 313.329 Q4975.63 313.329 4973.64 316.014 Q4971.65 318.676 4971.65 323.329 Q4971.65 327.982 4973.62 330.667 Q4975.61 333.329 4979.06 333.329 Q4982.46 333.329 4984.45 330.644 Q4986.44 327.959 4986.44 323.329 Q4986.44 318.723 4984.45 316.038 Q4982.46 313.329 4979.06 313.329 M4979.06 309.718 Q4984.61 309.718 4987.78 313.329 Q4990.96 316.94 4990.96 323.329 Q4990.96 329.695 4987.78 333.329 Q4984.61 336.94 4979.06 336.94 Q4973.48 336.94 4970.31 333.329 Q4967.16 329.695 4967.16 323.329 Q4967.16 316.94 4970.31 313.329 Q4973.48 309.718 4979.06 309.718 Z\" fill=\"#000000\" fill-rule=\"evenodd\" fill-opacity=\"1\" /><path clip-path=\"url(#clip460)\" d=\"M5013.04 314.325 Q5012.32 313.908 5011.47 313.723 Q5010.63 313.514 5009.61 313.514 Q5006 313.514 5004.06 315.876 Q5002.14 318.213 5002.14 322.612 L5002.14 336.269 L4997.85 336.269 L4997.85 310.343 L5002.14 310.343 L5002.14 314.371 Q5003.48 312.01 5005.63 310.876 Q5007.78 309.718 5010.86 309.718 Q5011.3 309.718 5011.84 309.788 Q5012.37 309.834 5013.02 309.95 L5013.04 314.325 Z\" fill=\"#000000\" fill-rule=\"evenodd\" fill-opacity=\"1\" /></svg>\n"
      ]
     },
     "execution_count": 25,
     "metadata": {},
     "output_type": "execute_result"
    }
   ],
   "source": [
    "ortho_errs_cgs = Float64[]\n",
    "ortho_errs_qr = Float64[]\n",
    "recon_errs_cgs = Float64[]\n",
    "recon_errs_qr = Float64[]\n",
    "range = π ./ (2:.1:20)\n",
    "for θ in range\n",
    "    M = kahan(10, θ)\n",
    "    ϕ = eps(Float64)\n",
    "    M_p = copy(M[:,:])\n",
    "    rot = [cos(ϕ) sin(ϕ); -sin(ϕ) cos(ϕ)]\n",
    "    M_p[1:2,:] = rot * M[1:2,:]\n",
    "    Q_cgs, R_cgs = qr_classical_gram_schmidt(M_p)\n",
    "    Q, R = qr(M_p)\n",
    "    push!(ortho_errs_cgs, orthonormality_error(Q_cgs))\n",
    "    push!(ortho_errs_qr, orthonormality_error(Q[:,:]))\n",
    "    push!(recon_errs_cgs, reconstruction_error(M_p, Q_cgs, R_cgs))\n",
    "    push!(recon_errs_qr, reconstruction_error(M_p, Q, R))\n",
    "end\n",
    "ymin=Inf\n",
    "ymax=0.\n",
    "for series in [ortho_errs_cgs, ortho_errs_qr, recon_errs_cgs, recon_errs_qr]\n",
    "    series[:] = max.(series[:], 0.001*eps())\n",
    "    ymin = min(ymin, minimum(series))\n",
    "    ymax = max(ymax, maximum(series))\n",
    "end\n",
    "ymin *= 0.5\n",
    "ymax *= 2.0\n",
    "p1 = plot( range .^-1, [ortho_errs_cgs recon_errs_cgs]\n",
    "    , yscale=:log10\n",
    "    , label=[\"orthonormality error\" \"reconstruction error\"]\n",
    "    , xlabel=\"Kahan matrix θ⁻¹\"\n",
    "    , title=\"Classical Gram-Schmidt\"\n",
    "    , size=(1300,800)\n",
    "    , ylim=(ymin,ymax)\n",
    ")\n",
    "p2 = plot( range .^-1, [ortho_errs_qr recon_errs_qr]\n",
    "    , yscale=:log10\n",
    "    , label=[\"orthonormality error\" \"reconstruction error\"]\n",
    "    , xlabel=\"Kahan matrix θ⁻¹\"\n",
    "    , title=\"julia QR\"\n",
    "    , size=(1300,800)\n",
    "    , ylim=(ymin,ymax)\n",
    ")\n",
    "draw(plot(p1,p2,layout=(1,2)))"
   ]
  },
  {
   "cell_type": "markdown",
   "metadata": {
    "slideshow": {
     "slide_type": "slide"
    }
   },
   "source": [
    "## Modified Gram-Schmidt"
   ]
  },
  {
   "cell_type": "markdown",
   "metadata": {
    "slideshow": {
     "slide_type": "subslide"
    }
   },
   "source": [
    "### Consider projecting out two components of a vector\n",
    "\n",
    "Let $\\hat{Q} = [q_1 | q_2]$, and project out the $\\hat{Q}$ component of vector $v$,\n",
    "\n",
    "$$w \\gets (I - \\hat{Q} \\hat{Q}^*)v$$"
   ]
  },
  {
   "cell_type": "markdown",
   "metadata": {
    "slideshow": {
     "slide_type": "fragment"
    }
   },
   "source": [
    "In exact arithmetic, these are equivalent:"
   ]
  },
  {
   "cell_type": "markdown",
   "metadata": {
    "cell_style": "split",
    "slideshow": {
     "slide_type": "-"
    }
   },
   "source": [
    "$$w \\gets (I - \\hat{Q}\\hat{Q}^*) v$$\n",
    "\n",
    "AKA:\n",
    "\n",
    "$$\n",
    "\\begin{aligned}\n",
    "w^{(0)} &\\gets v - q_1 (q_1^* v) \\\\\n",
    "w &\\gets w^{(0)} - q_2 (q_2^* v)\n",
    "\\end{aligned}\n",
    "$$"
   ]
  },
  {
   "cell_type": "markdown",
   "metadata": {
    "cell_style": "split"
   },
   "source": [
    "$$ w \\gets (I - q_2 q_2^*) ((I - q_1 q_1^*) v) $$\n",
    "\n",
    "AKA:\n",
    "\n",
    "$$\n",
    "\\begin{aligned}\n",
    "w^{(0)} &\\gets v - q_1 (q_1^* v)\n",
    "\\\\\n",
    "w &\\gets w^{(0)} - q_2 (q_2^* w^{(0)})\n",
    "\\end{aligned}\n",
    "$$"
   ]
  },
  {
   "cell_type": "markdown",
   "metadata": {
    "slideshow": {
     "slide_type": "subslide"
    }
   },
   "source": [
    "### Floating point rounding error scales like the inputs"
   ]
  },
  {
   "cell_type": "markdown",
   "metadata": {
    "cell_style": "split",
    "slideshow": {
     "slide_type": "-"
    }
   },
   "source": [
    "$$\n",
    "\\begin{aligned}\n",
    "w^{(0)} &\\gets \\underbrace{v - q_1 (q_1^* v)}_{\\delta_1 \\sim \\epsilon \\|v\\|} \\\\\n",
    "w &\\gets \\underbrace{w^{(0)} - q_2 (q_2^* v)}_{\\delta_2 \\sim \\epsilon \\max\\{\\|w^{(0)}\\|,\\|v\\|\\}}\n",
    "\\end{aligned}\n",
    "$$"
   ]
  },
  {
   "cell_type": "markdown",
   "metadata": {
    "cell_style": "split",
    "slideshow": {
     "slide_type": "-"
    }
   },
   "source": [
    "$$\n",
    "\\begin{aligned}\n",
    "w^{(0)} &\\gets \\underbrace{v - q_1 (q_1^* v)}_{\\delta_1 \\sim \\epsilon \\|v\\|} \\\\\n",
    "w &\\gets \\underbrace{w^{(0)} - q_2 (q_2^* w^{(0)})}_{\\delta_2 \\sim \\epsilon \\|w^{(0)}\\|}\n",
    "\\end{aligned}\n",
    "$$"
   ]
  },
  {
   "cell_type": "markdown",
   "metadata": {
    "slideshow": {
     "slide_type": "fragment"
    }
   },
   "source": [
    "- The first approach (calculating every projection coefficient $(q_i^*v)$ with the original vector) accumulates a rounding error $\\sim \\epsilon \\|v\\|$ _for each projection_,\n",
    "$\\sim \\epsilon(\\|v\\| + \\|v\\| + \\|v\\| + \\dots)$."
   ]
  },
  {
   "cell_type": "markdown",
   "metadata": {
    "slideshow": {
     "slide_type": "fragment"
    }
   },
   "source": [
    "- The second approach (calculating $q_j$'s projection coefficient on the result of the previous projections) accumulates rounding errors $\\sim \\epsilon (\\|v\\| + \\|(I-P_1)v\\| + \\|(I-P_{1:2})v\\| + \\dots)$."
   ]
  },
  {
   "cell_type": "markdown",
   "metadata": {
    "slideshow": {
     "slide_type": "fragment"
    }
   },
   "source": [
    "- Orthogonal projection can only make a vector smaller, $\\|v\\| \\geq \\|(I - P_1) v\\| \\geq \\|(I - P_{1:2})v \\| \\geq \\dots$."
   ]
  },
  {
   "cell_type": "markdown",
   "metadata": {
    "slideshow": {
     "slide_type": "subslide"
    }
   },
   "source": [
    "### Exercise: Modified Gram-Schmidt (forward looking)"
   ]
  },
  {
   "cell_type": "markdown",
   "metadata": {
    "cell_style": "split"
   },
   "source": [
    "At step $i$:\n",
    "\n",
    "1. Normalize:\n",
    "\n",
    "$$\n",
    "\\begin{aligned}\n",
    "r_{i,i} &\\gets \\|\\tilde{q}_i\\| \\\\\n",
    "q_j &\\gets \\tilde{q}_i / r_{ii}\n",
    "\\end{aligned}\n",
    "$$\n",
    "\n",
    "2. Project $q_i$ out of all subsequent vectors $j > i$\n",
    "\n",
    "$$\n",
    "\\begin{aligned}\n",
    "r_{i,j} &\\gets q_i^* \\tilde{q}_j \\\\\n",
    "\\tilde{q}_j &\\gets \\tilde{q}_j - r_{i,j} q_i \n",
    "\\end{aligned}\n",
    "$$"
   ]
  },
  {
   "cell_type": "code",
   "execution_count": 26,
   "metadata": {
    "cell_style": "split"
   },
   "outputs": [
    {
     "name": "stdout",
     "output_type": "stream",
     "text": [
      "Reconstruction error || A - Q R ||_F = 4.2395449291160814e-16\n",
      "Orthonormality error || I - Q'Q ||_F = 5.752658323922017e-16\n",
      "Upper-triangularity error || R - triu(R) ||_F = 0.0\n"
     ]
    },
    {
     "data": {
      "text/plain": [
       "true"
      ]
     },
     "execution_count": 26,
     "metadata": {},
     "output_type": "execute_result"
    }
   ],
   "source": [
    "function cg_modified_gram_schmidt(A)\n",
    "    n = size(A)[2]\n",
    "    Q = copy(A)\n",
    "    R = zeros(eltype(A), n, n)\n",
    "    for i in 1:n\n",
    "        # precondition Q[:, i] is orthogonal\n",
    "        R[i,i] = norm(Q[:,i])\n",
    "        Q[:,i] /= R[i,i]\n",
    "        R[i,i+1:end] = Q[:,i]' * Q[:,i+1:end]\n",
    "        Q[:,i+1:end] -= Q[:,[i]] * R[[i],i+1:end]\n",
    "    end\n",
    "    return Q, R\n",
    "end\n",
    "m = 10; n = 5;\n",
    "A = randn(m,n)\n",
    "Q, R = cg_modified_gram_schmidt(A)\n",
    "qr_test(A, Q, R)"
   ]
  },
  {
   "cell_type": "code",
   "execution_count": 27,
   "metadata": {
    "hideCode": true,
    "scrolled": false,
    "slideshow": {
     "slide_type": "subslide"
    }
   },
   "outputs": [
    {
     "data": {
      "image/svg+xml": [
       "<?xml version=\"1.0\" encoding=\"utf-8\"?>\n",
       "<svg xmlns=\"http://www.w3.org/2000/svg\" xmlns:xlink=\"http://www.w3.org/1999/xlink\" width=\"1300\" height=\"800\" viewBox=\"0 0 5200 3200\">\n",
       "<defs>\n",
       "  <clipPath id=\"clip500\">\n",
       "    <rect x=\"0\" y=\"0\" width=\"5200\" height=\"3200\"/>\n",
       "  </clipPath>\n",
       "</defs>\n",
       "<path clip-path=\"url(#clip500)\" d=\"\n",
       "M0 3200 L5200 3200 L5200 0 L0 0  Z\n",
       "  \" fill=\"#ffffff\" fill-rule=\"evenodd\" fill-opacity=\"1\"/>\n",
       "<defs>\n",
       "  <clipPath id=\"clip501\">\n",
       "    <rect x=\"1040\" y=\"0\" width=\"3641\" height=\"3200\"/>\n",
       "  </clipPath>\n",
       "</defs>\n",
       "<path clip-path=\"url(#clip500)\" d=\"\n",
       "M241.607 3013.49 L2552.76 3013.49 L2552.76 118.82 L241.607 118.82  Z\n",
       "  \" fill=\"#ffffff\" fill-rule=\"evenodd\" fill-opacity=\"1\"/>\n",
       "<defs>\n",
       "  <clipPath id=\"clip502\">\n",
       "    <rect x=\"241\" y=\"118\" width=\"2312\" height=\"2896\"/>\n",
       "  </clipPath>\n",
       "</defs>\n",
       "<polyline clip-path=\"url(#clip502)\" style=\"stroke:#000000; stroke-linecap:butt; stroke-linejoin:round; stroke-width:2; stroke-opacity:0.1; fill:none\" points=\"\n",
       "  445.298,3013.49 445.298,118.82 \n",
       "  \"/>\n",
       "<polyline clip-path=\"url(#clip502)\" style=\"stroke:#000000; stroke-linecap:butt; stroke-linejoin:round; stroke-width:2; stroke-opacity:0.1; fill:none\" points=\"\n",
       "  825.837,3013.49 825.837,118.82 \n",
       "  \"/>\n",
       "<polyline clip-path=\"url(#clip502)\" style=\"stroke:#000000; stroke-linecap:butt; stroke-linejoin:round; stroke-width:2; stroke-opacity:0.1; fill:none\" points=\"\n",
       "  1206.38,3013.49 1206.38,118.82 \n",
       "  \"/>\n",
       "<polyline clip-path=\"url(#clip502)\" style=\"stroke:#000000; stroke-linecap:butt; stroke-linejoin:round; stroke-width:2; stroke-opacity:0.1; fill:none\" points=\"\n",
       "  1586.92,3013.49 1586.92,118.82 \n",
       "  \"/>\n",
       "<polyline clip-path=\"url(#clip502)\" style=\"stroke:#000000; stroke-linecap:butt; stroke-linejoin:round; stroke-width:2; stroke-opacity:0.1; fill:none\" points=\"\n",
       "  1967.45,3013.49 1967.45,118.82 \n",
       "  \"/>\n",
       "<polyline clip-path=\"url(#clip502)\" style=\"stroke:#000000; stroke-linecap:butt; stroke-linejoin:round; stroke-width:2; stroke-opacity:0.1; fill:none\" points=\"\n",
       "  2347.99,3013.49 2347.99,118.82 \n",
       "  \"/>\n",
       "<polyline clip-path=\"url(#clip500)\" style=\"stroke:#000000; stroke-linecap:butt; stroke-linejoin:round; stroke-width:4; stroke-opacity:1; fill:none\" points=\"\n",
       "  241.607,3013.49 2552.76,3013.49 \n",
       "  \"/>\n",
       "<polyline clip-path=\"url(#clip500)\" style=\"stroke:#000000; stroke-linecap:butt; stroke-linejoin:round; stroke-width:4; stroke-opacity:1; fill:none\" points=\"\n",
       "  445.298,3013.49 445.298,2994.6 \n",
       "  \"/>\n",
       "<polyline clip-path=\"url(#clip500)\" style=\"stroke:#000000; stroke-linecap:butt; stroke-linejoin:round; stroke-width:4; stroke-opacity:1; fill:none\" points=\"\n",
       "  825.837,3013.49 825.837,2994.6 \n",
       "  \"/>\n",
       "<polyline clip-path=\"url(#clip500)\" style=\"stroke:#000000; stroke-linecap:butt; stroke-linejoin:round; stroke-width:4; stroke-opacity:1; fill:none\" points=\"\n",
       "  1206.38,3013.49 1206.38,2994.6 \n",
       "  \"/>\n",
       "<polyline clip-path=\"url(#clip500)\" style=\"stroke:#000000; stroke-linecap:butt; stroke-linejoin:round; stroke-width:4; stroke-opacity:1; fill:none\" points=\"\n",
       "  1586.92,3013.49 1586.92,2994.6 \n",
       "  \"/>\n",
       "<polyline clip-path=\"url(#clip500)\" style=\"stroke:#000000; stroke-linecap:butt; stroke-linejoin:round; stroke-width:4; stroke-opacity:1; fill:none\" points=\"\n",
       "  1967.45,3013.49 1967.45,2994.6 \n",
       "  \"/>\n",
       "<polyline clip-path=\"url(#clip500)\" style=\"stroke:#000000; stroke-linecap:butt; stroke-linejoin:round; stroke-width:4; stroke-opacity:1; fill:none\" points=\"\n",
       "  2347.99,3013.49 2347.99,2994.6 \n",
       "  \"/>\n",
       "<path clip-path=\"url(#clip500)\" d=\"M435.68 3094.36 L443.319 3094.36 L443.319 3067.99 L435.008 3069.66 L435.008 3065.4 L443.272 3063.73 L447.948 3063.73 L447.948 3094.36 L455.587 3094.36 L455.587 3098.29 L435.68 3098.29 L435.68 3094.36 Z\" fill=\"#000000\" fill-rule=\"evenodd\" fill-opacity=\"1\" /><path clip-path=\"url(#clip500)\" d=\"M820.49 3094.36 L836.809 3094.36 L836.809 3098.29 L814.865 3098.29 L814.865 3094.36 Q817.527 3091.6 822.11 3086.97 Q826.717 3082.32 827.897 3080.98 Q830.142 3078.46 831.022 3076.72 Q831.925 3074.96 831.925 3073.27 Q831.925 3070.52 829.98 3068.78 Q828.059 3067.04 824.957 3067.04 Q822.758 3067.04 820.305 3067.81 Q817.874 3068.57 815.096 3070.12 L815.096 3065.4 Q817.92 3064.27 820.374 3063.69 Q822.828 3063.11 824.865 3063.11 Q830.235 3063.11 833.429 3065.79 Q836.624 3068.48 836.624 3072.97 Q836.624 3075.1 835.814 3077.02 Q835.027 3078.92 832.92 3081.51 Q832.341 3082.18 829.24 3085.4 Q826.138 3088.59 820.49 3094.36 Z\" fill=\"#000000\" fill-rule=\"evenodd\" fill-opacity=\"1\" /><path clip-path=\"url(#clip500)\" d=\"M1210.62 3079.66 Q1213.98 3080.38 1215.86 3082.65 Q1217.75 3084.91 1217.75 3088.25 Q1217.75 3093.36 1214.23 3096.16 Q1210.72 3098.96 1204.23 3098.96 Q1202.06 3098.96 1199.74 3098.53 Q1197.45 3098.11 1195 3097.25 L1195 3092.74 Q1196.94 3093.87 1199.26 3094.45 Q1201.57 3095.03 1204.1 3095.03 Q1208.49 3095.03 1210.79 3093.29 Q1213.1 3091.56 1213.1 3088.25 Q1213.1 3085.19 1210.95 3083.48 Q1208.82 3081.74 1205 3081.74 L1200.97 3081.74 L1200.97 3077.9 L1205.18 3077.9 Q1208.63 3077.9 1210.46 3076.53 Q1212.29 3075.15 1212.29 3072.55 Q1212.29 3069.89 1210.39 3068.48 Q1208.52 3067.04 1205 3067.04 Q1203.08 3067.04 1200.88 3067.46 Q1198.68 3067.88 1196.04 3068.76 L1196.04 3064.59 Q1198.7 3063.85 1201.02 3063.48 Q1203.36 3063.11 1205.42 3063.11 Q1210.74 3063.11 1213.84 3065.54 Q1216.94 3067.95 1216.94 3072.07 Q1216.94 3074.94 1215.3 3076.93 Q1213.66 3078.9 1210.62 3079.66 Z\" fill=\"#000000\" fill-rule=\"evenodd\" fill-opacity=\"1\" /><path clip-path=\"url(#clip500)\" d=\"M1589.92 3067.81 L1578.12 3086.26 L1589.92 3086.26 L1589.92 3067.81 M1588.7 3063.73 L1594.58 3063.73 L1594.58 3086.26 L1599.51 3086.26 L1599.51 3090.15 L1594.58 3090.15 L1594.58 3098.29 L1589.92 3098.29 L1589.92 3090.15 L1574.32 3090.15 L1574.32 3085.63 L1588.7 3063.73 Z\" fill=\"#000000\" fill-rule=\"evenodd\" fill-opacity=\"1\" /><path clip-path=\"url(#clip500)\" d=\"M1957.73 3063.73 L1976.09 3063.73 L1976.09 3067.67 L1962.01 3067.67 L1962.01 3076.14 Q1963.03 3075.79 1964.05 3075.63 Q1965.07 3075.45 1966.09 3075.45 Q1971.88 3075.45 1975.26 3078.62 Q1978.63 3081.79 1978.63 3087.21 Q1978.63 3092.78 1975.16 3095.89 Q1971.69 3098.96 1965.37 3098.96 Q1963.2 3098.96 1960.93 3098.59 Q1958.68 3098.22 1956.27 3097.48 L1956.27 3092.78 Q1958.36 3093.92 1960.58 3094.47 Q1962.8 3095.03 1965.28 3095.03 Q1969.28 3095.03 1971.62 3092.92 Q1973.96 3090.82 1973.96 3087.21 Q1973.96 3083.59 1971.62 3081.49 Q1969.28 3079.38 1965.28 3079.38 Q1963.4 3079.38 1961.53 3079.8 Q1959.68 3080.22 1957.73 3081.09 L1957.73 3063.73 Z\" fill=\"#000000\" fill-rule=\"evenodd\" fill-opacity=\"1\" /><path clip-path=\"url(#clip500)\" d=\"M2348.4 3079.15 Q2345.25 3079.15 2343.4 3081.3 Q2341.57 3083.46 2341.57 3087.21 Q2341.57 3090.93 2343.4 3093.11 Q2345.25 3095.26 2348.4 3095.26 Q2351.55 3095.26 2353.38 3093.11 Q2355.23 3090.93 2355.23 3087.21 Q2355.23 3083.46 2353.38 3081.3 Q2351.55 3079.15 2348.4 3079.15 M2357.68 3064.5 L2357.68 3068.76 Q2355.92 3067.92 2354.12 3067.48 Q2352.33 3067.04 2350.57 3067.04 Q2345.94 3067.04 2343.49 3070.17 Q2341.06 3073.29 2340.71 3079.61 Q2342.08 3077.6 2344.14 3076.53 Q2346.2 3075.45 2348.68 3075.45 Q2353.88 3075.45 2356.89 3078.62 Q2359.93 3081.77 2359.93 3087.21 Q2359.93 3092.53 2356.78 3095.75 Q2353.63 3098.96 2348.4 3098.96 Q2342.4 3098.96 2339.23 3094.38 Q2336.06 3089.78 2336.06 3081.05 Q2336.06 3072.85 2339.95 3067.99 Q2343.84 3063.11 2350.39 3063.11 Q2352.15 3063.11 2353.93 3063.46 Q2355.74 3063.8 2357.68 3064.5 Z\" fill=\"#000000\" fill-rule=\"evenodd\" fill-opacity=\"1\" /><path clip-path=\"url(#clip500)\" d=\"M1122.93 3152.84 L1129.36 3152.84 L1129.36 3172.92 L1150.69 3152.84 L1158.96 3152.84 L1135.38 3174.99 L1160.65 3200.36 L1152.18 3200.36 L1129.36 3177.47 L1129.36 3200.36 L1122.93 3200.36 L1122.93 3152.84 Z\" fill=\"#000000\" fill-rule=\"evenodd\" fill-opacity=\"1\" /><path clip-path=\"url(#clip500)\" d=\"M1180.48 3182.44 Q1173.38 3182.44 1170.64 3184.06 Q1167.9 3185.68 1167.9 3189.6 Q1167.9 3192.72 1169.94 3194.56 Q1172.01 3196.38 1175.54 3196.38 Q1180.41 3196.38 1183.34 3192.94 Q1186.3 3189.47 1186.3 3183.74 L1186.3 3182.44 L1180.48 3182.44 M1192.16 3180.02 L1192.16 3200.36 L1186.3 3200.36 L1186.3 3194.95 Q1184.3 3198.19 1181.3 3199.75 Q1178.31 3201.28 1173.98 3201.28 Q1168.51 3201.28 1165.26 3198.23 Q1162.05 3195.14 1162.05 3189.98 Q1162.05 3183.97 1166.06 3180.91 Q1170.1 3177.85 1178.09 3177.85 L1186.3 3177.85 L1186.3 3177.28 Q1186.3 3173.24 1183.63 3171.04 Q1180.99 3168.82 1176.18 3168.82 Q1173.12 3168.82 1170.23 3169.55 Q1167.33 3170.28 1164.66 3171.74 L1164.66 3166.33 Q1167.87 3165.09 1170.9 3164.49 Q1173.92 3163.85 1176.79 3163.85 Q1184.52 3163.85 1188.34 3167.86 Q1192.16 3171.87 1192.16 3180.02 Z\" fill=\"#000000\" fill-rule=\"evenodd\" fill-opacity=\"1\" /><path clip-path=\"url(#clip500)\" d=\"M1233.85 3178.84 L1233.85 3200.36 L1228 3200.36 L1228 3179.03 Q1228 3173.97 1226.02 3171.46 Q1224.05 3168.94 1220.1 3168.94 Q1215.36 3168.94 1212.62 3171.97 Q1209.89 3174.99 1209.89 3180.21 L1209.89 3200.36 L1204 3200.36 L1204 3150.83 L1209.89 3150.83 L1209.89 3170.25 Q1211.99 3167.03 1214.82 3165.44 Q1217.68 3163.85 1221.41 3163.85 Q1227.55 3163.85 1230.7 3167.67 Q1233.85 3171.46 1233.85 3178.84 Z\" fill=\"#000000\" fill-rule=\"evenodd\" fill-opacity=\"1\" /><path clip-path=\"url(#clip500)\" d=\"M1261.74 3182.44 Q1254.64 3182.44 1251.9 3184.06 Q1249.16 3185.68 1249.16 3189.6 Q1249.16 3192.72 1251.2 3194.56 Q1253.27 3196.38 1256.8 3196.38 Q1261.67 3196.38 1264.6 3192.94 Q1267.56 3189.47 1267.56 3183.74 L1267.56 3182.44 L1261.74 3182.44 M1273.42 3180.02 L1273.42 3200.36 L1267.56 3200.36 L1267.56 3194.95 Q1265.55 3198.19 1262.56 3199.75 Q1259.57 3201.28 1255.24 3201.28 Q1249.77 3201.28 1246.52 3198.23 Q1243.31 3195.14 1243.31 3189.98 Q1243.31 3183.97 1247.32 3180.91 Q1251.36 3177.85 1259.35 3177.85 L1267.56 3177.85 L1267.56 3177.28 Q1267.56 3173.24 1264.89 3171.04 Q1262.24 3168.82 1257.44 3168.82 Q1254.38 3168.82 1251.49 3169.55 Q1248.59 3170.28 1245.92 3171.74 L1245.92 3166.33 Q1249.13 3165.09 1252.15 3164.49 Q1255.18 3163.85 1258.04 3163.85 Q1265.78 3163.85 1269.6 3167.86 Q1273.42 3171.87 1273.42 3180.02 Z\" fill=\"#000000\" fill-rule=\"evenodd\" fill-opacity=\"1\" /><path clip-path=\"url(#clip500)\" d=\"M1315.11 3178.84 L1315.11 3200.36 L1309.26 3200.36 L1309.26 3179.03 Q1309.26 3173.97 1307.28 3171.46 Q1305.31 3168.94 1301.36 3168.94 Q1296.62 3168.94 1293.88 3171.97 Q1291.14 3174.99 1291.14 3180.21 L1291.14 3200.36 L1285.26 3200.36 L1285.26 3164.71 L1291.14 3164.71 L1291.14 3170.25 Q1293.25 3167.03 1296.08 3165.44 Q1298.94 3163.85 1302.67 3163.85 Q1308.81 3163.85 1311.96 3167.67 Q1315.11 3171.46 1315.11 3178.84 Z\" fill=\"#000000\" fill-rule=\"evenodd\" fill-opacity=\"1\" /><path clip-path=\"url(#clip500)\" d=\"M1375.27 3171.55 Q1377.46 3167.61 1380.52 3165.73 Q1383.57 3163.85 1387.71 3163.85 Q1393.28 3163.85 1396.31 3167.77 Q1399.33 3171.65 1399.33 3178.84 L1399.33 3200.36 L1393.44 3200.36 L1393.44 3179.03 Q1393.44 3173.91 1391.63 3171.43 Q1389.81 3168.94 1386.09 3168.94 Q1381.54 3168.94 1378.9 3171.97 Q1376.25 3174.99 1376.25 3180.21 L1376.25 3200.36 L1370.37 3200.36 L1370.37 3179.03 Q1370.37 3173.88 1368.55 3171.43 Q1366.74 3168.94 1362.95 3168.94 Q1358.46 3168.94 1355.82 3172 Q1353.18 3175.02 1353.18 3180.21 L1353.18 3200.36 L1347.29 3200.36 L1347.29 3164.71 L1353.18 3164.71 L1353.18 3170.25 Q1355.18 3166.97 1357.98 3165.41 Q1360.79 3163.85 1364.64 3163.85 Q1368.52 3163.85 1371.23 3165.82 Q1373.96 3167.8 1375.27 3171.55 Z\" fill=\"#000000\" fill-rule=\"evenodd\" fill-opacity=\"1\" /><path clip-path=\"url(#clip500)\" d=\"M1427.21 3182.44 Q1420.11 3182.44 1417.38 3184.06 Q1414.64 3185.68 1414.64 3189.6 Q1414.64 3192.72 1416.68 3194.56 Q1418.75 3196.38 1422.28 3196.38 Q1427.15 3196.38 1430.08 3192.94 Q1433.04 3189.47 1433.04 3183.74 L1433.04 3182.44 L1427.21 3182.44 M1438.89 3180.02 L1438.89 3200.36 L1433.04 3200.36 L1433.04 3194.95 Q1431.03 3198.19 1428.04 3199.75 Q1425.05 3201.28 1420.72 3201.28 Q1415.24 3201.28 1412 3198.23 Q1408.78 3195.14 1408.78 3189.98 Q1408.78 3183.97 1412.79 3180.91 Q1416.84 3177.85 1424.82 3177.85 L1433.04 3177.85 L1433.04 3177.28 Q1433.04 3173.24 1430.36 3171.04 Q1427.72 3168.82 1422.92 3168.82 Q1419.86 3168.82 1416.96 3169.55 Q1414.07 3170.28 1411.39 3171.74 L1411.39 3166.33 Q1414.61 3165.09 1417.63 3164.49 Q1420.66 3163.85 1423.52 3163.85 Q1431.25 3163.85 1435.07 3167.86 Q1438.89 3171.87 1438.89 3180.02 Z\" fill=\"#000000\" fill-rule=\"evenodd\" fill-opacity=\"1\" /><path clip-path=\"url(#clip500)\" d=\"M1456.75 3154.59 L1456.75 3164.71 L1468.81 3164.71 L1468.81 3169.26 L1456.75 3169.26 L1456.75 3188.61 Q1456.75 3192.97 1457.93 3194.21 Q1459.14 3195.46 1462.8 3195.46 L1468.81 3195.46 L1468.81 3200.36 L1462.8 3200.36 Q1456.02 3200.36 1453.44 3197.84 Q1450.86 3195.3 1450.86 3188.61 L1450.86 3169.26 L1446.56 3169.26 L1446.56 3164.71 L1450.86 3164.71 L1450.86 3154.59 L1456.75 3154.59 Z\" fill=\"#000000\" fill-rule=\"evenodd\" fill-opacity=\"1\" /><path clip-path=\"url(#clip500)\" d=\"M1497.17 3170.18 Q1496.18 3169.61 1495.01 3169.36 Q1493.86 3169.07 1492.46 3169.07 Q1487.5 3169.07 1484.82 3172.32 Q1482.18 3175.53 1482.18 3181.58 L1482.18 3200.36 L1476.29 3200.36 L1476.29 3164.71 L1482.18 3164.71 L1482.18 3170.25 Q1484.03 3167 1486.99 3165.44 Q1489.95 3163.85 1494.18 3163.85 Q1494.78 3163.85 1495.52 3163.95 Q1496.25 3164.01 1497.14 3164.17 L1497.17 3170.18 Z\" fill=\"#000000\" fill-rule=\"evenodd\" fill-opacity=\"1\" /><path clip-path=\"url(#clip500)\" d=\"M1503.31 3164.71 L1509.17 3164.71 L1509.17 3200.36 L1503.31 3200.36 L1503.31 3164.71 M1503.31 3150.83 L1509.17 3150.83 L1509.17 3158.25 L1503.31 3158.25 L1503.31 3150.83 Z\" fill=\"#000000\" fill-rule=\"evenodd\" fill-opacity=\"1\" /><path clip-path=\"url(#clip500)\" d=\"M1551.06 3164.71 L1538.17 3182.06 L1551.73 3200.36 L1544.82 3200.36 L1534.44 3186.35 L1524.07 3200.36 L1517.16 3200.36 L1531 3181.71 L1518.34 3164.71 L1525.24 3164.71 L1534.7 3177.41 L1544.15 3164.71 L1551.06 3164.71 Z\" fill=\"#000000\" fill-rule=\"evenodd\" fill-opacity=\"1\" /><path clip-path=\"url(#clip500)\" d=\"M1604.66 3177.76 L1584.38 3177.76 Q1584.86 3187.28 1587.05 3191.32 Q1589.79 3196.28 1594.53 3196.28 Q1599.31 3196.28 1601.95 3191.29 Q1604.27 3186.89 1604.66 3177.76 M1604.56 3172.35 Q1603.67 3163.31 1601.95 3160.13 Q1599.21 3155.1 1594.53 3155.1 Q1589.66 3155.1 1587.09 3160.06 Q1585.05 3164.07 1584.44 3172.35 L1604.56 3172.35 M1594.53 3150.32 Q1602.17 3150.32 1606.53 3157.07 Q1610.89 3163.79 1610.89 3175.69 Q1610.89 3187.56 1606.53 3194.31 Q1602.17 3201.09 1594.53 3201.09 Q1586.86 3201.09 1582.54 3194.31 Q1578.17 3187.56 1578.17 3175.69 Q1578.17 3163.79 1582.54 3157.07 Q1586.86 3150.32 1594.53 3150.32 Z\" fill=\"#000000\" fill-rule=\"evenodd\" fill-opacity=\"1\" /><path clip-path=\"url(#clip500)\" d=\"M1618.82 3166.14 L1644.51 3166.14 L1644.51 3169.17 L1618.82 3169.17 L1618.82 3166.14 Z\" fill=\"#000000\" fill-rule=\"evenodd\" fill-opacity=\"1\" /><path clip-path=\"url(#clip500)\" d=\"M1653.83 3175.6 L1660.32 3175.6 L1660.32 3156.15 L1653.23 3157.45 L1653.23 3153.76 L1660.55 3152.52 L1664.91 3152.52 L1664.91 3175.6 L1671.43 3175.6 L1671.43 3179.1 L1653.83 3179.1 L1653.83 3175.6 Z\" fill=\"#000000\" fill-rule=\"evenodd\" fill-opacity=\"1\" /><polyline clip-path=\"url(#clip502)\" style=\"stroke:#000000; stroke-linecap:butt; stroke-linejoin:round; stroke-width:2; stroke-opacity:0.1; fill:none\" points=\"\n",
       "  241.607,1669.83 2552.76,1669.83 \n",
       "  \"/>\n",
       "<polyline clip-path=\"url(#clip502)\" style=\"stroke:#000000; stroke-linecap:butt; stroke-linejoin:round; stroke-width:2; stroke-opacity:0.1; fill:none\" points=\"\n",
       "  241.607,169.29 2552.76,169.29 \n",
       "  \"/>\n",
       "<polyline clip-path=\"url(#clip500)\" style=\"stroke:#000000; stroke-linecap:butt; stroke-linejoin:round; stroke-width:4; stroke-opacity:1; fill:none\" points=\"\n",
       "  241.607,3013.49 241.607,118.82 \n",
       "  \"/>\n",
       "<polyline clip-path=\"url(#clip500)\" style=\"stroke:#000000; stroke-linecap:butt; stroke-linejoin:round; stroke-width:4; stroke-opacity:1; fill:none\" points=\"\n",
       "  241.607,1669.83 260.505,1669.83 \n",
       "  \"/>\n",
       "<polyline clip-path=\"url(#clip500)\" style=\"stroke:#000000; stroke-linecap:butt; stroke-linejoin:round; stroke-width:4; stroke-opacity:1; fill:none\" points=\"\n",
       "  241.607,169.29 260.505,169.29 \n",
       "  \"/>\n",
       "<path clip-path=\"url(#clip500)\" d=\"M37.6634 1689.62 L45.3023 1689.62 L45.3023 1663.25 L36.9921 1664.92 L36.9921 1660.66 L45.256 1658.99 L49.9319 1658.99 L49.9319 1689.62 L57.5707 1689.62 L57.5707 1693.55 L37.6634 1693.55 L37.6634 1689.62 Z\" fill=\"#000000\" fill-rule=\"evenodd\" fill-opacity=\"1\" /><path clip-path=\"url(#clip500)\" d=\"M77.0151 1662.07 Q73.404 1662.07 71.5753 1665.64 Q69.7697 1669.18 69.7697 1676.31 Q69.7697 1683.41 71.5753 1686.98 Q73.404 1690.52 77.0151 1690.52 Q80.6493 1690.52 82.4548 1686.98 Q84.2835 1683.41 84.2835 1676.31 Q84.2835 1669.18 82.4548 1665.64 Q80.6493 1662.07 77.0151 1662.07 M77.0151 1658.37 Q82.8252 1658.37 85.8808 1662.97 Q88.9594 1667.56 88.9594 1676.31 Q88.9594 1685.03 85.8808 1689.64 Q82.8252 1694.22 77.0151 1694.22 Q71.2049 1694.22 68.1262 1689.64 Q65.0707 1685.03 65.0707 1676.31 Q65.0707 1667.56 68.1262 1662.97 Q71.2049 1658.37 77.0151 1658.37 Z\" fill=\"#000000\" fill-rule=\"evenodd\" fill-opacity=\"1\" /><path clip-path=\"url(#clip500)\" d=\"M88.9594 1652.47 L113.071 1652.47 L113.071 1655.67 L88.9594 1655.67 L88.9594 1652.47 Z\" fill=\"#000000\" fill-rule=\"evenodd\" fill-opacity=\"1\" /><path clip-path=\"url(#clip500)\" d=\"M121.929 1662.95 L128.136 1662.95 L128.136 1641.52 L121.384 1642.88 L121.384 1639.42 L128.098 1638.06 L131.898 1638.06 L131.898 1662.95 L138.104 1662.95 L138.104 1666.14 L121.929 1666.14 L121.929 1662.95 Z\" fill=\"#000000\" fill-rule=\"evenodd\" fill-opacity=\"1\" /><path clip-path=\"url(#clip500)\" d=\"M153.903 1640.56 Q150.969 1640.56 149.483 1643.46 Q148.016 1646.34 148.016 1652.13 Q148.016 1657.9 149.483 1660.8 Q150.969 1663.68 153.903 1663.68 Q156.855 1663.68 158.322 1660.8 Q159.808 1657.9 159.808 1652.13 Q159.808 1646.34 158.322 1643.46 Q156.855 1640.56 153.903 1640.56 M153.903 1637.55 Q158.623 1637.55 161.106 1641.3 Q163.607 1645.02 163.607 1652.13 Q163.607 1659.22 161.106 1662.96 Q158.623 1666.69 153.903 1666.69 Q149.182 1666.69 146.68 1662.96 Q144.198 1659.22 144.198 1652.13 Q144.198 1645.02 146.68 1641.3 Q149.182 1637.55 153.903 1637.55 Z\" fill=\"#000000\" fill-rule=\"evenodd\" fill-opacity=\"1\" /><path clip-path=\"url(#clip500)\" d=\"M92.9018 189.082 L100.541 189.082 L100.541 162.717 L92.2305 164.383 L92.2305 160.124 L100.494 158.457 L105.17 158.457 L105.17 189.082 L112.809 189.082 L112.809 193.017 L92.9018 193.017 L92.9018 189.082 Z\" fill=\"#000000\" fill-rule=\"evenodd\" fill-opacity=\"1\" /><path clip-path=\"url(#clip500)\" d=\"M132.253 161.536 Q128.642 161.536 126.814 165.101 Q125.008 168.643 125.008 175.772 Q125.008 182.879 126.814 186.443 Q128.642 189.985 132.253 189.985 Q135.888 189.985 137.693 186.443 Q139.522 182.879 139.522 175.772 Q139.522 168.643 137.693 165.101 Q135.888 161.536 132.253 161.536 M132.253 157.832 Q138.064 157.832 141.119 162.439 Q144.198 167.022 144.198 175.772 Q144.198 184.499 141.119 189.105 Q138.064 193.689 132.253 193.689 Q126.443 193.689 123.365 189.105 Q120.309 184.499 120.309 175.772 Q120.309 167.022 123.365 162.439 Q126.443 157.832 132.253 157.832 Z\" fill=\"#000000\" fill-rule=\"evenodd\" fill-opacity=\"1\" /><path clip-path=\"url(#clip500)\" d=\"M153.903 140.028 Q150.969 140.028 149.483 142.925 Q148.016 145.802 148.016 151.595 Q148.016 157.369 149.483 160.266 Q150.969 163.143 153.903 163.143 Q156.855 163.143 158.322 160.266 Q159.808 157.369 159.808 151.595 Q159.808 145.802 158.322 142.925 Q156.855 140.028 153.903 140.028 M153.903 137.019 Q158.623 137.019 161.106 140.762 Q163.607 144.486 163.607 151.595 Q163.607 158.686 161.106 162.428 Q158.623 166.152 153.903 166.152 Q149.182 166.152 146.68 162.428 Q144.198 158.686 144.198 151.595 Q144.198 144.486 146.68 140.762 Q149.182 137.019 153.903 137.019 Z\" fill=\"#000000\" fill-rule=\"evenodd\" fill-opacity=\"1\" /><path clip-path=\"url(#clip500)\" d=\"M955.734 16.7545 L955.734 25.383 Q951.602 21.5346 946.903 19.6307 Q942.245 17.7268 936.979 17.7268 Q926.608 17.7268 921.099 24.0867 Q915.59 30.4061 915.59 42.3968 Q915.59 54.3469 921.099 60.7069 Q926.608 67.0263 936.979 67.0263 Q942.245 67.0263 946.903 65.1223 Q951.602 63.2184 955.734 59.3701 L955.734 67.9175 Q951.44 70.8341 946.62 72.2924 Q941.84 73.7508 936.493 73.7508 Q922.76 73.7508 914.861 65.3654 Q906.962 56.9395 906.962 42.3968 Q906.962 27.8135 914.861 19.4281 Q922.76 11.0023 936.493 11.0023 Q941.921 11.0023 946.701 12.4606 Q951.521 13.8784 955.734 16.7545 Z\" fill=\"#000000\" fill-rule=\"evenodd\" fill-opacity=\"1\" /><path clip-path=\"url(#clip500)\" d=\"M968.049 9.54393 L975.503 9.54393 L975.503 72.576 L968.049 72.576 L968.049 9.54393 Z\" fill=\"#000000\" fill-rule=\"evenodd\" fill-opacity=\"1\" /><path clip-path=\"url(#clip500)\" d=\"M1011.72 49.7694 Q1002.68 49.7694 999.201 51.8354 Q995.717 53.9013 995.717 58.8839 Q995.717 62.8538 998.309 65.2034 Q1000.94 67.5124 1005.44 67.5124 Q1011.64 67.5124 1015.36 63.1374 Q1019.13 58.7219 1019.13 51.4303 L1019.13 49.7694 L1011.72 49.7694 M1026.58 46.6907 L1026.58 72.576 L1019.13 72.576 L1019.13 65.6895 Q1016.58 69.8214 1012.77 71.8063 Q1008.96 73.7508 1003.45 73.7508 Q996.487 73.7508 992.355 69.8619 Q988.263 65.9325 988.263 59.3701 Q988.263 51.7138 993.367 47.825 Q998.512 43.9361 1008.68 43.9361 L1019.13 43.9361 L1019.13 43.2069 Q1019.13 38.0623 1015.73 35.2672 Q1012.37 32.4315 1006.25 32.4315 Q1002.36 32.4315 998.674 33.3632 Q994.988 34.295 991.585 36.1584 L991.585 29.2718 Q995.676 27.692 999.525 26.9223 Q1003.37 26.1121 1007.02 26.1121 Q1016.86 26.1121 1021.72 31.2163 Q1026.58 36.3204 1026.58 46.6907 Z\" fill=\"#000000\" fill-rule=\"evenodd\" fill-opacity=\"1\" /><path clip-path=\"url(#clip500)\" d=\"M1070.86 28.5427 L1070.86 35.5912 Q1067.7 33.9709 1064.3 33.1607 Q1060.9 32.3505 1057.25 32.3505 Q1051.7 32.3505 1048.91 34.0519 Q1046.15 35.7533 1046.15 39.156 Q1046.15 41.7486 1048.14 43.2475 Q1050.12 44.7058 1056.12 46.0426 L1058.67 46.6097 Q1066.61 48.3111 1069.93 51.4303 Q1073.29 54.509 1073.29 60.0587 Q1073.29 66.3781 1068.27 70.0644 Q1063.29 73.7508 1054.54 73.7508 Q1050.89 73.7508 1046.92 73.0216 Q1042.99 72.3329 1038.62 70.9151 L1038.62 63.2184 Q1042.75 65.3654 1046.76 66.4591 Q1050.77 67.5124 1054.7 67.5124 Q1059.96 67.5124 1062.8 65.73 Q1065.64 63.9071 1065.64 60.6258 Q1065.64 57.5877 1063.57 55.9673 Q1061.54 54.3469 1054.62 52.8481 L1052.02 52.2405 Q1045.1 50.7821 1042.02 47.7845 Q1038.94 44.7463 1038.94 39.4801 Q1038.94 33.0797 1043.48 29.5959 Q1048.01 26.1121 1056.36 26.1121 Q1060.49 26.1121 1064.14 26.7198 Q1067.78 27.3274 1070.86 28.5427 Z\" fill=\"#000000\" fill-rule=\"evenodd\" fill-opacity=\"1\" /><path clip-path=\"url(#clip500)\" d=\"M1114.08 28.5427 L1114.08 35.5912 Q1110.92 33.9709 1107.52 33.1607 Q1104.12 32.3505 1100.47 32.3505 Q1094.92 32.3505 1092.13 34.0519 Q1089.37 35.7533 1089.37 39.156 Q1089.37 41.7486 1091.36 43.2475 Q1093.34 44.7058 1099.34 46.0426 L1101.89 46.6097 Q1109.83 48.3111 1113.15 51.4303 Q1116.51 54.509 1116.51 60.0587 Q1116.51 66.3781 1111.49 70.0644 Q1106.51 73.7508 1097.76 73.7508 Q1094.11 73.7508 1090.14 73.0216 Q1086.21 72.3329 1081.84 70.9151 L1081.84 63.2184 Q1085.97 65.3654 1089.98 66.4591 Q1093.99 67.5124 1097.92 67.5124 Q1103.19 67.5124 1106.02 65.73 Q1108.86 63.9071 1108.86 60.6258 Q1108.86 57.5877 1106.79 55.9673 Q1104.77 54.3469 1097.84 52.8481 L1095.25 52.2405 Q1088.32 50.7821 1085.24 47.7845 Q1082.16 44.7463 1082.16 39.4801 Q1082.16 33.0797 1086.7 29.5959 Q1091.24 26.1121 1099.58 26.1121 Q1103.71 26.1121 1107.36 26.7198 Q1111.01 27.3274 1114.08 28.5427 Z\" fill=\"#000000\" fill-rule=\"evenodd\" fill-opacity=\"1\" /><path clip-path=\"url(#clip500)\" d=\"M1128.38 27.2059 L1135.84 27.2059 L1135.84 72.576 L1128.38 72.576 L1128.38 27.2059 M1128.38 9.54393 L1135.84 9.54393 L1135.84 18.9825 L1128.38 18.9825 L1128.38 9.54393 Z\" fill=\"#000000\" fill-rule=\"evenodd\" fill-opacity=\"1\" /><path clip-path=\"url(#clip500)\" d=\"M1184.08 28.9478 L1184.08 35.9153 Q1180.92 34.1734 1177.72 33.3227 Q1174.56 32.4315 1171.32 32.4315 Q1164.07 32.4315 1160.06 37.0496 Q1156.05 41.6271 1156.05 49.9314 Q1156.05 58.2358 1160.06 62.8538 Q1164.07 67.4314 1171.32 67.4314 Q1174.56 67.4314 1177.72 66.5807 Q1180.92 65.6895 1184.08 63.9476 L1184.08 70.8341 Q1180.96 72.2924 1177.6 73.0216 Q1174.28 73.7508 1170.51 73.7508 Q1160.26 73.7508 1154.23 67.3098 Q1148.19 60.8689 1148.19 49.9314 Q1148.19 38.832 1154.27 32.472 Q1160.39 26.1121 1171 26.1121 Q1174.44 26.1121 1177.72 26.8413 Q1181.01 27.5299 1184.08 28.9478 Z\" fill=\"#000000\" fill-rule=\"evenodd\" fill-opacity=\"1\" /><path clip-path=\"url(#clip500)\" d=\"M1217.67 49.7694 Q1208.63 49.7694 1205.15 51.8354 Q1201.66 53.9013 1201.66 58.8839 Q1201.66 62.8538 1204.26 65.2034 Q1206.89 67.5124 1211.39 67.5124 Q1217.58 67.5124 1221.31 63.1374 Q1225.08 58.7219 1225.08 51.4303 L1225.08 49.7694 L1217.67 49.7694 M1232.53 46.6907 L1232.53 72.576 L1225.08 72.576 L1225.08 65.6895 Q1222.53 69.8214 1218.72 71.8063 Q1214.91 73.7508 1209.4 73.7508 Q1202.43 73.7508 1198.3 69.8619 Q1194.21 65.9325 1194.21 59.3701 Q1194.21 51.7138 1199.32 47.825 Q1204.46 43.9361 1214.63 43.9361 L1225.08 43.9361 L1225.08 43.2069 Q1225.08 38.0623 1221.68 35.2672 Q1218.31 32.4315 1212.2 32.4315 Q1208.31 32.4315 1204.62 33.3632 Q1200.94 34.295 1197.53 36.1584 L1197.53 29.2718 Q1201.62 27.692 1205.47 26.9223 Q1209.32 26.1121 1212.97 26.1121 Q1222.81 26.1121 1227.67 31.2163 Q1232.53 36.3204 1232.53 46.6907 Z\" fill=\"#000000\" fill-rule=\"evenodd\" fill-opacity=\"1\" /><path clip-path=\"url(#clip500)\" d=\"M1247.89 9.54393 L1255.34 9.54393 L1255.34 72.576 L1247.89 72.576 L1247.89 9.54393 Z\" fill=\"#000000\" fill-rule=\"evenodd\" fill-opacity=\"1\" /><path clip-path=\"url(#clip500)\" d=\"M1338.87 63.9476 L1338.87 47.7034 L1325.5 47.7034 L1325.5 40.9789 L1346.97 40.9789 L1346.97 66.9452 Q1342.23 70.3075 1336.52 72.0494 Q1330.81 73.7508 1324.33 73.7508 Q1310.15 73.7508 1302.13 65.4869 Q1294.15 57.1826 1294.15 42.3968 Q1294.15 27.5705 1302.13 19.3066 Q1310.15 11.0023 1324.33 11.0023 Q1330.24 11.0023 1335.55 12.4606 Q1340.89 13.9189 1345.39 16.7545 L1345.39 25.464 Q1340.85 21.6156 1335.75 19.6712 Q1330.65 17.7268 1325.01 17.7268 Q1313.92 17.7268 1308.33 23.9246 Q1302.78 30.1225 1302.78 42.3968 Q1302.78 54.6305 1308.33 60.8284 Q1313.92 67.0263 1325.01 67.0263 Q1329.35 67.0263 1332.75 66.2971 Q1336.15 65.5274 1338.87 63.9476 Z\" fill=\"#000000\" fill-rule=\"evenodd\" fill-opacity=\"1\" /><path clip-path=\"url(#clip500)\" d=\"M1387.88 34.1734 Q1386.63 33.4443 1385.13 33.1202 Q1383.67 32.7556 1381.89 32.7556 Q1375.57 32.7556 1372.17 36.8875 Q1368.81 40.9789 1368.81 48.6757 L1368.81 72.576 L1361.31 72.576 L1361.31 27.2059 L1368.81 27.2059 L1368.81 34.2544 Q1371.15 30.1225 1374.92 28.1376 Q1378.69 26.1121 1384.08 26.1121 Q1384.85 26.1121 1385.78 26.2337 Q1386.71 26.3147 1387.84 26.5172 L1387.88 34.1734 Z\" fill=\"#000000\" fill-rule=\"evenodd\" fill-opacity=\"1\" /><path clip-path=\"url(#clip500)\" d=\"M1416.32 49.7694 Q1407.29 49.7694 1403.8 51.8354 Q1400.32 53.9013 1400.32 58.8839 Q1400.32 62.8538 1402.91 65.2034 Q1405.55 67.5124 1410.04 67.5124 Q1416.24 67.5124 1419.97 63.1374 Q1423.74 58.7219 1423.74 51.4303 L1423.74 49.7694 L1416.32 49.7694 M1431.19 46.6907 L1431.19 72.576 L1423.74 72.576 L1423.74 65.6895 Q1421.18 69.8214 1417.38 71.8063 Q1413.57 73.7508 1408.06 73.7508 Q1401.09 73.7508 1396.96 69.8619 Q1392.87 65.9325 1392.87 59.3701 Q1392.87 51.7138 1397.97 47.825 Q1403.12 43.9361 1413.28 43.9361 L1423.74 43.9361 L1423.74 43.2069 Q1423.74 38.0623 1420.33 35.2672 Q1416.97 32.4315 1410.85 32.4315 Q1406.96 32.4315 1403.28 33.3632 Q1399.59 34.295 1396.19 36.1584 L1396.19 29.2718 Q1400.28 27.692 1404.13 26.9223 Q1407.98 26.1121 1411.62 26.1121 Q1421.47 26.1121 1426.33 31.2163 Q1431.19 36.3204 1431.19 46.6907 Z\" fill=\"#000000\" fill-rule=\"evenodd\" fill-opacity=\"1\" /><path clip-path=\"url(#clip500)\" d=\"M1481.87 35.9153 Q1484.66 30.8922 1488.55 28.5022 Q1492.44 26.1121 1497.7 26.1121 Q1504.79 26.1121 1508.64 31.0947 Q1512.49 36.0368 1512.49 45.1919 L1512.49 72.576 L1505 72.576 L1505 45.4349 Q1505 38.913 1502.69 35.7533 Q1500.38 32.5936 1495.64 32.5936 Q1489.85 32.5936 1486.48 36.4419 Q1483.12 40.2903 1483.12 46.9338 L1483.12 72.576 L1475.63 72.576 L1475.63 45.4349 Q1475.63 38.8725 1473.32 35.7533 Q1471.01 32.5936 1466.19 32.5936 Q1460.48 32.5936 1457.11 36.4824 Q1453.75 40.3308 1453.75 46.9338 L1453.75 72.576 L1446.26 72.576 L1446.26 27.2059 L1453.75 27.2059 L1453.75 34.2544 Q1456.3 30.082 1459.87 28.0971 Q1463.43 26.1121 1468.34 26.1121 Q1473.28 26.1121 1476.72 28.6237 Q1480.2 31.1352 1481.87 35.9153 Z\" fill=\"#000000\" fill-rule=\"evenodd\" fill-opacity=\"1\" /><path clip-path=\"url(#clip500)\" d=\"M1523.59 46.5287 L1545.42 46.5287 L1545.42 53.1722 L1523.59 53.1722 L1523.59 46.5287 Z\" fill=\"#000000\" fill-rule=\"evenodd\" fill-opacity=\"1\" /><path clip-path=\"url(#clip500)\" d=\"M1593.87 14.0809 L1593.87 22.0612 Q1589.21 19.8332 1585.08 18.7395 Q1580.95 17.6457 1577.1 17.6457 Q1570.42 17.6457 1566.77 20.2383 Q1563.17 22.8309 1563.17 27.611 Q1563.17 31.6214 1565.56 33.6873 Q1567.99 35.7128 1574.71 36.9686 L1579.65 37.9813 Q1588.81 39.7232 1593.14 44.1387 Q1597.52 48.5136 1597.52 55.8863 Q1597.52 64.6767 1591.6 69.2137 Q1585.73 73.7508 1574.35 73.7508 Q1570.05 73.7508 1565.19 72.7785 Q1560.37 71.8063 1555.19 69.9024 L1555.19 61.4765 Q1560.17 64.2716 1564.95 65.6895 Q1569.73 67.1073 1574.35 67.1073 Q1581.36 67.1073 1585.16 64.3527 Q1588.97 61.598 1588.97 56.4939 Q1588.97 52.0379 1586.22 49.5264 Q1583.5 47.0148 1577.26 45.759 L1572.28 44.7868 Q1563.13 42.9639 1559.04 39.075 Q1554.94 35.1862 1554.94 28.2591 Q1554.94 20.2383 1560.57 15.6203 Q1566.25 11.0023 1576.17 11.0023 Q1580.42 11.0023 1584.84 11.7719 Q1589.26 12.5416 1593.87 14.0809 Z\" fill=\"#000000\" fill-rule=\"evenodd\" fill-opacity=\"1\" /><path clip-path=\"url(#clip500)\" d=\"M1642.61 28.9478 L1642.61 35.9153 Q1639.45 34.1734 1636.25 33.3227 Q1633.09 32.4315 1629.85 32.4315 Q1622.59 32.4315 1618.58 37.0496 Q1614.57 41.6271 1614.57 49.9314 Q1614.57 58.2358 1618.58 62.8538 Q1622.59 67.4314 1629.85 67.4314 Q1633.09 67.4314 1636.25 66.5807 Q1639.45 65.6895 1642.61 63.9476 L1642.61 70.8341 Q1639.49 72.2924 1636.12 73.0216 Q1632.8 73.7508 1629.04 73.7508 Q1618.79 73.7508 1612.75 67.3098 Q1606.71 60.8689 1606.71 49.9314 Q1606.71 38.832 1612.79 32.472 Q1618.91 26.1121 1629.52 26.1121 Q1632.96 26.1121 1636.25 26.8413 Q1639.53 27.5299 1642.61 28.9478 Z\" fill=\"#000000\" fill-rule=\"evenodd\" fill-opacity=\"1\" /><path clip-path=\"url(#clip500)\" d=\"M1693.28 45.1919 L1693.28 72.576 L1685.83 72.576 L1685.83 45.4349 Q1685.83 38.994 1683.32 35.7938 Q1680.81 32.5936 1675.78 32.5936 Q1669.75 32.5936 1666.26 36.4419 Q1662.78 40.2903 1662.78 46.9338 L1662.78 72.576 L1655.29 72.576 L1655.29 9.54393 L1662.78 9.54393 L1662.78 34.2544 Q1665.45 30.163 1669.06 28.1376 Q1672.7 26.1121 1677.44 26.1121 Q1685.26 26.1121 1689.27 30.9732 Q1693.28 35.7938 1693.28 45.1919 Z\" fill=\"#000000\" fill-rule=\"evenodd\" fill-opacity=\"1\" /><path clip-path=\"url(#clip500)\" d=\"M1743.47 35.9153 Q1746.27 30.8922 1750.16 28.5022 Q1754.05 26.1121 1759.31 26.1121 Q1766.4 26.1121 1770.25 31.0947 Q1774.1 36.0368 1774.1 45.1919 L1774.1 72.576 L1766.6 72.576 L1766.6 45.4349 Q1766.6 38.913 1764.29 35.7533 Q1761.99 32.5936 1757.25 32.5936 Q1751.45 32.5936 1748.09 36.4419 Q1744.73 40.2903 1744.73 46.9338 L1744.73 72.576 L1737.23 72.576 L1737.23 45.4349 Q1737.23 38.8725 1734.93 35.7533 Q1732.62 32.5936 1727.8 32.5936 Q1722.08 32.5936 1718.72 36.4824 Q1715.36 40.3308 1715.36 46.9338 L1715.36 72.576 L1707.87 72.576 L1707.87 27.2059 L1715.36 27.2059 L1715.36 34.2544 Q1717.91 30.082 1721.48 28.0971 Q1725.04 26.1121 1729.94 26.1121 Q1734.89 26.1121 1738.33 28.6237 Q1741.81 31.1352 1743.47 35.9153 Z\" fill=\"#000000\" fill-rule=\"evenodd\" fill-opacity=\"1\" /><path clip-path=\"url(#clip500)\" d=\"M1788.96 27.2059 L1796.42 27.2059 L1796.42 72.576 L1788.96 72.576 L1788.96 27.2059 M1788.96 9.54393 L1796.42 9.54393 L1796.42 18.9825 L1788.96 18.9825 L1788.96 9.54393 Z\" fill=\"#000000\" fill-rule=\"evenodd\" fill-opacity=\"1\" /><path clip-path=\"url(#clip500)\" d=\"M1841.87 34.0924 L1841.87 9.54393 L1849.32 9.54393 L1849.32 72.576 L1841.87 72.576 L1841.87 65.7705 Q1839.52 69.8214 1835.91 71.8063 Q1832.35 73.7508 1827.33 73.7508 Q1819.1 73.7508 1813.92 67.1883 Q1808.77 60.6258 1808.77 49.9314 Q1808.77 39.2371 1813.92 32.6746 Q1819.1 26.1121 1827.33 26.1121 Q1832.35 26.1121 1835.91 28.0971 Q1839.52 30.0415 1841.87 34.0924 M1816.47 49.9314 Q1816.47 58.1548 1819.83 62.8538 Q1823.24 67.5124 1829.15 67.5124 Q1835.06 67.5124 1838.47 62.8538 Q1841.87 58.1548 1841.87 49.9314 Q1841.87 41.7081 1838.47 37.0496 Q1835.06 32.3505 1829.15 32.3505 Q1823.24 32.3505 1819.83 37.0496 Q1816.47 41.7081 1816.47 49.9314 Z\" fill=\"#000000\" fill-rule=\"evenodd\" fill-opacity=\"1\" /><path clip-path=\"url(#clip500)\" d=\"M1872.05 14.324 L1872.05 27.2059 L1887.4 27.2059 L1887.4 32.9987 L1872.05 32.9987 L1872.05 57.6282 Q1872.05 63.1779 1873.55 64.7578 Q1875.09 66.3376 1879.75 66.3376 L1887.4 66.3376 L1887.4 72.576 L1879.75 72.576 Q1871.12 72.576 1867.84 69.3758 Q1864.55 66.1351 1864.55 57.6282 L1864.55 32.9987 L1859.09 32.9987 L1859.09 27.2059 L1864.55 27.2059 L1864.55 14.324 L1872.05 14.324 Z\" fill=\"#000000\" fill-rule=\"evenodd\" fill-opacity=\"1\" /><polyline clip-path=\"url(#clip502)\" style=\"stroke:#009af9; stroke-linecap:butt; stroke-linejoin:round; stroke-width:8; stroke-opacity:1; fill:none\" points=\"\n",
       "  307.017,2968.32 319.13,2878.55 331.243,2793.86 343.356,2746.22 355.469,2713.53 367.582,2688.92 379.695,2412.64 391.808,2335.97 403.921,2639.47 416.034,2627.61 \n",
       "  428.147,2626.57 440.26,2607.93 452.373,2102.11 464.486,2076.43 476.598,2050.47 488.711,2026.16 500.824,2572.87 512.937,1963.74 525.05,1946.86 537.163,1923.34 \n",
       "  549.276,1885.08 561.389,1863.61 573.502,1841.12 585.615,1816.52 597.728,1784.61 609.841,1763.98 621.954,1740.18 634.067,2602.71 646.18,2607.81 658.293,2613.38 \n",
       "  670.405,2619.49 682.518,2626.26 694.631,2633.85 706.744,2642.46 718.857,2652.43 730.97,2664.23 743.083,2678.7 755.196,2697.37 767.309,2723.72 779.422,2768.83 \n",
       "  791.535,2968.32 803.648,1458.87 815.761,1442.98 827.874,2696.99 839.987,2678.19 852.1,2663.59 864.212,2651.66 876.325,2641.56 888.438,2632.81 900.551,2625.09 \n",
       "  912.664,2618.18 924.777,2611.93 936.89,2606.21 949.003,2600.96 961.116,2596.09 973.229,2591.55 985.342,1224.63 997.455,1211.72 1009.57,1198.62 1021.68,1185.93 \n",
       "  1033.79,1173.38 1045.91,1160.86 1058.02,1148.64 1070.13,1136.55 1082.25,1125 1094.36,1113.18 1106.47,1101.5 1118.58,1087.81 1130.7,1076.29 1142.81,1064.79 \n",
       "  1154.92,1053.64 1167.04,996.729 1179.15,984.818 1191.26,973.842 1203.37,963.023 1215.49,952.359 1227.6,940.931 1239.71,930.469 1251.83,920.13 1263.94,909.899 \n",
       "  1276.05,898.903 1288.17,888.774 1300.28,878.781 1312.39,868.929 1324.5,858.352 1336.62,848.695 1348.73,813.526 1360.84,803.233 1372.96,793.839 1385.07,783.935 \n",
       "  1397.18,774.182 1409.29,765.017 1421.41,755.435 1433.52,746.442 1445.63,737.542 1457.75,728.173 1469.86,719.428 1481.97,710.236 1494.09,701.635 1506.2,693.093 \n",
       "  1518.31,598.818 1530.42,589.174 1542.54,580.339 1554.65,571.436 1566.76,562.678 1578.88,625.214 1590.99,615.042 1603.1,606.858 1615.21,598.739 1627.33,590.673 \n",
       "  1639.44,582.67 1651.55,574.738 1663.67,566.844 1675.78,559.03 1687.89,551.269 1700.01,543.571 1712.12,535.916 1724.23,528.231 1736.34,520.698 1748.46,513.22 \n",
       "  1760.57,505.793 1772.68,498.37 1784.8,491.029 1796.91,483.755 1809.02,476.536 1821.13,469.363 1833.25,462.239 1845.36,455.165 1857.47,448.126 1869.59,441.002 \n",
       "  1881.7,434.061 1893.81,427.163 1905.93,420.322 1918.04,413.523 1930.15,406.771 1942.26,400.064 1954.38,393.384 1966.49,386.737 1978.6,380.155 1990.72,373.612 \n",
       "  2002.83,367.115 2014.94,360.661 2027.05,354.246 2039.17,347.874 2051.28,341.542 2063.39,335.241 2075.51,328.991 2087.62,322.786 2099.73,316.617 2111.84,310.494 \n",
       "  2123.96,304.415 2136.07,298.381 2148.18,292.391 2160.3,286.45 2172.41,280.557 2184.52,274.716 2196.64,268.862 2208.75,263.031 2220.86,257.163 2232.97,251.562 \n",
       "  2245.09,246.031 2257.2,240.559 2269.31,235.187 2281.43,229.907 2293.54,224.728 2305.65,219.658 2317.76,214.707 2329.88,209.884 2341.99,205.202 2354.1,200.677 \n",
       "  2366.22,196.275 2378.33,192.099 2390.44,188.113 2402.56,184.329 2414.67,180.747 2426.78,177.392 2438.89,174.261 2451.01,171.357 2463.12,168.679 2475.23,166.226 \n",
       "  2487.35,163.99 \n",
       "  \"/>\n",
       "<polyline clip-path=\"url(#clip502)\" style=\"stroke:#e26f46; stroke-linecap:butt; stroke-linejoin:round; stroke-width:8; stroke-opacity:1; fill:none\" points=\"\n",
       "  307.017,2968.32 319.13,2968.32 331.243,2968.32 343.356,2968.32 355.469,2968.32 367.582,2968.32 379.695,2585.92 391.808,2533.48 403.921,2968.32 416.034,2968.32 \n",
       "  428.147,2968.32 440.26,2968.32 452.373,2533.48 464.486,2514.32 476.598,2540.75 488.711,2550.12 500.824,2968.32 512.937,2578.65 525.05,2538.77 537.163,2550.12 \n",
       "  549.276,2563.33 561.389,2563.33 573.502,2550.12 585.615,2533.48 597.728,2968.32 609.841,2578.65 621.954,2585.92 634.067,2968.32 646.18,2968.32 658.293,2968.32 \n",
       "  670.405,2968.32 682.518,2968.32 694.631,2968.32 706.744,2968.32 718.857,2968.32 730.97,2968.32 743.083,2968.32 755.196,2968.32 767.309,2968.32 779.422,2968.32 \n",
       "  791.535,2968.32 803.648,2549.45 815.761,2547.51 827.874,2968.32 839.987,2968.32 852.1,2968.32 864.212,2968.32 876.325,2968.32 888.438,2968.32 900.551,2968.32 \n",
       "  912.664,2968.32 924.777,2968.32 936.89,2968.32 949.003,2968.32 961.116,2968.32 973.229,2968.32 985.342,2578.65 997.455,2572.71 1009.57,2607.5 1021.68,2968.32 \n",
       "  1033.79,2766.6 1045.91,2721.43 1058.02,2968.32 1070.13,2968.32 1082.25,2766.6 1094.36,2653.67 1106.47,2668.99 1118.58,2697.84 1130.7,2698.84 1142.81,2585.41 \n",
       "  1154.92,2581.19 1167.04,2649.84 1179.15,2583.94 1191.26,2653.67 1203.37,2668.99 1215.49,2668.99 1227.6,2968.32 1239.71,2674.28 1251.83,2766.6 1263.94,2968.32 \n",
       "  1276.05,2744.02 1288.17,2583.94 1300.28,2759.33 1312.39,2674.16 1324.5,2766.6 1336.62,2674.16 1348.73,2583.82 1360.84,2563.27 1372.96,2562.33 1385.07,2653.61 \n",
       "  1397.18,2653.67 1409.29,2672.42 1421.41,2674.28 1433.52,2766.6 1445.63,2585.92 1457.75,2764.63 1469.86,2744.02 1481.97,2968.32 1494.09,2856.94 1506.2,2676.26 \n",
       "  1518.31,2563.33 1530.42,2674.28 1542.54,2630.58 1554.65,2630.96 1566.76,2719.45 1578.88,2595.29 1590.99,2629.11 1603.1,2809.8 1615.21,2697.84 1627.33,2719.45 \n",
       "  1639.44,2630.84 1651.55,2628.99 1663.67,2668.18 1675.78,2697.84 1687.89,2719.45 1700.01,2811.77 1712.12,2631.09 1724.23,2630.83 1736.34,2630.96 1748.46,2631.09 \n",
       "  1760.57,2631.09 1772.68,2630.96 1784.8,2606.53 1796.91,2607.5 1809.02,2721.43 1821.13,2968.32 1833.25,2719.45 1845.36,2968.32 1857.47,2628.99 1869.59,2719.45 \n",
       "  1881.7,2698.84 1893.81,2721.43 1905.93,2721.4 1918.04,2789.19 1930.15,2789.19 1942.26,2811.77 1954.38,2629.11 1966.49,2698.83 1978.6,2698.83 1990.72,2720.92 \n",
       "  2002.83,2968.32 2014.94,2968.32 2027.05,2947.28 2039.17,2968.32 2051.28,2968.32 2063.39,2631.06 2075.51,2947.28 2087.62,2968.32 2099.73,2698.83 2111.84,2698.59 \n",
       "  2123.96,2834.36 2136.07,2856.94 2148.18,2720.89 2160.3,2834.36 2172.41,2968.32 2184.52,2721.43 2196.64,2968.32 2208.75,2608.49 2220.86,2856.94 2232.97,2968.32 \n",
       "  2245.09,2766.57 2257.2,2766.6 2269.31,2743.01 2281.43,2764.63 2293.54,2968.32 2305.65,2968.32 2317.76,2834.1 2329.88,2743 2341.99,2766.6 2354.1,2968.32 \n",
       "  2366.22,2968.32 2378.33,2968.32 2390.44,2742.04 2402.56,2744.02 2414.67,2630.58 2426.78,2630.58 2438.89,2631.09 2451.01,2630.58 2463.12,2631.09 2475.23,2968.32 \n",
       "  2487.35,2968.32 \n",
       "  \"/>\n",
       "<path clip-path=\"url(#clip500)\" d=\"\n",
       "M1739.64 370.829 L2475.72 370.829 L2475.72 215.309 L1739.64 215.309  Z\n",
       "  \" fill=\"#ffffff\" fill-rule=\"evenodd\" fill-opacity=\"1\"/>\n",
       "<polyline clip-path=\"url(#clip500)\" style=\"stroke:#000000; stroke-linecap:butt; stroke-linejoin:round; stroke-width:4; stroke-opacity:1; fill:none\" points=\"\n",
       "  1739.64,370.829 2475.72,370.829 2475.72,215.309 1739.64,215.309 1739.64,370.829 \n",
       "  \"/>\n",
       "<polyline clip-path=\"url(#clip500)\" style=\"stroke:#009af9; stroke-linecap:butt; stroke-linejoin:round; stroke-width:4; stroke-opacity:1; fill:none\" points=\"\n",
       "  1765.32,267.149 1919.4,267.149 \n",
       "  \"/>\n",
       "<path clip-path=\"url(#clip500)\" d=\"M1956.98 261.489 Q1953.55 261.489 1951.56 264.174 Q1949.57 266.836 1949.57 271.489 Q1949.57 276.142 1951.54 278.827 Q1953.53 281.489 1956.98 281.489 Q1960.38 281.489 1962.37 278.804 Q1964.36 276.119 1964.36 271.489 Q1964.36 266.883 1962.37 264.198 Q1960.38 261.489 1956.98 261.489 M1956.98 257.878 Q1962.53 257.878 1965.7 261.489 Q1968.88 265.1 1968.88 271.489 Q1968.88 277.855 1965.7 281.489 Q1962.53 285.1 1956.98 285.1 Q1951.4 285.1 1948.23 281.489 Q1945.08 277.855 1945.08 271.489 Q1945.08 265.1 1948.23 261.489 Q1951.4 257.878 1956.98 257.878 Z\" fill=\"#000000\" fill-rule=\"evenodd\" fill-opacity=\"1\" /><path clip-path=\"url(#clip500)\" d=\"M1990.96 262.485 Q1990.24 262.068 1989.38 261.883 Q1988.55 261.674 1987.53 261.674 Q1983.92 261.674 1981.98 264.036 Q1980.06 266.373 1980.06 270.772 L1980.06 284.429 L1975.77 284.429 L1975.77 258.503 L1980.06 258.503 L1980.06 262.531 Q1981.4 260.17 1983.55 259.036 Q1985.7 257.878 1988.78 257.878 Q1989.22 257.878 1989.75 257.948 Q1990.29 257.994 1990.94 258.11 L1990.96 262.485 Z\" fill=\"#000000\" fill-rule=\"evenodd\" fill-opacity=\"1\" /><path clip-path=\"url(#clip500)\" d=\"M1999.64 251.142 L1999.64 258.503 L2008.41 258.503 L2008.41 261.813 L1999.64 261.813 L1999.64 275.887 Q1999.64 279.059 2000.5 279.961 Q2001.37 280.864 2004.04 280.864 L2008.41 280.864 L2008.41 284.429 L2004.04 284.429 Q1999.11 284.429 1997.23 282.6 Q1995.36 280.748 1995.36 275.887 L1995.36 261.813 L1992.23 261.813 L1992.23 258.503 L1995.36 258.503 L1995.36 251.142 L1999.64 251.142 Z\" fill=\"#000000\" fill-rule=\"evenodd\" fill-opacity=\"1\" /><path clip-path=\"url(#clip500)\" d=\"M2035.56 268.781 L2035.56 284.429 L2031.31 284.429 L2031.31 268.92 Q2031.31 265.239 2029.87 263.411 Q2028.43 261.582 2025.56 261.582 Q2022.12 261.582 2020.12 263.781 Q2018.13 265.98 2018.13 269.776 L2018.13 284.429 L2013.85 284.429 L2013.85 248.411 L2018.13 248.411 L2018.13 262.531 Q2019.66 260.193 2021.72 259.036 Q2023.81 257.878 2026.51 257.878 Q2030.98 257.878 2033.27 260.656 Q2035.56 263.411 2035.56 268.781 Z\" fill=\"#000000\" fill-rule=\"evenodd\" fill-opacity=\"1\" /><path clip-path=\"url(#clip500)\" d=\"M2054.11 261.489 Q2050.68 261.489 2048.69 264.174 Q2046.7 266.836 2046.7 271.489 Q2046.7 276.142 2048.67 278.827 Q2050.66 281.489 2054.11 281.489 Q2057.51 281.489 2059.5 278.804 Q2061.49 276.119 2061.49 271.489 Q2061.49 266.883 2059.5 264.198 Q2057.51 261.489 2054.11 261.489 M2054.11 257.878 Q2059.66 257.878 2062.83 261.489 Q2066 265.1 2066 271.489 Q2066 277.855 2062.83 281.489 Q2059.66 285.1 2054.11 285.1 Q2048.53 285.1 2045.36 281.489 Q2042.21 277.855 2042.21 271.489 Q2042.21 265.1 2045.36 261.489 Q2048.53 257.878 2054.11 257.878 Z\" fill=\"#000000\" fill-rule=\"evenodd\" fill-opacity=\"1\" /><path clip-path=\"url(#clip500)\" d=\"M2094.62 268.781 L2094.62 284.429 L2090.36 284.429 L2090.36 268.92 Q2090.36 265.239 2088.92 263.411 Q2087.49 261.582 2084.62 261.582 Q2081.17 261.582 2079.18 263.781 Q2077.18 265.98 2077.18 269.776 L2077.18 284.429 L2072.9 284.429 L2072.9 258.503 L2077.18 258.503 L2077.18 262.531 Q2078.71 260.193 2080.77 259.036 Q2082.86 257.878 2085.56 257.878 Q2090.03 257.878 2092.32 260.656 Q2094.62 263.411 2094.62 268.781 Z\" fill=\"#000000\" fill-rule=\"evenodd\" fill-opacity=\"1\" /><path clip-path=\"url(#clip500)\" d=\"M2113.16 261.489 Q2109.73 261.489 2107.74 264.174 Q2105.75 266.836 2105.75 271.489 Q2105.75 276.142 2107.72 278.827 Q2109.71 281.489 2113.16 281.489 Q2116.56 281.489 2118.55 278.804 Q2120.54 276.119 2120.54 271.489 Q2120.54 266.883 2118.55 264.198 Q2116.56 261.489 2113.16 261.489 M2113.16 257.878 Q2118.71 257.878 2121.88 261.489 Q2125.05 265.1 2125.05 271.489 Q2125.05 277.855 2121.88 281.489 Q2118.71 285.1 2113.16 285.1 Q2107.58 285.1 2104.41 281.489 Q2101.26 277.855 2101.26 271.489 Q2101.26 265.1 2104.41 261.489 Q2107.58 257.878 2113.16 257.878 Z\" fill=\"#000000\" fill-rule=\"evenodd\" fill-opacity=\"1\" /><path clip-path=\"url(#clip500)\" d=\"M2147.14 262.485 Q2146.42 262.068 2145.56 261.883 Q2144.73 261.674 2143.71 261.674 Q2140.1 261.674 2138.16 264.036 Q2136.24 266.373 2136.24 270.772 L2136.24 284.429 L2131.95 284.429 L2131.95 258.503 L2136.24 258.503 L2136.24 262.531 Q2137.58 260.17 2139.73 259.036 Q2141.88 257.878 2144.96 257.878 Q2145.4 257.878 2145.93 257.948 Q2146.47 257.994 2147.11 258.11 L2147.14 262.485 Z\" fill=\"#000000\" fill-rule=\"evenodd\" fill-opacity=\"1\" /><path clip-path=\"url(#clip500)\" d=\"M2170.96 263.48 Q2172.55 260.61 2174.78 259.244 Q2177 257.878 2180.01 257.878 Q2184.06 257.878 2186.26 260.725 Q2188.46 263.549 2188.46 268.781 L2188.46 284.429 L2184.17 284.429 L2184.17 268.92 Q2184.17 265.193 2182.86 263.387 Q2181.54 261.582 2178.83 261.582 Q2175.52 261.582 2173.6 263.781 Q2171.67 265.98 2171.67 269.776 L2171.67 284.429 L2167.39 284.429 L2167.39 268.92 Q2167.39 265.17 2166.07 263.387 Q2164.75 261.582 2162 261.582 Q2158.74 261.582 2156.81 263.804 Q2154.89 266.003 2154.89 269.776 L2154.89 284.429 L2150.61 284.429 L2150.61 258.503 L2154.89 258.503 L2154.89 262.531 Q2156.35 260.147 2158.39 259.012 Q2160.42 257.878 2163.23 257.878 Q2166.05 257.878 2168.02 259.313 Q2170.01 260.749 2170.96 263.48 Z\" fill=\"#000000\" fill-rule=\"evenodd\" fill-opacity=\"1\" /><path clip-path=\"url(#clip500)\" d=\"M2208.73 271.397 Q2203.57 271.397 2201.58 272.577 Q2199.59 273.758 2199.59 276.605 Q2199.59 278.873 2201.07 280.216 Q2202.58 281.535 2205.15 281.535 Q2208.69 281.535 2210.82 279.035 Q2212.97 276.512 2212.97 272.346 L2212.97 271.397 L2208.73 271.397 M2217.23 269.637 L2217.23 284.429 L2212.97 284.429 L2212.97 280.494 Q2211.51 282.855 2209.34 283.989 Q2207.16 285.1 2204.01 285.1 Q2200.03 285.1 2197.67 282.878 Q2195.33 280.633 2195.33 276.883 Q2195.33 272.508 2198.25 270.286 Q2201.19 268.063 2207 268.063 L2212.97 268.063 L2212.97 267.647 Q2212.97 264.707 2211.03 263.11 Q2209.11 261.489 2205.61 261.489 Q2203.39 261.489 2201.28 262.022 Q2199.17 262.554 2197.23 263.619 L2197.23 259.684 Q2199.57 258.781 2201.77 258.341 Q2203.97 257.878 2206.05 257.878 Q2211.67 257.878 2214.45 260.795 Q2217.23 263.711 2217.23 269.637 Z\" fill=\"#000000\" fill-rule=\"evenodd\" fill-opacity=\"1\" /><path clip-path=\"url(#clip500)\" d=\"M2226 248.411 L2230.26 248.411 L2230.26 284.429 L2226 284.429 L2226 248.411 Z\" fill=\"#000000\" fill-rule=\"evenodd\" fill-opacity=\"1\" /><path clip-path=\"url(#clip500)\" d=\"M2239.17 258.503 L2243.43 258.503 L2243.43 284.429 L2239.17 284.429 L2239.17 258.503 M2239.17 248.411 L2243.43 248.411 L2243.43 253.804 L2239.17 253.804 L2239.17 248.411 Z\" fill=\"#000000\" fill-rule=\"evenodd\" fill-opacity=\"1\" /><path clip-path=\"url(#clip500)\" d=\"M2256.56 251.142 L2256.56 258.503 L2265.33 258.503 L2265.33 261.813 L2256.56 261.813 L2256.56 275.887 Q2256.56 279.059 2257.42 279.961 Q2258.29 280.864 2260.96 280.864 L2265.33 280.864 L2265.33 284.429 L2260.96 284.429 Q2256.03 284.429 2254.15 282.6 Q2252.28 280.748 2252.28 275.887 L2252.28 261.813 L2249.15 261.813 L2249.15 258.503 L2252.28 258.503 L2252.28 251.142 L2256.56 251.142 Z\" fill=\"#000000\" fill-rule=\"evenodd\" fill-opacity=\"1\" /><path clip-path=\"url(#clip500)\" d=\"M2281.72 286.836 Q2279.92 291.466 2278.2 292.878 Q2276.49 294.29 2273.62 294.29 L2270.22 294.29 L2270.22 290.725 L2272.72 290.725 Q2274.48 290.725 2275.45 289.892 Q2276.42 289.059 2277.6 285.957 L2278.36 284.012 L2267.88 258.503 L2272.39 258.503 L2280.49 278.781 L2288.6 258.503 L2293.11 258.503 L2281.72 286.836 Z\" fill=\"#000000\" fill-rule=\"evenodd\" fill-opacity=\"1\" /><path clip-path=\"url(#clip500)\" d=\"M2336.23 270.401 L2336.23 272.485 L2316.65 272.485 Q2316.93 276.883 2319.29 279.197 Q2321.67 281.489 2325.91 281.489 Q2328.36 281.489 2330.66 280.887 Q2332.97 280.285 2335.24 279.082 L2335.24 283.11 Q2332.95 284.082 2330.54 284.591 Q2328.13 285.1 2325.66 285.1 Q2319.45 285.1 2315.82 281.489 Q2312.21 277.878 2312.21 271.721 Q2312.21 265.355 2315.63 261.628 Q2319.08 257.878 2324.91 257.878 Q2330.15 257.878 2333.18 261.258 Q2336.23 264.614 2336.23 270.401 M2331.98 269.151 Q2331.93 265.656 2330.01 263.573 Q2328.11 261.489 2324.96 261.489 Q2321.4 261.489 2319.24 263.503 Q2317.11 265.517 2316.79 269.174 L2331.98 269.151 Z\" fill=\"#000000\" fill-rule=\"evenodd\" fill-opacity=\"1\" /><path clip-path=\"url(#clip500)\" d=\"M2358.25 262.485 Q2357.53 262.068 2356.67 261.883 Q2355.84 261.674 2354.82 261.674 Q2351.21 261.674 2349.27 264.036 Q2347.35 266.373 2347.35 270.772 L2347.35 284.429 L2343.06 284.429 L2343.06 258.503 L2347.35 258.503 L2347.35 262.531 Q2348.69 260.17 2350.84 259.036 Q2352.99 257.878 2356.07 257.878 Q2356.51 257.878 2357.04 257.948 Q2357.58 257.994 2358.22 258.11 L2358.25 262.485 Z\" fill=\"#000000\" fill-rule=\"evenodd\" fill-opacity=\"1\" /><path clip-path=\"url(#clip500)\" d=\"M2376.91 262.485 Q2376.19 262.068 2375.33 261.883 Q2374.5 261.674 2373.48 261.674 Q2369.87 261.674 2367.92 264.036 Q2366 266.373 2366 270.772 L2366 284.429 L2361.72 284.429 L2361.72 258.503 L2366 258.503 L2366 262.531 Q2367.35 260.17 2369.5 259.036 Q2371.65 257.878 2374.73 257.878 Q2375.17 257.878 2375.7 257.948 Q2376.23 257.994 2376.88 258.11 L2376.91 262.485 Z\" fill=\"#000000\" fill-rule=\"evenodd\" fill-opacity=\"1\" /><path clip-path=\"url(#clip500)\" d=\"M2390.38 261.489 Q2386.95 261.489 2384.96 264.174 Q2382.97 266.836 2382.97 271.489 Q2382.97 276.142 2384.94 278.827 Q2386.93 281.489 2390.38 281.489 Q2393.78 281.489 2395.77 278.804 Q2397.76 276.119 2397.76 271.489 Q2397.76 266.883 2395.77 264.198 Q2393.78 261.489 2390.38 261.489 M2390.38 257.878 Q2395.93 257.878 2399.1 261.489 Q2402.28 265.1 2402.28 271.489 Q2402.28 277.855 2399.1 281.489 Q2395.93 285.1 2390.38 285.1 Q2384.8 285.1 2381.63 281.489 Q2378.48 277.855 2378.48 271.489 Q2378.48 265.1 2381.63 261.489 Q2384.8 257.878 2390.38 257.878 Z\" fill=\"#000000\" fill-rule=\"evenodd\" fill-opacity=\"1\" /><path clip-path=\"url(#clip500)\" d=\"M2424.36 262.485 Q2423.64 262.068 2422.78 261.883 Q2421.95 261.674 2420.93 261.674 Q2417.32 261.674 2415.38 264.036 Q2413.46 266.373 2413.46 270.772 L2413.46 284.429 L2409.17 284.429 L2409.17 258.503 L2413.46 258.503 L2413.46 262.531 Q2414.8 260.17 2416.95 259.036 Q2419.1 257.878 2422.18 257.878 Q2422.62 257.878 2423.16 257.948 Q2423.69 257.994 2424.34 258.11 L2424.36 262.485 Z\" fill=\"#000000\" fill-rule=\"evenodd\" fill-opacity=\"1\" /><polyline clip-path=\"url(#clip500)\" style=\"stroke:#e26f46; stroke-linecap:butt; stroke-linejoin:round; stroke-width:4; stroke-opacity:1; fill:none\" points=\"\n",
       "  1765.32,318.989 1919.4,318.989 \n",
       "  \"/>\n",
       "<path clip-path=\"url(#clip500)\" d=\"M1960.26 314.325 Q1959.55 313.908 1958.69 313.723 Q1957.86 313.514 1956.84 313.514 Q1953.23 313.514 1951.28 315.876 Q1949.36 318.213 1949.36 322.612 L1949.36 336.269 L1945.08 336.269 L1945.08 310.343 L1949.36 310.343 L1949.36 314.371 Q1950.7 312.01 1952.86 310.876 Q1955.01 309.718 1958.09 309.718 Q1958.53 309.718 1959.06 309.788 Q1959.59 309.834 1960.24 309.95 L1960.26 314.325 Z\" fill=\"#000000\" fill-rule=\"evenodd\" fill-opacity=\"1\" /><path clip-path=\"url(#clip500)\" d=\"M1985.87 322.241 L1985.87 324.325 L1966.28 324.325 Q1966.56 328.723 1968.92 331.037 Q1971.31 333.329 1975.54 333.329 Q1978 333.329 1980.29 332.727 Q1982.6 332.125 1984.87 330.922 L1984.87 334.95 Q1982.58 335.922 1980.17 336.431 Q1977.76 336.94 1975.29 336.94 Q1969.08 336.94 1965.45 333.329 Q1961.84 329.718 1961.84 323.561 Q1961.84 317.195 1965.26 313.468 Q1968.71 309.718 1974.55 309.718 Q1979.78 309.718 1982.81 313.098 Q1985.87 316.454 1985.87 322.241 M1981.61 320.991 Q1981.56 317.496 1979.64 315.413 Q1977.74 313.329 1974.59 313.329 Q1971.03 313.329 1968.88 315.343 Q1966.75 317.357 1966.42 321.014 L1981.61 320.991 Z\" fill=\"#000000\" fill-rule=\"evenodd\" fill-opacity=\"1\" /><path clip-path=\"url(#clip500)\" d=\"M2011.51 311.339 L2011.51 315.32 Q2009.71 314.325 2007.88 313.839 Q2006.07 313.329 2004.22 313.329 Q2000.08 313.329 1997.79 315.968 Q1995.5 318.584 1995.5 323.329 Q1995.5 328.075 1997.79 330.713 Q2000.08 333.329 2004.22 333.329 Q2006.07 333.329 2007.88 332.843 Q2009.71 332.334 2011.51 331.338 L2011.51 335.274 Q2009.73 336.107 2007.81 336.524 Q2005.91 336.94 2003.76 336.94 Q1997.9 336.94 1994.45 333.26 Q1991 329.579 1991 323.329 Q1991 316.987 1994.48 313.352 Q1997.97 309.718 2004.04 309.718 Q2006 309.718 2007.88 310.135 Q2009.75 310.528 2011.51 311.339 Z\" fill=\"#000000\" fill-rule=\"evenodd\" fill-opacity=\"1\" /><path clip-path=\"url(#clip500)\" d=\"M2028.97 313.329 Q2025.54 313.329 2023.55 316.014 Q2021.56 318.676 2021.56 323.329 Q2021.56 327.982 2023.53 330.667 Q2025.52 333.329 2028.97 333.329 Q2032.37 333.329 2034.36 330.644 Q2036.35 327.959 2036.35 323.329 Q2036.35 318.723 2034.36 316.038 Q2032.37 313.329 2028.97 313.329 M2028.97 309.718 Q2034.52 309.718 2037.69 313.329 Q2040.87 316.94 2040.87 323.329 Q2040.87 329.695 2037.69 333.329 Q2034.52 336.94 2028.97 336.94 Q2023.39 336.94 2020.22 333.329 Q2017.07 329.695 2017.07 323.329 Q2017.07 316.94 2020.22 313.329 Q2023.39 309.718 2028.97 309.718 Z\" fill=\"#000000\" fill-rule=\"evenodd\" fill-opacity=\"1\" /><path clip-path=\"url(#clip500)\" d=\"M2069.48 320.621 L2069.48 336.269 L2065.22 336.269 L2065.22 320.76 Q2065.22 317.079 2063.78 315.251 Q2062.35 313.422 2059.48 313.422 Q2056.03 313.422 2054.04 315.621 Q2052.05 317.82 2052.05 321.616 L2052.05 336.269 L2047.76 336.269 L2047.76 310.343 L2052.05 310.343 L2052.05 314.371 Q2053.57 312.033 2055.63 310.876 Q2057.72 309.718 2060.43 309.718 Q2064.89 309.718 2067.18 312.496 Q2069.48 315.251 2069.48 320.621 Z\" fill=\"#000000\" fill-rule=\"evenodd\" fill-opacity=\"1\" /><path clip-path=\"url(#clip500)\" d=\"M2094.5 311.107 L2094.5 315.135 Q2092.69 314.209 2090.75 313.746 Q2088.81 313.283 2086.72 313.283 Q2083.55 313.283 2081.95 314.255 Q2080.38 315.227 2080.38 317.172 Q2080.38 318.653 2081.51 319.51 Q2082.65 320.343 2086.07 321.107 L2087.53 321.431 Q2092.07 322.403 2093.97 324.186 Q2095.89 325.945 2095.89 329.116 Q2095.89 332.727 2093.02 334.834 Q2090.17 336.94 2085.17 336.94 Q2083.09 336.94 2080.82 336.524 Q2078.57 336.13 2076.07 335.32 L2076.07 330.922 Q2078.43 332.149 2080.73 332.774 Q2083.02 333.375 2085.26 333.375 Q2088.27 333.375 2089.89 332.357 Q2091.51 331.315 2091.51 329.44 Q2091.51 327.704 2090.33 326.778 Q2089.18 325.852 2085.22 324.996 L2083.74 324.649 Q2079.78 323.815 2078.02 322.102 Q2076.26 320.366 2076.26 317.357 Q2076.26 313.7 2078.85 311.709 Q2081.44 309.718 2086.21 309.718 Q2088.57 309.718 2090.66 310.065 Q2092.74 310.413 2094.5 311.107 Z\" fill=\"#000000\" fill-rule=\"evenodd\" fill-opacity=\"1\" /><path clip-path=\"url(#clip500)\" d=\"M2106.88 302.982 L2106.88 310.343 L2115.66 310.343 L2115.66 313.653 L2106.88 313.653 L2106.88 327.727 Q2106.88 330.899 2107.74 331.801 Q2108.62 332.704 2111.28 332.704 L2115.66 332.704 L2115.66 336.269 L2111.28 336.269 Q2106.35 336.269 2104.48 334.44 Q2102.6 332.588 2102.6 327.727 L2102.6 313.653 L2099.48 313.653 L2099.48 310.343 L2102.6 310.343 L2102.6 302.982 L2106.88 302.982 Z\" fill=\"#000000\" fill-rule=\"evenodd\" fill-opacity=\"1\" /><path clip-path=\"url(#clip500)\" d=\"M2136.28 314.325 Q2135.56 313.908 2134.71 313.723 Q2133.87 313.514 2132.86 313.514 Q2129.24 313.514 2127.3 315.876 Q2125.38 318.213 2125.38 322.612 L2125.38 336.269 L2121.1 336.269 L2121.1 310.343 L2125.38 310.343 L2125.38 314.371 Q2126.72 312.01 2128.87 310.876 Q2131.03 309.718 2134.11 309.718 Q2134.55 309.718 2135.08 309.788 Q2135.61 309.834 2136.26 309.95 L2136.28 314.325 Z\" fill=\"#000000\" fill-rule=\"evenodd\" fill-opacity=\"1\" /><path clip-path=\"url(#clip500)\" d=\"M2140.31 326.038 L2140.31 310.343 L2144.57 310.343 L2144.57 325.875 Q2144.57 329.556 2146 331.408 Q2147.44 333.237 2150.31 333.237 Q2153.76 333.237 2155.75 331.037 Q2157.76 328.838 2157.76 325.042 L2157.76 310.343 L2162.02 310.343 L2162.02 336.269 L2157.76 336.269 L2157.76 332.287 Q2156.21 334.649 2154.15 335.806 Q2152.11 336.94 2149.41 336.94 Q2144.94 336.94 2142.62 334.162 Q2140.31 331.385 2140.31 326.038 M2151.03 309.718 L2151.03 309.718 Z\" fill=\"#000000\" fill-rule=\"evenodd\" fill-opacity=\"1\" /><path clip-path=\"url(#clip500)\" d=\"M2189.45 311.339 L2189.45 315.32 Q2187.65 314.325 2185.82 313.839 Q2184.01 313.329 2182.16 313.329 Q2178.02 313.329 2175.73 315.968 Q2173.43 318.584 2173.43 323.329 Q2173.43 328.075 2175.73 330.713 Q2178.02 333.329 2182.16 333.329 Q2184.01 333.329 2185.82 332.843 Q2187.65 332.334 2189.45 331.338 L2189.45 335.274 Q2187.67 336.107 2185.75 336.524 Q2183.85 336.94 2181.7 336.94 Q2175.84 336.94 2172.39 333.26 Q2168.94 329.579 2168.94 323.329 Q2168.94 316.987 2172.42 313.352 Q2175.91 309.718 2181.98 309.718 Q2183.94 309.718 2185.82 310.135 Q2187.69 310.528 2189.45 311.339 Z\" fill=\"#000000\" fill-rule=\"evenodd\" fill-opacity=\"1\" /><path clip-path=\"url(#clip500)\" d=\"M2201.07 302.982 L2201.07 310.343 L2209.85 310.343 L2209.85 313.653 L2201.07 313.653 L2201.07 327.727 Q2201.07 330.899 2201.93 331.801 Q2202.81 332.704 2205.47 332.704 L2209.85 332.704 L2209.85 336.269 L2205.47 336.269 Q2200.54 336.269 2198.67 334.44 Q2196.79 332.588 2196.79 327.727 L2196.79 313.653 L2193.67 313.653 L2193.67 310.343 L2196.79 310.343 L2196.79 302.982 L2201.07 302.982 Z\" fill=\"#000000\" fill-rule=\"evenodd\" fill-opacity=\"1\" /><path clip-path=\"url(#clip500)\" d=\"M2215.45 310.343 L2219.71 310.343 L2219.71 336.269 L2215.45 336.269 L2215.45 310.343 M2215.45 300.251 L2219.71 300.251 L2219.71 305.644 L2215.45 305.644 L2215.45 300.251 Z\" fill=\"#000000\" fill-rule=\"evenodd\" fill-opacity=\"1\" /><path clip-path=\"url(#clip500)\" d=\"M2238.67 313.329 Q2235.24 313.329 2233.25 316.014 Q2231.26 318.676 2231.26 323.329 Q2231.26 327.982 2233.23 330.667 Q2235.22 333.329 2238.67 333.329 Q2242.07 333.329 2244.06 330.644 Q2246.05 327.959 2246.05 323.329 Q2246.05 318.723 2244.06 316.038 Q2242.07 313.329 2238.67 313.329 M2238.67 309.718 Q2244.22 309.718 2247.39 313.329 Q2250.56 316.94 2250.56 323.329 Q2250.56 329.695 2247.39 333.329 Q2244.22 336.94 2238.67 336.94 Q2233.09 336.94 2229.92 333.329 Q2226.77 329.695 2226.77 323.329 Q2226.77 316.94 2229.92 313.329 Q2233.09 309.718 2238.67 309.718 Z\" fill=\"#000000\" fill-rule=\"evenodd\" fill-opacity=\"1\" /><path clip-path=\"url(#clip500)\" d=\"M2279.17 320.621 L2279.17 336.269 L2274.92 336.269 L2274.92 320.76 Q2274.92 317.079 2273.48 315.251 Q2272.04 313.422 2269.17 313.422 Q2265.73 313.422 2263.73 315.621 Q2261.74 317.82 2261.74 321.616 L2261.74 336.269 L2257.46 336.269 L2257.46 310.343 L2261.74 310.343 L2261.74 314.371 Q2263.27 312.033 2265.33 310.876 Q2267.42 309.718 2270.12 309.718 Q2274.59 309.718 2276.88 312.496 Q2279.17 315.251 2279.17 320.621 Z\" fill=\"#000000\" fill-rule=\"evenodd\" fill-opacity=\"1\" /><path clip-path=\"url(#clip500)\" d=\"M2324.91 322.241 L2324.91 324.325 L2305.33 324.325 Q2305.61 328.723 2307.97 331.037 Q2310.35 333.329 2314.59 333.329 Q2317.04 333.329 2319.34 332.727 Q2321.65 332.125 2323.92 330.922 L2323.92 334.95 Q2321.63 335.922 2319.22 336.431 Q2316.81 336.94 2314.34 336.94 Q2308.13 336.94 2304.5 333.329 Q2300.89 329.718 2300.89 323.561 Q2300.89 317.195 2304.31 313.468 Q2307.76 309.718 2313.6 309.718 Q2318.83 309.718 2321.86 313.098 Q2324.91 316.454 2324.91 322.241 M2320.66 320.991 Q2320.61 317.496 2318.69 315.413 Q2316.79 313.329 2313.64 313.329 Q2310.08 313.329 2307.92 315.343 Q2305.79 317.357 2305.47 321.014 L2320.66 320.991 Z\" fill=\"#000000\" fill-rule=\"evenodd\" fill-opacity=\"1\" /><path clip-path=\"url(#clip500)\" d=\"M2346.93 314.325 Q2346.21 313.908 2345.35 313.723 Q2344.52 313.514 2343.5 313.514 Q2339.89 313.514 2337.95 315.876 Q2336.03 318.213 2336.03 322.612 L2336.03 336.269 L2331.74 336.269 L2331.74 310.343 L2336.03 310.343 L2336.03 314.371 Q2337.37 312.01 2339.52 310.876 Q2341.67 309.718 2344.75 309.718 Q2345.19 309.718 2345.72 309.788 Q2346.26 309.834 2346.91 309.95 L2346.93 314.325 Z\" fill=\"#000000\" fill-rule=\"evenodd\" fill-opacity=\"1\" /><path clip-path=\"url(#clip500)\" d=\"M2365.59 314.325 Q2364.87 313.908 2364.01 313.723 Q2363.18 313.514 2362.16 313.514 Q2358.55 313.514 2356.6 315.876 Q2354.68 318.213 2354.68 322.612 L2354.68 336.269 L2350.4 336.269 L2350.4 310.343 L2354.68 310.343 L2354.68 314.371 Q2356.03 312.01 2358.18 310.876 Q2360.33 309.718 2363.41 309.718 Q2363.85 309.718 2364.38 309.788 Q2364.91 309.834 2365.56 309.95 L2365.59 314.325 Z\" fill=\"#000000\" fill-rule=\"evenodd\" fill-opacity=\"1\" /><path clip-path=\"url(#clip500)\" d=\"M2379.06 313.329 Q2375.63 313.329 2373.64 316.014 Q2371.65 318.676 2371.65 323.329 Q2371.65 327.982 2373.62 330.667 Q2375.61 333.329 2379.06 333.329 Q2382.46 333.329 2384.45 330.644 Q2386.44 327.959 2386.44 323.329 Q2386.44 318.723 2384.45 316.038 Q2382.46 313.329 2379.06 313.329 M2379.06 309.718 Q2384.61 309.718 2387.78 313.329 Q2390.96 316.94 2390.96 323.329 Q2390.96 329.695 2387.78 333.329 Q2384.61 336.94 2379.06 336.94 Q2373.48 336.94 2370.31 333.329 Q2367.16 329.695 2367.16 323.329 Q2367.16 316.94 2370.31 313.329 Q2373.48 309.718 2379.06 309.718 Z\" fill=\"#000000\" fill-rule=\"evenodd\" fill-opacity=\"1\" /><path clip-path=\"url(#clip500)\" d=\"M2413.04 314.325 Q2412.32 313.908 2411.47 313.723 Q2410.63 313.514 2409.61 313.514 Q2406 313.514 2404.06 315.876 Q2402.14 318.213 2402.14 322.612 L2402.14 336.269 L2397.85 336.269 L2397.85 310.343 L2402.14 310.343 L2402.14 314.371 Q2403.48 312.01 2405.63 310.876 Q2407.78 309.718 2410.86 309.718 Q2411.3 309.718 2411.84 309.788 Q2412.37 309.834 2413.02 309.95 L2413.04 314.325 Z\" fill=\"#000000\" fill-rule=\"evenodd\" fill-opacity=\"1\" /><path clip-path=\"url(#clip500)\" d=\"\n",
       "M2841.61 3013.49 L5152.76 3013.49 L5152.76 118.82 L2841.61 118.82  Z\n",
       "  \" fill=\"#ffffff\" fill-rule=\"evenodd\" fill-opacity=\"1\"/>\n",
       "<defs>\n",
       "  <clipPath id=\"clip503\">\n",
       "    <rect x=\"2841\" y=\"118\" width=\"2312\" height=\"2896\"/>\n",
       "  </clipPath>\n",
       "</defs>\n",
       "<polyline clip-path=\"url(#clip503)\" style=\"stroke:#000000; stroke-linecap:butt; stroke-linejoin:round; stroke-width:2; stroke-opacity:0.1; fill:none\" points=\"\n",
       "  3045.3,3013.49 3045.3,118.82 \n",
       "  \"/>\n",
       "<polyline clip-path=\"url(#clip503)\" style=\"stroke:#000000; stroke-linecap:butt; stroke-linejoin:round; stroke-width:2; stroke-opacity:0.1; fill:none\" points=\"\n",
       "  3425.84,3013.49 3425.84,118.82 \n",
       "  \"/>\n",
       "<polyline clip-path=\"url(#clip503)\" style=\"stroke:#000000; stroke-linecap:butt; stroke-linejoin:round; stroke-width:2; stroke-opacity:0.1; fill:none\" points=\"\n",
       "  3806.38,3013.49 3806.38,118.82 \n",
       "  \"/>\n",
       "<polyline clip-path=\"url(#clip503)\" style=\"stroke:#000000; stroke-linecap:butt; stroke-linejoin:round; stroke-width:2; stroke-opacity:0.1; fill:none\" points=\"\n",
       "  4186.92,3013.49 4186.92,118.82 \n",
       "  \"/>\n",
       "<polyline clip-path=\"url(#clip503)\" style=\"stroke:#000000; stroke-linecap:butt; stroke-linejoin:round; stroke-width:2; stroke-opacity:0.1; fill:none\" points=\"\n",
       "  4567.45,3013.49 4567.45,118.82 \n",
       "  \"/>\n",
       "<polyline clip-path=\"url(#clip503)\" style=\"stroke:#000000; stroke-linecap:butt; stroke-linejoin:round; stroke-width:2; stroke-opacity:0.1; fill:none\" points=\"\n",
       "  4947.99,3013.49 4947.99,118.82 \n",
       "  \"/>\n",
       "<polyline clip-path=\"url(#clip500)\" style=\"stroke:#000000; stroke-linecap:butt; stroke-linejoin:round; stroke-width:4; stroke-opacity:1; fill:none\" points=\"\n",
       "  2841.61,3013.49 5152.76,3013.49 \n",
       "  \"/>\n",
       "<polyline clip-path=\"url(#clip500)\" style=\"stroke:#000000; stroke-linecap:butt; stroke-linejoin:round; stroke-width:4; stroke-opacity:1; fill:none\" points=\"\n",
       "  3045.3,3013.49 3045.3,2994.6 \n",
       "  \"/>\n",
       "<polyline clip-path=\"url(#clip500)\" style=\"stroke:#000000; stroke-linecap:butt; stroke-linejoin:round; stroke-width:4; stroke-opacity:1; fill:none\" points=\"\n",
       "  3425.84,3013.49 3425.84,2994.6 \n",
       "  \"/>\n",
       "<polyline clip-path=\"url(#clip500)\" style=\"stroke:#000000; stroke-linecap:butt; stroke-linejoin:round; stroke-width:4; stroke-opacity:1; fill:none\" points=\"\n",
       "  3806.38,3013.49 3806.38,2994.6 \n",
       "  \"/>\n",
       "<polyline clip-path=\"url(#clip500)\" style=\"stroke:#000000; stroke-linecap:butt; stroke-linejoin:round; stroke-width:4; stroke-opacity:1; fill:none\" points=\"\n",
       "  4186.92,3013.49 4186.92,2994.6 \n",
       "  \"/>\n",
       "<polyline clip-path=\"url(#clip500)\" style=\"stroke:#000000; stroke-linecap:butt; stroke-linejoin:round; stroke-width:4; stroke-opacity:1; fill:none\" points=\"\n",
       "  4567.45,3013.49 4567.45,2994.6 \n",
       "  \"/>\n",
       "<polyline clip-path=\"url(#clip500)\" style=\"stroke:#000000; stroke-linecap:butt; stroke-linejoin:round; stroke-width:4; stroke-opacity:1; fill:none\" points=\"\n",
       "  4947.99,3013.49 4947.99,2994.6 \n",
       "  \"/>\n",
       "<path clip-path=\"url(#clip500)\" d=\"M3035.68 3094.36 L3043.32 3094.36 L3043.32 3067.99 L3035.01 3069.66 L3035.01 3065.4 L3043.27 3063.73 L3047.95 3063.73 L3047.95 3094.36 L3055.59 3094.36 L3055.59 3098.29 L3035.68 3098.29 L3035.68 3094.36 Z\" fill=\"#000000\" fill-rule=\"evenodd\" fill-opacity=\"1\" /><path clip-path=\"url(#clip500)\" d=\"M3420.49 3094.36 L3436.81 3094.36 L3436.81 3098.29 L3414.86 3098.29 L3414.86 3094.36 Q3417.53 3091.6 3422.11 3086.97 Q3426.72 3082.32 3427.9 3080.98 Q3430.14 3078.46 3431.02 3076.72 Q3431.92 3074.96 3431.92 3073.27 Q3431.92 3070.52 3429.98 3068.78 Q3428.06 3067.04 3424.96 3067.04 Q3422.76 3067.04 3420.3 3067.81 Q3417.87 3068.57 3415.1 3070.12 L3415.1 3065.4 Q3417.92 3064.27 3420.37 3063.69 Q3422.83 3063.11 3424.86 3063.11 Q3430.24 3063.11 3433.43 3065.79 Q3436.62 3068.48 3436.62 3072.97 Q3436.62 3075.1 3435.81 3077.02 Q3435.03 3078.92 3432.92 3081.51 Q3432.34 3082.18 3429.24 3085.4 Q3426.14 3088.59 3420.49 3094.36 Z\" fill=\"#000000\" fill-rule=\"evenodd\" fill-opacity=\"1\" /><path clip-path=\"url(#clip500)\" d=\"M3810.62 3079.66 Q3813.98 3080.38 3815.86 3082.65 Q3817.75 3084.91 3817.75 3088.25 Q3817.75 3093.36 3814.23 3096.16 Q3810.72 3098.96 3804.23 3098.96 Q3802.06 3098.96 3799.74 3098.53 Q3797.45 3098.11 3795 3097.25 L3795 3092.74 Q3796.94 3093.87 3799.26 3094.45 Q3801.57 3095.03 3804.1 3095.03 Q3808.49 3095.03 3810.79 3093.29 Q3813.1 3091.56 3813.1 3088.25 Q3813.1 3085.19 3810.95 3083.48 Q3808.82 3081.74 3805 3081.74 L3800.97 3081.74 L3800.97 3077.9 L3805.18 3077.9 Q3808.63 3077.9 3810.46 3076.53 Q3812.29 3075.15 3812.29 3072.55 Q3812.29 3069.89 3810.39 3068.48 Q3808.52 3067.04 3805 3067.04 Q3803.08 3067.04 3800.88 3067.46 Q3798.68 3067.88 3796.04 3068.76 L3796.04 3064.59 Q3798.7 3063.85 3801.02 3063.48 Q3803.36 3063.11 3805.42 3063.11 Q3810.74 3063.11 3813.84 3065.54 Q3816.94 3067.95 3816.94 3072.07 Q3816.94 3074.94 3815.3 3076.93 Q3813.66 3078.9 3810.62 3079.66 Z\" fill=\"#000000\" fill-rule=\"evenodd\" fill-opacity=\"1\" /><path clip-path=\"url(#clip500)\" d=\"M4189.92 3067.81 L4178.12 3086.26 L4189.92 3086.26 L4189.92 3067.81 M4188.7 3063.73 L4194.58 3063.73 L4194.58 3086.26 L4199.51 3086.26 L4199.51 3090.15 L4194.58 3090.15 L4194.58 3098.29 L4189.92 3098.29 L4189.92 3090.15 L4174.32 3090.15 L4174.32 3085.63 L4188.7 3063.73 Z\" fill=\"#000000\" fill-rule=\"evenodd\" fill-opacity=\"1\" /><path clip-path=\"url(#clip500)\" d=\"M4557.73 3063.73 L4576.09 3063.73 L4576.09 3067.67 L4562.01 3067.67 L4562.01 3076.14 Q4563.03 3075.79 4564.05 3075.63 Q4565.07 3075.45 4566.09 3075.45 Q4571.88 3075.45 4575.26 3078.62 Q4578.63 3081.79 4578.63 3087.21 Q4578.63 3092.78 4575.16 3095.89 Q4571.69 3098.96 4565.37 3098.96 Q4563.2 3098.96 4560.93 3098.59 Q4558.68 3098.22 4556.27 3097.48 L4556.27 3092.78 Q4558.36 3093.92 4560.58 3094.47 Q4562.8 3095.03 4565.28 3095.03 Q4569.28 3095.03 4571.62 3092.92 Q4573.96 3090.82 4573.96 3087.21 Q4573.96 3083.59 4571.62 3081.49 Q4569.28 3079.38 4565.28 3079.38 Q4563.4 3079.38 4561.53 3079.8 Q4559.68 3080.22 4557.73 3081.09 L4557.73 3063.73 Z\" fill=\"#000000\" fill-rule=\"evenodd\" fill-opacity=\"1\" /><path clip-path=\"url(#clip500)\" d=\"M4948.4 3079.15 Q4945.25 3079.15 4943.4 3081.3 Q4941.57 3083.46 4941.57 3087.21 Q4941.57 3090.93 4943.4 3093.11 Q4945.25 3095.26 4948.4 3095.26 Q4951.55 3095.26 4953.38 3093.11 Q4955.23 3090.93 4955.23 3087.21 Q4955.23 3083.46 4953.38 3081.3 Q4951.55 3079.15 4948.4 3079.15 M4957.68 3064.5 L4957.68 3068.76 Q4955.92 3067.92 4954.12 3067.48 Q4952.33 3067.04 4950.57 3067.04 Q4945.94 3067.04 4943.49 3070.17 Q4941.06 3073.29 4940.71 3079.61 Q4942.08 3077.6 4944.14 3076.53 Q4946.2 3075.45 4948.68 3075.45 Q4953.88 3075.45 4956.89 3078.62 Q4959.93 3081.77 4959.93 3087.21 Q4959.93 3092.53 4956.78 3095.75 Q4953.63 3098.96 4948.4 3098.96 Q4942.4 3098.96 4939.23 3094.38 Q4936.06 3089.78 4936.06 3081.05 Q4936.06 3072.85 4939.95 3067.99 Q4943.84 3063.11 4950.39 3063.11 Q4952.15 3063.11 4953.93 3063.46 Q4955.74 3063.8 4957.68 3064.5 Z\" fill=\"#000000\" fill-rule=\"evenodd\" fill-opacity=\"1\" /><path clip-path=\"url(#clip500)\" d=\"M3722.93 3152.84 L3729.36 3152.84 L3729.36 3172.92 L3750.69 3152.84 L3758.96 3152.84 L3735.38 3174.99 L3760.65 3200.36 L3752.18 3200.36 L3729.36 3177.47 L3729.36 3200.36 L3722.93 3200.36 L3722.93 3152.84 Z\" fill=\"#000000\" fill-rule=\"evenodd\" fill-opacity=\"1\" /><path clip-path=\"url(#clip500)\" d=\"M3780.48 3182.44 Q3773.38 3182.44 3770.64 3184.06 Q3767.9 3185.68 3767.9 3189.6 Q3767.9 3192.72 3769.94 3194.56 Q3772.01 3196.38 3775.54 3196.38 Q3780.41 3196.38 3783.34 3192.94 Q3786.3 3189.47 3786.3 3183.74 L3786.3 3182.44 L3780.48 3182.44 M3792.16 3180.02 L3792.16 3200.36 L3786.3 3200.36 L3786.3 3194.95 Q3784.3 3198.19 3781.3 3199.75 Q3778.31 3201.28 3773.98 3201.28 Q3768.51 3201.28 3765.26 3198.23 Q3762.05 3195.14 3762.05 3189.98 Q3762.05 3183.97 3766.06 3180.91 Q3770.1 3177.85 3778.09 3177.85 L3786.3 3177.85 L3786.3 3177.28 Q3786.3 3173.24 3783.63 3171.04 Q3780.99 3168.82 3776.18 3168.82 Q3773.12 3168.82 3770.23 3169.55 Q3767.33 3170.28 3764.66 3171.74 L3764.66 3166.33 Q3767.87 3165.09 3770.9 3164.49 Q3773.92 3163.85 3776.79 3163.85 Q3784.52 3163.85 3788.34 3167.86 Q3792.16 3171.87 3792.16 3180.02 Z\" fill=\"#000000\" fill-rule=\"evenodd\" fill-opacity=\"1\" /><path clip-path=\"url(#clip500)\" d=\"M3833.85 3178.84 L3833.85 3200.36 L3828 3200.36 L3828 3179.03 Q3828 3173.97 3826.02 3171.46 Q3824.05 3168.94 3820.1 3168.94 Q3815.36 3168.94 3812.62 3171.97 Q3809.89 3174.99 3809.89 3180.21 L3809.89 3200.36 L3804 3200.36 L3804 3150.83 L3809.89 3150.83 L3809.89 3170.25 Q3811.99 3167.03 3814.82 3165.44 Q3817.68 3163.85 3821.41 3163.85 Q3827.55 3163.85 3830.7 3167.67 Q3833.85 3171.46 3833.85 3178.84 Z\" fill=\"#000000\" fill-rule=\"evenodd\" fill-opacity=\"1\" /><path clip-path=\"url(#clip500)\" d=\"M3861.74 3182.44 Q3854.64 3182.44 3851.9 3184.06 Q3849.16 3185.68 3849.16 3189.6 Q3849.16 3192.72 3851.2 3194.56 Q3853.27 3196.38 3856.8 3196.38 Q3861.67 3196.38 3864.6 3192.94 Q3867.56 3189.47 3867.56 3183.74 L3867.56 3182.44 L3861.74 3182.44 M3873.42 3180.02 L3873.42 3200.36 L3867.56 3200.36 L3867.56 3194.95 Q3865.55 3198.19 3862.56 3199.75 Q3859.57 3201.28 3855.24 3201.28 Q3849.77 3201.28 3846.52 3198.23 Q3843.31 3195.14 3843.31 3189.98 Q3843.31 3183.97 3847.32 3180.91 Q3851.36 3177.85 3859.35 3177.85 L3867.56 3177.85 L3867.56 3177.28 Q3867.56 3173.24 3864.89 3171.04 Q3862.24 3168.82 3857.44 3168.82 Q3854.38 3168.82 3851.49 3169.55 Q3848.59 3170.28 3845.92 3171.74 L3845.92 3166.33 Q3849.13 3165.09 3852.15 3164.49 Q3855.18 3163.85 3858.04 3163.85 Q3865.78 3163.85 3869.6 3167.86 Q3873.42 3171.87 3873.42 3180.02 Z\" fill=\"#000000\" fill-rule=\"evenodd\" fill-opacity=\"1\" /><path clip-path=\"url(#clip500)\" d=\"M3915.11 3178.84 L3915.11 3200.36 L3909.26 3200.36 L3909.26 3179.03 Q3909.26 3173.97 3907.28 3171.46 Q3905.31 3168.94 3901.36 3168.94 Q3896.62 3168.94 3893.88 3171.97 Q3891.14 3174.99 3891.14 3180.21 L3891.14 3200.36 L3885.26 3200.36 L3885.26 3164.71 L3891.14 3164.71 L3891.14 3170.25 Q3893.25 3167.03 3896.08 3165.44 Q3898.94 3163.85 3902.67 3163.85 Q3908.81 3163.85 3911.96 3167.67 Q3915.11 3171.46 3915.11 3178.84 Z\" fill=\"#000000\" fill-rule=\"evenodd\" fill-opacity=\"1\" /><path clip-path=\"url(#clip500)\" d=\"M3975.27 3171.55 Q3977.46 3167.61 3980.52 3165.73 Q3983.57 3163.85 3987.71 3163.85 Q3993.28 3163.85 3996.31 3167.77 Q3999.33 3171.65 3999.33 3178.84 L3999.33 3200.36 L3993.44 3200.36 L3993.44 3179.03 Q3993.44 3173.91 3991.63 3171.43 Q3989.81 3168.94 3986.09 3168.94 Q3981.54 3168.94 3978.9 3171.97 Q3976.25 3174.99 3976.25 3180.21 L3976.25 3200.36 L3970.37 3200.36 L3970.37 3179.03 Q3970.37 3173.88 3968.55 3171.43 Q3966.74 3168.94 3962.95 3168.94 Q3958.46 3168.94 3955.82 3172 Q3953.18 3175.02 3953.18 3180.21 L3953.18 3200.36 L3947.29 3200.36 L3947.29 3164.71 L3953.18 3164.71 L3953.18 3170.25 Q3955.18 3166.97 3957.98 3165.41 Q3960.79 3163.85 3964.64 3163.85 Q3968.52 3163.85 3971.23 3165.82 Q3973.96 3167.8 3975.27 3171.55 Z\" fill=\"#000000\" fill-rule=\"evenodd\" fill-opacity=\"1\" /><path clip-path=\"url(#clip500)\" d=\"M4027.21 3182.44 Q4020.11 3182.44 4017.38 3184.06 Q4014.64 3185.68 4014.64 3189.6 Q4014.64 3192.72 4016.68 3194.56 Q4018.75 3196.38 4022.28 3196.38 Q4027.15 3196.38 4030.08 3192.94 Q4033.04 3189.47 4033.04 3183.74 L4033.04 3182.44 L4027.21 3182.44 M4038.89 3180.02 L4038.89 3200.36 L4033.04 3200.36 L4033.04 3194.95 Q4031.03 3198.19 4028.04 3199.75 Q4025.05 3201.28 4020.72 3201.28 Q4015.24 3201.28 4012 3198.23 Q4008.78 3195.14 4008.78 3189.98 Q4008.78 3183.97 4012.79 3180.91 Q4016.84 3177.85 4024.82 3177.85 L4033.04 3177.85 L4033.04 3177.28 Q4033.04 3173.24 4030.36 3171.04 Q4027.72 3168.82 4022.92 3168.82 Q4019.86 3168.82 4016.96 3169.55 Q4014.07 3170.28 4011.39 3171.74 L4011.39 3166.33 Q4014.61 3165.09 4017.63 3164.49 Q4020.66 3163.85 4023.52 3163.85 Q4031.25 3163.85 4035.07 3167.86 Q4038.89 3171.87 4038.89 3180.02 Z\" fill=\"#000000\" fill-rule=\"evenodd\" fill-opacity=\"1\" /><path clip-path=\"url(#clip500)\" d=\"M4056.75 3154.59 L4056.75 3164.71 L4068.81 3164.71 L4068.81 3169.26 L4056.75 3169.26 L4056.75 3188.61 Q4056.75 3192.97 4057.93 3194.21 Q4059.14 3195.46 4062.8 3195.46 L4068.81 3195.46 L4068.81 3200.36 L4062.8 3200.36 Q4056.02 3200.36 4053.44 3197.84 Q4050.86 3195.3 4050.86 3188.61 L4050.86 3169.26 L4046.56 3169.26 L4046.56 3164.71 L4050.86 3164.71 L4050.86 3154.59 L4056.75 3154.59 Z\" fill=\"#000000\" fill-rule=\"evenodd\" fill-opacity=\"1\" /><path clip-path=\"url(#clip500)\" d=\"M4097.17 3170.18 Q4096.18 3169.61 4095.01 3169.36 Q4093.86 3169.07 4092.46 3169.07 Q4087.5 3169.07 4084.82 3172.32 Q4082.18 3175.53 4082.18 3181.58 L4082.18 3200.36 L4076.29 3200.36 L4076.29 3164.71 L4082.18 3164.71 L4082.18 3170.25 Q4084.03 3167 4086.99 3165.44 Q4089.95 3163.85 4094.18 3163.85 Q4094.78 3163.85 4095.52 3163.95 Q4096.25 3164.01 4097.14 3164.17 L4097.17 3170.18 Z\" fill=\"#000000\" fill-rule=\"evenodd\" fill-opacity=\"1\" /><path clip-path=\"url(#clip500)\" d=\"M4103.31 3164.71 L4109.17 3164.71 L4109.17 3200.36 L4103.31 3200.36 L4103.31 3164.71 M4103.31 3150.83 L4109.17 3150.83 L4109.17 3158.25 L4103.31 3158.25 L4103.31 3150.83 Z\" fill=\"#000000\" fill-rule=\"evenodd\" fill-opacity=\"1\" /><path clip-path=\"url(#clip500)\" d=\"M4151.06 3164.71 L4138.17 3182.06 L4151.73 3200.36 L4144.82 3200.36 L4134.44 3186.35 L4124.07 3200.36 L4117.16 3200.36 L4131 3181.71 L4118.34 3164.71 L4125.24 3164.71 L4134.7 3177.41 L4144.15 3164.71 L4151.06 3164.71 Z\" fill=\"#000000\" fill-rule=\"evenodd\" fill-opacity=\"1\" /><path clip-path=\"url(#clip500)\" d=\"M4204.66 3177.76 L4184.38 3177.76 Q4184.86 3187.28 4187.05 3191.32 Q4189.79 3196.28 4194.53 3196.28 Q4199.31 3196.28 4201.95 3191.29 Q4204.27 3186.89 4204.66 3177.76 M4204.56 3172.35 Q4203.67 3163.31 4201.95 3160.13 Q4199.21 3155.1 4194.53 3155.1 Q4189.66 3155.1 4187.09 3160.06 Q4185.05 3164.07 4184.44 3172.35 L4204.56 3172.35 M4194.53 3150.32 Q4202.17 3150.32 4206.53 3157.07 Q4210.89 3163.79 4210.89 3175.69 Q4210.89 3187.56 4206.53 3194.31 Q4202.17 3201.09 4194.53 3201.09 Q4186.86 3201.09 4182.54 3194.31 Q4178.17 3187.56 4178.17 3175.69 Q4178.17 3163.79 4182.54 3157.07 Q4186.86 3150.32 4194.53 3150.32 Z\" fill=\"#000000\" fill-rule=\"evenodd\" fill-opacity=\"1\" /><path clip-path=\"url(#clip500)\" d=\"M4218.82 3166.14 L4244.51 3166.14 L4244.51 3169.17 L4218.82 3169.17 L4218.82 3166.14 Z\" fill=\"#000000\" fill-rule=\"evenodd\" fill-opacity=\"1\" /><path clip-path=\"url(#clip500)\" d=\"M4253.83 3175.6 L4260.32 3175.6 L4260.32 3156.15 L4253.23 3157.45 L4253.23 3153.76 L4260.55 3152.52 L4264.91 3152.52 L4264.91 3175.6 L4271.43 3175.6 L4271.43 3179.1 L4253.83 3179.1 L4253.83 3175.6 Z\" fill=\"#000000\" fill-rule=\"evenodd\" fill-opacity=\"1\" /><polyline clip-path=\"url(#clip503)\" style=\"stroke:#000000; stroke-linecap:butt; stroke-linejoin:round; stroke-width:2; stroke-opacity:0.1; fill:none\" points=\"\n",
       "  2841.61,1669.83 5152.76,1669.83 \n",
       "  \"/>\n",
       "<polyline clip-path=\"url(#clip503)\" style=\"stroke:#000000; stroke-linecap:butt; stroke-linejoin:round; stroke-width:2; stroke-opacity:0.1; fill:none\" points=\"\n",
       "  2841.61,169.29 5152.76,169.29 \n",
       "  \"/>\n",
       "<polyline clip-path=\"url(#clip500)\" style=\"stroke:#000000; stroke-linecap:butt; stroke-linejoin:round; stroke-width:4; stroke-opacity:1; fill:none\" points=\"\n",
       "  2841.61,3013.49 2841.61,118.82 \n",
       "  \"/>\n",
       "<polyline clip-path=\"url(#clip500)\" style=\"stroke:#000000; stroke-linecap:butt; stroke-linejoin:round; stroke-width:4; stroke-opacity:1; fill:none\" points=\"\n",
       "  2841.61,1669.83 2860.51,1669.83 \n",
       "  \"/>\n",
       "<polyline clip-path=\"url(#clip500)\" style=\"stroke:#000000; stroke-linecap:butt; stroke-linejoin:round; stroke-width:4; stroke-opacity:1; fill:none\" points=\"\n",
       "  2841.61,169.29 2860.51,169.29 \n",
       "  \"/>\n",
       "<path clip-path=\"url(#clip500)\" d=\"M2637.66 1689.62 L2645.3 1689.62 L2645.3 1663.25 L2636.99 1664.92 L2636.99 1660.66 L2645.26 1658.99 L2649.93 1658.99 L2649.93 1689.62 L2657.57 1689.62 L2657.57 1693.55 L2637.66 1693.55 L2637.66 1689.62 Z\" fill=\"#000000\" fill-rule=\"evenodd\" fill-opacity=\"1\" /><path clip-path=\"url(#clip500)\" d=\"M2677.02 1662.07 Q2673.4 1662.07 2671.58 1665.64 Q2669.77 1669.18 2669.77 1676.31 Q2669.77 1683.41 2671.58 1686.98 Q2673.4 1690.52 2677.02 1690.52 Q2680.65 1690.52 2682.45 1686.98 Q2684.28 1683.41 2684.28 1676.31 Q2684.28 1669.18 2682.45 1665.64 Q2680.65 1662.07 2677.02 1662.07 M2677.02 1658.37 Q2682.83 1658.37 2685.88 1662.97 Q2688.96 1667.56 2688.96 1676.31 Q2688.96 1685.03 2685.88 1689.64 Q2682.83 1694.22 2677.02 1694.22 Q2671.2 1694.22 2668.13 1689.64 Q2665.07 1685.03 2665.07 1676.31 Q2665.07 1667.56 2668.13 1662.97 Q2671.2 1658.37 2677.02 1658.37 Z\" fill=\"#000000\" fill-rule=\"evenodd\" fill-opacity=\"1\" /><path clip-path=\"url(#clip500)\" d=\"M2688.96 1652.47 L2713.07 1652.47 L2713.07 1655.67 L2688.96 1655.67 L2688.96 1652.47 Z\" fill=\"#000000\" fill-rule=\"evenodd\" fill-opacity=\"1\" /><path clip-path=\"url(#clip500)\" d=\"M2721.93 1662.95 L2728.14 1662.95 L2728.14 1641.52 L2721.38 1642.88 L2721.38 1639.42 L2728.1 1638.06 L2731.9 1638.06 L2731.9 1662.95 L2738.1 1662.95 L2738.1 1666.14 L2721.93 1666.14 L2721.93 1662.95 Z\" fill=\"#000000\" fill-rule=\"evenodd\" fill-opacity=\"1\" /><path clip-path=\"url(#clip500)\" d=\"M2753.9 1640.56 Q2750.97 1640.56 2749.48 1643.46 Q2748.02 1646.34 2748.02 1652.13 Q2748.02 1657.9 2749.48 1660.8 Q2750.97 1663.68 2753.9 1663.68 Q2756.86 1663.68 2758.32 1660.8 Q2759.81 1657.9 2759.81 1652.13 Q2759.81 1646.34 2758.32 1643.46 Q2756.86 1640.56 2753.9 1640.56 M2753.9 1637.55 Q2758.62 1637.55 2761.11 1641.3 Q2763.61 1645.02 2763.61 1652.13 Q2763.61 1659.22 2761.11 1662.96 Q2758.62 1666.69 2753.9 1666.69 Q2749.18 1666.69 2746.68 1662.96 Q2744.2 1659.22 2744.2 1652.13 Q2744.2 1645.02 2746.68 1641.3 Q2749.18 1637.55 2753.9 1637.55 Z\" fill=\"#000000\" fill-rule=\"evenodd\" fill-opacity=\"1\" /><path clip-path=\"url(#clip500)\" d=\"M2692.9 189.082 L2700.54 189.082 L2700.54 162.717 L2692.23 164.383 L2692.23 160.124 L2700.49 158.457 L2705.17 158.457 L2705.17 189.082 L2712.81 189.082 L2712.81 193.017 L2692.9 193.017 L2692.9 189.082 Z\" fill=\"#000000\" fill-rule=\"evenodd\" fill-opacity=\"1\" /><path clip-path=\"url(#clip500)\" d=\"M2732.25 161.536 Q2728.64 161.536 2726.81 165.101 Q2725.01 168.643 2725.01 175.772 Q2725.01 182.879 2726.81 186.443 Q2728.64 189.985 2732.25 189.985 Q2735.89 189.985 2737.69 186.443 Q2739.52 182.879 2739.52 175.772 Q2739.52 168.643 2737.69 165.101 Q2735.89 161.536 2732.25 161.536 M2732.25 157.832 Q2738.06 157.832 2741.12 162.439 Q2744.2 167.022 2744.2 175.772 Q2744.2 184.499 2741.12 189.105 Q2738.06 193.689 2732.25 193.689 Q2726.44 193.689 2723.36 189.105 Q2720.31 184.499 2720.31 175.772 Q2720.31 167.022 2723.36 162.439 Q2726.44 157.832 2732.25 157.832 Z\" fill=\"#000000\" fill-rule=\"evenodd\" fill-opacity=\"1\" /><path clip-path=\"url(#clip500)\" d=\"M2753.9 140.028 Q2750.97 140.028 2749.48 142.925 Q2748.02 145.802 2748.02 151.595 Q2748.02 157.369 2749.48 160.266 Q2750.97 163.143 2753.9 163.143 Q2756.86 163.143 2758.32 160.266 Q2759.81 157.369 2759.81 151.595 Q2759.81 145.802 2758.32 142.925 Q2756.86 140.028 2753.9 140.028 M2753.9 137.019 Q2758.62 137.019 2761.11 140.762 Q2763.61 144.486 2763.61 151.595 Q2763.61 158.686 2761.11 162.428 Q2758.62 166.152 2753.9 166.152 Q2749.18 166.152 2746.68 162.428 Q2744.2 158.686 2744.2 151.595 Q2744.2 144.486 2746.68 140.762 Q2749.18 137.019 2753.9 137.019 Z\" fill=\"#000000\" fill-rule=\"evenodd\" fill-opacity=\"1\" /><path clip-path=\"url(#clip500)\" d=\"M3512.11 12.096 L3524.3 12.096 L3539.73 53.2532 L3555.25 12.096 L3567.44 12.096 L3567.44 72.576 L3559.46 72.576 L3559.46 19.4686 L3543.87 60.9499 L3535.64 60.9499 L3520.05 19.4686 L3520.05 72.576 L3512.11 72.576 L3512.11 12.096 Z\" fill=\"#000000\" fill-rule=\"evenodd\" fill-opacity=\"1\" /><path clip-path=\"url(#clip500)\" d=\"M3600.94 32.4315 Q3594.95 32.4315 3591.46 37.1306 Q3587.98 41.7891 3587.98 49.9314 Q3587.98 58.0738 3591.42 62.7728 Q3594.91 67.4314 3600.94 67.4314 Q3606.9 67.4314 3610.38 62.7323 Q3613.86 58.0333 3613.86 49.9314 Q3613.86 41.8701 3610.38 37.1711 Q3606.9 32.4315 3600.94 32.4315 M3600.94 26.1121 Q3610.66 26.1121 3616.21 32.4315 Q3621.76 38.7509 3621.76 49.9314 Q3621.76 61.0714 3616.21 67.4314 Q3610.66 73.7508 3600.94 73.7508 Q3591.18 73.7508 3585.63 67.4314 Q3580.12 61.0714 3580.12 49.9314 Q3580.12 38.7509 3585.63 32.4315 Q3591.18 26.1121 3600.94 26.1121 Z\" fill=\"#000000\" fill-rule=\"evenodd\" fill-opacity=\"1\" /><path clip-path=\"url(#clip500)\" d=\"M3663.97 34.0924 L3663.97 9.54393 L3671.43 9.54393 L3671.43 72.576 L3663.97 72.576 L3663.97 65.7705 Q3661.63 69.8214 3658.02 71.8063 Q3654.45 73.7508 3649.43 73.7508 Q3641.21 73.7508 3636.02 67.1883 Q3630.88 60.6258 3630.88 49.9314 Q3630.88 39.2371 3636.02 32.6746 Q3641.21 26.1121 3649.43 26.1121 Q3654.45 26.1121 3658.02 28.0971 Q3661.63 30.0415 3663.97 34.0924 M3638.58 49.9314 Q3638.58 58.1548 3641.94 62.8538 Q3645.34 67.5124 3651.25 67.5124 Q3657.17 67.5124 3660.57 62.8538 Q3663.97 58.1548 3663.97 49.9314 Q3663.97 41.7081 3660.57 37.0496 Q3657.17 32.3505 3651.25 32.3505 Q3645.34 32.3505 3641.94 37.0496 Q3638.58 41.7081 3638.58 49.9314 Z\" fill=\"#000000\" fill-rule=\"evenodd\" fill-opacity=\"1\" /><path clip-path=\"url(#clip500)\" d=\"M3686.78 27.2059 L3694.23 27.2059 L3694.23 72.576 L3686.78 72.576 L3686.78 27.2059 M3686.78 9.54393 L3694.23 9.54393 L3694.23 18.9825 L3686.78 18.9825 L3686.78 9.54393 Z\" fill=\"#000000\" fill-rule=\"evenodd\" fill-opacity=\"1\" /><path clip-path=\"url(#clip500)\" d=\"M3732.8 9.54393 L3732.8 15.7418 L3725.67 15.7418 Q3721.66 15.7418 3720.08 17.3622 Q3718.54 18.9825 3718.54 23.1955 L3718.54 27.2059 L3730.81 27.2059 L3730.81 32.9987 L3718.54 32.9987 L3718.54 72.576 L3711.05 72.576 L3711.05 32.9987 L3703.92 32.9987 L3703.92 27.2059 L3711.05 27.2059 L3711.05 24.0462 Q3711.05 16.471 3714.57 13.0277 Q3718.09 9.54393 3725.75 9.54393 L3732.8 9.54393 Z\" fill=\"#000000\" fill-rule=\"evenodd\" fill-opacity=\"1\" /><path clip-path=\"url(#clip500)\" d=\"M3739.04 27.2059 L3746.49 27.2059 L3746.49 72.576 L3739.04 72.576 L3739.04 27.2059 M3739.04 9.54393 L3746.49 9.54393 L3746.49 18.9825 L3739.04 18.9825 L3739.04 9.54393 Z\" fill=\"#000000\" fill-rule=\"evenodd\" fill-opacity=\"1\" /><path clip-path=\"url(#clip500)\" d=\"M3800.9 48.0275 L3800.9 51.6733 L3766.62 51.6733 Q3767.11 59.3701 3771.24 63.421 Q3775.41 67.4314 3782.83 67.4314 Q3787.12 67.4314 3791.13 66.3781 Q3795.18 65.3249 3799.15 63.2184 L3799.15 70.267 Q3795.14 71.9684 3790.93 72.8596 Q3786.72 73.7508 3782.38 73.7508 Q3771.53 73.7508 3765.17 67.4314 Q3758.85 61.1119 3758.85 50.3365 Q3758.85 39.1965 3764.84 32.6746 Q3770.88 26.1121 3781.09 26.1121 Q3790.24 26.1121 3795.55 32.0264 Q3800.9 37.9003 3800.9 48.0275 M3793.44 45.84 Q3793.36 39.7232 3790 36.0774 Q3786.68 32.4315 3781.17 32.4315 Q3774.93 32.4315 3771.16 35.9558 Q3767.43 39.4801 3766.87 45.8805 L3793.44 45.84 Z\" fill=\"#000000\" fill-rule=\"evenodd\" fill-opacity=\"1\" /><path clip-path=\"url(#clip500)\" d=\"M3842.98 34.0924 L3842.98 9.54393 L3850.44 9.54393 L3850.44 72.576 L3842.98 72.576 L3842.98 65.7705 Q3840.63 69.8214 3837.03 71.8063 Q3833.46 73.7508 3828.44 73.7508 Q3820.22 73.7508 3815.03 67.1883 Q3809.89 60.6258 3809.89 49.9314 Q3809.89 39.2371 3815.03 32.6746 Q3820.22 26.1121 3828.44 26.1121 Q3833.46 26.1121 3837.03 28.0971 Q3840.63 30.0415 3842.98 34.0924 M3817.58 49.9314 Q3817.58 58.1548 3820.95 62.8538 Q3824.35 67.5124 3830.26 67.5124 Q3836.18 67.5124 3839.58 62.8538 Q3842.98 58.1548 3842.98 49.9314 Q3842.98 41.7081 3839.58 37.0496 Q3836.18 32.3505 3830.26 32.3505 Q3824.35 32.3505 3820.95 37.0496 Q3817.58 41.7081 3817.58 49.9314 Z\" fill=\"#000000\" fill-rule=\"evenodd\" fill-opacity=\"1\" /><path clip-path=\"url(#clip500)\" d=\"M3933.72 63.9476 L3933.72 47.7034 L3920.36 47.7034 L3920.36 40.9789 L3941.83 40.9789 L3941.83 66.9452 Q3937.09 70.3075 3931.37 72.0494 Q3925.66 73.7508 3919.18 73.7508 Q3905 73.7508 3896.98 65.4869 Q3889 57.1826 3889 42.3968 Q3889 27.5705 3896.98 19.3066 Q3905 11.0023 3919.18 11.0023 Q3925.1 11.0023 3930.4 12.4606 Q3935.75 13.9189 3940.25 16.7545 L3940.25 25.464 Q3935.71 21.6156 3930.61 19.6712 Q3925.5 17.7268 3919.87 17.7268 Q3908.77 17.7268 3903.18 23.9246 Q3897.63 30.1225 3897.63 42.3968 Q3897.63 54.6305 3903.18 60.8284 Q3908.77 67.0263 3919.87 67.0263 Q3924.2 67.0263 3927.61 66.2971 Q3931.01 65.5274 3933.72 63.9476 Z\" fill=\"#000000\" fill-rule=\"evenodd\" fill-opacity=\"1\" /><path clip-path=\"url(#clip500)\" d=\"M3982.74 34.1734 Q3981.48 33.4443 3979.99 33.1202 Q3978.53 32.7556 3976.74 32.7556 Q3970.43 32.7556 3967.02 36.8875 Q3963.66 40.9789 3963.66 48.6757 L3963.66 72.576 L3956.17 72.576 L3956.17 27.2059 L3963.66 27.2059 L3963.66 34.2544 Q3966.01 30.1225 3969.78 28.1376 Q3973.54 26.1121 3978.93 26.1121 Q3979.7 26.1121 3980.63 26.2337 Q3981.57 26.3147 3982.7 26.5172 L3982.74 34.1734 Z\" fill=\"#000000\" fill-rule=\"evenodd\" fill-opacity=\"1\" /><path clip-path=\"url(#clip500)\" d=\"M4011.18 49.7694 Q4002.14 49.7694 3998.66 51.8354 Q3995.18 53.9013 3995.18 58.8839 Q3995.18 62.8538 3997.77 65.2034 Q4000.4 67.5124 4004.9 67.5124 Q4011.1 67.5124 4014.82 63.1374 Q4018.59 58.7219 4018.59 51.4303 L4018.59 49.7694 L4011.18 49.7694 M4026.04 46.6907 L4026.04 72.576 L4018.59 72.576 L4018.59 65.6895 Q4016.04 69.8214 4012.23 71.8063 Q4008.42 73.7508 4002.91 73.7508 Q3995.95 73.7508 3991.81 69.8619 Q3987.72 65.9325 3987.72 59.3701 Q3987.72 51.7138 3992.83 47.825 Q3997.97 43.9361 4008.14 43.9361 L4018.59 43.9361 L4018.59 43.2069 Q4018.59 38.0623 4015.19 35.2672 Q4011.83 32.4315 4005.71 32.4315 Q4001.82 32.4315 3998.13 33.3632 Q3994.45 34.295 3991.04 36.1584 L3991.04 29.2718 Q3995.14 27.692 3998.98 26.9223 Q4002.83 26.1121 4006.48 26.1121 Q4016.32 26.1121 4021.18 31.2163 Q4026.04 36.3204 4026.04 46.6907 Z\" fill=\"#000000\" fill-rule=\"evenodd\" fill-opacity=\"1\" /><path clip-path=\"url(#clip500)\" d=\"M4076.72 35.9153 Q4079.52 30.8922 4083.41 28.5022 Q4087.29 26.1121 4092.56 26.1121 Q4099.65 26.1121 4103.5 31.0947 Q4107.35 36.0368 4107.35 45.1919 L4107.35 72.576 L4099.85 72.576 L4099.85 45.4349 Q4099.85 38.913 4097.54 35.7533 Q4095.23 32.5936 4090.49 32.5936 Q4084.7 32.5936 4081.34 36.4419 Q4077.98 40.2903 4077.98 46.9338 L4077.98 72.576 L4070.48 72.576 L4070.48 45.4349 Q4070.48 38.8725 4068.17 35.7533 Q4065.86 32.5936 4061.04 32.5936 Q4055.33 32.5936 4051.97 36.4824 Q4048.61 40.3308 4048.61 46.9338 L4048.61 72.576 L4041.11 72.576 L4041.11 27.2059 L4048.61 27.2059 L4048.61 34.2544 Q4051.16 30.082 4054.72 28.0971 Q4058.29 26.1121 4063.19 26.1121 Q4068.13 26.1121 4071.58 28.6237 Q4075.06 31.1352 4076.72 35.9153 Z\" fill=\"#000000\" fill-rule=\"evenodd\" fill-opacity=\"1\" /><path clip-path=\"url(#clip500)\" d=\"M4118.45 46.5287 L4140.28 46.5287 L4140.28 53.1722 L4118.45 53.1722 L4118.45 46.5287 Z\" fill=\"#000000\" fill-rule=\"evenodd\" fill-opacity=\"1\" /><path clip-path=\"url(#clip500)\" d=\"M4188.73 14.0809 L4188.73 22.0612 Q4184.07 19.8332 4179.94 18.7395 Q4175.81 17.6457 4171.96 17.6457 Q4165.27 17.6457 4161.63 20.2383 Q4158.02 22.8309 4158.02 27.611 Q4158.02 31.6214 4160.41 33.6873 Q4162.84 35.7128 4169.57 36.9686 L4174.51 37.9813 Q4183.67 39.7232 4188 44.1387 Q4192.37 48.5136 4192.37 55.8863 Q4192.37 64.6767 4186.46 69.2137 Q4180.59 73.7508 4169.2 73.7508 Q4164.91 73.7508 4160.05 72.7785 Q4155.23 71.8063 4150.04 69.9024 L4150.04 61.4765 Q4155.03 64.2716 4159.81 65.6895 Q4164.59 67.1073 4169.2 67.1073 Q4176.21 67.1073 4180.02 64.3527 Q4183.83 61.598 4183.83 56.4939 Q4183.83 52.0379 4181.07 49.5264 Q4178.36 47.0148 4172.12 45.759 L4167.14 44.7868 Q4157.98 42.9639 4153.89 39.075 Q4149.8 35.1862 4149.8 28.2591 Q4149.8 20.2383 4155.43 15.6203 Q4161.1 11.0023 4171.03 11.0023 Q4175.28 11.0023 4179.7 11.7719 Q4184.11 12.5416 4188.73 14.0809 Z\" fill=\"#000000\" fill-rule=\"evenodd\" fill-opacity=\"1\" /><path clip-path=\"url(#clip500)\" d=\"M4237.46 28.9478 L4237.46 35.9153 Q4234.3 34.1734 4231.1 33.3227 Q4227.94 32.4315 4224.7 32.4315 Q4217.45 32.4315 4213.44 37.0496 Q4209.43 41.6271 4209.43 49.9314 Q4209.43 58.2358 4213.44 62.8538 Q4217.45 67.4314 4224.7 67.4314 Q4227.94 67.4314 4231.1 66.5807 Q4234.3 65.6895 4237.46 63.9476 L4237.46 70.8341 Q4234.34 72.2924 4230.98 73.0216 Q4227.66 73.7508 4223.89 73.7508 Q4213.64 73.7508 4207.61 67.3098 Q4201.57 60.8689 4201.57 49.9314 Q4201.57 38.832 4207.65 32.472 Q4213.76 26.1121 4224.38 26.1121 Q4227.82 26.1121 4231.1 26.8413 Q4234.38 27.5299 4237.46 28.9478 Z\" fill=\"#000000\" fill-rule=\"evenodd\" fill-opacity=\"1\" /><path clip-path=\"url(#clip500)\" d=\"M4288.14 45.1919 L4288.14 72.576 L4280.68 72.576 L4280.68 45.4349 Q4280.68 38.994 4278.17 35.7938 Q4275.66 32.5936 4270.64 32.5936 Q4264.6 32.5936 4261.12 36.4419 Q4257.63 40.2903 4257.63 46.9338 L4257.63 72.576 L4250.14 72.576 L4250.14 9.54393 L4257.63 9.54393 L4257.63 34.2544 Q4260.31 30.163 4263.91 28.1376 Q4267.56 26.1121 4272.3 26.1121 Q4280.12 26.1121 4284.13 30.9732 Q4288.14 35.7938 4288.14 45.1919 Z\" fill=\"#000000\" fill-rule=\"evenodd\" fill-opacity=\"1\" /><path clip-path=\"url(#clip500)\" d=\"M4338.33 35.9153 Q4341.12 30.8922 4345.01 28.5022 Q4348.9 26.1121 4354.17 26.1121 Q4361.26 26.1121 4365.11 31.0947 Q4368.95 36.0368 4368.95 45.1919 L4368.95 72.576 L4361.46 72.576 L4361.46 45.4349 Q4361.46 38.913 4359.15 35.7533 Q4356.84 32.5936 4352.1 32.5936 Q4346.31 32.5936 4342.95 36.4419 Q4339.58 40.2903 4339.58 46.9338 L4339.58 72.576 L4332.09 72.576 L4332.09 45.4349 Q4332.09 38.8725 4329.78 35.7533 Q4327.47 32.5936 4322.65 32.5936 Q4316.94 32.5936 4313.58 36.4824 Q4310.22 40.3308 4310.22 46.9338 L4310.22 72.576 L4302.72 72.576 L4302.72 27.2059 L4310.22 27.2059 L4310.22 34.2544 Q4312.77 30.082 4316.33 28.0971 Q4319.9 26.1121 4324.8 26.1121 Q4329.74 26.1121 4333.18 28.6237 Q4336.67 31.1352 4338.33 35.9153 Z\" fill=\"#000000\" fill-rule=\"evenodd\" fill-opacity=\"1\" /><path clip-path=\"url(#clip500)\" d=\"M4383.82 27.2059 L4391.27 27.2059 L4391.27 72.576 L4383.82 72.576 L4383.82 27.2059 M4383.82 9.54393 L4391.27 9.54393 L4391.27 18.9825 L4383.82 18.9825 L4383.82 9.54393 Z\" fill=\"#000000\" fill-rule=\"evenodd\" fill-opacity=\"1\" /><path clip-path=\"url(#clip500)\" d=\"M4436.73 34.0924 L4436.73 9.54393 L4444.18 9.54393 L4444.18 72.576 L4436.73 72.576 L4436.73 65.7705 Q4434.38 69.8214 4430.77 71.8063 Q4427.21 73.7508 4422.18 73.7508 Q4413.96 73.7508 4408.77 67.1883 Q4403.63 60.6258 4403.63 49.9314 Q4403.63 39.2371 4408.77 32.6746 Q4413.96 26.1121 4422.18 26.1121 Q4427.21 26.1121 4430.77 28.0971 Q4434.38 30.0415 4436.73 34.0924 M4411.33 49.9314 Q4411.33 58.1548 4414.69 62.8538 Q4418.09 67.5124 4424.01 67.5124 Q4429.92 67.5124 4433.32 62.8538 Q4436.73 58.1548 4436.73 49.9314 Q4436.73 41.7081 4433.32 37.0496 Q4429.92 32.3505 4424.01 32.3505 Q4418.09 32.3505 4414.69 37.0496 Q4411.33 41.7081 4411.33 49.9314 Z\" fill=\"#000000\" fill-rule=\"evenodd\" fill-opacity=\"1\" /><path clip-path=\"url(#clip500)\" d=\"M4466.9 14.324 L4466.9 27.2059 L4482.26 27.2059 L4482.26 32.9987 L4466.9 32.9987 L4466.9 57.6282 Q4466.9 63.1779 4468.4 64.7578 Q4469.94 66.3376 4474.6 66.3376 L4482.26 66.3376 L4482.26 72.576 L4474.6 72.576 Q4465.97 72.576 4462.69 69.3758 Q4459.41 66.1351 4459.41 57.6282 L4459.41 32.9987 L4453.94 32.9987 L4453.94 27.2059 L4459.41 27.2059 L4459.41 14.324 L4466.9 14.324 Z\" fill=\"#000000\" fill-rule=\"evenodd\" fill-opacity=\"1\" /><polyline clip-path=\"url(#clip503)\" style=\"stroke:#009af9; stroke-linecap:butt; stroke-linejoin:round; stroke-width:8; stroke-opacity:1; fill:none\" points=\"\n",
       "  2907.02,5015.12 2919.13,2695.35 2931.24,2650.99 2943.36,2564.36 2955.47,2645.72 2967.58,2503.36 2979.69,2443.8 2991.81,2400.24 3003.92,2430.63 3016.03,2458.02 \n",
       "  3028.15,2348.55 3040.26,2424.33 3052.37,2363.13 3064.49,2321.09 3076.6,2287.16 3088.71,2257.88 3100.82,2231.67 3112.94,2207.7 3125.05,2191.57 3137.16,2179.33 \n",
       "  3149.28,2167.41 3161.39,2155.8 3173.5,2144.48 3185.61,2133.44 3197.73,2122.66 3209.84,2112.14 3221.95,2101.85 3234.07,2091.8 3246.18,2081.97 3258.29,2072.34 \n",
       "  3270.41,2062.92 3282.52,2053.7 3294.63,2044.66 3306.74,2035.79 3318.86,2027.1 3330.97,2018.58 3343.08,2010.21 3355.2,2001.99 3367.31,1993.93 3379.42,1986 \n",
       "  3391.53,1978.21 3403.65,1970.56 3415.76,1963.03 3427.87,1955.62 3439.99,1948.34 3452.1,1941.17 3464.21,1934.11 3476.33,1927.17 3488.44,1920.32 3500.55,1913.58 \n",
       "  3512.66,1906.94 3524.78,1900.4 3536.89,1893.95 3549,1887.59 3561.12,1881.31 3573.23,1875.13 3585.34,1869.03 3597.45,1863 3609.57,1857.06 3621.68,1851.2 \n",
       "  3633.79,1845.41 3645.91,1839.69 3658.02,1834.04 3670.13,1828.47 3682.25,1822.96 3694.36,1817.52 3706.47,1812.14 3718.58,1806.82 3730.7,1801.57 3742.81,1796.38 \n",
       "  3754.92,1791.25 3767.04,1786.17 3779.15,1781.15 3791.26,1776.18 3803.37,1771.27 3815.49,1766.42 3827.6,1761.61 3839.71,1756.85 3851.83,1752.14 3863.94,1747.49 \n",
       "  3876.05,1742.87 3888.17,1738.31 3900.28,1733.79 3912.39,1729.31 3924.5,1724.88 3936.62,1720.49 3948.73,1716.15 3960.84,1711.84 3972.96,1707.58 3985.07,1703.35 \n",
       "  3997.18,1699.17 4009.29,1695.02 4021.41,1690.91 4033.52,1686.83 4045.63,1682.8 4057.75,1678.8 4069.86,1674.83 4081.97,1670.9 4094.09,1667 4106.2,1663.13 \n",
       "  4118.31,1441.34 4130.42,1436.43 4142.54,1431.56 4154.65,1426.72 4166.76,1421.93 4178.88,2495.58 4190.99,2495.58 4203.1,2495.58 4215.21,2495.58 4227.33,2495.58 \n",
       "  4239.44,2495.58 4251.55,2495.58 4263.67,2495.58 4275.78,2495.58 4287.89,2495.58 4300.01,2495.58 4312.12,2495.58 4324.23,2495.58 4336.34,2495.58 4348.46,2495.58 \n",
       "  4360.57,2495.58 4372.68,2495.58 4384.8,2495.58 4396.91,2495.58 4409.02,2495.58 4421.13,2495.58 4433.25,2495.58 4445.36,2495.58 4457.47,2495.58 4469.59,2495.58 \n",
       "  4481.7,2495.58 4493.81,2495.58 4505.93,2495.58 4518.04,2495.58 4530.15,2495.58 4542.26,2495.58 4554.38,2495.58 4566.49,2495.58 4578.6,2495.58 4590.72,2495.58 \n",
       "  4602.83,2495.58 4614.94,2495.58 4627.05,2495.58 4639.17,2495.58 4651.28,2495.58 4663.39,2495.58 4675.51,2495.58 4687.62,2495.58 4699.73,2495.58 4711.84,2495.58 \n",
       "  4723.96,2495.58 4736.07,2495.58 4748.18,2495.58 4760.3,2495.58 4772.41,2495.58 4784.52,2495.58 4796.64,2495.58 4808.75,2495.58 4820.86,2495.58 4832.97,2495.58 \n",
       "  4845.09,2495.58 4857.2,2495.58 4869.31,2495.58 4881.43,2495.58 4893.54,2495.58 4905.65,2495.58 4917.76,2495.58 4929.88,2495.58 4941.99,2495.58 4954.1,2495.58 \n",
       "  4966.22,2495.58 4978.33,2495.58 4990.44,2495.58 5002.56,2495.58 5014.67,2495.58 5026.78,2495.58 5038.89,2495.58 5051.01,2495.58 5063.12,2495.58 5075.23,2495.58 \n",
       "  5087.35,2495.58 \n",
       "  \"/>\n",
       "<polyline clip-path=\"url(#clip503)\" style=\"stroke:#e26f46; stroke-linecap:butt; stroke-linejoin:round; stroke-width:8; stroke-opacity:1; fill:none\" points=\"\n",
       "  2907.02,2968.32 2919.13,2968.32 2931.24,2968.32 2943.36,2595.29 2955.47,2968.32 2967.58,2540.75 2979.69,2518.16 2991.81,2608.5 3003.92,2536.91 3016.03,2563.33 \n",
       "  3028.15,2504.95 3040.26,2540.75 3052.37,2527.54 3064.49,2518.16 3076.6,2527.54 3088.71,2510.89 3100.82,2491.74 3112.94,2540.75 3125.05,2518.16 3137.16,2527.54 \n",
       "  3149.28,2563.33 3161.39,2563.33 3173.5,2540.75 3185.61,2540.75 3197.73,2540.75 3209.84,2540.75 3221.95,2563.33 3234.07,2563.33 3246.18,2563.33 3258.29,2563.33 \n",
       "  3270.41,2563.33 3282.52,2504.95 3294.63,2510.89 3306.74,2518.16 3318.86,2518.16 3330.97,2527.54 3343.08,2527.54 3355.2,2504.95 3367.31,2510.89 3379.42,2510.89 \n",
       "  3391.53,2510.89 3403.65,2518.16 3415.76,2527.54 3427.87,2510.89 3439.99,2518.16 3452.1,2518.16 3464.21,2499.93 3476.33,2518.16 3488.44,2518.16 3500.55,2518.16 \n",
       "  3512.66,2527.54 3524.78,2527.54 3536.89,2540.75 3549,2563.33 3561.12,2563.33 3573.23,2563.33 3585.34,2563.33 3597.45,2563.33 3609.57,2563.33 3621.68,2563.33 \n",
       "  3633.79,2540.75 3645.91,2518.16 3658.02,2510.89 3670.13,2510.89 3682.25,2518.16 3694.36,2518.16 3706.47,2527.54 3718.58,2527.54 3730.7,2540.75 3742.81,2540.75 \n",
       "  3754.92,2540.75 3767.04,2540.75 3779.15,2540.75 3791.26,2518.16 3803.37,2518.16 3815.49,2518.16 3827.6,2527.54 3839.71,2527.54 3851.83,2540.75 3863.94,2540.75 \n",
       "  3876.05,2540.75 3888.17,2540.75 3900.28,2527.54 3912.39,2527.54 3924.5,2527.54 3936.62,2540.75 3948.73,2540.75 3960.84,2540.75 3972.96,2540.75 3985.07,2540.75 \n",
       "  3997.18,2563.33 4009.29,2563.33 4021.41,2563.33 4033.52,2563.33 4045.63,2563.33 4057.75,2563.33 4069.86,2563.33 4081.97,2563.33 4094.09,2563.33 4106.2,2518.16 \n",
       "  4118.31,2527.54 4130.42,2527.54 4142.54,2510.89 4154.65,2527.54 4166.76,2540.75 4178.88,2968.32 4190.99,2968.32 4203.1,2968.32 4215.21,2968.32 4227.33,2968.32 \n",
       "  4239.44,2968.32 4251.55,2968.32 4263.67,2968.32 4275.78,2968.32 4287.89,2968.32 4300.01,2968.32 4312.12,2968.32 4324.23,2968.32 4336.34,2968.32 4348.46,2968.32 \n",
       "  4360.57,2968.32 4372.68,2968.32 4384.8,2968.32 4396.91,2968.32 4409.02,2968.32 4421.13,2968.32 4433.25,2968.32 4445.36,2968.32 4457.47,2968.32 4469.59,2968.32 \n",
       "  4481.7,2968.32 4493.81,2968.32 4505.93,2968.32 4518.04,2968.32 4530.15,2968.32 4542.26,2968.32 4554.38,2968.32 4566.49,2968.32 4578.6,2968.32 4590.72,2968.32 \n",
       "  4602.83,2968.32 4614.94,2968.32 4627.05,2968.32 4639.17,2968.32 4651.28,2968.32 4663.39,2968.32 4675.51,2968.32 4687.62,2968.32 4699.73,2968.32 4711.84,2968.32 \n",
       "  4723.96,2968.32 4736.07,2968.32 4748.18,2968.32 4760.3,2968.32 4772.41,2968.32 4784.52,2968.32 4796.64,2968.32 4808.75,2968.32 4820.86,2968.32 4832.97,2968.32 \n",
       "  4845.09,2968.32 4857.2,2968.32 4869.31,2968.32 4881.43,2968.32 4893.54,2968.32 4905.65,2968.32 4917.76,2968.32 4929.88,2968.32 4941.99,2968.32 4954.1,2968.32 \n",
       "  4966.22,2968.32 4978.33,2968.32 4990.44,2968.32 5002.56,2968.32 5014.67,2968.32 5026.78,2968.32 5038.89,2968.32 5051.01,2968.32 5063.12,2968.32 5075.23,2968.32 \n",
       "  5087.35,2968.32 \n",
       "  \"/>\n",
       "<path clip-path=\"url(#clip500)\" d=\"\n",
       "M4339.64 370.829 L5075.72 370.829 L5075.72 215.309 L4339.64 215.309  Z\n",
       "  \" fill=\"#ffffff\" fill-rule=\"evenodd\" fill-opacity=\"1\"/>\n",
       "<polyline clip-path=\"url(#clip500)\" style=\"stroke:#000000; stroke-linecap:butt; stroke-linejoin:round; stroke-width:4; stroke-opacity:1; fill:none\" points=\"\n",
       "  4339.64,370.829 5075.72,370.829 5075.72,215.309 4339.64,215.309 4339.64,370.829 \n",
       "  \"/>\n",
       "<polyline clip-path=\"url(#clip500)\" style=\"stroke:#009af9; stroke-linecap:butt; stroke-linejoin:round; stroke-width:4; stroke-opacity:1; fill:none\" points=\"\n",
       "  4365.32,267.149 4519.4,267.149 \n",
       "  \"/>\n",
       "<path clip-path=\"url(#clip500)\" d=\"M4556.98 261.489 Q4553.55 261.489 4551.56 264.174 Q4549.57 266.836 4549.57 271.489 Q4549.57 276.142 4551.54 278.827 Q4553.53 281.489 4556.98 281.489 Q4560.38 281.489 4562.37 278.804 Q4564.36 276.119 4564.36 271.489 Q4564.36 266.883 4562.37 264.198 Q4560.38 261.489 4556.98 261.489 M4556.98 257.878 Q4562.53 257.878 4565.7 261.489 Q4568.88 265.1 4568.88 271.489 Q4568.88 277.855 4565.7 281.489 Q4562.53 285.1 4556.98 285.1 Q4551.4 285.1 4548.23 281.489 Q4545.08 277.855 4545.08 271.489 Q4545.08 265.1 4548.23 261.489 Q4551.4 257.878 4556.98 257.878 Z\" fill=\"#000000\" fill-rule=\"evenodd\" fill-opacity=\"1\" /><path clip-path=\"url(#clip500)\" d=\"M4590.96 262.485 Q4590.24 262.068 4589.38 261.883 Q4588.55 261.674 4587.53 261.674 Q4583.92 261.674 4581.98 264.036 Q4580.06 266.373 4580.06 270.772 L4580.06 284.429 L4575.77 284.429 L4575.77 258.503 L4580.06 258.503 L4580.06 262.531 Q4581.4 260.17 4583.55 259.036 Q4585.7 257.878 4588.78 257.878 Q4589.22 257.878 4589.75 257.948 Q4590.29 257.994 4590.94 258.11 L4590.96 262.485 Z\" fill=\"#000000\" fill-rule=\"evenodd\" fill-opacity=\"1\" /><path clip-path=\"url(#clip500)\" d=\"M4599.64 251.142 L4599.64 258.503 L4608.41 258.503 L4608.41 261.813 L4599.64 261.813 L4599.64 275.887 Q4599.64 279.059 4600.5 279.961 Q4601.37 280.864 4604.04 280.864 L4608.41 280.864 L4608.41 284.429 L4604.04 284.429 Q4599.11 284.429 4597.23 282.6 Q4595.36 280.748 4595.36 275.887 L4595.36 261.813 L4592.23 261.813 L4592.23 258.503 L4595.36 258.503 L4595.36 251.142 L4599.64 251.142 Z\" fill=\"#000000\" fill-rule=\"evenodd\" fill-opacity=\"1\" /><path clip-path=\"url(#clip500)\" d=\"M4635.56 268.781 L4635.56 284.429 L4631.31 284.429 L4631.31 268.92 Q4631.31 265.239 4629.87 263.411 Q4628.43 261.582 4625.56 261.582 Q4622.12 261.582 4620.12 263.781 Q4618.13 265.98 4618.13 269.776 L4618.13 284.429 L4613.85 284.429 L4613.85 248.411 L4618.13 248.411 L4618.13 262.531 Q4619.66 260.193 4621.72 259.036 Q4623.81 257.878 4626.51 257.878 Q4630.98 257.878 4633.27 260.656 Q4635.56 263.411 4635.56 268.781 Z\" fill=\"#000000\" fill-rule=\"evenodd\" fill-opacity=\"1\" /><path clip-path=\"url(#clip500)\" d=\"M4654.11 261.489 Q4650.68 261.489 4648.69 264.174 Q4646.7 266.836 4646.7 271.489 Q4646.7 276.142 4648.67 278.827 Q4650.66 281.489 4654.11 281.489 Q4657.51 281.489 4659.5 278.804 Q4661.49 276.119 4661.49 271.489 Q4661.49 266.883 4659.5 264.198 Q4657.51 261.489 4654.11 261.489 M4654.11 257.878 Q4659.66 257.878 4662.83 261.489 Q4666 265.1 4666 271.489 Q4666 277.855 4662.83 281.489 Q4659.66 285.1 4654.11 285.1 Q4648.53 285.1 4645.36 281.489 Q4642.21 277.855 4642.21 271.489 Q4642.21 265.1 4645.36 261.489 Q4648.53 257.878 4654.11 257.878 Z\" fill=\"#000000\" fill-rule=\"evenodd\" fill-opacity=\"1\" /><path clip-path=\"url(#clip500)\" d=\"M4694.62 268.781 L4694.62 284.429 L4690.36 284.429 L4690.36 268.92 Q4690.36 265.239 4688.92 263.411 Q4687.49 261.582 4684.62 261.582 Q4681.17 261.582 4679.18 263.781 Q4677.18 265.98 4677.18 269.776 L4677.18 284.429 L4672.9 284.429 L4672.9 258.503 L4677.18 258.503 L4677.18 262.531 Q4678.71 260.193 4680.77 259.036 Q4682.86 257.878 4685.56 257.878 Q4690.03 257.878 4692.32 260.656 Q4694.62 263.411 4694.62 268.781 Z\" fill=\"#000000\" fill-rule=\"evenodd\" fill-opacity=\"1\" /><path clip-path=\"url(#clip500)\" d=\"M4713.16 261.489 Q4709.73 261.489 4707.74 264.174 Q4705.75 266.836 4705.75 271.489 Q4705.75 276.142 4707.72 278.827 Q4709.71 281.489 4713.16 281.489 Q4716.56 281.489 4718.55 278.804 Q4720.54 276.119 4720.54 271.489 Q4720.54 266.883 4718.55 264.198 Q4716.56 261.489 4713.16 261.489 M4713.16 257.878 Q4718.71 257.878 4721.88 261.489 Q4725.05 265.1 4725.05 271.489 Q4725.05 277.855 4721.88 281.489 Q4718.71 285.1 4713.16 285.1 Q4707.58 285.1 4704.41 281.489 Q4701.26 277.855 4701.26 271.489 Q4701.26 265.1 4704.41 261.489 Q4707.58 257.878 4713.16 257.878 Z\" fill=\"#000000\" fill-rule=\"evenodd\" fill-opacity=\"1\" /><path clip-path=\"url(#clip500)\" d=\"M4747.14 262.485 Q4746.42 262.068 4745.56 261.883 Q4744.73 261.674 4743.71 261.674 Q4740.1 261.674 4738.16 264.036 Q4736.24 266.373 4736.24 270.772 L4736.24 284.429 L4731.95 284.429 L4731.95 258.503 L4736.24 258.503 L4736.24 262.531 Q4737.58 260.17 4739.73 259.036 Q4741.88 257.878 4744.96 257.878 Q4745.4 257.878 4745.93 257.948 Q4746.47 257.994 4747.11 258.11 L4747.14 262.485 Z\" fill=\"#000000\" fill-rule=\"evenodd\" fill-opacity=\"1\" /><path clip-path=\"url(#clip500)\" d=\"M4770.96 263.48 Q4772.55 260.61 4774.78 259.244 Q4777 257.878 4780.01 257.878 Q4784.06 257.878 4786.26 260.725 Q4788.46 263.549 4788.46 268.781 L4788.46 284.429 L4784.17 284.429 L4784.17 268.92 Q4784.17 265.193 4782.86 263.387 Q4781.54 261.582 4778.83 261.582 Q4775.52 261.582 4773.6 263.781 Q4771.67 265.98 4771.67 269.776 L4771.67 284.429 L4767.39 284.429 L4767.39 268.92 Q4767.39 265.17 4766.07 263.387 Q4764.75 261.582 4762 261.582 Q4758.74 261.582 4756.81 263.804 Q4754.89 266.003 4754.89 269.776 L4754.89 284.429 L4750.61 284.429 L4750.61 258.503 L4754.89 258.503 L4754.89 262.531 Q4756.35 260.147 4758.39 259.012 Q4760.42 257.878 4763.23 257.878 Q4766.05 257.878 4768.02 259.313 Q4770.01 260.749 4770.96 263.48 Z\" fill=\"#000000\" fill-rule=\"evenodd\" fill-opacity=\"1\" /><path clip-path=\"url(#clip500)\" d=\"M4808.73 271.397 Q4803.57 271.397 4801.58 272.577 Q4799.59 273.758 4799.59 276.605 Q4799.59 278.873 4801.07 280.216 Q4802.58 281.535 4805.15 281.535 Q4808.69 281.535 4810.82 279.035 Q4812.97 276.512 4812.97 272.346 L4812.97 271.397 L4808.73 271.397 M4817.23 269.637 L4817.23 284.429 L4812.97 284.429 L4812.97 280.494 Q4811.51 282.855 4809.34 283.989 Q4807.16 285.1 4804.01 285.1 Q4800.03 285.1 4797.67 282.878 Q4795.33 280.633 4795.33 276.883 Q4795.33 272.508 4798.25 270.286 Q4801.19 268.063 4807 268.063 L4812.97 268.063 L4812.97 267.647 Q4812.97 264.707 4811.03 263.11 Q4809.11 261.489 4805.61 261.489 Q4803.39 261.489 4801.28 262.022 Q4799.17 262.554 4797.23 263.619 L4797.23 259.684 Q4799.57 258.781 4801.77 258.341 Q4803.97 257.878 4806.05 257.878 Q4811.67 257.878 4814.45 260.795 Q4817.23 263.711 4817.23 269.637 Z\" fill=\"#000000\" fill-rule=\"evenodd\" fill-opacity=\"1\" /><path clip-path=\"url(#clip500)\" d=\"M4826 248.411 L4830.26 248.411 L4830.26 284.429 L4826 284.429 L4826 248.411 Z\" fill=\"#000000\" fill-rule=\"evenodd\" fill-opacity=\"1\" /><path clip-path=\"url(#clip500)\" d=\"M4839.17 258.503 L4843.43 258.503 L4843.43 284.429 L4839.17 284.429 L4839.17 258.503 M4839.17 248.411 L4843.43 248.411 L4843.43 253.804 L4839.17 253.804 L4839.17 248.411 Z\" fill=\"#000000\" fill-rule=\"evenodd\" fill-opacity=\"1\" /><path clip-path=\"url(#clip500)\" d=\"M4856.56 251.142 L4856.56 258.503 L4865.33 258.503 L4865.33 261.813 L4856.56 261.813 L4856.56 275.887 Q4856.56 279.059 4857.42 279.961 Q4858.29 280.864 4860.96 280.864 L4865.33 280.864 L4865.33 284.429 L4860.96 284.429 Q4856.03 284.429 4854.15 282.6 Q4852.28 280.748 4852.28 275.887 L4852.28 261.813 L4849.15 261.813 L4849.15 258.503 L4852.28 258.503 L4852.28 251.142 L4856.56 251.142 Z\" fill=\"#000000\" fill-rule=\"evenodd\" fill-opacity=\"1\" /><path clip-path=\"url(#clip500)\" d=\"M4881.72 286.836 Q4879.92 291.466 4878.2 292.878 Q4876.49 294.29 4873.62 294.29 L4870.22 294.29 L4870.22 290.725 L4872.72 290.725 Q4874.48 290.725 4875.45 289.892 Q4876.42 289.059 4877.6 285.957 L4878.36 284.012 L4867.88 258.503 L4872.39 258.503 L4880.49 278.781 L4888.6 258.503 L4893.11 258.503 L4881.72 286.836 Z\" fill=\"#000000\" fill-rule=\"evenodd\" fill-opacity=\"1\" /><path clip-path=\"url(#clip500)\" d=\"M4936.23 270.401 L4936.23 272.485 L4916.65 272.485 Q4916.93 276.883 4919.29 279.197 Q4921.67 281.489 4925.91 281.489 Q4928.36 281.489 4930.66 280.887 Q4932.97 280.285 4935.24 279.082 L4935.24 283.11 Q4932.95 284.082 4930.54 284.591 Q4928.13 285.1 4925.66 285.1 Q4919.45 285.1 4915.82 281.489 Q4912.21 277.878 4912.21 271.721 Q4912.21 265.355 4915.63 261.628 Q4919.08 257.878 4924.91 257.878 Q4930.15 257.878 4933.18 261.258 Q4936.23 264.614 4936.23 270.401 M4931.98 269.151 Q4931.93 265.656 4930.01 263.573 Q4928.11 261.489 4924.96 261.489 Q4921.4 261.489 4919.24 263.503 Q4917.11 265.517 4916.79 269.174 L4931.98 269.151 Z\" fill=\"#000000\" fill-rule=\"evenodd\" fill-opacity=\"1\" /><path clip-path=\"url(#clip500)\" d=\"M4958.25 262.485 Q4957.53 262.068 4956.67 261.883 Q4955.84 261.674 4954.82 261.674 Q4951.21 261.674 4949.27 264.036 Q4947.35 266.373 4947.35 270.772 L4947.35 284.429 L4943.06 284.429 L4943.06 258.503 L4947.35 258.503 L4947.35 262.531 Q4948.69 260.17 4950.84 259.036 Q4952.99 257.878 4956.07 257.878 Q4956.51 257.878 4957.04 257.948 Q4957.58 257.994 4958.22 258.11 L4958.25 262.485 Z\" fill=\"#000000\" fill-rule=\"evenodd\" fill-opacity=\"1\" /><path clip-path=\"url(#clip500)\" d=\"M4976.91 262.485 Q4976.19 262.068 4975.33 261.883 Q4974.5 261.674 4973.48 261.674 Q4969.87 261.674 4967.92 264.036 Q4966 266.373 4966 270.772 L4966 284.429 L4961.72 284.429 L4961.72 258.503 L4966 258.503 L4966 262.531 Q4967.35 260.17 4969.5 259.036 Q4971.65 257.878 4974.73 257.878 Q4975.17 257.878 4975.7 257.948 Q4976.23 257.994 4976.88 258.11 L4976.91 262.485 Z\" fill=\"#000000\" fill-rule=\"evenodd\" fill-opacity=\"1\" /><path clip-path=\"url(#clip500)\" d=\"M4990.38 261.489 Q4986.95 261.489 4984.96 264.174 Q4982.97 266.836 4982.97 271.489 Q4982.97 276.142 4984.94 278.827 Q4986.93 281.489 4990.38 281.489 Q4993.78 281.489 4995.77 278.804 Q4997.76 276.119 4997.76 271.489 Q4997.76 266.883 4995.77 264.198 Q4993.78 261.489 4990.38 261.489 M4990.38 257.878 Q4995.93 257.878 4999.1 261.489 Q5002.28 265.1 5002.28 271.489 Q5002.28 277.855 4999.1 281.489 Q4995.93 285.1 4990.38 285.1 Q4984.8 285.1 4981.63 281.489 Q4978.48 277.855 4978.48 271.489 Q4978.48 265.1 4981.63 261.489 Q4984.8 257.878 4990.38 257.878 Z\" fill=\"#000000\" fill-rule=\"evenodd\" fill-opacity=\"1\" /><path clip-path=\"url(#clip500)\" d=\"M5024.36 262.485 Q5023.64 262.068 5022.78 261.883 Q5021.95 261.674 5020.93 261.674 Q5017.32 261.674 5015.38 264.036 Q5013.46 266.373 5013.46 270.772 L5013.46 284.429 L5009.17 284.429 L5009.17 258.503 L5013.46 258.503 L5013.46 262.531 Q5014.8 260.17 5016.95 259.036 Q5019.1 257.878 5022.18 257.878 Q5022.62 257.878 5023.16 257.948 Q5023.69 257.994 5024.34 258.11 L5024.36 262.485 Z\" fill=\"#000000\" fill-rule=\"evenodd\" fill-opacity=\"1\" /><polyline clip-path=\"url(#clip500)\" style=\"stroke:#e26f46; stroke-linecap:butt; stroke-linejoin:round; stroke-width:4; stroke-opacity:1; fill:none\" points=\"\n",
       "  4365.32,318.989 4519.4,318.989 \n",
       "  \"/>\n",
       "<path clip-path=\"url(#clip500)\" d=\"M4560.26 314.325 Q4559.55 313.908 4558.69 313.723 Q4557.86 313.514 4556.84 313.514 Q4553.23 313.514 4551.28 315.876 Q4549.36 318.213 4549.36 322.612 L4549.36 336.269 L4545.08 336.269 L4545.08 310.343 L4549.36 310.343 L4549.36 314.371 Q4550.7 312.01 4552.86 310.876 Q4555.01 309.718 4558.09 309.718 Q4558.53 309.718 4559.06 309.788 Q4559.59 309.834 4560.24 309.95 L4560.26 314.325 Z\" fill=\"#000000\" fill-rule=\"evenodd\" fill-opacity=\"1\" /><path clip-path=\"url(#clip500)\" d=\"M4585.87 322.241 L4585.87 324.325 L4566.28 324.325 Q4566.56 328.723 4568.92 331.037 Q4571.31 333.329 4575.54 333.329 Q4578 333.329 4580.29 332.727 Q4582.6 332.125 4584.87 330.922 L4584.87 334.95 Q4582.58 335.922 4580.17 336.431 Q4577.76 336.94 4575.29 336.94 Q4569.08 336.94 4565.45 333.329 Q4561.84 329.718 4561.84 323.561 Q4561.84 317.195 4565.26 313.468 Q4568.71 309.718 4574.55 309.718 Q4579.78 309.718 4582.81 313.098 Q4585.87 316.454 4585.87 322.241 M4581.61 320.991 Q4581.56 317.496 4579.64 315.413 Q4577.74 313.329 4574.59 313.329 Q4571.03 313.329 4568.88 315.343 Q4566.75 317.357 4566.42 321.014 L4581.61 320.991 Z\" fill=\"#000000\" fill-rule=\"evenodd\" fill-opacity=\"1\" /><path clip-path=\"url(#clip500)\" d=\"M4611.51 311.339 L4611.51 315.32 Q4609.71 314.325 4607.88 313.839 Q4606.07 313.329 4604.22 313.329 Q4600.08 313.329 4597.79 315.968 Q4595.5 318.584 4595.5 323.329 Q4595.5 328.075 4597.79 330.713 Q4600.08 333.329 4604.22 333.329 Q4606.07 333.329 4607.88 332.843 Q4609.71 332.334 4611.51 331.338 L4611.51 335.274 Q4609.73 336.107 4607.81 336.524 Q4605.91 336.94 4603.76 336.94 Q4597.9 336.94 4594.45 333.26 Q4591 329.579 4591 323.329 Q4591 316.987 4594.48 313.352 Q4597.97 309.718 4604.04 309.718 Q4606 309.718 4607.88 310.135 Q4609.75 310.528 4611.51 311.339 Z\" fill=\"#000000\" fill-rule=\"evenodd\" fill-opacity=\"1\" /><path clip-path=\"url(#clip500)\" d=\"M4628.97 313.329 Q4625.54 313.329 4623.55 316.014 Q4621.56 318.676 4621.56 323.329 Q4621.56 327.982 4623.53 330.667 Q4625.52 333.329 4628.97 333.329 Q4632.37 333.329 4634.36 330.644 Q4636.35 327.959 4636.35 323.329 Q4636.35 318.723 4634.36 316.038 Q4632.37 313.329 4628.97 313.329 M4628.97 309.718 Q4634.52 309.718 4637.69 313.329 Q4640.87 316.94 4640.87 323.329 Q4640.87 329.695 4637.69 333.329 Q4634.52 336.94 4628.97 336.94 Q4623.39 336.94 4620.22 333.329 Q4617.07 329.695 4617.07 323.329 Q4617.07 316.94 4620.22 313.329 Q4623.39 309.718 4628.97 309.718 Z\" fill=\"#000000\" fill-rule=\"evenodd\" fill-opacity=\"1\" /><path clip-path=\"url(#clip500)\" d=\"M4669.48 320.621 L4669.48 336.269 L4665.22 336.269 L4665.22 320.76 Q4665.22 317.079 4663.78 315.251 Q4662.35 313.422 4659.48 313.422 Q4656.03 313.422 4654.04 315.621 Q4652.05 317.82 4652.05 321.616 L4652.05 336.269 L4647.76 336.269 L4647.76 310.343 L4652.05 310.343 L4652.05 314.371 Q4653.57 312.033 4655.63 310.876 Q4657.72 309.718 4660.43 309.718 Q4664.89 309.718 4667.18 312.496 Q4669.48 315.251 4669.48 320.621 Z\" fill=\"#000000\" fill-rule=\"evenodd\" fill-opacity=\"1\" /><path clip-path=\"url(#clip500)\" d=\"M4694.5 311.107 L4694.5 315.135 Q4692.69 314.209 4690.75 313.746 Q4688.81 313.283 4686.72 313.283 Q4683.55 313.283 4681.95 314.255 Q4680.38 315.227 4680.38 317.172 Q4680.38 318.653 4681.51 319.51 Q4682.65 320.343 4686.07 321.107 L4687.53 321.431 Q4692.07 322.403 4693.97 324.186 Q4695.89 325.945 4695.89 329.116 Q4695.89 332.727 4693.02 334.834 Q4690.17 336.94 4685.17 336.94 Q4683.09 336.94 4680.82 336.524 Q4678.57 336.13 4676.07 335.32 L4676.07 330.922 Q4678.43 332.149 4680.73 332.774 Q4683.02 333.375 4685.26 333.375 Q4688.27 333.375 4689.89 332.357 Q4691.51 331.315 4691.51 329.44 Q4691.51 327.704 4690.33 326.778 Q4689.18 325.852 4685.22 324.996 L4683.74 324.649 Q4679.78 323.815 4678.02 322.102 Q4676.26 320.366 4676.26 317.357 Q4676.26 313.7 4678.85 311.709 Q4681.44 309.718 4686.21 309.718 Q4688.57 309.718 4690.66 310.065 Q4692.74 310.413 4694.5 311.107 Z\" fill=\"#000000\" fill-rule=\"evenodd\" fill-opacity=\"1\" /><path clip-path=\"url(#clip500)\" d=\"M4706.88 302.982 L4706.88 310.343 L4715.66 310.343 L4715.66 313.653 L4706.88 313.653 L4706.88 327.727 Q4706.88 330.899 4707.74 331.801 Q4708.62 332.704 4711.28 332.704 L4715.66 332.704 L4715.66 336.269 L4711.28 336.269 Q4706.35 336.269 4704.48 334.44 Q4702.6 332.588 4702.6 327.727 L4702.6 313.653 L4699.48 313.653 L4699.48 310.343 L4702.6 310.343 L4702.6 302.982 L4706.88 302.982 Z\" fill=\"#000000\" fill-rule=\"evenodd\" fill-opacity=\"1\" /><path clip-path=\"url(#clip500)\" d=\"M4736.28 314.325 Q4735.56 313.908 4734.71 313.723 Q4733.87 313.514 4732.86 313.514 Q4729.24 313.514 4727.3 315.876 Q4725.38 318.213 4725.38 322.612 L4725.38 336.269 L4721.1 336.269 L4721.1 310.343 L4725.38 310.343 L4725.38 314.371 Q4726.72 312.01 4728.87 310.876 Q4731.03 309.718 4734.11 309.718 Q4734.55 309.718 4735.08 309.788 Q4735.61 309.834 4736.26 309.95 L4736.28 314.325 Z\" fill=\"#000000\" fill-rule=\"evenodd\" fill-opacity=\"1\" /><path clip-path=\"url(#clip500)\" d=\"M4740.31 326.038 L4740.31 310.343 L4744.57 310.343 L4744.57 325.875 Q4744.57 329.556 4746 331.408 Q4747.44 333.237 4750.31 333.237 Q4753.76 333.237 4755.75 331.037 Q4757.76 328.838 4757.76 325.042 L4757.76 310.343 L4762.02 310.343 L4762.02 336.269 L4757.76 336.269 L4757.76 332.287 Q4756.21 334.649 4754.15 335.806 Q4752.11 336.94 4749.41 336.94 Q4744.94 336.94 4742.62 334.162 Q4740.31 331.385 4740.31 326.038 M4751.03 309.718 L4751.03 309.718 Z\" fill=\"#000000\" fill-rule=\"evenodd\" fill-opacity=\"1\" /><path clip-path=\"url(#clip500)\" d=\"M4789.45 311.339 L4789.45 315.32 Q4787.65 314.325 4785.82 313.839 Q4784.01 313.329 4782.16 313.329 Q4778.02 313.329 4775.73 315.968 Q4773.43 318.584 4773.43 323.329 Q4773.43 328.075 4775.73 330.713 Q4778.02 333.329 4782.16 333.329 Q4784.01 333.329 4785.82 332.843 Q4787.65 332.334 4789.45 331.338 L4789.45 335.274 Q4787.67 336.107 4785.75 336.524 Q4783.85 336.94 4781.7 336.94 Q4775.84 336.94 4772.39 333.26 Q4768.94 329.579 4768.94 323.329 Q4768.94 316.987 4772.42 313.352 Q4775.91 309.718 4781.98 309.718 Q4783.94 309.718 4785.82 310.135 Q4787.69 310.528 4789.45 311.339 Z\" fill=\"#000000\" fill-rule=\"evenodd\" fill-opacity=\"1\" /><path clip-path=\"url(#clip500)\" d=\"M4801.07 302.982 L4801.07 310.343 L4809.85 310.343 L4809.85 313.653 L4801.07 313.653 L4801.07 327.727 Q4801.07 330.899 4801.93 331.801 Q4802.81 332.704 4805.47 332.704 L4809.85 332.704 L4809.85 336.269 L4805.47 336.269 Q4800.54 336.269 4798.67 334.44 Q4796.79 332.588 4796.79 327.727 L4796.79 313.653 L4793.67 313.653 L4793.67 310.343 L4796.79 310.343 L4796.79 302.982 L4801.07 302.982 Z\" fill=\"#000000\" fill-rule=\"evenodd\" fill-opacity=\"1\" /><path clip-path=\"url(#clip500)\" d=\"M4815.45 310.343 L4819.71 310.343 L4819.71 336.269 L4815.45 336.269 L4815.45 310.343 M4815.45 300.251 L4819.71 300.251 L4819.71 305.644 L4815.45 305.644 L4815.45 300.251 Z\" fill=\"#000000\" fill-rule=\"evenodd\" fill-opacity=\"1\" /><path clip-path=\"url(#clip500)\" d=\"M4838.67 313.329 Q4835.24 313.329 4833.25 316.014 Q4831.26 318.676 4831.26 323.329 Q4831.26 327.982 4833.23 330.667 Q4835.22 333.329 4838.67 333.329 Q4842.07 333.329 4844.06 330.644 Q4846.05 327.959 4846.05 323.329 Q4846.05 318.723 4844.06 316.038 Q4842.07 313.329 4838.67 313.329 M4838.67 309.718 Q4844.22 309.718 4847.39 313.329 Q4850.56 316.94 4850.56 323.329 Q4850.56 329.695 4847.39 333.329 Q4844.22 336.94 4838.67 336.94 Q4833.09 336.94 4829.92 333.329 Q4826.77 329.695 4826.77 323.329 Q4826.77 316.94 4829.92 313.329 Q4833.09 309.718 4838.67 309.718 Z\" fill=\"#000000\" fill-rule=\"evenodd\" fill-opacity=\"1\" /><path clip-path=\"url(#clip500)\" d=\"M4879.17 320.621 L4879.17 336.269 L4874.92 336.269 L4874.92 320.76 Q4874.92 317.079 4873.48 315.251 Q4872.04 313.422 4869.17 313.422 Q4865.73 313.422 4863.73 315.621 Q4861.74 317.82 4861.74 321.616 L4861.74 336.269 L4857.46 336.269 L4857.46 310.343 L4861.74 310.343 L4861.74 314.371 Q4863.27 312.033 4865.33 310.876 Q4867.42 309.718 4870.12 309.718 Q4874.59 309.718 4876.88 312.496 Q4879.17 315.251 4879.17 320.621 Z\" fill=\"#000000\" fill-rule=\"evenodd\" fill-opacity=\"1\" /><path clip-path=\"url(#clip500)\" d=\"M4924.91 322.241 L4924.91 324.325 L4905.33 324.325 Q4905.61 328.723 4907.97 331.037 Q4910.35 333.329 4914.59 333.329 Q4917.04 333.329 4919.34 332.727 Q4921.65 332.125 4923.92 330.922 L4923.92 334.95 Q4921.63 335.922 4919.22 336.431 Q4916.81 336.94 4914.34 336.94 Q4908.13 336.94 4904.5 333.329 Q4900.89 329.718 4900.89 323.561 Q4900.89 317.195 4904.31 313.468 Q4907.76 309.718 4913.6 309.718 Q4918.83 309.718 4921.86 313.098 Q4924.91 316.454 4924.91 322.241 M4920.66 320.991 Q4920.61 317.496 4918.69 315.413 Q4916.79 313.329 4913.64 313.329 Q4910.08 313.329 4907.92 315.343 Q4905.79 317.357 4905.47 321.014 L4920.66 320.991 Z\" fill=\"#000000\" fill-rule=\"evenodd\" fill-opacity=\"1\" /><path clip-path=\"url(#clip500)\" d=\"M4946.93 314.325 Q4946.21 313.908 4945.35 313.723 Q4944.52 313.514 4943.5 313.514 Q4939.89 313.514 4937.95 315.876 Q4936.03 318.213 4936.03 322.612 L4936.03 336.269 L4931.74 336.269 L4931.74 310.343 L4936.03 310.343 L4936.03 314.371 Q4937.37 312.01 4939.52 310.876 Q4941.67 309.718 4944.75 309.718 Q4945.19 309.718 4945.72 309.788 Q4946.26 309.834 4946.91 309.95 L4946.93 314.325 Z\" fill=\"#000000\" fill-rule=\"evenodd\" fill-opacity=\"1\" /><path clip-path=\"url(#clip500)\" d=\"M4965.59 314.325 Q4964.87 313.908 4964.01 313.723 Q4963.18 313.514 4962.16 313.514 Q4958.55 313.514 4956.6 315.876 Q4954.68 318.213 4954.68 322.612 L4954.68 336.269 L4950.4 336.269 L4950.4 310.343 L4954.68 310.343 L4954.68 314.371 Q4956.03 312.01 4958.18 310.876 Q4960.33 309.718 4963.41 309.718 Q4963.85 309.718 4964.38 309.788 Q4964.91 309.834 4965.56 309.95 L4965.59 314.325 Z\" fill=\"#000000\" fill-rule=\"evenodd\" fill-opacity=\"1\" /><path clip-path=\"url(#clip500)\" d=\"M4979.06 313.329 Q4975.63 313.329 4973.64 316.014 Q4971.65 318.676 4971.65 323.329 Q4971.65 327.982 4973.62 330.667 Q4975.61 333.329 4979.06 333.329 Q4982.46 333.329 4984.45 330.644 Q4986.44 327.959 4986.44 323.329 Q4986.44 318.723 4984.45 316.038 Q4982.46 313.329 4979.06 313.329 M4979.06 309.718 Q4984.61 309.718 4987.78 313.329 Q4990.96 316.94 4990.96 323.329 Q4990.96 329.695 4987.78 333.329 Q4984.61 336.94 4979.06 336.94 Q4973.48 336.94 4970.31 333.329 Q4967.16 329.695 4967.16 323.329 Q4967.16 316.94 4970.31 313.329 Q4973.48 309.718 4979.06 309.718 Z\" fill=\"#000000\" fill-rule=\"evenodd\" fill-opacity=\"1\" /><path clip-path=\"url(#clip500)\" d=\"M5013.04 314.325 Q5012.32 313.908 5011.47 313.723 Q5010.63 313.514 5009.61 313.514 Q5006 313.514 5004.06 315.876 Q5002.14 318.213 5002.14 322.612 L5002.14 336.269 L4997.85 336.269 L4997.85 310.343 L5002.14 310.343 L5002.14 314.371 Q5003.48 312.01 5005.63 310.876 Q5007.78 309.718 5010.86 309.718 Q5011.3 309.718 5011.84 309.788 Q5012.37 309.834 5013.02 309.95 L5013.04 314.325 Z\" fill=\"#000000\" fill-rule=\"evenodd\" fill-opacity=\"1\" /></svg>\n"
      ]
     },
     "execution_count": 27,
     "metadata": {},
     "output_type": "execute_result"
    }
   ],
   "source": [
    "function mgs(A)\n",
    "    m, n = size(A)\n",
    "    Q = copy(A)\n",
    "    R = zeros(eltype(A), n, n)\n",
    "    for i in 1:n\n",
    "        R[i,i] = norm(Q[:,i])\n",
    "        Q[:,i] /= R[i,i]\n",
    "        R[i,i+1:end] = Q[:,i]' * Q[:,i+1:end]\n",
    "        Q[:,i+1:end] -= Q[:,[i]] * R[[i],i+1:end]\n",
    "    end\n",
    "    return Q, R\n",
    "end\n",
    "ortho_errs_mgs = Float64[]\n",
    "recon_errs_mgs = Float64[]\n",
    "for θ in range\n",
    "    M = kahan(10, θ)\n",
    "    ϕ = eps(Float64)\n",
    "    M_p = copy(M[:,:])\n",
    "    rot = [cos(ϕ) sin(ϕ); -sin(ϕ) cos(ϕ)]\n",
    "    M_p[1:2,:] = rot * M[1:2,:]\n",
    "    Q_mgs, R_mgs = mgs(M_p)\n",
    "    push!(ortho_errs_mgs, orthonormality_error(Q_mgs))\n",
    "    push!(recon_errs_mgs, reconstruction_error(M_p, Q_mgs, R_mgs))\n",
    "end\n",
    "ymin=Inf\n",
    "ymax=0.\n",
    "for series in [ortho_errs_cgs, ortho_errs_qr, recon_errs_mgs, recon_errs_mgs]\n",
    "    series[:] = max.(series[:], 0.001*eps())\n",
    "    ymin = min(ymin, minimum(series))\n",
    "    ymax = max(ymax, maximum(series))\n",
    "end\n",
    "ymin *= 0.5\n",
    "ymax *= 2.0\n",
    "p1 = plot( range .^-1, [ortho_errs_cgs recon_errs_cgs]\n",
    "    , yscale=:log10\n",
    "    , label=[\"orthonormality error\" \"reconstruction error\"]\n",
    "    , xlabel=\"Kahan matrix θ⁻¹\"\n",
    "    , title=\"Classical Gram-Schmidt\"\n",
    "    , size=(1300,800)\n",
    "    , ylim=(ymin,ymax)\n",
    ")\n",
    "p2 = plot( range .^-1, [ortho_errs_mgs recon_errs_mgs]\n",
    "    , yscale=:log10\n",
    "    , label=[\"orthonormality error\" \"reconstruction error\"]\n",
    "    , xlabel=\"Kahan matrix θ⁻¹\"\n",
    "    , title=\"Modified Gram-Schmidt\"\n",
    "    , size=(1300,800)\n",
    "    , ylim=(ymin,ymax)\n",
    ")\n",
    "draw(plot(p1,p2,layout=(1,2)))"
   ]
  },
  {
   "cell_type": "markdown",
   "metadata": {
    "slideshow": {
     "slide_type": "subslide"
    }
   },
   "source": [
    "### Modified Gram-Schmidt in Action (go back and compare)"
   ]
  },
  {
   "cell_type": "code",
   "execution_count": 28,
   "metadata": {
    "hideCode": true,
    "slideshow": {
     "slide_type": "-"
    }
   },
   "outputs": [
    {
     "name": "stderr",
     "output_type": "stream",
     "text": [
      "┌ Info: Saved animation to \n",
      "│   fn = /Users/lzs/Desktop/个人/CSE 6643 Numerical Linear Algebra/Lecture/tmp.gif\n",
      "└ @ Plots /Users/lzs/.julia/packages/Plots/9C6z9/src/animation.jl:114\n"
     ]
    },
    {
     "data": {
      "text/html": [
       "<img src=\"data:image/gif;base64,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\" />"
      ],
      "text/plain": [
       "Plots.AnimatedGif(\"/Users/lzs/Desktop/个人/CSE 6643 Numerical Linear Algebra/Lecture/tmp.gif\")"
      ]
     },
     "execution_count": 28,
     "metadata": {},
     "output_type": "execute_result"
    }
   ],
   "source": [
    "m = 10; n = 5;\n",
    "A = randn(m, n)\n",
    "A /= maximum(abs.(A))\n",
    "Q̂ = copy(A)\n",
    "R̂ = zeros(n, n)\n",
    "r_scale = maximum(abs.(qr(A).R))\n",
    "anim = Animation()\n",
    "function step_plot(A,Q̂,R̂,j)\n",
    "    Q_plot = imshow(Q̂,(-1,1))\n",
    "    plot!(Q_plot,title=\"Q\")\n",
    "    ortho_plot = imshow(Q̂' * Q̂,(-1,1))\n",
    "    plot!(ortho_plot,title=\"Q'Q\")\n",
    "    recon_plot = imshow(A - Q̂ * R̂,(-1,1))\n",
    "    plot!(recon_plot,title=\"A - QR\")\n",
    "    R_plot = imshow(R̂,(-r_scale,r_scale))\n",
    "    plot!(R_plot,title=\"R\")\n",
    "    return plot(Q_plot, R_plot, ortho_plot, recon_plot, layout=(1,4), size=(1300,800), plot_title=\"Step $j\")\n",
    "end\n",
    "frame(anim,step_plot(A,Q̂,R̂,0))\n",
    "for i in 1:n\n",
    "    R̂[i,i] = norm(Q̂[:,i])\n",
    "    Q̂[:,i] /= R̂[i,i]\n",
    "    R̂[i,i+1:end] = Q̂[:,i]' * Q̂[:,i+1:end]\n",
    "    Q̂[:,i+1:end] -= Q̂[:,[i]] * R̂[[i],i+1:end]\n",
    "    frame(anim,step_plot(A,Q̂,R̂,i))\n",
    "end\n",
    "frame(anim,step_plot(A,Q̂,R̂,n))\n",
    "gif(anim,fps=0.5)"
   ]
  },
  {
   "cell_type": "markdown",
   "metadata": {},
   "source": [
    "### Modified Gram-Schmidt also constructs $\\hat{Q}$ by Triangular Orthogonalization\n",
    "\n",
    "At step $i$:\n",
    "\n",
    "$$\n",
    "\\begin{bmatrix}\n",
    "    & & & & & & \\\\\n",
    "    & & & & & & \\\\\n",
    "    & & & & & & \\\\\n",
    "    & & & & & & \\\\\n",
    "    & & & \\hat{Q} & & & \\\\\n",
    "    & & & & & & \\\\\n",
    "    & & & & & & \\\\\n",
    "    & & & & & & \\\\\n",
    "    & & & & & & \\\\\n",
    "\\end{bmatrix}\n",
    "\\gets\n",
    "\\begin{bmatrix}\n",
    "    & & & & & & \\\\\n",
    "    & & & & & & \\\\\n",
    "    & & & & & & \\\\\n",
    "    & & & & & & \\\\\n",
    "    & & & \\hat{Q} & & & \\\\\n",
    "    & & & & & & \\\\\n",
    "    & & & & & & \\\\\n",
    "    & & & & & & \\\\\n",
    "    & & & & & & \\\\\n",
    "\\end{bmatrix}\n",
    "\\underbrace{\n",
    "\\begin{bmatrix}\n",
    "   1 & & & & & & \\\\\n",
    "    & \\ddots & & & & & \\\\\n",
    "    & & 1 & & & & \\\\\n",
    "    & & & \\frac{1}{r_{ii}} & \\frac{-r_{i,i+1}}{r_{ii}} & \\dots & \\frac{-r_{i,n}}{r_{ii}} \\\\\n",
    "    & & & & 1 & & \\\\\n",
    "    & & & & & \\ddots & \\\\\n",
    "    & & & & & & 1\n",
    "\\end{bmatrix}\n",
    "}_{Z_i}\n",
    "$$\n",
    "\n",
    "$Z_i$ is an upper-triangular matrix with one nonzero row in row $i$.\n"
   ]
  },
  {
   "cell_type": "markdown",
   "metadata": {},
   "source": [
    "### Notes on HW2, problem 4\n",
    "\n",
    "You have seen CGS and MGS in this lecture.  It will probably take you more time to construct the plot.\n",
    "The syntax is intentionally similar to MATLAB / matplotlib, but for reference, go to <https://docs.juliaplots.org>."
   ]
  },
  {
   "cell_type": "markdown",
   "metadata": {
    "slideshow": {
     "slide_type": "slide"
    }
   },
   "source": [
    "## Gram-Schmidt Complexity"
   ]
  },
  {
   "cell_type": "markdown",
   "metadata": {
    "slideshow": {
     "slide_type": "subslide"
    }
   },
   "source": [
    "### Matrx-Matrix Product Complexity\n",
    "\n",
    "Given matrices $A\\in \\mathbb{C}^{M \\times K}$, $B \\in \\mathbb{C}^{K \\times N}$, and $C \\in \\mathbb{C}^{M \\times N}$, the work $W$ measured in _floating point operations_ (\"flops\") of computing $C \\gets C - AB$ using the standard approach is\n",
    "\n",
    "$$W(C - A \\cdot B) = 2 M N K,$$\n",
    "\n",
    "which is clear from looking at the algorithm written component-wise:\n",
    "\n",
    "```julia\n",
    "for i in 1:M                          # M times ...\n",
    "    for j in 1:N                      # N times ...\n",
    "        for p in 1:K                  # K times ...\n",
    "            C[i,j] -= A[i,p] * B[p,j] # 2 flops per inner loop\n",
    "        end\n",
    "    end\n",
    "end\n",
    "            \n",
    "```"
   ]
  },
  {
   "cell_type": "markdown",
   "metadata": {
    "slideshow": {
     "slide_type": "fragment"
    }
   },
   "source": [
    "if we just compute $C \\gets A B$, there is one subtraction less per entry of $C$, so\n",
    "\n",
    "$$W(A \\cdot B) = 2 M N K - M N.$$"
   ]
  },
  {
   "cell_type": "markdown",
   "metadata": {
    "cell_style": "split",
    "slideshow": {
     "slide_type": "subslide"
    }
   },
   "source": [
    "### Projection Orthogonalization Complexity\n",
    "\n",
    "If $\\hat{Q} \\in \\mathbb{C}^{m \\times j}$ and $a \\in \\mathbb{C}^m$, what is the complexity of\n",
    "\n",
    "$$\\tilde{q} \\gets a - \\hat{Q}(\\hat{Q}^*a)?$$"
   ]
  },
  {
   "cell_type": "markdown",
   "metadata": {
    "cell_style": "split",
    "slideshow": {
     "slide_type": "fragment"
    }
   },
   "source": [
    "Rephrase as:\n",
    "\n",
    "$$\n",
    "\\begin{aligned}\n",
    "r &\\gets \\hat{Q}^* a \\\\\n",
    "\\tilde{q} &\\gets a - \\hat{Q}r\n",
    "\\end{aligned}\n",
    "$$"
   ]
  },
  {
   "cell_type": "markdown",
   "metadata": {
    "slideshow": {
     "slide_type": "fragment"
    }
   },
   "source": [
    "- First line is like $C \\gets A B$ with $M = j$, $N = 1$, and $K = m$, so $W = 2 M N K - M N = 2jm - j$."
   ]
  },
  {
   "cell_type": "markdown",
   "metadata": {
    "slideshow": {
     "slide_type": "fragment"
    }
   },
   "source": [
    "- Second line is like $C \\gets C - AB$ with $M = m$, $N = 1$ and $K = j$, so $W = 2 M N K = 2jm$"
   ]
  },
  {
   "cell_type": "markdown",
   "metadata": {
    "slideshow": {
     "slide_type": "fragment"
    }
   },
   "source": [
    "- Total,\n",
    "\n",
    "$$W((I - \\hat{Q}\\hat{Q}^*) a) = 4 jm - j.$$"
   ]
  },
  {
   "cell_type": "code",
   "execution_count": 29,
   "metadata": {
    "cell_style": "split",
    "slideshow": {
     "slide_type": "subslide"
    }
   },
   "outputs": [
    {
     "data": {
      "text/plain": [
       "qr_classical_gram_schmidt (generic function with 1 method)"
      ]
     },
     "execution_count": 29,
     "metadata": {},
     "output_type": "execute_result"
    }
   ],
   "source": [
    "function qr_classical_gram_schmidt(A)\n",
    "    m, n = size(A)\n",
    "    Q̂ = copy(A)\n",
    "    R̂ = zeros(eltype(A), n, n)\n",
    "    for j in 1:n\n",
    "        # Project\n",
    "        R̂[1:j-1,j] = Q̂[:,1:j-1]' * Q̂[:,j] # 2 m j - j\n",
    "        Q̂[:,j] -= Q̂[:,1:j-1] * R̂[1:j-1,j] # 2 m j\n",
    "        # Normalize\n",
    "        R̂[j,j] = norm(Q̂[:,j])             # 2 m\n",
    "        Q̂[:,j] /= R̂[j,j]                  # 1\n",
    "    end\n",
    "    return Q̂, R̂\n",
    "end"
   ]
  },
  {
   "cell_type": "markdown",
   "metadata": {
    "cell_style": "split"
   },
   "source": [
    "- Total work in iteration $j$:\n",
    "\n",
    "$$4mj - j + 2 m + 1$$"
   ]
  },
  {
   "cell_type": "markdown",
   "metadata": {
    "slideshow": {
     "slide_type": "fragment"
    }
   },
   "source": [
    "- Total (sum for $j = 1, \\dots, n$):\n",
    "\n",
    "$$\n",
    "W(CGS) = \\sum_{j=1}^n 4mj - j + 2m + 1 = \\left\\{(4m - 1) \\sum_{j=1}^n j\\right\\} + \\left\\{(2m + 1) \\sum_{j=1}^n 1\\right\\}.\n",
    "$$"
   ]
  },
  {
   "cell_type": "markdown",
   "metadata": {
    "slideshow": {
     "slide_type": "fragment"
    }
   },
   "source": [
    "$$W(CGS) = (4m-1)\\frac{1}{2}n(n+1) + (2m + 1)n = 2 m n^2 + \\underbrace{\\dots}_{\\text{(lower order terms)}}.$$"
   ]
  },
  {
   "cell_type": "markdown",
   "metadata": {
    "slideshow": {
     "slide_type": "subslide"
    }
   },
   "source": [
    "### Summarize using just the leading term\n",
    "\n",
    "$$W(CGS) \\sim 2 mn^2,$$\n",
    "\n",
    "which means\n",
    "\n",
    "$$ \\lim_{\\min\\{m,n\\} \\to \\infty} \\frac{W(CGS)}{2 m n^2} = 1. $$"
   ]
  },
  {
   "cell_type": "markdown",
   "metadata": {
    "slideshow": {
     "slide_type": "subslide"
    }
   },
   "source": [
    "### Exercise\n",
    "\n",
    "Convince yourself that $W(MGS) = W(CGS) \\sim 2 m n^2.$"
   ]
  },
  {
   "cell_type": "markdown",
   "metadata": {
    "slideshow": {
     "slide_type": "subslide"
    }
   },
   "source": [
    "### Caveats on the meaning of work $W$\n",
    "\n",
    "- On a serial computer, runtime $T$ should scale like $W$ for large enough inputs.\n",
    "- $W$ does not count moving data to/from the processor, which is more expensive than arithmetic.\n",
    "- Implementation-dependent leading constants are going to be very important, so its possible to have two algorithms with $W_1 < W_2$ but $T_2 < T_1$.\n",
    "- All computers use parallelism for numerical linear algebra now.  $W$ says nothing about how _concurrent_ (parallelizable) CGS and WGS are, so $W$ alone is not enough to understand the performance of an algorithm."
   ]
  }
 ],
 "metadata": {
  "@webio": {
   "lastCommId": "8320f969352742a0b41c8d5a2cdcb39d",
   "lastKernelId": "2adc9d79-8d26-4c0f-9e71-85b0a3b04587"
  },
  "celltoolbar": "Hide code",
  "hide_input": false,
  "kernelspec": {
   "display_name": "Julia 1.7.1",
   "language": "julia",
   "name": "julia-1.7"
  },
  "language_info": {
   "file_extension": ".jl",
   "mimetype": "application/julia",
   "name": "julia",
   "version": "1.7.1"
  }
 },
 "nbformat": 4,
 "nbformat_minor": 5
}
