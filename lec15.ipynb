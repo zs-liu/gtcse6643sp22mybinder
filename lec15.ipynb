{
 "cells": [
  {
   "cell_type": "code",
   "execution_count": null,
   "metadata": {},
   "outputs": [],
   "source": [
    "import Pkg; Pkg.add([\"Plots\"]);\n",
    "import Logging; Logging.disable_logging(Logging.Info)"
   ]
  },
  {
   "cell_type": "code",
   "execution_count": 2,
   "metadata": {},
   "outputs": [],
   "source": [
    "const STATIC_LECTURE = false;"
   ]
  },
  {
   "cell_type": "code",
   "execution_count": 3,
   "metadata": {},
   "outputs": [],
   "source": [
    "using LinearAlgebra;\n",
    "using Plots; gr(); default(l=5, size=(900,550), label=false);\n",
    "using Printf;\n",
    "\n",
    "BLAS.set_num_threads(1)\n",
    "\n",
    "if STATIC_LECTURE\n",
    "    default(fmt=:png)\n",
    "end\n",
    "\n",
    "prettyprint(a) = map(x -> @sprintf(\"%+.2f\", x), a)\n",
    "sciprint(a) = map(x -> @sprintf(\"%+.2e\", x), a)\n",
    "\n",
    "function imshow(x; kwargs...)\n",
    "    return heatmap(x\n",
    "        , aspect_ratio=:equal\n",
    "        , framestyle=:none\n",
    "        , yflip=true\n",
    "        , c=cgrad(:diverging_gwv_55_95_c39_n256, rev=true)\n",
    "        ; kwargs...\n",
    "    )\n",
    "end\n",
    "bigspy(x; kwargs...) = spy(x, m=4, c=:diverging_gwv_55_95_c39_n256; kwargs...)\n",
    "p = plot!([0,1],[0,1]);"
   ]
  },
  {
   "cell_type": "markdown",
   "metadata": {
    "slideshow": {
     "slide_type": "slide"
    }
   },
   "source": [
    "**(Follow along: <https://tinyurl.com/gtcse6643lec15>)**\n",
    "\n",
    "### Warmup\n",
    "\n",
    "Estimate the number of floating point operations in this function as it depends on the loop size $m$\n",
    "(try to get the leading degree and the leading coefficient)."
   ]
  },
  {
   "cell_type": "code",
   "execution_count": 4,
   "metadata": {
    "slideshow": {
     "slide_type": "-"
    }
   },
   "outputs": [
    {
     "data": {
      "text/plain": [
       "lu_three_loops (generic function with 1 method)"
      ]
     },
     "execution_count": 4,
     "metadata": {},
     "output_type": "execute_result"
    }
   ],
   "source": [
    "function lu_three_loops(A)\n",
    "    m = size(A)[1]\n",
    "    LU = copy(A)\n",
    "    for k in 1:(m-1) # ∑ (m-k)^2 * 2 = 2∑ k̃² = 2 (1/3)k̃³ => (2/3) m³\n",
    "        for i in (k+1):m # (m - k)^2 * 2\n",
    "            LU[i,k] /= LU[k,k]\n",
    "            for j in (k+1):m\n",
    "                LU[i,j] -= LU[i,k] * LU[k,j]\n",
    "            end\n",
    "        end\n",
    "    end\n",
    "    return LU\n",
    "end"
   ]
  },
  {
   "cell_type": "markdown",
   "metadata": {
    "slideshow": {
     "slide_type": "slide"
    }
   },
   "source": [
    "# Gaussian Elimination & Partial Pivoting\n",
    "\n",
    "**1. LU Factorization**\n",
    "\n",
    "**2. General Formulas and Two Strokes of Luck**\n",
    "\n",
    "**3. Pivoting & Partial Pivoting***"
   ]
  },
  {
   "cell_type": "markdown",
   "metadata": {
    "slideshow": {
     "slide_type": "slide"
    }
   },
   "source": [
    "## LU Factorization"
   ]
  },
  {
   "cell_type": "markdown",
   "metadata": {
    "slideshow": {
     "slide_type": "subslide"
    }
   },
   "source": [
    "### Gaussian Elimination Example\n",
    "\n",
    "$$\n",
    "\\begin{bmatrix}\n",
    "2 & 1 & 1 \\\\\n",
    "4 & 3 & 3 \\\\\n",
    "8 & 7 & 9\n",
    "\\end{bmatrix}\n",
    "\\begin{bmatrix}\n",
    "x_1 \\\\ x_2 \\\\ x_3\n",
    "\\end{bmatrix}\n",
    "=\n",
    "\\begin{bmatrix}\n",
    "0 \\\\ 1 \\\\ 5\n",
    "\\end{bmatrix}\n",
    "$$"
   ]
  },
  {
   "cell_type": "markdown",
   "metadata": {
    "cell_style": "split",
    "slideshow": {
     "slide_type": "fragment"
    }
   },
   "source": [
    "**Step 1: Eliminate lower triangle**\n",
    "$$\n",
    "\\left[\n",
    "\\begin{array}{ccc|c}\n",
    "2 & 1 & 1 & 0 \\\\\n",
    "4 & 3 & 3 & 1 \\\\\n",
    "8 & 7 & 9 & 5\n",
    "\\end{array}\n",
    "\\right]\n",
    "$$"
   ]
  },
  {
   "cell_type": "markdown",
   "metadata": {
    "cell_style": "split",
    "slideshow": {
     "slide_type": "fragment"
    }
   },
   "source": [
    "Subtract $4 / 2 = 2$ first row from second\n",
    "$$\n",
    "\\begin{array} \\ \\\\ \\to  \\\\ \\  \\end{array}\n",
    "\\left[\n",
    "\\begin{array}{ccc|c}\n",
    "2 & 1 & 1 & 0 \\\\\n",
    "\\mathbf{0} & \\mathbf{1} & \\mathbf{1} & \\mathbf{1} \\\\\n",
    "8 & 7 & 9 & 5\n",
    "\\end{array}\n",
    "\\right]\n",
    "$$"
   ]
  },
  {
   "cell_type": "markdown",
   "metadata": {
    "cell_style": "split",
    "slideshow": {
     "slide_type": "fragment"
    }
   },
   "source": [
    "Subtract $8 / 2 = 4$ first row from third\n",
    "$$\n",
    "\\begin{array} \\ \\\\ \\ \\\\ \\to \\end{array}\n",
    "\\left[\n",
    "\\begin{array}{ccc|c}\n",
    "2 & 1 & 1 & 0 \\\\\n",
    "0 & 1 & 1 & 1 \\\\\n",
    "0 & \\mathbf{3} & \\mathbf{5} & \\mathbf{5}\n",
    "\\end{array}\n",
    "\\right]\n",
    "$$"
   ]
  },
  {
   "cell_type": "markdown",
   "metadata": {
    "cell_style": "split",
    "slideshow": {
     "slide_type": "fragment"
    }
   },
   "source": [
    "Subtract $3 / 1 = 3$ second row from third\n",
    "$$\n",
    "\\begin{array} \\ \\\\ \\ \\\\ \\to \\end{array}\n",
    "\\left[\n",
    "\\begin{array}{ccc|c}\n",
    "2 & 1 & 1 & 0 \\\\\n",
    "0 & 1 & 1 & 1 \\\\\n",
    "0 & 0 & \\mathbf{2} & \\mathbf{2}\n",
    "\\end{array}\n",
    "\\right]\n",
    "$$"
   ]
  },
  {
   "cell_type": "markdown",
   "metadata": {
    "cell_style": "split",
    "slideshow": {
     "slide_type": "subslide"
    }
   },
   "source": [
    "**Step 2: Eliminate upper triangle**\n",
    "$$\n",
    "\\left[\n",
    "\\begin{array}{ccc|c}\n",
    "2 & 1 & 1 & 0 \\\\\n",
    "0 & 1 & 1 & 1 \\\\\n",
    "0 & 0 & 2 & 2\n",
    "\\end{array}\n",
    "\\right]\n",
    "$$"
   ]
  },
  {
   "cell_type": "markdown",
   "metadata": {
    "cell_style": "split",
    "slideshow": {
     "slide_type": "fragment"
    }
   },
   "source": [
    "Normalize third row by (1 / 2) and subtract from preceding\n",
    "$$\n",
    "\\begin{array} \\ \\\\ \\ \\\\ \\to \\end{array}\n",
    "\\left[\n",
    "\\begin{array}{ccc|c}\n",
    "2 & 1 & \\mathbf{0} & \\mathbf{-1} \\\\\n",
    "0 & 1 & \\mathbf{0} & \\mathbf{0} \\\\\n",
    "0 & 0 & \\mathbf{1} & \\mathbf{1}\n",
    "\\end{array}\n",
    "\\right]\n",
    "$$"
   ]
  },
  {
   "cell_type": "markdown",
   "metadata": {
    "cell_style": "split",
    "slideshow": {
     "slide_type": "fragment"
    }
   },
   "source": [
    "Subtract second row from first\n",
    "$$\n",
    "\\to\n",
    "\\left[\n",
    "\\begin{array}{ccc|c}\n",
    "2 & \\mathbf{0} & 0 & \\mathbf{-1} \\\\\n",
    "0 & \\mathbf{1} & 0 & \\mathbf{0} \\\\\n",
    "0 & 0 & 1 & 1\n",
    "\\end{array}\n",
    "\\right]\n",
    "$$"
   ]
  },
  {
   "cell_type": "markdown",
   "metadata": {
    "cell_style": "split",
    "slideshow": {
     "slide_type": "fragment"
    }
   },
   "source": [
    "Normalize first row\n",
    "$$\n",
    "\\begin{array} \\\\ \\to \\\\ \\ \\\\ \\ \\end{array}\n",
    "\\left[\n",
    "\\begin{array}{ccc|c}\n",
    "\\mathbf{1} & 0 & 0 & \\mathbf{-(1/2)} \\\\\n",
    "0 & 1 & 0 & 0 \\\\\n",
    "0 & 0 & 1 & 1\n",
    "\\end{array}\n",
    "\\right]\n",
    "$$"
   ]
  },
  {
   "cell_type": "markdown",
   "metadata": {
    "slideshow": {
     "slide_type": "subslide"
    }
   },
   "source": [
    "### To invert instead of solving a system, start with the identity on the right"
   ]
  },
  {
   "cell_type": "markdown",
   "metadata": {
    "cell_style": "split",
    "slideshow": {
     "slide_type": "fragment"
    }
   },
   "source": [
    "**Step 1: Eliminate lower triangle**\n",
    "$$\n",
    "\\left[\n",
    "\\begin{array}{ccc|ccc}\n",
    "2 & 1 & 1 & 1 & 0 & 0 \\\\\n",
    "4 & 3 & 3 & 0 & 1 & 0\\\\\n",
    "8 & 7 & 9 & 0 & 0 & 1\n",
    "\\end{array}\n",
    "\\right]\n",
    "$$"
   ]
  },
  {
   "cell_type": "markdown",
   "metadata": {
    "cell_style": "split",
    "slideshow": {
     "slide_type": "fragment"
    }
   },
   "source": [
    "Subtract 4/2 = 2 first row from second\n",
    "$$\n",
    "\\left[\n",
    "\\begin{array}{ccc|ccc}\n",
    "2 & 1 & 1 & 1 & 0 & 0 \\\\\n",
    "0 & 1 & 1 & -2 & 1 & 0\\\\\n",
    "8 & 7 & 9 & 0 & 0 & 1\n",
    "\\end{array}\n",
    "\\right]\n",
    "$$"
   ]
  },
  {
   "cell_type": "markdown",
   "metadata": {
    "cell_style": "split",
    "slideshow": {
     "slide_type": "fragment"
    }
   },
   "source": [
    "Subtract 8/2 = 4 first row from third\n",
    "$$\n",
    "\\left[\n",
    "\\begin{array}{ccc|ccc}\n",
    "2 & 1 & 1 & 1 & 0 & 0 \\\\\n",
    "0 & 1 & 1 & -2 & 1 & 0\\\\\n",
    "0 & 3 & 5 & -4 & 0 & 1\n",
    "\\end{array}\n",
    "\\right]\n",
    "$$"
   ]
  },
  {
   "cell_type": "markdown",
   "metadata": {
    "cell_style": "split",
    "slideshow": {
     "slide_type": "fragment"
    }
   },
   "source": [
    "Subtract 3/1 = 3 second row from third\n",
    "$$\n",
    "\\left[\n",
    "\\begin{array}{ccc|ccc}\n",
    "2 & 1 & 1 & 1 & 0 & 0 \\\\\n",
    "0 & 1 & 1 & -2 & 1 & 0\\\\\n",
    "0 & 0 & 2 & -10 & -3 & 1\n",
    "\\end{array}\n",
    "\\right]\n",
    "$$"
   ]
  },
  {
   "cell_type": "markdown",
   "metadata": {
    "slideshow": {
     "slide_type": "fragment"
    }
   },
   "source": [
    "The matrix on the right is the **unit lower triangular** matrix we have applied to $A$ to construct an **upper triangular matrix**"
   ]
  },
  {
   "cell_type": "markdown",
   "metadata": {
    "slideshow": {
     "slide_type": "subslide"
    }
   },
   "source": [
    "### Gaussian Elimination $\\Leftrightarrow$ LU Factorization\n",
    "\n",
    "$$\n",
    "\\underbrace{\n",
    "\\begin{bmatrix}\n",
    "1 & 0 & 0 \\\\\n",
    "-2 & 1 & 0 \\\\\n",
    "-10 & -3 & 1\n",
    "\\end{bmatrix}\n",
    "}\n",
    "_{L^{-1}}\n",
    "\\underbrace{\n",
    "\\begin{bmatrix}\n",
    "2 & 1 & 1 \\\\\n",
    "4 & 3 & 3 \\\\\n",
    "8 & 7 & 9\n",
    "\\end{bmatrix}\n",
    "}_{A}\n",
    "=\n",
    "\\underbrace{\n",
    "\\begin{bmatrix}\n",
    "2 & 1 & 1 \\\\\n",
    "0 & 1 & 1 \\\\\n",
    "0 & 0 & 2\n",
    "\\end{bmatrix}\n",
    "}_{U}\n",
    "$$"
   ]
  },
  {
   "cell_type": "markdown",
   "metadata": {
    "slideshow": {
     "slide_type": "fragment"
    }
   },
   "source": [
    "$$\n",
    "\\underbrace{\n",
    "\\begin{bmatrix}\n",
    "2 & 1 & 1 \\\\\n",
    "4 & 3 & 3 \\\\\n",
    "8 & 7 & 9\n",
    "\\end{bmatrix}\n",
    "}_{A}\n",
    "=\n",
    "\\underbrace{\n",
    "\\begin{bmatrix}\n",
    "1 & 0 & 0 \\\\\n",
    "-2 & 1 & 0 \\\\\n",
    "-10 & -3 & 1\n",
    "\\end{bmatrix}^{-1}\n",
    "}\n",
    "_{L}\n",
    "\\underbrace{\n",
    "\\begin{bmatrix}\n",
    "2 & 1 & 1 \\\\\n",
    "0 & 1 & 1 \\\\\n",
    "0 & 0 & 2\n",
    "\\end{bmatrix}\n",
    "}_{U}\n",
    "$$"
   ]
  },
  {
   "cell_type": "markdown",
   "metadata": {
    "slideshow": {
     "slide_type": "fragment"
    }
   },
   "source": [
    "1. eliminate lower triangle $\\Leftrightarrow$ construct $L$ / apply $L^{-1}$ (forward substitution)\n",
    "2. eliminate upper triangle $\\Leftrightarrow$ apply $U^{-1}$ (backsubstitution)"
   ]
  },
  {
   "cell_type": "markdown",
   "metadata": {
    "cell_style": "center",
    "slideshow": {
     "slide_type": "subslide"
    }
   },
   "source": [
    "$$\n",
    "\\underbrace{\n",
    "\\left(\n",
    "\\begin{bmatrix}\n",
    "2 & 1 & 1 \\\\ 4 & 3 & 3 \\\\ 8 & 7 & 9\n",
    "\\end{bmatrix}\n",
    "\\right.\n",
    "}_{A}\n",
    ",\n",
    "\\underbrace{\n",
    "\\left.\n",
    "\\begin{bmatrix}\n",
    "1 & 0 & 0 \\\\ 0 & 1 & 0 \\\\ 0 & 0 & 1\n",
    "\\end{bmatrix}\n",
    "\\right)\n",
    "}_{I}\n",
    "$$"
   ]
  },
  {
   "cell_type": "markdown",
   "metadata": {
    "cell_style": "center",
    "slideshow": {
     "slide_type": "fragment"
    }
   },
   "source": [
    "$$\n",
    "\\underbrace{\n",
    "\\begin{bmatrix}\n",
    "1 & 0 & 0 \\\\ -2 & 1 & 0 \\\\ -4 & 0 & 1\n",
    "\\end{bmatrix}\n",
    "}_{L_1}\n",
    "\\underbrace{\n",
    "\\left(\n",
    "\\begin{bmatrix}\n",
    "2 & 1 & 1 \\\\ 4 & 3 & 3 \\\\ 8 & 7 & 9\n",
    "\\end{bmatrix}\n",
    "\\right.\n",
    "}_{A},\n",
    "\\underbrace{\n",
    "\\left.\n",
    "\\begin{bmatrix}\n",
    "1 & 0 & 0 \\\\ 0 & 1 & 0 \\\\ 0 & 0 & 1\n",
    "\\end{bmatrix}\n",
    "\\right)\n",
    "}_{I}\n",
    "=\n",
    "\\underbrace{\n",
    "\\left(\n",
    "\\begin{bmatrix}\n",
    "2 & 1 & 1 \\\\ 0 & 1 & 1 \\\\ 0 & 3 & 5\n",
    "\\end{bmatrix}\n",
    "\\right.\n",
    "}_{L_1 A},\n",
    "\\underbrace{\n",
    "\\left.\n",
    "\\begin{bmatrix}\n",
    "1 & 0 & 0 \\\\ -2 & 1 & 0 \\\\ -4 & 0 & 1\n",
    "\\end{bmatrix}\n",
    "\\right)\n",
    "}_{L_1}\n",
    "$$"
   ]
  },
  {
   "cell_type": "markdown",
   "metadata": {
    "cell_style": "center",
    "slideshow": {
     "slide_type": "fragment"
    }
   },
   "source": [
    "$$\n",
    "\\underbrace{\n",
    "\\begin{bmatrix}\n",
    "1 & 0 & 0 \\\\ 0 & 1 & 0 \\\\ 0 & -3 & 1\n",
    "\\end{bmatrix}\n",
    "}_{L_2}\n",
    "\\underbrace{\n",
    "\\left(\n",
    "\\begin{bmatrix}\n",
    "2 & 1 & 1 \\\\ 0 & 1 & 1 \\\\ 0 & 3 & 5\n",
    "\\end{bmatrix}\n",
    "\\right.\n",
    "}_{L_1 A},\n",
    "\\underbrace{\n",
    "\\left.\n",
    "\\begin{bmatrix}\n",
    "1 & 0 & 0 \\\\ -2 & 1 & 0 \\\\ -4 & 0 & 1\n",
    "\\end{bmatrix}\n",
    "\\right)\n",
    "}_{L_1}\n",
    "=\n",
    "\\underbrace{\n",
    "\\left(\n",
    "\\begin{bmatrix}\n",
    "2 & 1 & 1 \\\\ 0 & 1 & 1 \\\\ 0 & 0 & 2\n",
    "\\end{bmatrix}\n",
    "\\right.\n",
    "}_{(L_2 L_1) A = U},\n",
    "\\underbrace{\n",
    "\\left.\n",
    "\\begin{bmatrix}\n",
    "1 & 0 & 0 \\\\ -2 & 1 & 0 \\\\ -10 & -3 & 1\n",
    "\\end{bmatrix}\n",
    "\\right)\n",
    "}_{(L_2 L_1) = L^{-1}}\n",
    "$$"
   ]
  },
  {
   "cell_type": "markdown",
   "metadata": {
    "slideshow": {
     "slide_type": "subslide"
    }
   },
   "source": [
    "> Gram-Schmidt: $A = QR$ by triangular orthogonalization\n",
    ">\n",
    "> Householder: $A = QR$ by orthogonal triangularization\n",
    ">\n",
    "> Gaussian elimination: $A = LU$ by triangular triangularization"
   ]
  },
  {
   "cell_type": "markdown",
   "metadata": {
    "cell_style": "center",
    "slideshow": {
     "slide_type": "slide"
    }
   },
   "source": [
    "## General Formulas and Two Strokes of Luck"
   ]
  },
  {
   "cell_type": "markdown",
   "metadata": {
    "slideshow": {
     "slide_type": "subslide"
    }
   },
   "source": [
    "$$L^{-1} = L_2 L_1 \\Rightarrow L = L_1^{-1} L_2^{-1}$$"
   ]
  },
  {
   "cell_type": "markdown",
   "metadata": {
    "slideshow": {
     "slide_type": "fragment"
    }
   },
   "source": [
    "$$\n",
    "\\underbrace{\n",
    "\\begin{bmatrix}\n",
    "1 & 0 & 0 \\\\ -2 & 1 & 0 \\\\ -4 & 0 & 1\n",
    "\\end{bmatrix}^{-1}\n",
    "}_{L}\n",
    "=\n",
    "\\begin{bmatrix}\n",
    "1 & 0 & 0 \\\\ -2 & 1 & 0 \\\\ -4 & 0 & 1\n",
    "\\end{bmatrix}^{-1}\n",
    "\\begin{bmatrix}\n",
    "1 & 0 & 0 \\\\ 0 & 1 & 0 \\\\ 0 & -3 & 1\n",
    "\\end{bmatrix}^{-1}\n",
    "$$"
   ]
  },
  {
   "cell_type": "code",
   "execution_count": 5,
   "metadata": {
    "cell_style": "center",
    "slideshow": {
     "slide_type": "fragment"
    }
   },
   "outputs": [
    {
     "data": {
      "text/plain": [
       "3×3 Matrix{Float64}:\n",
       " 1.0  0.0  0.0\n",
       " 2.0  1.0  0.0\n",
       " 4.0  0.0  1.0"
      ]
     },
     "execution_count": 5,
     "metadata": {},
     "output_type": "execute_result"
    }
   ],
   "source": [
    "[[1,-2,-4] [0,1,0] [0,0,1]]^(-1)"
   ]
  },
  {
   "cell_type": "markdown",
   "metadata": {
    "cell_style": "center",
    "slideshow": {
     "slide_type": "subslide"
    }
   },
   "source": [
    "Each $L_k$ is of the form\n",
    "\n",
    "$$I + \\underbrace{\\ell_k} e_k^*,$$\n",
    "\n",
    "where $\\ell_{ik} = 0$ for $1 \\leq i \\leq k$."
   ]
  },
  {
   "cell_type": "markdown",
   "metadata": {
    "slideshow": {
     "slide_type": "fragment"
    }
   },
   "source": [
    "Our general formula for the inverse of a rank-one update was $(I + uv^*)^{-1} = I + \\alpha uv^*$, where\n",
    "\n",
    "$$\n",
    "\\alpha = -\\frac{1}{1 + v^* u}\n",
    "$$\n",
    "\n",
    "**Quick:** what is $e_k^* \\ell_k$?"
   ]
  },
  {
   "cell_type": "markdown",
   "metadata": {
    "slideshow": {
     "slide_type": "fragment"
    }
   },
   "source": [
    "$$\\Rightarrow \\quad (I + \\ell_k e_k^*)^{-1} = I - \\ell_k e_k^*.$$"
   ]
  },
  {
   "cell_type": "markdown",
   "metadata": {
    "slideshow": {
     "slide_type": "subslide"
    }
   },
   "source": [
    "### Applying this formula"
   ]
  },
  {
   "cell_type": "markdown",
   "metadata": {},
   "source": [
    "$$\n",
    "\\underbrace{\n",
    "\\begin{bmatrix}\n",
    "1 & 0 & 0 \\\\ -2 & 1 & 0 \\\\ -4 & 0 & 1\n",
    "\\end{bmatrix}^{-1}\n",
    "}_{L}\n",
    "=\n",
    "\\begin{bmatrix}\n",
    "1 & 0 & 0 \\\\ -2 & 1 & 0 \\\\ -4 & 0 & 1\n",
    "\\end{bmatrix}^{-1}\n",
    "\\begin{bmatrix}\n",
    "1 & 0 & 0 \\\\ 0 & 1 & 0 \\\\ 0 & -3 & 1\n",
    "\\end{bmatrix}^{-1}\n",
    "=\n",
    "\\underbrace{\n",
    "\\begin{bmatrix}\n",
    "1 & 0 & 0 \\\\ 2 & 1 & 0 \\\\ 4 & 0 & 1\n",
    "\\end{bmatrix}\n",
    "}_{L_1^{-1}}\n",
    "\\underbrace{\n",
    "\\begin{bmatrix}\n",
    "1 & 0 & 0 \\\\ 0 & 1 & 0 \\\\ 0 & 3 & 1\n",
    "\\end{bmatrix}\n",
    "}_{L_2^{-1}}\n",
    "$$"
   ]
  },
  {
   "cell_type": "code",
   "execution_count": 6,
   "metadata": {
    "slideshow": {
     "slide_type": "fragment"
    }
   },
   "outputs": [
    {
     "data": {
      "text/plain": [
       "3×3 Matrix{Int64}:\n",
       " 1  0  0\n",
       " 2  1  0\n",
       " 4  3  1"
      ]
     },
     "execution_count": 6,
     "metadata": {},
     "output_type": "execute_result"
    }
   ],
   "source": [
    "[[1,2,4] [0,1,0] [0,0,1]] * [[1,0,0] [0,1,3] [0,0,1]]"
   ]
  },
  {
   "cell_type": "markdown",
   "metadata": {
    "slideshow": {
     "slide_type": "subslide"
    }
   },
   "source": [
    "Suppose $j < k$:\n",
    "\n",
    "$$(I - \\ell_j e_j^*) (I - \\ell_k e_k^*)$$"
   ]
  },
  {
   "cell_type": "markdown",
   "metadata": {
    "slideshow": {
     "slide_type": "fragment"
    }
   },
   "source": [
    "$$= I - \\ell_j e_j^* - \\ell_k e_k^* + \\underbrace{\\ell_j (e_j^* \\ell_k) e_k^*}_{=0\\text{ (why?)}}$$"
   ]
  },
  {
   "cell_type": "markdown",
   "metadata": {
    "slideshow": {
     "slide_type": "subslide"
    }
   },
   "source": [
    "### Payoff: construct $L$ by collecting each $-\\ell_k$ in its column\n",
    "\n",
    "$$\n",
    "L = L_1^{-1} L_2^{-1} \\cdots L_{m-1}^{-1}\n",
    "=\n",
    "\\begin{bmatrix}\n",
    "1 & & & & \\\\\n",
    "-\\ell_{21} & 1 & & & \\\\\n",
    "-\\ell_{31} & -\\ell_{32} & 1 & &  \\\\\n",
    "\\vdots & \\vdots & \\ddots & \\ddots & \\\\\n",
    "-\\ell_{m1} & -\\ell_{m2} & \\cdots & -\\ell_{m,m-1} & 1\n",
    "\\end{bmatrix}\n",
    "$$"
   ]
  },
  {
   "cell_type": "markdown",
   "metadata": {
    "slideshow": {
     "slide_type": "subslide"
    }
   },
   "source": [
    "Because $L$ is unit lower triangular and $U$ is upper triangular, the factorization can be stored in the same footprint as $A$"
   ]
  },
  {
   "cell_type": "code",
   "execution_count": 7,
   "metadata": {},
   "outputs": [
    {
     "data": {
      "text/plain": [
       "lu_three_loops (generic function with 1 method)"
      ]
     },
     "execution_count": 7,
     "metadata": {},
     "output_type": "execute_result"
    }
   ],
   "source": [
    "function lu_three_loops(A)\n",
    "    m = size(A)[1]\n",
    "    LU = copy(A)\n",
    "    for k in 1:(m-1)\n",
    "        for i in (k+1):m \n",
    "            LU[i,k] /= LU[k,k] # computing -ℓₖ\n",
    "            for j in (k+1):m # apply (I + ℓₖ)\n",
    "                LU[i,j] -= LU[i,k] * LU[k,j]\n",
    "            end\n",
    "        end\n",
    "    end\n",
    "    return LU\n",
    "end"
   ]
  },
  {
   "cell_type": "markdown",
   "metadata": {
    "slideshow": {
     "slide_type": "fragment"
    }
   },
   "source": [
    "$$\\sim \\frac{2}{3}m^3 \\text{ flops }$$"
   ]
  },
  {
   "cell_type": "markdown",
   "metadata": {
    "slideshow": {
     "slide_type": "subslide"
    }
   },
   "source": [
    "### Exercise\n",
    "\n",
    "**T&B Exercise 20.1.** Let $A \\in \\mathbb{C}^{m \\times m}$ be nonsingular.  Show that $A$ has an LU factorization if and only if for each $k$ with $1 \\leq k \\leq m$, the upper-left $k \\times k$ block $A_{1:k,1:k}$ is nonsingular. (Hint: The row operations of Gaussian elimination leave the determinants $\\det(A_{1:k,1:k})$ unchanged.)  Prove that this LU factorization is unique.\n",
    "\n",
    "**If all $A_{1:k,1:k}$ is non-singular**\n",
    "\n",
    "- At $k=1$, the LU doesn't break down\n",
    "- Suppose the LU doesn't break down for $1\\leq k<k_0$. Cause $A_{1:k_0,1:k_0}$ is non-singular and the operations do not change the determinant, current leading $k_0\\times k_0$ block is also non-singular. Considering that the leading $k_0\\times k_0$ block is upper-triangular, we have the value at $(k_0,k_0)$ is non-zero. Therefore the LU won't break down at $k=k_0$.\n",
    "\n",
    "**If one of $A_{1:k,1:k}$ is singular**\n",
    "\n",
    "Suppose $A_{1:k_0,1:k_0}$ is the first singular block (i.e., all $k<k_0$, $A_{1:k,1:k}$ is non-singular). From the previous proof, the value at $(k_0,k_0)$ is zero. Therefore the LU will break down at $k=k_0$.\n",
    "\n",
    "**Uniqueness** obvious, cause each step is determinant."
   ]
  },
  {
   "cell_type": "code",
   "execution_count": 8,
   "metadata": {
    "hideCode": true,
    "slideshow": {
     "slide_type": "slide"
    }
   },
   "outputs": [
    {
     "data": {
      "text/html": [
       "<img src=\"data:image/gif;base64,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\" />"
      ],
      "text/plain": [
       "Plots.AnimatedGif(\"/Users/lzs/Desktop/个人/CSE 6643 Numerical Linear Algebra/Lecture/lu.gif\")"
      ]
     },
     "execution_count": 8,
     "metadata": {},
     "output_type": "execute_result"
    }
   ],
   "source": [
    "anim = Animation()\n",
    "m = 20\n",
    "A = randn(m,m)\n",
    "U = copy(A)\n",
    "LU = lu(A, NoPivot())\n",
    "scale = max(norm(A,Inf),norm(LU.L,Inf),norm(LU.U,Inf))\n",
    "L = Matrix(1.0I,m,m)\n",
    "function plot_mats(L,Lₖ,U)\n",
    "    l_scale = norm(L, Inf)\n",
    "    k_scale = norm(Lₖ, Inf)\n",
    "    u_scale = norm(U, Inf)\n",
    "    l_plot = imshow(L, clim=(-l_scale,l_scale), title=\"L\")\n",
    "    k_plot = imshow(Lₖ, clim=(-k_scale, k_scale), title=\"Lₖ\")\n",
    "    u_plot = imshow(U, clim=(-u_scale, u_scale), title=\"U\")\n",
    "    p = plot(l_plot, k_plot, u_plot, layout=(1,3), size=(1500,400))\n",
    "    return p\n",
    "end\n",
    "frame(anim,plot_mats(L,L,U))\n",
    "for k in 1:(m-1)\n",
    "    Lₖ = Matrix(1.0I,m,m)\n",
    "    Lₖ[(k+1):m,k] = - LU.L[(k+1):m,k]\n",
    "    L[(k+1):m,k] = LU.L[(k+1):m,k]\n",
    "    U = L \\ A\n",
    "    frame(anim,plot_mats(L,Lₖ,U))\n",
    "end\n",
    "frame(anim,plot_mats(L,Matrix(1.0I,m,m),U))\n",
    "gif(anim, \"lu.gif\", fps=0.5)"
   ]
  },
  {
   "cell_type": "markdown",
   "metadata": {
    "slideshow": {
     "slide_type": "fragment"
    }
   },
   "source": [
    "This is clearly unstable."
   ]
  },
  {
   "cell_type": "markdown",
   "metadata": {
    "slideshow": {
     "slide_type": "fragment"
    }
   },
   "source": [
    "$\\kappa(L)$ and $\\kappa(U)$ may be arbitrarily large compared to $\\kappa(A)$."
   ]
  },
  {
   "cell_type": "markdown",
   "metadata": {
    "cell_style": "split"
   },
   "source": [
    "$$\\large \\begin{bmatrix}0 & 1 \\\\ 1 & 0\\end{bmatrix}$$\n",
    "\n",
    "- No LU factorization"
   ]
  },
  {
   "cell_type": "markdown",
   "metadata": {
    "cell_style": "split",
    "hideOutput": true
   },
   "source": [
    "$$\\begin{bmatrix} \\epsilon & 1 \\\\ 1 & 0 \\end{bmatrix} = \\begin{bmatrix} 1 & 0 \\\\ \\epsilon^{-1} & 1 \\end{bmatrix} \\begin{bmatrix} \\epsilon & 1 \\\\ 0 & -\\epsilon^{-1}\\end{bmatrix}$$\n",
    "\n",
    "- Arbitrarily large factors"
   ]
  },
  {
   "cell_type": "markdown",
   "metadata": {
    "slideshow": {
     "slide_type": "slide"
    }
   },
   "source": [
    "## Pivoting"
   ]
  },
  {
   "cell_type": "markdown",
   "metadata": {
    "slideshow": {
     "slide_type": "subslide"
    }
   },
   "source": [
    "### Terminology: the pivot\n",
    "\n",
    "the entry ($x_{kk}$) used to scale the subtraction of one row from another\n",
    "\n",
    "$$\n",
    "\\begin{bmatrix}\n",
    "\\circ & \\circ & \\circ & \\circ & \\circ \\\\\n",
    "0 & \\boldsymbol{x_{kk}} & \\bullet & \\bullet & \\bullet \\\\\n",
    "0 & \\circ & \\circ & \\circ & \\circ \\\\\n",
    "0 & \\circ & \\circ & \\circ & \\circ \\\\\n",
    "0 & \\circ & \\circ & \\circ & \\circ \\\\\n",
    "\\end{bmatrix}\n",
    "\\quad\n",
    "\\longrightarrow\n",
    "\\quad\n",
    "\\begin{bmatrix}\n",
    "\\circ & \\circ & \\circ & \\circ & \\circ \\\\\n",
    "0 & x_{kk} & \\circ & \\circ & \\circ \\\\\n",
    "0 & \\boldsymbol{0} & \\bullet & \\bullet & \\bullet \\\\\n",
    "0 & \\boldsymbol{0} & \\bullet & \\bullet & \\bullet \\\\\n",
    "0 & \\boldsymbol{0} & \\bullet & \\bullet & \\bullet \\\\\n",
    "\\end{bmatrix}\n",
    "$$\n"
   ]
  },
  {
   "cell_type": "markdown",
   "metadata": {
    "slideshow": {
     "slide_type": "subslide"
    }
   },
   "source": [
    "### Pivoting\n",
    "\n",
    "Permuting rows / columns to make a different entry the pivot\n",
    "\n",
    "$$\n",
    "\\underbrace{P_{i \\leftrightarrow k}}_{\\text{row perm.}}\n",
    "\\begin{bmatrix}\n",
    "\\circ & \\bullet & \\circ & \\bullet & \\circ \\\\\n",
    "\\boldsymbol{0} & \\bullet & \\bullet & \\bullet & \\bullet \\\\\n",
    "0 & \\bullet & \\circ & \\bullet & \\circ \\\\\n",
    "0 & \\bullet & \\circ & \\bullet & \\circ \\\\\n",
    "\\boldsymbol{0} & \\bullet & \\bullet & \\boldsymbol{x_{ij}} & \\bullet \\\\\n",
    "\\end{bmatrix}\n",
    "\\underbrace{P_{j \\leftrightarrow k}}_{\\text{col. perm.}}\n",
    "\\quad\n",
    "\\longrightarrow\n",
    "\\quad\n",
    "\\begin{bmatrix}\n",
    "\\circ & \\bullet & \\circ & \\bullet & \\circ \\\\\n",
    "\\boldsymbol{0} & \\boldsymbol{x_{ij}} & \\bullet & \\bullet & \\bullet \\\\\n",
    "0 & \\bullet & \\circ & \\bullet & \\circ \\\\\n",
    "0 & \\bullet & \\circ & \\bullet & \\circ \\\\\n",
    "\\boldsymbol{0} & \\bullet & \\bullet & \\bullet & \\bullet \\\\\n",
    "\\end{bmatrix}\n",
    "$$"
   ]
  },
  {
   "cell_type": "markdown",
   "metadata": {
    "slideshow": {
     "slide_type": "fragment"
    }
   },
   "source": [
    "- Necessary in exact arithmetic in exact arithmetic if $x_{kk} = 0$"
   ]
  },
  {
   "cell_type": "markdown",
   "metadata": {
    "slideshow": {
     "slide_type": "fragment"
    }
   },
   "source": [
    "- Numerically, choosing **the largest available $|x_{ij}|$** keeps the growth of entries in $L$ and $U$ under control."
   ]
  },
  {
   "cell_type": "markdown",
   "metadata": {
    "slideshow": {
     "slide_type": "subslide"
    }
   },
   "source": [
    "### Which entries are available?\n",
    "\n",
    "- To keep the triangular structure already constructed, $x_{ij} \\in A_{k:m,k:m}$\n",
    "\n",
    "$$\n",
    "\\begin{bmatrix}\n",
    "\\circ & \\circ & \\circ & \\circ & \\circ \\\\\n",
    "0 & \\bullet & \\bullet & \\bullet & \\bullet \\\\\n",
    "0 & \\bullet & \\bullet & \\bullet & \\bullet \\\\\n",
    "0 & \\bullet & \\bullet & \\bullet & \\bullet \\\\\n",
    "0 & \\bullet & \\bullet & \\bullet & \\bullet \\\\\n",
    "\\end{bmatrix}\n",
    "$$"
   ]
  },
  {
   "cell_type": "markdown",
   "metadata": {
    "slideshow": {
     "slide_type": "fragment"
    }
   },
   "source": [
    "Considering all of these entries is **complete pivoting:**\n",
    "\n",
    "- Requires $\\sim (m-k+1)^2$ comparisons in iteration $k$ ($\\sim \\frac{1}{3} m^3$ total)"
   ]
  },
  {
   "cell_type": "markdown",
   "metadata": {
    "slideshow": {
     "slide_type": "subslide"
    }
   },
   "source": [
    "### Full pivoting: row and column permutation matrices must be accumulated each iteration\n",
    "\n",
    "$$\n",
    "L_{m-1} P_{m-1} L_{m-2} P_{m-2} \\cdots L_1 P_1 A Q_1 \\cdots Q_{m-2} Q_{m-1} = U\n",
    "$$"
   ]
  },
  {
   "cell_type": "markdown",
   "metadata": {
    "slideshow": {
     "slide_type": "subslide"
    }
   },
   "source": [
    "### Partial Pivoting"
   ]
  },
  {
   "cell_type": "markdown",
   "metadata": {
    "cell_style": "split"
   },
   "source": [
    "Only consider pivots in the current column\n",
    "\n",
    "$$\n",
    "\\begin{bmatrix}\n",
    "\\circ & \\circ & \\circ & \\circ & \\circ \\\\\n",
    "0 & \\bullet & \\circ & \\circ & \\circ \\\\\n",
    "0 & \\bullet & \\circ & \\circ & \\circ \\\\\n",
    "0 & \\bullet & \\circ & \\circ & \\circ \\\\\n",
    "0 & \\bullet & \\circ & \\circ & \\circ \\\\\n",
    "\\end{bmatrix}\n",
    "$$"
   ]
  },
  {
   "cell_type": "markdown",
   "metadata": {
    "cell_style": "split",
    "slideshow": {
     "slide_type": "fragment"
    }
   },
   "source": [
    "**Pivot selection:** $i = \\arg\\max_{i\\geq k} |x_{ik}|$\n",
    "\n",
    "$$\n",
    "\\begin{bmatrix}\n",
    "\\circ & \\circ & \\circ & \\circ & \\circ \\\\\n",
    "0 & \\bullet & \\circ & \\circ & \\circ \\\\\n",
    "0 & \\bullet & \\circ & \\circ & \\circ \\\\\n",
    "0 & \\boldsymbol{x_{ik}} & \\circ & \\circ & \\circ \\\\\n",
    "0 & \\bullet & \\circ & \\circ & \\circ \\\\\n",
    "\\end{bmatrix}\n",
    "$$"
   ]
  },
  {
   "cell_type": "markdown",
   "metadata": {
    "cell_style": "center",
    "slideshow": {
     "slide_type": "fragment"
    }
   },
   "source": [
    "**Row interchange**\n",
    "\n",
    "$$\n",
    "\\underbrace{P_{i \\leftrightarrow k}}_{P_k}\n",
    "\\begin{bmatrix}\n",
    "\\circ & \\circ & \\circ & \\circ & \\circ \\\\\n",
    "0 & \\bullet & \\bullet & \\bullet & \\bullet \\\\\n",
    "0 & \\circ & \\circ & \\circ & \\circ \\\\\n",
    "0 & \\boldsymbol{x_{ik}} & \\bullet & \\bullet & \\bullet \\\\\n",
    "0 & \\circ & \\circ & \\circ & \\circ \\\\\n",
    "\\end{bmatrix}\n",
    "=\n",
    "\\begin{bmatrix}\n",
    "\\circ & \\circ & \\circ & \\circ & \\circ \\\\\n",
    "0 & \\boldsymbol{x_{ik}} & \\bullet & \\bullet & \\bullet \\\\\n",
    "0 & \\circ & \\circ & \\circ & \\circ \\\\\n",
    "0 & \\bullet & \\bullet & \\bullet & \\bullet \\\\\n",
    "0 & \\circ & \\circ & \\circ & \\circ \\\\\n",
    "\\end{bmatrix}\n",
    "$$"
   ]
  },
  {
   "cell_type": "markdown",
   "metadata": {
    "cell_style": "center",
    "slideshow": {
     "slide_type": "fragment"
    }
   },
   "source": [
    "**Elimination**\n",
    "\n",
    "$$\n",
    "\\underbrace{(I + \\ell_k e_k^*)}_{L_k}\n",
    "\\begin{bmatrix}\n",
    "\\circ & \\circ & \\circ & \\circ & \\circ \\\\\n",
    "0 & \\boldsymbol{x_{ik}} & \\circ & \\circ & \\circ \\\\\n",
    "0 & \\circ & \\circ & \\circ & \\circ \\\\\n",
    "0 & \\circ & \\circ & \\circ & \\circ \\\\\n",
    "0 & \\circ & \\circ & \\circ & \\circ \\\\\n",
    "\\end{bmatrix}\n",
    "=\n",
    "\\begin{bmatrix}\n",
    "\\circ & \\circ & \\circ & \\circ & \\circ \\\\\n",
    "0 & \\boldsymbol{x_{ik}} & \\circ & \\circ & \\circ \\\\\n",
    "0 & \\boldsymbol{0} & \\bullet & \\bullet & \\bullet \\\\\n",
    "0 & \\boldsymbol{0} & \\bullet & \\bullet & \\bullet \\\\\n",
    "0 & \\boldsymbol{0} & \\bullet & \\bullet & \\bullet \\\\\n",
    "\\end{bmatrix}\n",
    "$$"
   ]
  },
  {
   "cell_type": "markdown",
   "metadata": {
    "slideshow": {
     "slide_type": "subslide"
    }
   },
   "source": [
    "### Partial pivoting: row permutation matrices must be accumulated\n",
    "\n",
    "$$\n",
    "L_{m-1} P_{m-1} L_{m-2} P_{m-2} \\cdots L_1 P_1 A = U\n",
    "$$\n",
    "\n",
    "$$\n",
    "L_{m-1} \\tilde L_{m-2} \\cdots \\tilde L_1 P_{m-1} P_{m-2} \\cdots P_1 A = U\n",
    "$$"
   ]
  },
  {
   "cell_type": "markdown",
   "metadata": {
    "cell_style": "center",
    "slideshow": {
     "slide_type": "subslide"
    }
   },
   "source": [
    "$$\n",
    "\\underbrace{\n",
    "\\left(\n",
    "\\begin{bmatrix}\n",
    "2 & 1 & 1 \\\\ 4 & 3 & 3 \\\\ 8 & 7 & 9\n",
    "\\end{bmatrix}\n",
    "\\right.\n",
    "}_{A}\n",
    ",\n",
    "\\underbrace{\n",
    "\\left.\n",
    "\\begin{bmatrix}\n",
    "1 & 0 & 0 \\\\ 0 & 1 & 0 \\\\ 0 & 0 & 1\n",
    "\\end{bmatrix}\n",
    "\\right)\n",
    "}_{I}\n",
    "$$"
   ]
  },
  {
   "cell_type": "markdown",
   "metadata": {
    "cell_style": "center",
    "slideshow": {
     "slide_type": "fragment"
    }
   },
   "source": [
    "$$\n",
    "\\underbrace{\n",
    "\\begin{bmatrix}\n",
    "0 & 0 & 1 \\\\ 0 & 1 & 0 \\\\ 1 & 0 & 0\n",
    "\\end{bmatrix}\n",
    "}_{P_1}\n",
    "\\underbrace{\n",
    "\\left(\n",
    "\\begin{bmatrix}\n",
    "2 & 1 & 1 \\\\ 4 & 3 & 3 \\\\ 8 & 7 & 9\n",
    "\\end{bmatrix}\n",
    "\\right.\n",
    "}_{A},\n",
    "\\underbrace{\n",
    "\\left.\n",
    "\\begin{bmatrix}\n",
    "1 & 0 & 0 \\\\ 0 & 1 & 0 \\\\ 0 & 0 & 1\n",
    "\\end{bmatrix}\n",
    "\\right)\n",
    "}_{I}\n",
    "=\n",
    "\\underbrace{\n",
    "\\left(\n",
    "\\begin{bmatrix}\n",
    "8 & 7 & 9 \\\\ 4 & 3 & 3 \\\\ 2 & 1 & 1\n",
    "\\end{bmatrix}\n",
    "\\right.\n",
    "}_{P_1 A},\n",
    "\\underbrace{\n",
    "\\left.\n",
    "\\begin{bmatrix}\n",
    "0 & 0 & 1 \\\\ 0 & 1 & 0 \\\\ 1 & 0 & 0\n",
    "\\end{bmatrix}\n",
    "\\right)\n",
    "}_{P_1}\n",
    "$$"
   ]
  },
  {
   "cell_type": "markdown",
   "metadata": {
    "cell_style": "center",
    "slideshow": {
     "slide_type": "fragment"
    }
   },
   "source": [
    "$$\n",
    "\\underbrace{\n",
    "\\begin{bmatrix}\n",
    "1 & 0 & 0 \\\\ -\\frac{1}{2} & 1 & 0 \\\\ -\\frac{1}{4} & 0 & 1\n",
    "\\end{bmatrix}\n",
    "}_{L_1}\n",
    "\\underbrace{\n",
    "\\left(\n",
    "\\begin{bmatrix}\n",
    "8 & 7 & 9 \\\\ 4 & 3 & 3 \\\\ 2 & 1 & 1\n",
    "\\end{bmatrix}\n",
    "\\right.\n",
    "}_{P_1 A},\n",
    "\\underbrace{\n",
    "\\left.\n",
    "\\begin{bmatrix}\n",
    "0 & 0 & 1 \\\\ 0 & 1 & 0 \\\\ 1 & 0 & 0\n",
    "\\end{bmatrix}\n",
    "\\right)\n",
    "}_{P_1}\n",
    "=\n",
    "\\underbrace{\n",
    "\\left(\n",
    "\\begin{bmatrix}\n",
    "8 & 7 & 9 \\\\ 0 & -\\frac{1}{2} & -\\frac{3}{2} \\\\ 0 & -\\frac{3}{4} & -\\frac{5}{4}\n",
    "\\end{bmatrix}\n",
    "\\right.\n",
    "}_{L_1 P_1 A},\n",
    "\\underbrace{\n",
    "\\left.\n",
    "\\begin{bmatrix}\n",
    "0 & 0 & 1 \\\\ 0 & 1 & -\\frac{1}{2} \\\\ 1 & 0 & -\\frac{1}{4}\n",
    "\\end{bmatrix}\n",
    "\\right)\n",
    "}_{L_1 P_1}\n",
    "$$"
   ]
  },
  {
   "cell_type": "markdown",
   "metadata": {
    "slideshow": {
     "slide_type": "subslide"
    }
   },
   "source": [
    "$$\n",
    "\\underbrace{\n",
    "\\left(\n",
    "\\begin{bmatrix}\n",
    "8 & 7 & 9 \\\\ 0 & -\\frac{3}{4} & -\\frac{5}{4} \\\\ 0 & 0 & -\\frac{2}{3}\n",
    "\\end{bmatrix}\n",
    "\\right.\n",
    "}_{L_2 P_2 L_1 P_1 A = U},\n",
    "\\underbrace{\n",
    "\\left.\n",
    "\\begin{bmatrix}\n",
    "0 & 0 & 1 \\\\ 1 & 0 & -\\frac{1}{4} \\\\ -\\frac{2}{3} & 1 & -\\frac{1}{3}\n",
    "\\end{bmatrix}\n",
    "\\right)\n",
    "}_{L_2 P_2 L_1 P_1}\n",
    "$$"
   ]
  },
  {
   "cell_type": "markdown",
   "metadata": {
    "slideshow": {
     "slide_type": "fragment"
    }
   },
   "source": [
    "The permutations and the triangular factors can be disentangled:\n",
    "\n",
    "$$\n",
    "\\underbrace{\n",
    "\\begin{bmatrix}\n",
    "0 & 0 & 1 \\\\ 1 & 0 & -\\frac{1}{4} \\\\ -\\frac{2}{3} & 1 & -\\frac{1}{3}\n",
    "\\end{bmatrix}\n",
    "}_{L_2 P_2 L_1 P_1}\n",
    "=\n",
    "\\underbrace{\n",
    "\\begin{bmatrix}\n",
    "1 & 0 & 0 \\\\\n",
    "-\\frac{1}{4} & 1 & 0 \\\\\n",
    "-\\frac{1}{3} & -\\frac{2}{3} & 1 \\\\\n",
    "\\end{bmatrix}\n",
    "}_{L^{-1}}\n",
    "\\underbrace{\n",
    "\\begin{bmatrix}\n",
    "0 & 0 & 1 \\\\\n",
    "1 & 0 & 0 \\\\\n",
    "0 & 1 & 0\n",
    "\\end{bmatrix}\n",
    "}_{P}\n",
    "$$"
   ]
  },
  {
   "cell_type": "markdown",
   "metadata": {
    "slideshow": {
     "slide_type": "subslide"
    }
   },
   "source": [
    "## $P_{k+1}$ and $L_k$ can move past each other\n",
    "\n",
    "$$P_{(k+1):m,(k+1):m}(I + \\ell_{k} e_k^*)$$"
   ]
  },
  {
   "cell_type": "markdown",
   "metadata": {
    "slideshow": {
     "slide_type": "fragment"
    }
   },
   "source": [
    "$$= P_{(k+1):m,(k+1):m} + \\underbrace{(P_{(k+1):m,(k+1):m}\\ell_{k})}_{\\tilde{\\ell}_k} e_k^*$$\n",
    "\n",
    "$\\tilde{\\ell}_k$ still has zeros for all $1 \\leq i \\leq k$"
   ]
  },
  {
   "cell_type": "markdown",
   "metadata": {
    "slideshow": {
     "slide_type": "fragment"
    }
   },
   "source": [
    "$$= P_{(k+1):m,(k+1):m} + \\underbrace{(P_{(k+1):m,(k+1):m}\\ell_{k})}_{\\tilde{\\ell}_k} \\underbrace{e_k^*P_{(k+1):m,(k+1):m}^*}_{= e_k^*} P_{(k+1):m,(k+1):m}$$"
   ]
  },
  {
   "cell_type": "markdown",
   "metadata": {
    "slideshow": {
     "slide_type": "fragment"
    }
   },
   "source": [
    "$$= (I + \\tilde{\\ell}_k e_k^*))P_{(k+1):m,(k+1):m}$$"
   ]
  },
  {
   "cell_type": "markdown",
   "metadata": {
    "slideshow": {
     "slide_type": "subslide"
    }
   },
   "source": [
    "### Gaussian Elimination with Partial Pivoting $\\Leftrightarrow$ PA = LU factorization\n",
    "\n",
    "$$ \\large PA = LU $$\n",
    "\n",
    "- $P$: Permutation matrix\n",
    "- $A$: Any square matrix (usually nonsingular)\n",
    "- $L$: Unit lower triangular, with values is magnitude $\\leq 1$ below the diagonal\n",
    "- $U$: Upper triangular"
   ]
  }
 ],
 "metadata": {
  "@webio": {
   "lastCommId": null,
   "lastKernelId": null
  },
  "celltoolbar": "Slideshow",
  "hide_input": false,
  "kernelspec": {
   "display_name": "Julia 1.7.1",
   "language": "julia",
   "name": "julia-1.7"
  },
  "language_info": {
   "file_extension": ".jl",
   "mimetype": "application/julia",
   "name": "julia",
   "version": "1.7.1"
  }
 },
 "nbformat": 4,
 "nbformat_minor": 5
}
